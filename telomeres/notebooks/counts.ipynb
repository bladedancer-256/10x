{
 "cells": [
  {
   "cell_type": "code",
   "execution_count": 73,
   "metadata": {},
   "outputs": [],
   "source": [
    "#from pathlib import Path\n",
    "\n",
    "import glob\n",
    "import altair as alt\n",
    "import pandas as pd"
   ]
  },
  {
   "cell_type": "code",
   "execution_count": 74,
   "metadata": {},
   "outputs": [],
   "source": [
    "colo829bl_10x = pd.read_csv(\"../data/processed/COLO829BL-10X-hg38.hist.csv\")\n",
    "colo829t_10x = pd.read_csv(\"../data/processed/COLO829T-10X-hg38.hist.csv\")\n",
    "colo829bl = pd.read_csv(\"../data/processed/COLO829BL-hg38.hist.csv\")\n",
    "colo829t = pd.read_csv(\"../data/processed/COLO829T-hg38.hist.csv\")\n",
    "\n",
    "colo829bl_10x['color'] = 1\n",
    "colo829t_10x['color'] = 2\n",
    "colo829bl['color'] = 3\n",
    "colo829t['color'] = 4\n",
    "\n",
    "datasets = [colo829bl_10x, colo829t_10x, colo829bl, colo829t]"
   ]
  },
  {
   "cell_type": "code",
   "execution_count": null,
   "metadata": {},
   "outputs": [],
   "source": [
    "colo829t.sort_values('chromosome', ascending=['chr'+str(x) for x in range(1,22)].append('chrX'))"
   ]
  },
  {
   "cell_type": "code",
   "execution_count": 75,
   "metadata": {},
   "outputs": [
    {
     "data": {
      "application/vnd.vegalite.v2+json": {
       "$schema": "https://vega.github.io/schema/vega-lite/v2.4.1.json",
       "config": {
        "view": {
         "height": 300,
         "width": 400
        }
       },
       "hconcat": [
        {
         "layer": [
          {
           "data": {
            "values": [
             {
              "chromosome": "chr5",
              "color": 1,
              "mmap_count": 400005
             },
             {
              "chromosome": "chr1",
              "color": 1,
              "mmap_count": 313274
             },
             {
              "chromosome": "chrX",
              "color": 1,
              "mmap_count": 126414
             },
             {
              "chromosome": "chr12",
              "color": 1,
              "mmap_count": 118168
             },
             {
              "chromosome": "chr22",
              "color": 1,
              "mmap_count": 110434
             },
             {
              "chromosome": "chr10",
              "color": 1,
              "mmap_count": 86807
             },
             {
              "chromosome": "chr3",
              "color": 1,
              "mmap_count": 51514
             },
             {
              "chromosome": "chr18",
              "color": 1,
              "mmap_count": 48323
             },
             {
              "chromosome": "chr7",
              "color": 1,
              "mmap_count": 28366
             },
             {
              "chromosome": "chr4",
              "color": 1,
              "mmap_count": 25009
             },
             {
              "chromosome": "chr9",
              "color": 1,
              "mmap_count": 13836
             },
             {
              "chromosome": "chr2",
              "color": 1,
              "mmap_count": 5224
             },
             {
              "chromosome": "chr15",
              "color": 1,
              "mmap_count": 5114
             },
             {
              "chromosome": "chr20",
              "color": 1,
              "mmap_count": 4825
             },
             {
              "chromosome": "chr16",
              "color": 1,
              "mmap_count": 1571
             },
             {
              "chromosome": "chr13",
              "color": 1,
              "mmap_count": 1009
             },
             {
              "chromosome": "chr6",
              "color": 1,
              "mmap_count": 773
             },
             {
              "chromosome": "chr11",
              "color": 1,
              "mmap_count": 536
             },
             {
              "chromosome": "chr19",
              "color": 1,
              "mmap_count": 346
             },
             {
              "chromosome": "chr14",
              "color": 1,
              "mmap_count": 337
             },
             {
              "chromosome": "chr17",
              "color": 1,
              "mmap_count": 328
             },
             {
              "chromosome": "chr21",
              "color": 1,
              "mmap_count": 242
             },
             {
              "chromosome": "chrY",
              "color": 1,
              "mmap_count": 235
             },
             {
              "chromosome": "chr8",
              "color": 1,
              "mmap_count": 40
             }
            ]
           },
           "encoding": {
            "color": {
             "field": "color",
             "type": "quantitative"
            },
            "x": {
             "field": "mmap_count",
             "type": "quantitative"
            },
            "y": {
             "field": "chromosome",
             "type": "nominal"
            }
           },
           "mark": "bar",
           "title": "COLO829BL_10X"
          },
          {
           "data": {
            "values": [
             {
              "chromosome": "chr5",
              "color": 2,
              "mmap_count": 330081
             },
             {
              "chromosome": "chr1",
              "color": 2,
              "mmap_count": 278273
             },
             {
              "chromosome": "chrX",
              "color": 2,
              "mmap_count": 110039
             },
             {
              "chromosome": "chr22",
              "color": 2,
              "mmap_count": 95345
             },
             {
              "chromosome": "chr12",
              "color": 2,
              "mmap_count": 92123
             },
             {
              "chromosome": "chr10",
              "color": 2,
              "mmap_count": 64619
             },
             {
              "chromosome": "chr3",
              "color": 2,
              "mmap_count": 40952
             },
             {
              "chromosome": "chr18",
              "color": 2,
              "mmap_count": 38957
             },
             {
              "chromosome": "chr4",
              "color": 2,
              "mmap_count": 20288
             },
             {
              "chromosome": "chr7",
              "color": 2,
              "mmap_count": 18671
             },
             {
              "chromosome": "chr9",
              "color": 2,
              "mmap_count": 12527
             },
             {
              "chromosome": "chr15",
              "color": 2,
              "mmap_count": 6297
             },
             {
              "chromosome": "chr20",
              "color": 2,
              "mmap_count": 4828
             },
             {
              "chromosome": "chr2",
              "color": 2,
              "mmap_count": 4325
             },
             {
              "chromosome": "chr16",
              "color": 2,
              "mmap_count": 1487
             },
             {
              "chromosome": "chr13",
              "color": 2,
              "mmap_count": 1322
             },
             {
              "chromosome": "chr11",
              "color": 2,
              "mmap_count": 931
             },
             {
              "chromosome": "chr6",
              "color": 2,
              "mmap_count": 802
             },
             {
              "chromosome": "chr14",
              "color": 2,
              "mmap_count": 479
             },
             {
              "chromosome": "chr19",
              "color": 2,
              "mmap_count": 442
             },
             {
              "chromosome": "chr17",
              "color": 2,
              "mmap_count": 355
             },
             {
              "chromosome": "chr21",
              "color": 2,
              "mmap_count": 241
             },
             {
              "chromosome": "chrY",
              "color": 2,
              "mmap_count": 232
             },
             {
              "chromosome": "chr8",
              "color": 2,
              "mmap_count": 23
             }
            ]
           },
           "encoding": {
            "color": {
             "field": "color",
             "type": "quantitative"
            },
            "x": {
             "field": "mmap_count",
             "type": "quantitative"
            },
            "y": {
             "field": "chromosome",
             "type": "nominal"
            }
           },
           "mark": "bar",
           "title": "COLO829T_10X"
          }
         ]
        },
        {
         "layer": [
          {
           "data": {
            "values": [
             {
              "chromosome": "chr5",
              "color": 3,
              "mmap_count": 18782
             },
             {
              "chromosome": "chr1",
              "color": 3,
              "mmap_count": 6613
             },
             {
              "chromosome": "chrX",
              "color": 3,
              "mmap_count": 3107
             },
             {
              "chromosome": "chr20",
              "color": 3,
              "mmap_count": 2900
             },
             {
              "chromosome": "chr12",
              "color": 3,
              "mmap_count": 2658
             },
             {
              "chromosome": "chr10",
              "color": 3,
              "mmap_count": 2625
             },
             {
              "chromosome": "chr4",
              "color": 3,
              "mmap_count": 2052
             },
             {
              "chromosome": "chr21",
              "color": 3,
              "mmap_count": 2013
             },
             {
              "chromosome": "chr3",
              "color": 3,
              "mmap_count": 1933
             },
             {
              "chromosome": "chr15",
              "color": 3,
              "mmap_count": 1917
             },
             {
              "chromosome": "chr18",
              "color": 3,
              "mmap_count": 1705
             },
             {
              "chromosome": "chr16",
              "color": 3,
              "mmap_count": 1681
             },
             {
              "chromosome": "chr22",
              "color": 3,
              "mmap_count": 1599
             },
             {
              "chromosome": "chr6",
              "color": 3,
              "mmap_count": 1506
             },
             {
              "chromosome": "chr7",
              "color": 3,
              "mmap_count": 1305
             },
             {
              "chromosome": "chr13",
              "color": 3,
              "mmap_count": 1273
             },
             {
              "chromosome": "chr9",
              "color": 3,
              "mmap_count": 1208
             },
             {
              "chromosome": "chr2",
              "color": 3,
              "mmap_count": 975
             },
             {
              "chromosome": "chr17",
              "color": 3,
              "mmap_count": 926
             },
             {
              "chromosome": "chr11",
              "color": 3,
              "mmap_count": 892
             },
             {
              "chromosome": "chr19",
              "color": 3,
              "mmap_count": 827
             },
             {
              "chromosome": "chr14",
              "color": 3,
              "mmap_count": 786
             },
             {
              "chromosome": "chr8",
              "color": 3,
              "mmap_count": 77
             }
            ]
           },
           "encoding": {
            "color": {
             "field": "color",
             "type": "quantitative"
            },
            "x": {
             "field": "mmap_count",
             "type": "quantitative"
            },
            "y": {
             "field": "chromosome",
             "type": "nominal"
            }
           },
           "mark": "bar",
           "title": "COLO829BL"
          },
          {
           "data": {
            "values": [
             {
              "chromosome": "chr5",
              "color": 4,
              "mmap_count": 14948
             },
             {
              "chromosome": "chr1",
              "color": 4,
              "mmap_count": 7505
             },
             {
              "chromosome": "chr20",
              "color": 4,
              "mmap_count": 3848
             },
             {
              "chromosome": "chrX",
              "color": 4,
              "mmap_count": 3684
             },
             {
              "chromosome": "chr21",
              "color": 4,
              "mmap_count": 2477
             },
             {
              "chromosome": "chr12",
              "color": 4,
              "mmap_count": 2242
             },
             {
              "chromosome": "chr10",
              "color": 4,
              "mmap_count": 2063
             },
             {
              "chromosome": "chr4",
              "color": 4,
              "mmap_count": 1966
             },
             {
              "chromosome": "chr15",
              "color": 4,
              "mmap_count": 1956
             },
             {
              "chromosome": "chr3",
              "color": 4,
              "mmap_count": 1871
             },
             {
              "chromosome": "chr22",
              "color": 4,
              "mmap_count": 1756
             },
             {
              "chromosome": "chr16",
              "color": 4,
              "mmap_count": 1598
             },
             {
              "chromosome": "chr18",
              "color": 4,
              "mmap_count": 1577
             },
             {
              "chromosome": "chr6",
              "color": 4,
              "mmap_count": 1357
             },
             {
              "chromosome": "chr13",
              "color": 4,
              "mmap_count": 1343
             },
             {
              "chromosome": "chr9",
              "color": 4,
              "mmap_count": 1178
             },
             {
              "chromosome": "chr17",
              "color": 4,
              "mmap_count": 1177
             },
             {
              "chromosome": "chr2",
              "color": 4,
              "mmap_count": 989
             },
             {
              "chromosome": "chr7",
              "color": 4,
              "mmap_count": 952
             },
             {
              "chromosome": "chr19",
              "color": 4,
              "mmap_count": 882
             },
             {
              "chromosome": "chr14",
              "color": 4,
              "mmap_count": 831
             },
             {
              "chromosome": "chr11",
              "color": 4,
              "mmap_count": 681
             },
             {
              "chromosome": "chr8",
              "color": 4,
              "mmap_count": 52
             }
            ]
           },
           "encoding": {
            "color": {
             "field": "color",
             "type": "quantitative"
            },
            "x": {
             "field": "mmap_count",
             "type": "quantitative"
            },
            "y": {
             "field": "chromosome",
             "type": "nominal"
            }
           },
           "mark": "bar",
           "title": "COLO829T"
          }
         ]
        }
       ]
      },
      "image/png": "[encoded data removed]",
      "text/plain": [
       "<VegaLite 2 object>\n",
       "\n",
       "If you see this message, it means the renderer has not been properly enabled\n",
       "for the frontend that you are using. For more information, see\n",
       "https://altair-viz.github.io/user_guide/troubleshooting.html\n"
      ]
     },
     "execution_count": 75,
     "metadata": {},
     "output_type": "execute_result"
    }
   ],
   "source": [
    "charts = []\n",
    "\n",
    "for ds in datasets:\n",
    "    charts.append(alt.Chart(ds).mark_bar().encode(\n",
    "        x = 'mmap_count',\n",
    "        y = 'chromosome',\n",
    "        color = 'color'\n",
    "    ))\n",
    "\n",
    "charts[0].title = \"COLO829BL_10X\"\n",
    "charts[1].title = \"COLO829T_10X\"\n",
    "charts[2].title = \"COLO829BL\"\n",
    "charts[3].title = \"COLO829T\"\n",
    "\n",
    "# Titles will not concatenate when Layering plots like I do here with 10x vs Truseq.\n",
    "# This is, I think, because bugs in vega-lite merged in March not yet upstreamed: https://github.com/altair-viz/altair/issues/585 and https://github.com/vega/vega-lite/pull/3620\n",
    "(charts[0] + charts[1]) | (charts[2] + charts[3])"
   ]
  }
 ],
 "metadata": {
  "kernelspec": {
   "display_name": "Python 3",
   "language": "python",
   "name": "python3"
  },
  "language_info": {
   "codemirror_mode": {
    "name": "ipython",
    "version": 3
   },
   "file_extension": ".py",
   "mimetype": "text/x-python",
   "name": "python",
   "nbconvert_exporter": "python",
   "pygments_lexer": "ipython3",
   "version": "3.6.5"
  }
 },
 "nbformat": 4,
 "nbformat_minor": 2
}
