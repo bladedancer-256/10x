{
 "cells": [
  {
   "cell_type": "code",
   "execution_count": 1,
   "metadata": {},
   "outputs": [],
   "source": [
    "#from pathlib import Path\n",
    "\n",
    "import glob\n",
    "import altair as alt\n",
    "import pandas as pd\n",
    "import numpy as np"
   ]
  },
  {
   "cell_type": "code",
   "execution_count": 7,
   "metadata": {},
   "outputs": [],
   "source": [
    "colo829bl_10x = pd.read_csv(\"../data/processed/manual_telomere_coords/COLO829BL-10X-hg38.hist.csv\", dtype={\"mmap_count\": np.int})\n",
    "colo829t_10x = pd.read_csv(\"../data/processed/manual_telomere_coords/COLO829T-10X-hg38.hist.csv\", dtype={\"mmap_count\": np.int})\n",
    "colo829bl = pd.read_csv(\"../data/processed/manual_telomere_coords/COLO829BL-hg38.hist.csv\", dtype={\"mmap_count\": np.int})\n",
    "colo829t = pd.read_csv(\"../data/processed/manual_telomere_coords/COLO829T-hg38.hist.csv\", dtype={\"mmap_count\": np.int})\n",
    "\n",
    "colo829bl_10x['color'] = 1\n",
    "colo829t_10x['color'] = 2\n",
    "colo829bl['color'] = 3\n",
    "colo829t['color'] = 4"
   ]
  },
  {
   "cell_type": "code",
   "execution_count": 10,
   "metadata": {},
   "outputs": [],
   "source": [
    "datasets = [colo829bl_10x, colo829t_10x, colo829bl, colo829t]\n",
    "datasets_excluded_chroms = []\n",
    "\n",
    "for ds in datasets:\n",
    "    ds = ds[ds['chromosome'] != 'chr5']\n",
    "    ds = ds[ds['chromosome'] != 'chr1']\n",
    "    ds = ds[ds['chromosome'] != 'chrX']\n",
    "    \n",
    "    datasets_excluded_chroms.append(ds)"
   ]
  },
  {
   "cell_type": "code",
   "execution_count": 11,
   "metadata": {},
   "outputs": [
    {
     "data": {
      "application/vnd.vegalite.v2+json": {
       "$schema": "https://vega.github.io/schema/vega-lite/v2.4.1.json",
       "config": {
        "view": {
         "height": 300,
         "width": 400
        }
       },
       "hconcat": [
        {
         "layer": [
          {
           "data": {
            "values": [
             {
              "chromosome": "chr22",
              "color": 1,
              "mmap_count": 326357
             },
             {
              "chromosome": "chr12",
              "color": 1,
              "mmap_count": 176649
             },
             {
              "chromosome": "chr18",
              "color": 1,
              "mmap_count": 147748
             },
             {
              "chromosome": "chr10",
              "color": 1,
              "mmap_count": 138474
             },
             {
              "chromosome": "chr2",
              "color": 1,
              "mmap_count": 93277
             },
             {
              "chromosome": "chr3",
              "color": 1,
              "mmap_count": 91509
             },
             {
              "chromosome": "chr15",
              "color": 1,
              "mmap_count": 35957
             },
             {
              "chromosome": "chr7",
              "color": 1,
              "mmap_count": 31770
             },
             {
              "chromosome": "chr4",
              "color": 1,
              "mmap_count": 26906
             },
             {
              "chromosome": "chr21",
              "color": 1,
              "mmap_count": 23553
             },
             {
              "chromosome": "chr17",
              "color": 1,
              "mmap_count": 14517
             },
             {
              "chromosome": "chr13",
              "color": 1,
              "mmap_count": 14145
             },
             {
              "chromosome": "chr19",
              "color": 1,
              "mmap_count": 13742
             },
             {
              "chromosome": "chr9",
              "color": 1,
              "mmap_count": 12580
             },
             {
              "chromosome": "chr11",
              "color": 1,
              "mmap_count": 3238
             },
             {
              "chromosome": "chr16",
              "color": 1,
              "mmap_count": 971
             },
             {
              "chromosome": "chrY",
              "color": 1,
              "mmap_count": 39
             }
            ]
           },
           "encoding": {
            "color": {
             "field": "color",
             "type": "quantitative"
            },
            "x": {
             "field": "mmap_count",
             "type": "quantitative"
            },
            "y": {
             "field": "chromosome",
             "type": "nominal"
            }
           },
           "mark": "bar",
           "title": "COLO829BL_10X"
          },
          {
           "data": {
            "values": [
             {
              "chromosome": "chr22",
              "color": 2,
              "mmap_count": 271457
             },
             {
              "chromosome": "chr12",
              "color": 2,
              "mmap_count": 132315
             },
             {
              "chromosome": "chr18",
              "color": 2,
              "mmap_count": 117417
             },
             {
              "chromosome": "chr10",
              "color": 2,
              "mmap_count": 115119
             },
             {
              "chromosome": "chr2",
              "color": 2,
              "mmap_count": 78380
             },
             {
              "chromosome": "chr3",
              "color": 2,
              "mmap_count": 75153
             },
             {
              "chromosome": "chr15",
              "color": 2,
              "mmap_count": 31222
             },
             {
              "chromosome": "chr21",
              "color": 2,
              "mmap_count": 20902
             },
             {
              "chromosome": "chr7",
              "color": 2,
              "mmap_count": 20880
             },
             {
              "chromosome": "chr4",
              "color": 2,
              "mmap_count": 20481
             },
             {
              "chromosome": "chr17",
              "color": 2,
              "mmap_count": 12658
             },
             {
              "chromosome": "chr9",
              "color": 2,
              "mmap_count": 11617
             },
             {
              "chromosome": "chr13",
              "color": 2,
              "mmap_count": 10959
             },
             {
              "chromosome": "chr19",
              "color": 2,
              "mmap_count": 10298
             },
             {
              "chromosome": "chr11",
              "color": 2,
              "mmap_count": 1674
             },
             {
              "chromosome": "chr16",
              "color": 2,
              "mmap_count": 665
             },
             {
              "chromosome": "chrY",
              "color": 2,
              "mmap_count": 43
             }
            ]
           },
           "encoding": {
            "color": {
             "field": "color",
             "type": "quantitative"
            },
            "x": {
             "field": "mmap_count",
             "type": "quantitative"
            },
            "y": {
             "field": "chromosome",
             "type": "nominal"
            }
           },
           "mark": "bar",
           "title": "COLO829T_10X"
          }
         ]
        },
        {
         "layer": [
          {
           "data": {
            "values": [
             {
              "chromosome": "chr12",
              "color": 3,
              "mmap_count": 5772
             },
             {
              "chromosome": "chr10",
              "color": 3,
              "mmap_count": 2637
             },
             {
              "chromosome": "chr22",
              "color": 3,
              "mmap_count": 2319
             },
             {
              "chromosome": "chr18",
              "color": 3,
              "mmap_count": 2280
             },
             {
              "chromosome": "chr3",
              "color": 3,
              "mmap_count": 1897
             },
             {
              "chromosome": "chr15",
              "color": 3,
              "mmap_count": 785
             },
             {
              "chromosome": "chr17",
              "color": 3,
              "mmap_count": 504
             },
             {
              "chromosome": "chr2",
              "color": 3,
              "mmap_count": 477
             },
             {
              "chromosome": "chr7",
              "color": 3,
              "mmap_count": 471
             },
             {
              "chromosome": "chr4",
              "color": 3,
              "mmap_count": 365
             },
             {
              "chromosome": "chr13",
              "color": 3,
              "mmap_count": 347
             },
             {
              "chromosome": "chr9",
              "color": 3,
              "mmap_count": 311
             },
             {
              "chromosome": "chr19",
              "color": 3,
              "mmap_count": 186
             },
             {
              "chromosome": "chr21",
              "color": 3,
              "mmap_count": 165
             },
             {
              "chromosome": "chr11",
              "color": 3,
              "mmap_count": 58
             },
             {
              "chromosome": "chr16",
              "color": 3,
              "mmap_count": 56
             }
            ]
           },
           "encoding": {
            "color": {
             "field": "color",
             "type": "quantitative"
            },
            "x": {
             "field": "mmap_count",
             "type": "quantitative"
            },
            "y": {
             "field": "chromosome",
             "type": "nominal"
            }
           },
           "mark": "bar",
           "title": "COLO829BL"
          },
          {
           "data": {
            "values": [
             {
              "chromosome": "chr12",
              "color": 4,
              "mmap_count": 3838
             },
             {
              "chromosome": "chr10",
              "color": 4,
              "mmap_count": 2105
             },
             {
              "chromosome": "chr18",
              "color": 4,
              "mmap_count": 2094
             },
             {
              "chromosome": "chr22",
              "color": 4,
              "mmap_count": 1973
             },
             {
              "chromosome": "chr3",
              "color": 4,
              "mmap_count": 1772
             },
             {
              "chromosome": "chr15",
              "color": 4,
              "mmap_count": 621
             },
             {
              "chromosome": "chr17",
              "color": 4,
              "mmap_count": 608
             },
             {
              "chromosome": "chr2",
              "color": 4,
              "mmap_count": 506
             },
             {
              "chromosome": "chr13",
              "color": 4,
              "mmap_count": 326
             },
             {
              "chromosome": "chr4",
              "color": 4,
              "mmap_count": 323
             },
             {
              "chromosome": "chr9",
              "color": 4,
              "mmap_count": 300
             },
             {
              "chromosome": "chr7",
              "color": 4,
              "mmap_count": 297
             },
             {
              "chromosome": "chr19",
              "color": 4,
              "mmap_count": 238
             },
             {
              "chromosome": "chr21",
              "color": 4,
              "mmap_count": 177
             },
             {
              "chromosome": "chr16",
              "color": 4,
              "mmap_count": 80
             },
             {
              "chromosome": "chr11",
              "color": 4,
              "mmap_count": 52
             }
            ]
           },
           "encoding": {
            "color": {
             "field": "color",
             "type": "quantitative"
            },
            "x": {
             "field": "mmap_count",
             "type": "quantitative"
            },
            "y": {
             "field": "chromosome",
             "type": "nominal"
            }
           },
           "mark": "bar",
           "title": "COLO829T"
          }
         ]
        }
       ]
      },
      "image/png": "[encoded data removed]",
      "text/plain": [
       "<VegaLite 2 object>\n",
       "\n",
       "If you see this message, it means the renderer has not been properly enabled\n",
       "for the frontend that you are using. For more information, see\n",
       "https://altair-viz.github.io/user_guide/troubleshooting.html\n"
      ]
     },
     "execution_count": 11,
     "metadata": {},
     "output_type": "execute_result"
    }
   ],
   "source": [
    "charts = []\n",
    "\n",
    "for ds in datasets_excluded_chroms:\n",
    "    charts.append(alt.Chart(ds).mark_bar().encode(\n",
    "        x = 'mmap_count',\n",
    "        y = 'chromosome',\n",
    "        color = 'color'\n",
    "    ))\n",
    "\n",
    "charts[0].title = \"COLO829BL_10X\"\n",
    "charts[1].title = \"COLO829T_10X\"\n",
    "charts[2].title = \"COLO829BL\"\n",
    "charts[3].title = \"COLO829T\"\n",
    "\n",
    "# Titles will not concatenate when Layering plots like I do here with 10x vs Truseq.\n",
    "# This is, I think, because bugs in vega-lite merged in March not yet upstreamed: https://github.com/altair-viz/altair/issues/585 and https://github.com/vega/vega-lite/pull/3620\n",
    "(charts[0] + charts[1]) | (charts[2] + charts[3])"
   ]
  },
  {
   "cell_type": "code",
   "execution_count": null,
   "metadata": {},
   "outputs": [],
   "source": []
  },
  {
   "cell_type": "code",
   "execution_count": null,
   "metadata": {},
   "outputs": [],
   "source": []
  }
 ],
 "metadata": {
  "kernelspec": {
   "display_name": "Python 3",
   "language": "python",
   "name": "python3"
  },
  "language_info": {
   "codemirror_mode": {
    "name": "ipython",
    "version": 3
   },
   "file_extension": ".py",
   "mimetype": "text/x-python",
   "name": "python",
   "nbconvert_exporter": "python",
   "pygments_lexer": "ipython3",
   "version": "3.6.5"
  }
 },
 "nbformat": 4,
 "nbformat_minor": 2
}
