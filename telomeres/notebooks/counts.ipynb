{
 "cells": [
  {
   "cell_type": "code",
   "execution_count": 1,
   "metadata": {},
   "outputs": [],
   "source": [
    "#from pathlib import Path\n",
    "\n",
    "import glob\n",
    "import altair as alt\n",
    "import pandas as pd\n",
    "import numpy as np"
   ]
  },
  {
   "cell_type": "markdown",
   "metadata": {},
   "source": [
    "## Curated telomeric coordinates, multimapped reads found within BEDfile limits"
   ]
  },
  {
   "cell_type": "code",
   "execution_count": 2,
   "metadata": {},
   "outputs": [],
   "source": [
    "colo829bl_10x = pd.read_csv(\"../data/processed/manual_telomere_coords/COLO829BL-10X-hg38.hist.csv\", dtype={\"mmap_count\": np.int})\n",
    "colo829t_10x = pd.read_csv(\"../data/processed/manual_telomere_coords/COLO829T-10X-hg38.hist.csv\", dtype={\"mmap_count\": np.int})\n",
    "colo829bl = pd.read_csv(\"../data/processed/manual_telomere_coords/COLO829BL-hg38.hist.csv\", dtype={\"mmap_count\": np.int})\n",
    "colo829t = pd.read_csv(\"../data/processed/manual_telomere_coords/COLO829T-hg38.hist.csv\", dtype={\"mmap_count\": np.int})\n",
    "\n",
    "colo829bl_10x['color'] = 1\n",
    "colo829t_10x['color'] = 2\n",
    "colo829bl['color'] = 3\n",
    "colo829t['color'] = 4"
   ]
  },
  {
   "cell_type": "code",
   "execution_count": 3,
   "metadata": {},
   "outputs": [],
   "source": [
    "datasets = [colo829bl_10x, colo829t_10x, colo829bl, colo829t]\n",
    "datasets_excluded_chroms = []\n",
    "\n",
    "for ds in datasets:\n",
    "    ds = ds[ds['chromosome'] != 'chr5']\n",
    "    ds = ds[ds['chromosome'] != 'chr1']\n",
    "    ds = ds[ds['chromosome'] != 'chrX']\n",
    "    ds = ds[ds['chromosome'] != 'chr22']\n",
    "    ds = ds[ds['chromosome'] != 'chrY']\n",
    "    ds = ds[ds['chromosome'] != 'chr12']\n",
    "    ds = ds[ds['chromosome'] != 'chr18']\n",
    "    ds = ds[ds['chromosome'] != 'chr10']\n",
    "\n",
    "    \n",
    "    datasets_excluded_chroms.append(ds)"
   ]
  },
  {
   "cell_type": "code",
   "execution_count": 4,
   "metadata": {},
   "outputs": [
    {
     "data": {
      "application/vnd.vegalite.v2+json": {
       "$schema": "https://vega.github.io/schema/vega-lite/v2.4.1.json",
       "config": {
        "view": {
         "height": 300,
         "width": 400
        }
       },
       "hconcat": [
        {
         "layer": [
          {
           "data": {
            "values": [
             {
              "chromosome": "chr2",
              "color": 1,
              "mmap_count": 93277
             },
             {
              "chromosome": "chr3",
              "color": 1,
              "mmap_count": 91509
             },
             {
              "chromosome": "chr15",
              "color": 1,
              "mmap_count": 35957
             },
             {
              "chromosome": "chr7",
              "color": 1,
              "mmap_count": 31770
             },
             {
              "chromosome": "chr4",
              "color": 1,
              "mmap_count": 26906
             },
             {
              "chromosome": "chr21",
              "color": 1,
              "mmap_count": 23553
             },
             {
              "chromosome": "chr17",
              "color": 1,
              "mmap_count": 14517
             },
             {
              "chromosome": "chr13",
              "color": 1,
              "mmap_count": 14145
             },
             {
              "chromosome": "chr19",
              "color": 1,
              "mmap_count": 13742
             },
             {
              "chromosome": "chr9",
              "color": 1,
              "mmap_count": 12580
             },
             {
              "chromosome": "chr11",
              "color": 1,
              "mmap_count": 3238
             },
             {
              "chromosome": "chr16",
              "color": 1,
              "mmap_count": 971
             }
            ]
           },
           "encoding": {
            "color": {
             "field": "color",
             "type": "quantitative"
            },
            "x": {
             "field": "mmap_count",
             "type": "quantitative"
            },
            "y": {
             "field": "chromosome",
             "type": "nominal"
            }
           },
           "mark": "bar",
           "title": "10X"
          },
          {
           "data": {
            "values": [
             {
              "chromosome": "chr2",
              "color": 2,
              "mmap_count": 78380
             },
             {
              "chromosome": "chr3",
              "color": 2,
              "mmap_count": 75153
             },
             {
              "chromosome": "chr15",
              "color": 2,
              "mmap_count": 31222
             },
             {
              "chromosome": "chr21",
              "color": 2,
              "mmap_count": 20902
             },
             {
              "chromosome": "chr7",
              "color": 2,
              "mmap_count": 20880
             },
             {
              "chromosome": "chr4",
              "color": 2,
              "mmap_count": 20481
             },
             {
              "chromosome": "chr17",
              "color": 2,
              "mmap_count": 12658
             },
             {
              "chromosome": "chr9",
              "color": 2,
              "mmap_count": 11617
             },
             {
              "chromosome": "chr13",
              "color": 2,
              "mmap_count": 10959
             },
             {
              "chromosome": "chr19",
              "color": 2,
              "mmap_count": 10298
             },
             {
              "chromosome": "chr11",
              "color": 2,
              "mmap_count": 1674
             },
             {
              "chromosome": "chr16",
              "color": 2,
              "mmap_count": 665
             }
            ]
           },
           "encoding": {
            "color": {
             "field": "color",
             "type": "quantitative"
            },
            "x": {
             "field": "mmap_count",
             "type": "quantitative"
            },
            "y": {
             "field": "chromosome",
             "type": "nominal"
            }
           },
           "mark": "bar",
           "title": "10X"
          }
         ]
        },
        {
         "layer": [
          {
           "data": {
            "values": [
             {
              "chromosome": "chr3",
              "color": 3,
              "mmap_count": 1897
             },
             {
              "chromosome": "chr15",
              "color": 3,
              "mmap_count": 785
             },
             {
              "chromosome": "chr17",
              "color": 3,
              "mmap_count": 504
             },
             {
              "chromosome": "chr2",
              "color": 3,
              "mmap_count": 477
             },
             {
              "chromosome": "chr7",
              "color": 3,
              "mmap_count": 471
             },
             {
              "chromosome": "chr4",
              "color": 3,
              "mmap_count": 365
             },
             {
              "chromosome": "chr13",
              "color": 3,
              "mmap_count": 347
             },
             {
              "chromosome": "chr9",
              "color": 3,
              "mmap_count": 311
             },
             {
              "chromosome": "chr19",
              "color": 3,
              "mmap_count": 186
             },
             {
              "chromosome": "chr21",
              "color": 3,
              "mmap_count": 165
             },
             {
              "chromosome": "chr11",
              "color": 3,
              "mmap_count": 58
             },
             {
              "chromosome": "chr16",
              "color": 3,
              "mmap_count": 56
             }
            ]
           },
           "encoding": {
            "color": {
             "field": "color",
             "type": "quantitative"
            },
            "x": {
             "field": "mmap_count",
             "type": "quantitative"
            },
            "y": {
             "field": "chromosome",
             "type": "nominal"
            }
           },
           "mark": "bar",
           "title": "Truseq"
          },
          {
           "data": {
            "values": [
             {
              "chromosome": "chr3",
              "color": 4,
              "mmap_count": 1772
             },
             {
              "chromosome": "chr15",
              "color": 4,
              "mmap_count": 621
             },
             {
              "chromosome": "chr17",
              "color": 4,
              "mmap_count": 608
             },
             {
              "chromosome": "chr2",
              "color": 4,
              "mmap_count": 506
             },
             {
              "chromosome": "chr13",
              "color": 4,
              "mmap_count": 326
             },
             {
              "chromosome": "chr4",
              "color": 4,
              "mmap_count": 323
             },
             {
              "chromosome": "chr9",
              "color": 4,
              "mmap_count": 300
             },
             {
              "chromosome": "chr7",
              "color": 4,
              "mmap_count": 297
             },
             {
              "chromosome": "chr19",
              "color": 4,
              "mmap_count": 238
             },
             {
              "chromosome": "chr21",
              "color": 4,
              "mmap_count": 177
             },
             {
              "chromosome": "chr16",
              "color": 4,
              "mmap_count": 80
             },
             {
              "chromosome": "chr11",
              "color": 4,
              "mmap_count": 52
             }
            ]
           },
           "encoding": {
            "color": {
             "field": "color",
             "type": "quantitative"
            },
            "x": {
             "field": "mmap_count",
             "type": "quantitative"
            },
            "y": {
             "field": "chromosome",
             "type": "nominal"
            }
           },
           "mark": "bar",
           "title": "Truseq"
          }
         ]
        }
       ]
      },
      "image/png": "[encoded data removed]",
      "text/plain": [
       "<VegaLite 2 object>\n",
       "\n",
       "If you see this message, it means the renderer has not been properly enabled\n",
       "for the frontend that you are using. For more information, see\n",
       "https://altair-viz.github.io/user_guide/troubleshooting.html\n"
      ]
     },
     "execution_count": 4,
     "metadata": {},
     "output_type": "execute_result"
    }
   ],
   "source": [
    "charts = []\n",
    "\n",
    "for ds in datasets_excluded_chroms:\n",
    "    charts.append(alt.Chart(ds).mark_bar().encode(\n",
    "        x = 'mmap_count',\n",
    "        y = 'chromosome',\n",
    "        color = 'color'\n",
    "    ))\n",
    "\n",
    "charts[0].title = \"COLO829BL_10X\"\n",
    "charts[1].title = \"COLO829T_10X\"\n",
    "charts[2].title = \"COLO829BL\"\n",
    "charts[3].title = \"COLO829T\"\n",
    "\n",
    "charts[0].title = \"10X\"\n",
    "charts[1].title = \"10X\"\n",
    "charts[2].title = \"Truseq\"\n",
    "charts[3].title = \"Truseq\"\n",
    "\n",
    "# Titles will not concatenate when Layering plots like I do here with 10x vs Truseq.\n",
    "# This is, I think, because bugs in vega-lite merged in March not yet upstreamed: https://github.com/altair-viz/altair/issues/585 and https://github.com/vega/vega-lite/pull/3620\n",
    "(charts[0] + charts[1]) | (charts[2] + charts[3])"
   ]
  },
  {
   "cell_type": "markdown",
   "metadata": {},
   "source": [
    "## Absolute mapped reads for the whole datasets (samtools idxstats)"
   ]
  },
  {
   "cell_type": "code",
   "execution_count": 8,
   "metadata": {},
   "outputs": [],
   "source": [
    "colo829bl_10x_baseline = pd.read_csv(\"../data/processed/colo829_baseline/COLO829BL-10X-baseline-idxstats-hg38.hist.csv\", dtype={\"mmap_count\": np.int})\n",
    "colo829t_10x_baseline = pd.read_csv(\"../data/processed/colo829_baseline/COLO829T-10X-baseline-idxstats-hg38.hist.csv\", dtype={\"mmap_count\": np.int})\n",
    "colo829bl_baseline = pd.read_csv(\"../data/processed/colo829_baseline/COLO829BL-baseline-idxstats-hg38.hist.csv\", dtype={\"mmap_count\": np.int})\n",
    "colo829t_baseline = pd.read_csv(\"../data/processed/colo829_baseline/COLO829T-baseline-idxstats-hg38.hist.csv\", dtype={\"mmap_count\": np.int})\n",
    "\n",
    "datasets_baseline = [colo829bl_10x_baseline, colo829t_10x_baseline, colo829bl_baseline, colo829t_baseline]\n",
    "\n",
    "colo829bl_10x_baseline['color'] = 'A'\n",
    "colo829t_10x_baseline['color'] = 'B'\n",
    "colo829bl_baseline['color'] = 'C'\n",
    "colo829t_baseline['color'] = 'D'"
   ]
  },
  {
   "cell_type": "code",
   "execution_count": 9,
   "metadata": {},
   "outputs": [
    {
     "data": {
      "application/vnd.vegalite.v2+json": {
       "$schema": "https://vega.github.io/schema/vega-lite/v2.4.1.json",
       "config": {
        "view": {
         "height": 300,
         "width": 400
        }
       },
       "hconcat": [
        {
         "layer": [
          {
           "data": {
            "values": [
             {
              "chromosome": "chr1",
              "color": "A",
              "mapped": 129858336
             },
             {
              "chromosome": "chr2",
              "color": "A",
              "mapped": 102084153
             },
             {
              "chromosome": "chr3",
              "color": "A",
              "mapped": 106238758
             },
             {
              "chromosome": "chr4",
              "color": "A",
              "mapped": 89090484
             },
             {
              "chromosome": "chr5",
              "color": "A",
              "mapped": 54717640
             },
             {
              "chromosome": "chr6",
              "color": "A",
              "mapped": 69826336
             },
             {
              "chromosome": "chr7",
              "color": "A",
              "mapped": 83190278
             },
             {
              "chromosome": "chr8",
              "color": "A",
              "mapped": 65497334
             },
             {
              "chromosome": "chr9",
              "color": "A",
              "mapped": 56983210
             },
             {
              "chromosome": "chr10",
              "color": "A",
              "mapped": 46642245
             },
             {
              "chromosome": "chr11",
              "color": "A",
              "mapped": 57016397
             },
             {
              "chromosome": "chr12",
              "color": "A",
              "mapped": 55271303
             },
             {
              "chromosome": "chr13",
              "color": "A",
              "mapped": 48799014
             },
             {
              "chromosome": "chr14",
              "color": "A",
              "mapped": 34541558
             },
             {
              "chromosome": "chr15",
              "color": "A",
              "mapped": 28471822
             },
             {
              "chromosome": "chr16",
              "color": "A",
              "mapped": 50996379
             },
             {
              "chromosome": "chr17",
              "color": "A",
              "mapped": 37765189
             },
             {
              "chromosome": "chr18",
              "color": "A",
              "mapped": 34117545
             },
             {
              "chromosome": "chr19",
              "color": "A",
              "mapped": 24768129
             },
             {
              "chromosome": "chr20",
              "color": "A",
              "mapped": 41787875
             },
             {
              "chromosome": "chr21",
              "color": "A",
              "mapped": 35400567
             },
             {
              "chromosome": "chr22",
              "color": "A",
              "mapped": 22488880
             },
             {
              "chromosome": "chrX",
              "color": "A",
              "mapped": 41491924
             },
             {
              "chromosome": "chrY",
              "color": "A",
              "mapped": 9017780
             },
             {
              "chromosome": "chrM",
              "color": "A",
              "mapped": 996492
             }
            ]
           },
           "encoding": {
            "color": {
             "field": "color",
             "type": "nominal"
            },
            "x": {
             "field": "mapped",
             "type": "quantitative"
            },
            "y": {
             "field": "chromosome",
             "type": "nominal"
            }
           },
           "mark": "bar",
           "title": "10X"
          },
          {
           "data": {
            "values": [
             {
              "chromosome": "chr1",
              "color": "B",
              "mapped": 159537247
             },
             {
              "chromosome": "chr2",
              "color": "B",
              "mapped": 121860508
             },
             {
              "chromosome": "chr3",
              "color": "B",
              "mapped": 137879745
             },
             {
              "chromosome": "chr4",
              "color": "B",
              "mapped": 110667186
             },
             {
              "chromosome": "chr5",
              "color": "B",
              "mapped": 61367991
             },
             {
              "chromosome": "chr6",
              "color": "B",
              "mapped": 88397904
             },
             {
              "chromosome": "chr7",
              "color": "B",
              "mapped": 107590510
             },
             {
              "chromosome": "chr8",
              "color": "B",
              "mapped": 83269590
             },
             {
              "chromosome": "chr9",
              "color": "B",
              "mapped": 70418530
             },
             {
              "chromosome": "chr10",
              "color": "B",
              "mapped": 52494667
             },
             {
              "chromosome": "chr11",
              "color": "B",
              "mapped": 70350519
             },
             {
              "chromosome": "chr12",
              "color": "B",
              "mapped": 67513572
             },
             {
              "chromosome": "chr13",
              "color": "B",
              "mapped": 61942925
             },
             {
              "chromosome": "chr14",
              "color": "B",
              "mapped": 42306570
             },
             {
              "chromosome": "chr15",
              "color": "B",
              "mapped": 33905175
             },
             {
              "chromosome": "chr16",
              "color": "B",
              "mapped": 57859603
             },
             {
              "chromosome": "chr17",
              "color": "B",
              "mapped": 45812599
             },
             {
              "chromosome": "chr18",
              "color": "B",
              "mapped": 41572485
             },
             {
              "chromosome": "chr19",
              "color": "B",
              "mapped": 28851797
             },
             {
              "chromosome": "chr20",
              "color": "B",
              "mapped": 52363798
             },
             {
              "chromosome": "chr21",
              "color": "B",
              "mapped": 38847377
             },
             {
              "chromosome": "chr22",
              "color": "B",
              "mapped": 27640068
             },
             {
              "chromosome": "chrX",
              "color": "B",
              "mapped": 53458892
             },
             {
              "chromosome": "chrY",
              "color": "B",
              "mapped": 4431520
             },
             {
              "chromosome": "chrM",
              "color": "B",
              "mapped": 1284027
             }
            ]
           },
           "encoding": {
            "color": {
             "field": "color",
             "type": "nominal"
            },
            "x": {
             "field": "mapped",
             "type": "quantitative"
            },
            "y": {
             "field": "chromosome",
             "type": "nominal"
            }
           },
           "mark": "bar",
           "title": "10X"
          }
         ]
        },
        {
         "layer": [
          {
           "data": {
            "values": [
             {
              "chromosome": "chr1",
              "color": "C",
              "mapped": 181653006
             },
             {
              "chromosome": "chr2",
              "color": "C",
              "mapped": 175439055
             },
             {
              "chromosome": "chr3",
              "color": "C",
              "mapped": 149930113
             },
             {
              "chromosome": "chr4",
              "color": "C",
              "mapped": 141071592
             },
             {
              "chromosome": "chr5",
              "color": "C",
              "mapped": 132275857
             },
             {
              "chromosome": "chr6",
              "color": "C",
              "mapped": 123795509
             },
             {
              "chromosome": "chr7",
              "color": "C",
              "mapped": 112718346
             },
             {
              "chromosome": "chr8",
              "color": "C",
              "mapped": 104087444
             },
             {
              "chromosome": "chr9",
              "color": "C",
              "mapped": 87958965
             },
             {
              "chromosome": "chr10",
              "color": "C",
              "mapped": 98137719
             },
             {
              "chromosome": "chr11",
              "color": "C",
              "mapped": 96021237
             },
             {
              "chromosome": "chr12",
              "color": "C",
              "mapped": 96164122
             },
             {
              "chromosome": "chr13",
              "color": "C",
              "mapped": 74071373
             },
             {
              "chromosome": "chr14",
              "color": "C",
              "mapped": 65132990
             },
             {
              "chromosome": "chr15",
              "color": "C",
              "mapped": 60085180
             },
             {
              "chromosome": "chr16",
              "color": "C",
              "mapped": 65306918
             },
             {
              "chromosome": "chr17",
              "color": "C",
              "mapped": 58632277
             },
             {
              "chromosome": "chr18",
              "color": "C",
              "mapped": 57672329
             },
             {
              "chromosome": "chr19",
              "color": "C",
              "mapped": 37379284
             },
             {
              "chromosome": "chr20",
              "color": "C",
              "mapped": 47853586
             },
             {
              "chromosome": "chr21",
              "color": "C",
              "mapped": 32534742
             },
             {
              "chromosome": "chr22",
              "color": "C",
              "mapped": 26856525
             },
             {
              "chromosome": "chrX",
              "color": "C",
              "mapped": 55677395
             },
             {
              "chromosome": "chrY",
              "color": "C",
              "mapped": 17062414
             },
             {
              "chromosome": "chrM",
              "color": "C",
              "mapped": 1261878
             }
            ]
           },
           "encoding": {
            "color": {
             "field": "color",
             "type": "nominal"
            },
            "x": {
             "field": "mapped",
             "type": "quantitative"
            },
            "y": {
             "field": "chromosome",
             "type": "nominal"
            }
           },
           "mark": "bar",
           "title": "Truseq"
          },
          {
           "data": {
            "values": [
             {
              "chromosome": "chr1",
              "color": "D",
              "mapped": 178181423
             },
             {
              "chromosome": "chr2",
              "color": "D",
              "mapped": 176133601
             },
             {
              "chromosome": "chr3",
              "color": "D",
              "mapped": 189608738
             },
             {
              "chromosome": "chr4",
              "color": "D",
              "mapped": 163428210
             },
             {
              "chromosome": "chr5",
              "color": "D",
              "mapped": 91099688
             },
             {
              "chromosome": "chr6",
              "color": "D",
              "mapped": 103524207
             },
             {
              "chromosome": "chr7",
              "color": "D",
              "mapped": 155811587
             },
             {
              "chromosome": "chr8",
              "color": "D",
              "mapped": 105595258
             },
             {
              "chromosome": "chr9",
              "color": "D",
              "mapped": 91077539
             },
             {
              "chromosome": "chr10",
              "color": "D",
              "mapped": 68020299
             },
             {
              "chromosome": "chr11",
              "color": "D",
              "mapped": 79781772
             },
             {
              "chromosome": "chr12",
              "color": "D",
              "mapped": 95411558
             },
             {
              "chromosome": "chr13",
              "color": "D",
              "mapped": 73913392
             },
             {
              "chromosome": "chr14",
              "color": "D",
              "mapped": 63786254
             },
             {
              "chromosome": "chr15",
              "color": "D",
              "mapped": 50144245
             },
             {
              "chromosome": "chr16",
              "color": "D",
              "mapped": 56651148
             },
             {
              "chromosome": "chr17",
              "color": "D",
              "mapped": 58888431
             },
             {
              "chromosome": "chr18",
              "color": "D",
              "mapped": 39048763
             },
             {
              "chromosome": "chr19",
              "color": "D",
              "mapped": 36163242
             },
             {
              "chromosome": "chr20",
              "color": "D",
              "mapped": 63187224
             },
             {
              "chromosome": "chr21",
              "color": "D",
              "mapped": 33961582
             },
             {
              "chromosome": "chr22",
              "color": "D",
              "mapped": 34952036
             },
             {
              "chromosome": "chrX",
              "color": "D",
              "mapped": 74293975
             },
             {
              "chromosome": "chrY",
              "color": "D",
              "mapped": 3879778
             },
             {
              "chromosome": "chrM",
              "color": "D",
              "mapped": 1036659
             }
            ]
           },
           "encoding": {
            "color": {
             "field": "color",
             "type": "nominal"
            },
            "x": {
             "field": "mapped",
             "type": "quantitative"
            },
            "y": {
             "field": "chromosome",
             "type": "nominal"
            }
           },
           "mark": "bar",
           "title": "Truseq"
          }
         ]
        }
       ]
      },
      "image/png": "[encoded data removed]",
      "text/plain": [
       "<VegaLite 2 object>\n",
       "\n",
       "If you see this message, it means the renderer has not been properly enabled\n",
       "for the frontend that you are using. For more information, see\n",
       "https://altair-viz.github.io/user_guide/troubleshooting.html\n"
      ]
     },
     "execution_count": 9,
     "metadata": {},
     "output_type": "execute_result"
    }
   ],
   "source": [
    "charts_baseline = []\n",
    "\n",
    "for ds in datasets_baseline:\n",
    "    charts_baseline.append(alt.Chart(ds).mark_bar().encode(\n",
    "        x = 'mapped',\n",
    "        y = 'chromosome',\n",
    "        color = 'color'\n",
    "    ))\n",
    "    \n",
    "charts_baseline[0].title = \"COLO829BL_10X\"\n",
    "charts_baseline[1].title = \"COLO829T_10X\"\n",
    "charts_baseline[2].title = \"COLO829BL\"\n",
    "charts_baseline[3].title = \"COLO829T\"\n",
    "\n",
    "# Titles will not concatenate when Layering plots like I do here with 10x vs Truseq. So overriding title here to make sense for now....\n",
    "# This is, I think, because bugs in vega-lite merged in March not yet upstreamed: https://github.com/altair-viz/altair/issues/585 and https://github.com/vega/vega-lite/pull/3620\n",
    "\n",
    "charts_baseline[0].title = \"10X\"\n",
    "charts_baseline[1].title = \"10X\"\n",
    "charts_baseline[2].title = \"Truseq\"\n",
    "charts_baseline[3].title = \"Truseq\"\n",
    "\n",
    "(charts_baseline[0] + charts_baseline[1]) | (charts_baseline[2] + charts_baseline[3])"
   ]
  },
  {
   "cell_type": "markdown",
   "metadata": {},
   "source": [
    "## Absolute mapped reads for the telomeric curated coordinates"
   ]
  },
  {
   "cell_type": "code",
   "execution_count": 15,
   "metadata": {},
   "outputs": [],
   "source": [
    "colo829bl_10x = pd.read_csv(\"../data/processed/manual_telomere_coords/COLO829BL-10X-sliced-idxstats-hg38.hist.csv\")\n",
    "colo829t_10x = pd.read_csv(\"../data/processed/manual_telomere_coords/COLO829T-10X-sliced-idxstats-hg38.hist.csv\")\n",
    "colo829bl = pd.read_csv(\"../data/processed/manual_telomere_coords/COLO829BL-sliced-idxstats-hg38.hist.csv\")\n",
    "colo829t = pd.read_csv(\"../data/processed/manual_telomere_coords/COLO829T-sliced-idxstats-hg38.hist.csv\")\n",
    "\n",
    "datasets = [colo829bl_10x, colo829t_10x, colo829bl, colo829t]\n",
    "\n",
    "colo829bl_10x['color'] = 'Q'\n",
    "colo829t_10x['color'] = 'W'\n",
    "colo829bl['color'] = 'E'\n",
    "colo829t['color'] = 'R'"
   ]
  },
  {
   "cell_type": "code",
   "execution_count": 16,
   "metadata": {},
   "outputs": [
    {
     "data": {
      "application/vnd.vegalite.v2+json": {
       "$schema": "https://vega.github.io/schema/vega-lite/v2.4.1.json",
       "config": {
        "view": {
         "height": 300,
         "width": 400
        }
       },
       "hconcat": [
        {
         "layer": [
          {
           "data": {
            "values": [
             {
              "chromosome": "chr1",
              "color": "Q",
              "mapped": 415538
             },
             {
              "chromosome": "chr2",
              "color": "Q",
              "mapped": 92820
             },
             {
              "chromosome": "chr3",
              "color": "Q",
              "mapped": 90513
             },
             {
              "chromosome": "chr4",
              "color": "Q",
              "mapped": 26469
             },
             {
              "chromosome": "chr5",
              "color": "Q",
              "mapped": 722164
             },
             {
              "chromosome": "chr6",
              "color": "Q",
              "mapped": 0
             },
             {
              "chromosome": "chr7",
              "color": "Q",
              "mapped": 30994
             },
             {
              "chromosome": "chr8",
              "color": "Q",
              "mapped": 0
             },
             {
              "chromosome": "chr9",
              "color": "Q",
              "mapped": 12431
             },
             {
              "chromosome": "chr10",
              "color": "Q",
              "mapped": 137542
             },
             {
              "chromosome": "chr11",
              "color": "Q",
              "mapped": 3182
             },
             {
              "chromosome": "chr12",
              "color": "Q",
              "mapped": 175240
             },
             {
              "chromosome": "chr13",
              "color": "Q",
              "mapped": 13857
             },
             {
              "chromosome": "chr14",
              "color": "Q",
              "mapped": 0
             },
             {
              "chromosome": "chr15",
              "color": "Q",
              "mapped": 35520
             },
             {
              "chromosome": "chr16",
              "color": "Q",
              "mapped": 945
             },
             {
              "chromosome": "chr17",
              "color": "Q",
              "mapped": 14263
             },
             {
              "chromosome": "chr18",
              "color": "Q",
              "mapped": 146268
             },
             {
              "chromosome": "chr19",
              "color": "Q",
              "mapped": 13454
             },
             {
              "chromosome": "chr20",
              "color": "Q",
              "mapped": 0
             },
             {
              "chromosome": "chr21",
              "color": "Q",
              "mapped": 23365
             },
             {
              "chromosome": "chr22",
              "color": "Q",
              "mapped": 324221
             },
             {
              "chromosome": "chrX",
              "color": "Q",
              "mapped": 621335
             },
             {
              "chromosome": "chrY",
              "color": "Q",
              "mapped": 39
             },
             {
              "chromosome": "chrM",
              "color": "Q",
              "mapped": 0
             }
            ]
           },
           "encoding": {
            "color": {
             "field": "color",
             "type": "nominal"
            },
            "x": {
             "field": "mapped",
             "type": "quantitative"
            },
            "y": {
             "field": "chromosome",
             "type": "nominal"
            }
           },
           "mark": "bar",
           "title": "10X"
          },
          {
           "data": {
            "values": [
             {
              "chromosome": "chr1",
              "color": "W",
              "mapped": 370651
             },
             {
              "chromosome": "chr2",
              "color": "W",
              "mapped": 78380
             },
             {
              "chromosome": "chr3",
              "color": "W",
              "mapped": 75153
             },
             {
              "chromosome": "chr4",
              "color": "W",
              "mapped": 20481
             },
             {
              "chromosome": "chr5",
              "color": "W",
              "mapped": 580342
             },
             {
              "chromosome": "chr6",
              "color": "W",
              "mapped": 0
             },
             {
              "chromosome": "chr7",
              "color": "W",
              "mapped": 20880
             },
             {
              "chromosome": "chr8",
              "color": "W",
              "mapped": 0
             },
             {
              "chromosome": "chr9",
              "color": "W",
              "mapped": 11617
             },
             {
              "chromosome": "chr10",
              "color": "W",
              "mapped": 115119
             },
             {
              "chromosome": "chr11",
              "color": "W",
              "mapped": 1674
             },
             {
              "chromosome": "chr12",
              "color": "W",
              "mapped": 132315
             },
             {
              "chromosome": "chr13",
              "color": "W",
              "mapped": 10959
             },
             {
              "chromosome": "chr14",
              "color": "W",
              "mapped": 0
             },
             {
              "chromosome": "chr15",
              "color": "W",
              "mapped": 31222
             },
             {
              "chromosome": "chr16",
              "color": "W",
              "mapped": 665
             },
             {
              "chromosome": "chr17",
              "color": "W",
              "mapped": 12658
             },
             {
              "chromosome": "chr18",
              "color": "W",
              "mapped": 117417
             },
             {
              "chromosome": "chr19",
              "color": "W",
              "mapped": 10298
             },
             {
              "chromosome": "chr20",
              "color": "W",
              "mapped": 0
             },
             {
              "chromosome": "chr21",
              "color": "W",
              "mapped": 20902
             },
             {
              "chromosome": "chr22",
              "color": "W",
              "mapped": 271457
             },
             {
              "chromosome": "chrX",
              "color": "W",
              "mapped": 536944
             },
             {
              "chromosome": "chrY",
              "color": "W",
              "mapped": 43
             },
             {
              "chromosome": "chrM",
              "color": "W",
              "mapped": 0
             }
            ]
           },
           "encoding": {
            "color": {
             "field": "color",
             "type": "nominal"
            },
            "x": {
             "field": "mapped",
             "type": "quantitative"
            },
            "y": {
             "field": "chromosome",
             "type": "nominal"
            }
           },
           "mark": "bar",
           "title": "10X"
          }
         ]
        },
        {
         "layer": [
          {
           "data": {
            "values": [
             {
              "chromosome": "chr1",
              "color": "E",
              "mapped": 8504
             },
             {
              "chromosome": "chr2",
              "color": "E",
              "mapped": 475
             },
             {
              "chromosome": "chr3",
              "color": "E",
              "mapped": 1892
             },
             {
              "chromosome": "chr4",
              "color": "E",
              "mapped": 363
             },
             {
              "chromosome": "chr5",
              "color": "E",
              "mapped": 70680
             },
             {
              "chromosome": "chr6",
              "color": "E",
              "mapped": 0
             },
             {
              "chromosome": "chr7",
              "color": "E",
              "mapped": 469
             },
             {
              "chromosome": "chr8",
              "color": "E",
              "mapped": 0
             },
             {
              "chromosome": "chr9",
              "color": "E",
              "mapped": 309
             },
             {
              "chromosome": "chr10",
              "color": "E",
              "mapped": 2626
             },
             {
              "chromosome": "chr11",
              "color": "E",
              "mapped": 58
             },
             {
              "chromosome": "chr12",
              "color": "E",
              "mapped": 5768
             },
             {
              "chromosome": "chr13",
              "color": "E",
              "mapped": 347
             },
             {
              "chromosome": "chr14",
              "color": "E",
              "mapped": 0
             },
             {
              "chromosome": "chr15",
              "color": "E",
              "mapped": 781
             },
             {
              "chromosome": "chr16",
              "color": "E",
              "mapped": 56
             },
             {
              "chromosome": "chr17",
              "color": "E",
              "mapped": 499
             },
             {
              "chromosome": "chr18",
              "color": "E",
              "mapped": 2269
             },
             {
              "chromosome": "chr19",
              "color": "E",
              "mapped": 185
             },
             {
              "chromosome": "chr20",
              "color": "E",
              "mapped": 0
             },
             {
              "chromosome": "chr21",
              "color": "E",
              "mapped": 164
             },
             {
              "chromosome": "chr22",
              "color": "E",
              "mapped": 2314
             },
             {
              "chromosome": "chrX",
              "color": "E",
              "mapped": 5187
             },
             {
              "chromosome": "chrY",
              "color": "E",
              "mapped": 0
             },
             {
              "chromosome": "chrM",
              "color": "E",
              "mapped": 0
             }
            ]
           },
           "encoding": {
            "color": {
             "field": "color",
             "type": "nominal"
            },
            "x": {
             "field": "mapped",
             "type": "quantitative"
            },
            "y": {
             "field": "chromosome",
             "type": "nominal"
            }
           },
           "mark": "bar",
           "title": "Truseq"
          },
          {
           "data": {
            "values": [
             {
              "chromosome": "chr1",
              "color": "R",
              "mapped": 9090
             },
             {
              "chromosome": "chr2",
              "color": "R",
              "mapped": 504
             },
             {
              "chromosome": "chr3",
              "color": "R",
              "mapped": 1769
             },
             {
              "chromosome": "chr4",
              "color": "R",
              "mapped": 323
             },
             {
              "chromosome": "chr5",
              "color": "R",
              "mapped": 55856
             },
             {
              "chromosome": "chr6",
              "color": "R",
              "mapped": 0
             },
             {
              "chromosome": "chr7",
              "color": "R",
              "mapped": 296
             },
             {
              "chromosome": "chr8",
              "color": "R",
              "mapped": 0
             },
             {
              "chromosome": "chr9",
              "color": "R",
              "mapped": 300
             },
             {
              "chromosome": "chr10",
              "color": "R",
              "mapped": 2100
             },
             {
              "chromosome": "chr11",
              "color": "R",
              "mapped": 52
             },
             {
              "chromosome": "chr12",
              "color": "R",
              "mapped": 3835
             },
             {
              "chromosome": "chr13",
              "color": "R",
              "mapped": 326
             },
             {
              "chromosome": "chr14",
              "color": "R",
              "mapped": 0
             },
             {
              "chromosome": "chr15",
              "color": "R",
              "mapped": 620
             },
             {
              "chromosome": "chr16",
              "color": "R",
              "mapped": 80
             },
             {
              "chromosome": "chr17",
              "color": "R",
              "mapped": 600
             },
             {
              "chromosome": "chr18",
              "color": "R",
              "mapped": 2085
             },
             {
              "chromosome": "chr19",
              "color": "R",
              "mapped": 237
             },
             {
              "chromosome": "chr20",
              "color": "R",
              "mapped": 0
             },
             {
              "chromosome": "chr21",
              "color": "R",
              "mapped": 176
             },
             {
              "chromosome": "chr22",
              "color": "R",
              "mapped": 1971
             },
             {
              "chromosome": "chrX",
              "color": "R",
              "mapped": 5130
             },
             {
              "chromosome": "chrY",
              "color": "R",
              "mapped": 0
             },
             {
              "chromosome": "chrM",
              "color": "R",
              "mapped": 0
             }
            ]
           },
           "encoding": {
            "color": {
             "field": "color",
             "type": "nominal"
            },
            "x": {
             "field": "mapped",
             "type": "quantitative"
            },
            "y": {
             "field": "chromosome",
             "type": "nominal"
            }
           },
           "mark": "bar",
           "title": "Truseq"
          }
         ]
        }
       ]
      },
      "image/png": "[encoded data removed]",
      "text/plain": [
       "<VegaLite 2 object>\n",
       "\n",
       "If you see this message, it means the renderer has not been properly enabled\n",
       "for the frontend that you are using. For more information, see\n",
       "https://altair-viz.github.io/user_guide/troubleshooting.html\n"
      ]
     },
     "execution_count": 16,
     "metadata": {},
     "output_type": "execute_result"
    }
   ],
   "source": [
    "charts = []\n",
    "\n",
    "for ds in datasets:\n",
    "    charts.append(alt.Chart(ds).mark_bar().encode(\n",
    "        x = 'mapped',\n",
    "        y = 'chromosome',\n",
    "        color = 'color'\n",
    "    ))\n",
    "\n",
    "charts[0].title = \"COLO829BL_10X\"\n",
    "charts[1].title = \"COLO829T_10X\"\n",
    "charts[2].title = \"COLO829BL\"\n",
    "charts[3].title = \"COLO829T\"\n",
    "\n",
    "charts[0].title = \"10X\"\n",
    "charts[1].title = \"10X\"\n",
    "charts[2].title = \"Truseq\"\n",
    "charts[3].title = \"Truseq\"\n",
    "\n",
    "# Titles will not concatenate when Layering plots like I do here with 10x vs Truseq.\n",
    "# This is, I think, because bugs in vega-lite merged in March not yet upstreamed: https://github.com/altair-viz/altair/issues/585 and https://github.com/vega/vega-lite/pull/3620\n",
    "(charts[0] + charts[1]) | (charts[2] + charts[3])"
   ]
  }
 ],
 "metadata": {
  "kernelspec": {
   "display_name": "Python 3",
   "language": "python",
   "name": "python3"
  },
  "language_info": {
   "codemirror_mode": {
    "name": "ipython",
    "version": 3
   },
   "file_extension": ".py",
   "mimetype": "text/x-python",
   "name": "python",
   "nbconvert_exporter": "python",
   "pygments_lexer": "ipython3",
   "version": "3.6.5"
  }
 },
 "nbformat": 4,
 "nbformat_minor": 2
}
