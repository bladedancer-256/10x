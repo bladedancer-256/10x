{
 "cells": [
  {
   "cell_type": "code",
   "execution_count": 3,
   "metadata": {},
   "outputs": [
    {
     "data": {
      "text/plain": [
       "'2.2.0dev0'"
      ]
     },
     "execution_count": 3,
     "metadata": {},
     "output_type": "execute_result"
    }
   ],
   "source": [
    "import re\n",
    "import json\n",
    "import altair as alt\n",
    "import pandas as pd\n",
    "import numpy as np\n",
    "\n",
    "from collections import defaultdict\n",
    "from copy import deepcopy\n",
    "from pathlib import Path\n",
    "\n",
    "alt.__version__"
   ]
  },
  {
   "cell_type": "markdown",
   "metadata": {},
   "source": [
    "## Curated telomeric coordinates, multimapped reads found within BEDfile limits"
   ]
  },
  {
   "cell_type": "markdown",
   "metadata": {},
   "source": [
    "### 10X & Truseq datasets"
   ]
  },
  {
   "cell_type": "code",
   "execution_count": 4,
   "metadata": {},
   "outputs": [],
   "source": [
    "chr_array = ['chr'+str(x) for x in range(1,23)]\n",
    "chr_array.append('chrX')\n",
    "chr_array.append('chrY')\n",
    "chr_array.append('chrM')\n",
    "\n",
    "chr_cat = pd.Series(chr_array, dtype=\"category\")"
   ]
  },
  {
   "cell_type": "code",
   "execution_count": 5,
   "metadata": {},
   "outputs": [],
   "source": [
    "def rewrite_chrs(df, col):\n",
    "    ''' Rewrite chromosome numbers, while we wait for axis ordering on altair-viz\n",
    "    '''\n",
    "    repl_chr = lambda m: m.group(1)\n",
    "    \n",
    "    df_res = deepcopy(df)\n",
    "\n",
    "    df_res[col] = df_res[col].str.replace(r\"chr(\\d+)\", repl_chr)\n",
    "    df_res[col] = df_res[col].str.replace(r\"chrX\", \"23\")\n",
    "    df_res[col] = df_res[col].str.replace(r\"chrY\", \"24\")\n",
    "    df_res[col] = df_res[col].str.replace(r\"chrM\", \"25\")\n",
    "    \n",
    "    return df_res\n"
   ]
  },
  {
   "cell_type": "code",
   "execution_count": 6,
   "metadata": {},
   "outputs": [],
   "source": [
    "colo829bl_10x = pd.read_csv(\"../data/processed/manual_telomere_coords/COLO829BL-10X-hg38.hist.csv\", dtype={\"mmap_count\": np.int})\n",
    "colo829t_10x = pd.read_csv(\"../data/processed/manual_telomere_coords/COLO829T-10X-hg38.hist.csv\", dtype={\"mmap_count\": np.int})\n",
    "colo829bl = pd.read_csv(\"../data/processed/manual_telomere_coords/COLO829BL-hg38.hist.csv\", dtype={\"mmap_count\": np.int})\n",
    "colo829t = pd.read_csv(\"../data/processed/manual_telomere_coords/COLO829T-hg38.hist.csv\", dtype={\"mmap_count\": np.int})\n",
    "\n",
    "colo829bl_10x['technology'] = '10X'\n",
    "colo829bl_10x['sample'] = 'colo829bl_10x'\n",
    "colo829t_10x['technology'] = '10X'\n",
    "colo829t_10x['sample'] = 'colo829t_10x'\n",
    "\n",
    "colo829t['technology'] = 'Truseq'\n",
    "colo829t['sample'] = 'colo829t'\n",
    "colo829bl['technology'] = 'Truseq'\n",
    "colo829bl['sample'] = 'colo829bl'"
   ]
  },
  {
   "cell_type": "code",
   "execution_count": 7,
   "metadata": {},
   "outputs": [],
   "source": [
    "colo829bl[\"chromosome\"] = pd.Categorical(colo829bl[\"chromosome\"], chr_array)"
   ]
  },
  {
   "cell_type": "code",
   "execution_count": 8,
   "metadata": {},
   "outputs": [],
   "source": [
    "datasets = [colo829bl_10x, colo829t_10x, colo829bl, colo829t]\n",
    "datasets_excluded_chroms = []\n",
    "\n",
    "for ds in datasets:\n",
    "    ds = ds[ds['chromosome'] != 'chr5']\n",
    "    ds = ds[ds['chromosome'] != 'chr1']\n",
    "    ds = ds[ds['chromosome'] != 'chrX']\n",
    "    ds = ds[ds['chromosome'] != 'chr22']\n",
    "    ds = ds[ds['chromosome'] != 'chrY']\n",
    "    ds = ds[ds['chromosome'] != 'chr12']\n",
    "    ds = ds[ds['chromosome'] != 'chr18']\n",
    "    ds = ds[ds['chromosome'] != 'chr10']\n",
    "\n",
    "    datasets_excluded_chroms.append(ds)"
   ]
  },
  {
   "cell_type": "code",
   "execution_count": 9,
   "metadata": {},
   "outputs": [],
   "source": [
    "#dataset_curated = pd.concat(datasets_excluded_chroms, ignore_index=True)\n",
    "dataset_curated = pd.concat(datasets, ignore_index=True)\n",
    "dataset_curated.reset_index()\n",
    "\n",
    "dataset_curated[\"log\"] = dataset_curated[\"mmap_count\"].apply(np.log)\n",
    "\n",
    "dataset_curated[\"chromosome\"] = pd.Categorical(dataset_curated[\"chromosome\"], chr_array)\n",
    "dataset_curated = dataset_curated.sort_values(\"chromosome\")\n",
    "\n",
    "repl = lambda m: m.group(1)\n",
    "\n",
    "dataset_curated['chromosome'] = dataset_curated['chromosome'].str.replace(r\"chr(\\d+)\", repl)\n",
    "dataset_curated['chromosome'] = dataset_curated['chromosome'].str.replace(r\"chrX\", \"23\")\n",
    "dataset_curated['chromosome'] = dataset_curated['chromosome'].str.replace(r\"chrY\", \"24\")\n",
    "dataset_curated['chromosome'] = dataset_curated['chromosome'].str.replace(r\"chrM\", \"25\")"
   ]
  },
  {
   "cell_type": "code",
   "execution_count": 10,
   "metadata": {},
   "outputs": [
    {
     "data": {
      "application/vnd.vegalite.v2+json": {
       "$schema": "https://vega.github.io/schema/vega-lite/v2.6.0.json",
       "config": {
        "view": {
         "height": 300,
         "width": 400
        }
       },
       "data": {
        "values": [
         {
          "chromosome": "1",
          "log": 12.943222357336888,
          "mmap_count": 417994,
          "sample": "colo829bl_10x",
          "technology": "10X"
         },
         {
          "chromosome": "1",
          "log": 9.049584593096789,
          "mmap_count": 8515,
          "sample": "colo829bl",
          "technology": "Truseq"
         },
         {
          "chromosome": "1",
          "log": 12.823016198044265,
          "mmap_count": 370651,
          "sample": "colo829t_10x",
          "technology": "10X"
         },
         {
          "chromosome": "1",
          "log": 9.115699967822062,
          "mmap_count": 9097,
          "sample": "colo829t",
          "technology": "Truseq"
         },
         {
          "chromosome": "2",
          "log": 6.1675164908883415,
          "mmap_count": 477,
          "sample": "colo829bl",
          "technology": "Truseq"
         },
         {
          "chromosome": "2",
          "log": 6.226536669287466,
          "mmap_count": 506,
          "sample": "colo829t",
          "technology": "Truseq"
         },
         {
          "chromosome": "2",
          "log": 11.443328839832144,
          "mmap_count": 93277,
          "sample": "colo829bl_10x",
          "technology": "10X"
         },
         {
          "chromosome": "2",
          "log": 11.269324071753623,
          "mmap_count": 78380,
          "sample": "colo829t_10x",
          "technology": "10X"
         },
         {
          "chromosome": "3",
          "log": 7.5480289699350145,
          "mmap_count": 1897,
          "sample": "colo829bl",
          "technology": "Truseq"
         },
         {
          "chromosome": "3",
          "log": 11.424192607082258,
          "mmap_count": 91509,
          "sample": "colo829bl_10x",
          "technology": "10X"
         },
         {
          "chromosome": "3",
          "log": 7.4798641311650265,
          "mmap_count": 1772,
          "sample": "colo829t",
          "technology": "Truseq"
         },
         {
          "chromosome": "3",
          "log": 11.227281314544014,
          "mmap_count": 75153,
          "sample": "colo829t_10x",
          "technology": "10X"
         },
         {
          "chromosome": "4",
          "log": 5.8998973535824915,
          "mmap_count": 365,
          "sample": "colo829bl",
          "technology": "Truseq"
         },
         {
          "chromosome": "4",
          "log": 9.92725290608639,
          "mmap_count": 20481,
          "sample": "colo829t_10x",
          "technology": "10X"
         },
         {
          "chromosome": "4",
          "log": 10.200104589045488,
          "mmap_count": 26906,
          "sample": "colo829bl_10x",
          "technology": "10X"
         },
         {
          "chromosome": "4",
          "log": 5.777652323222656,
          "mmap_count": 323,
          "sample": "colo829t",
          "technology": "Truseq"
         },
         {
          "chromosome": "5",
          "log": 11.1660735453374,
          "mmap_count": 70691,
          "sample": "colo829bl",
          "technology": "Truseq"
         },
         {
          "chromosome": "5",
          "log": 13.271372863916714,
          "mmap_count": 580342,
          "sample": "colo829t_10x",
          "technology": "10X"
         },
         {
          "chromosome": "5",
          "log": 10.930782842453194,
          "mmap_count": 55870,
          "sample": "colo829t",
          "technology": "Truseq"
         },
         {
          "chromosome": "5",
          "log": 13.493288109142105,
          "mmap_count": 724537,
          "sample": "colo829bl_10x",
          "technology": "10X"
         },
         {
          "chromosome": "7",
          "log": 10.366277727263562,
          "mmap_count": 31770,
          "sample": "colo829bl_10x",
          "technology": "10X"
         },
         {
          "chromosome": "7",
          "log": 9.946547041996576,
          "mmap_count": 20880,
          "sample": "colo829t_10x",
          "technology": "10X"
         },
         {
          "chromosome": "7",
          "log": 6.154858094016418,
          "mmap_count": 471,
          "sample": "colo829bl",
          "technology": "Truseq"
         },
         {
          "chromosome": "7",
          "log": 5.6937321388027,
          "mmap_count": 297,
          "sample": "colo829t",
          "technology": "Truseq"
         },
         {
          "chromosome": "9",
          "log": 9.439863530254431,
          "mmap_count": 12580,
          "sample": "colo829bl_10x",
          "technology": "10X"
         },
         {
          "chromosome": "9",
          "log": 5.739792912179234,
          "mmap_count": 311,
          "sample": "colo829bl",
          "technology": "Truseq"
         },
         {
          "chromosome": "9",
          "log": 5.703782474656201,
          "mmap_count": 300,
          "sample": "colo829t",
          "technology": "Truseq"
         },
         {
          "chromosome": "9",
          "log": 9.360224821513475,
          "mmap_count": 11617,
          "sample": "colo829t_10x",
          "technology": "10X"
         },
         {
          "chromosome": "10",
          "log": 11.653721654935612,
          "mmap_count": 115119,
          "sample": "colo829t_10x",
          "technology": "10X"
         },
         {
          "chromosome": "10",
          "log": 7.652070746116482,
          "mmap_count": 2105,
          "sample": "colo829t",
          "technology": "Truseq"
         },
         {
          "chromosome": "10",
          "log": 11.8384378613551,
          "mmap_count": 138474,
          "sample": "colo829bl_10x",
          "technology": "10X"
         },
         {
          "chromosome": "10",
          "log": 7.877397186353287,
          "mmap_count": 2637,
          "sample": "colo829bl",
          "technology": "Truseq"
         },
         {
          "chromosome": "11",
          "log": 4.060443010546419,
          "mmap_count": 58,
          "sample": "colo829bl",
          "technology": "Truseq"
         },
         {
          "chromosome": "11",
          "log": 7.422971251049421,
          "mmap_count": 1674,
          "sample": "colo829t_10x",
          "technology": "10X"
         },
         {
          "chromosome": "11",
          "log": 3.9512437185814275,
          "mmap_count": 52,
          "sample": "colo829t",
          "technology": "Truseq"
         },
         {
          "chromosome": "11",
          "log": 8.08271113423758,
          "mmap_count": 3238,
          "sample": "colo829bl_10x",
          "technology": "10X"
         },
         {
          "chromosome": "12",
          "log": 12.081919991859861,
          "mmap_count": 176649,
          "sample": "colo829bl_10x",
          "technology": "10X"
         },
         {
          "chromosome": "12",
          "log": 8.252706676567644,
          "mmap_count": 3838,
          "sample": "colo829t",
          "technology": "Truseq"
         },
         {
          "chromosome": "12",
          "log": 8.660773919893762,
          "mmap_count": 5772,
          "sample": "colo829bl",
          "technology": "Truseq"
         },
         {
          "chromosome": "12",
          "log": 11.792940722360976,
          "mmap_count": 132315,
          "sample": "colo829t_10x",
          "technology": "10X"
         },
         {
          "chromosome": "13",
          "log": 9.301916315463393,
          "mmap_count": 10959,
          "sample": "colo829t_10x",
          "technology": "10X"
         },
         {
          "chromosome": "13",
          "log": 5.786897381366708,
          "mmap_count": 326,
          "sample": "colo829t",
          "technology": "Truseq"
         },
         {
          "chromosome": "13",
          "log": 9.557116483735667,
          "mmap_count": 14145,
          "sample": "colo829bl_10x",
          "technology": "10X"
         },
         {
          "chromosome": "13",
          "log": 5.849324779946859,
          "mmap_count": 347,
          "sample": "colo829bl",
          "technology": "Truseq"
         },
         {
          "chromosome": "15",
          "log": 6.431331081933479,
          "mmap_count": 621,
          "sample": "colo829t",
          "technology": "Truseq"
         },
         {
          "chromosome": "15",
          "log": 10.490079059076491,
          "mmap_count": 35957,
          "sample": "colo829bl_10x",
          "technology": "10X"
         },
         {
          "chromosome": "15",
          "log": 10.348878253516611,
          "mmap_count": 31222,
          "sample": "colo829t_10x",
          "technology": "10X"
         },
         {
          "chromosome": "15",
          "log": 6.665683717782408,
          "mmap_count": 785,
          "sample": "colo829bl",
          "technology": "Truseq"
         },
         {
          "chromosome": "16",
          "log": 4.02535169073515,
          "mmap_count": 56,
          "sample": "colo829bl",
          "technology": "Truseq"
         },
         {
          "chromosome": "16",
          "log": 6.878326468291325,
          "mmap_count": 971,
          "sample": "colo829bl_10x",
          "technology": "10X"
         },
         {
          "chromosome": "16",
          "log": 6.499787040655854,
          "mmap_count": 665,
          "sample": "colo829t_10x",
          "technology": "10X"
         },
         {
          "chromosome": "16",
          "log": 4.382026634673881,
          "mmap_count": 80,
          "sample": "colo829t",
          "technology": "Truseq"
         },
         {
          "chromosome": "17",
          "log": 6.222576268071369,
          "mmap_count": 504,
          "sample": "colo829bl",
          "technology": "Truseq"
         },
         {
          "chromosome": "17",
          "log": 9.44604470533525,
          "mmap_count": 12658,
          "sample": "colo829t_10x",
          "technology": "10X"
         },
         {
          "chromosome": "17",
          "log": 9.583075655461428,
          "mmap_count": 14517,
          "sample": "colo829bl_10x",
          "technology": "10X"
         },
         {
          "chromosome": "17",
          "log": 6.410174881966167,
          "mmap_count": 608,
          "sample": "colo829t",
          "technology": "Truseq"
         },
         {
          "chromosome": "18",
          "log": 7.646831391430482,
          "mmap_count": 2094,
          "sample": "colo829t",
          "technology": "Truseq"
         },
         {
          "chromosome": "18",
          "log": 7.731930721948486,
          "mmap_count": 2280,
          "sample": "colo829bl",
          "technology": "Truseq"
         },
         {
          "chromosome": "18",
          "log": 11.67348697998162,
          "mmap_count": 117417,
          "sample": "colo829t_10x",
          "technology": "10X"
         },
         {
          "chromosome": "18",
          "log": 11.903263398797709,
          "mmap_count": 147748,
          "sample": "colo829bl_10x",
          "technology": "10X"
         },
         {
          "chromosome": "19",
          "log": 5.225746673713202,
          "mmap_count": 186,
          "sample": "colo829bl",
          "technology": "Truseq"
         },
         {
          "chromosome": "19",
          "log": 9.528212115591021,
          "mmap_count": 13742,
          "sample": "colo829bl_10x",
          "technology": "10X"
         },
         {
          "chromosome": "19",
          "log": 5.472270673671475,
          "mmap_count": 238,
          "sample": "colo829t",
          "technology": "Truseq"
         },
         {
          "chromosome": "19",
          "log": 9.239704980606087,
          "mmap_count": 10298,
          "sample": "colo829t_10x",
          "technology": "10X"
         },
         {
          "chromosome": "21",
          "log": 5.176149732573829,
          "mmap_count": 177,
          "sample": "colo829t",
          "technology": "Truseq"
         },
         {
          "chromosome": "21",
          "log": 9.947600127154448,
          "mmap_count": 20902,
          "sample": "colo829t_10x",
          "technology": "10X"
         },
         {
          "chromosome": "21",
          "log": 5.10594547390058,
          "mmap_count": 165,
          "sample": "colo829bl",
          "technology": "Truseq"
         },
         {
          "chromosome": "21",
          "log": 10.067008479866365,
          "mmap_count": 23553,
          "sample": "colo829bl_10x",
          "technology": "10X"
         },
         {
          "chromosome": "22",
          "log": 7.587310506022615,
          "mmap_count": 1973,
          "sample": "colo829t",
          "technology": "Truseq"
         },
         {
          "chromosome": "22",
          "log": 12.695747153197509,
          "mmap_count": 326357,
          "sample": "colo829bl_10x",
          "technology": "10X"
         },
         {
          "chromosome": "22",
          "log": 7.7488913372555315,
          "mmap_count": 2319,
          "sample": "colo829bl",
          "technology": "Truseq"
         },
         {
          "chromosome": "22",
          "log": 12.51155902643894,
          "mmap_count": 271457,
          "sample": "colo829t_10x",
          "technology": "10X"
         },
         {
          "chromosome": "23",
          "log": 13.193649084999143,
          "mmap_count": 536944,
          "sample": "colo829t_10x",
          "technology": "10X"
         },
         {
          "chromosome": "23",
          "log": 8.544419177669829,
          "mmap_count": 5138,
          "sample": "colo829t",
          "technology": "Truseq"
         },
         {
          "chromosome": "23",
          "log": 8.555066843844319,
          "mmap_count": 5193,
          "sample": "colo829bl",
          "technology": "Truseq"
         },
         {
          "chromosome": "23",
          "log": 13.343416745807398,
          "mmap_count": 623695,
          "sample": "colo829bl_10x",
          "technology": "10X"
         },
         {
          "chromosome": "24",
          "log": 3.7612001156935624,
          "mmap_count": 43,
          "sample": "colo829t_10x",
          "technology": "10X"
         },
         {
          "chromosome": "24",
          "log": 3.6635616461296463,
          "mmap_count": 39,
          "sample": "colo829bl_10x",
          "technology": "10X"
         }
        ]
       },
       "encoding": {
        "color": {
         "field": "sample",
         "type": "nominal"
        },
        "column": {
         "field": "chromosome",
         "type": "quantitative"
        },
        "x": {
         "axis": {
          "title": ""
         },
         "field": "sample",
         "scale": {
          "rangeStep": 15
         },
         "type": "nominal"
        },
        "y": {
         "field": "log",
         "type": "quantitative"
        }
       },
       "mark": "bar"
      },
      "image/png": "[encoded data removed]",
      "text/plain": [
       "<VegaLite 2 object>\n",
       "\n",
       "If you see this message, it means the renderer has not been properly enabled\n",
       "for the frontend that you are using. For more information, see\n",
       "https://altair-viz.github.io/user_guide/troubleshooting.html\n"
      ]
     },
     "execution_count": 10,
     "metadata": {},
     "output_type": "execute_result"
    }
   ],
   "source": [
    "\n",
    "sample_chart = alt.Chart(dataset_curated).mark_bar().encode(\n",
    "        alt.X('sample:N', scale=alt.Scale(rangeStep=15), axis=alt.Axis(title='')),\n",
    "        alt.Y('mmap_count:Q', axis=alt.Axis(title='Mapped reads')),\n",
    "        color = alt.Color('sample:N'), #scale=alt.Scale(range[\"#EA98D2\", \"#659CCA\", \"#EA98D2\", \"#EA98D2\", \"#EA98D2\"])),\n",
    "        column = 'chromosome:N'\n",
    ")\n",
    "\n",
    "tech_chart = alt.Chart(dataset_curated).mark_bar().encode(\n",
    "        alt.X('technology:N', scale=alt.Scale(rangeStep=15), axis=alt.Axis(title='')),\n",
    "        alt.Y('mmap_count:Q', axis=alt.Axis(title='Mapped reads')),\n",
    "        color = alt.Color('technology:N'), #scale=alt.Scale(range[\"#EA98D2\", \"#659CCA\", \"#EA98D2\", \"#EA98D2\", \"#EA98D2\"])),\n",
    "        column = 'chromosome:N'\n",
    ")\n",
    "\n",
    "logplot = alt.Chart(dataset_curated).mark_bar().encode(\n",
    "        alt.X('sample:N', scale=alt.Scale(rangeStep=15), axis=alt.Axis(title='')),\n",
    "        y = 'log:Q',\n",
    "        color = alt.Color('sample:N'), #scale=alt.Scale(range[\"#EA98D2\", \"#659CCA\", \"#EA98D2\", \"#EA98D2\", \"#EA98D2\"])),\n",
    "        #column = 'chromosome:N'\n",
    "        column = alt.Column('chromosome:Q')\n",
    ")\n",
    "\n",
    "\n",
    "#sample_chart\n",
    "#| tech_chart | logplot\n",
    "#sample_chart | tech_chart | logplot\n",
    "logplot"
   ]
  },
  {
   "cell_type": "markdown",
   "metadata": {},
   "source": [
    "## Absolute mapped reads for the whole datasets (samtools idxstats)"
   ]
  },
  {
   "cell_type": "markdown",
   "metadata": {},
   "source": [
    "https://standage.github.io/an-idiots-guide-to-loading-reads-from-a-bam-file.html"
   ]
  },
  {
   "cell_type": "markdown",
   "metadata": {},
   "source": [
    "### 10X"
   ]
  },
  {
   "cell_type": "code",
   "execution_count": 11,
   "metadata": {},
   "outputs": [],
   "source": [
    "colo829bl_10x_baseline = pd.read_csv(\"../data/processed/colo829_baseline/COLO829BL-10X-baseline-idxstats-hg38.hist.csv\")\n",
    "colo829t_10x_baseline = pd.read_csv(\"../data/processed/colo829_baseline/COLO829T-10X-baseline-idxstats-hg38.hist.csv\")\n",
    "\n",
    "colo829bl_10x_baseline['technology'] = '10X'\n",
    "colo829bl_10x_baseline['sample'] = 'colo829bl_10x'\n",
    "colo829t_10x_baseline['technology'] = '10X'\n",
    "colo829t_10x_baseline['sample'] = 'colo829t_10x'"
   ]
  },
  {
   "cell_type": "markdown",
   "metadata": {},
   "source": [
    "### Truseq"
   ]
  },
  {
   "cell_type": "code",
   "execution_count": 12,
   "metadata": {},
   "outputs": [],
   "source": [
    "colo829bl_baseline = pd.read_csv(\"../data/processed/colo829_baseline/COLO829BL-baseline-idxstats-hg38.hist.csv\")\n",
    "colo829t_baseline = pd.read_csv(\"../data/processed/colo829_baseline/COLO829T-baseline-idxstats-hg38.hist.csv\")\n",
    "\n",
    "colo829t_baseline['technology'] = 'Truseq'\n",
    "colo829t_baseline['sample'] = 'colo829t'\n",
    "colo829bl_baseline['technology'] = 'Truseq'\n",
    "colo829bl_baseline['sample'] = 'colo829bl'"
   ]
  },
  {
   "cell_type": "code",
   "execution_count": 13,
   "metadata": {},
   "outputs": [
    {
     "data": {
      "application/vnd.vegalite.v2+json": {
       "$schema": "https://vega.github.io/schema/vega-lite/v2.6.0.json",
       "config": {
        "view": {
         "height": 300,
         "width": 400
        }
       },
       "data": {
        "values": [
         {
          "chromosome": "1",
          "log": 18.681954691163043,
          "mapped": 129858336,
          "sample": "colo829bl_10x",
          "technology": "10X"
         },
         {
          "chromosome": "2",
          "log": 18.44130806051062,
          "mapped": 102084153,
          "sample": "colo829bl_10x",
          "technology": "10X"
         },
         {
          "chromosome": "3",
          "log": 18.481199553112017,
          "mapped": 106238758,
          "sample": "colo829bl_10x",
          "technology": "10X"
         },
         {
          "chromosome": "4",
          "log": 18.305163085390568,
          "mapped": 89090484,
          "sample": "colo829bl_10x",
          "technology": "10X"
         },
         {
          "chromosome": "5",
          "log": 17.81769670169353,
          "mapped": 54717640,
          "sample": "colo829bl_10x",
          "technology": "10X"
         },
         {
          "chromosome": "6",
          "log": 18.061521803160627,
          "mapped": 69826336,
          "sample": "colo829bl_10x",
          "technology": "10X"
         },
         {
          "chromosome": "7",
          "log": 18.236641048002294,
          "mapped": 83190278,
          "sample": "colo829bl_10x",
          "technology": "10X"
         },
         {
          "chromosome": "8",
          "log": 17.997519997487043,
          "mapped": 65497334,
          "sample": "colo829bl_10x",
          "technology": "10X"
         },
         {
          "chromosome": "9",
          "log": 17.858267221003583,
          "mapped": 56983210,
          "sample": "colo829bl_10x",
          "technology": "10X"
         },
         {
          "chromosome": "10",
          "log": 17.658017233496448,
          "mapped": 46642245,
          "sample": "colo829bl_10x",
          "technology": "10X"
         },
         {
          "chromosome": "11",
          "log": 17.85884945109737,
          "mapped": 57016397,
          "sample": "colo829bl_10x",
          "technology": "10X"
         },
         {
          "chromosome": "12",
          "log": 17.827764398707963,
          "mapped": 55271303,
          "sample": "colo829bl_10x",
          "technology": "10X"
         },
         {
          "chromosome": "13",
          "log": 17.70322066570122,
          "mapped": 48799014,
          "sample": "colo829bl_10x",
          "technology": "10X"
         },
         {
          "chromosome": "14",
          "log": 17.35767373678769,
          "mapped": 34541558,
          "sample": "colo829bl_10x",
          "technology": "10X"
         },
         {
          "chromosome": "15",
          "log": 17.16442545439651,
          "mapped": 28471822,
          "sample": "colo829bl_10x",
          "technology": "10X"
         },
         {
          "chromosome": "16",
          "log": 17.74726518816798,
          "mapped": 50996379,
          "sample": "colo829bl_10x",
          "technology": "10X"
         },
         {
          "chromosome": "17",
          "log": 17.44689831035108,
          "mapped": 37765189,
          "sample": "colo829bl_10x",
          "technology": "10X"
         },
         {
          "chromosome": "18",
          "log": 17.34532232606474,
          "mapped": 34117545,
          "sample": "colo829bl_10x",
          "technology": "10X"
         },
         {
          "chromosome": "19",
          "log": 17.02506826369136,
          "mapped": 24768129,
          "sample": "colo829bl_10x",
          "technology": "10X"
         },
         {
          "chromosome": "20",
          "log": 17.548116783645696,
          "mapped": 41787875,
          "sample": "colo829bl_10x",
          "technology": "10X"
         },
         {
          "chromosome": "21",
          "log": 17.382238394924887,
          "mapped": 35400567,
          "sample": "colo829bl_10x",
          "technology": "10X"
         },
         {
          "chromosome": "22",
          "log": 16.928531522784372,
          "mapped": 22488880,
          "sample": "colo829bl_10x",
          "technology": "10X"
         },
         {
          "chromosome": "23",
          "log": 17.54100936385378,
          "mapped": 41491924,
          "sample": "colo829bl_10x",
          "technology": "10X"
         },
         {
          "chromosome": "24",
          "log": 16.01470874201245,
          "mapped": 9017780,
          "sample": "colo829bl_10x",
          "technology": "10X"
         },
         {
          "chromosome": "25",
          "log": 13.811996390504417,
          "mapped": 996492,
          "sample": "colo829bl_10x",
          "technology": "10X"
         },
         {
          "chromosome": "1",
          "log": 18.887787976437775,
          "mapped": 159537247,
          "sample": "colo829t_10x",
          "technology": "10X"
         },
         {
          "chromosome": "2",
          "log": 18.618387571494136,
          "mapped": 121860508,
          "sample": "colo829t_10x",
          "technology": "10X"
         },
         {
          "chromosome": "3",
          "log": 18.741892450176938,
          "mapped": 137879745,
          "sample": "colo829t_10x",
          "technology": "10X"
         },
         {
          "chromosome": "4",
          "log": 18.522037930972726,
          "mapped": 110667186,
          "sample": "colo829t_10x",
          "technology": "10X"
         },
         {
          "chromosome": "5",
          "log": 17.932398937965022,
          "mapped": 61367991,
          "sample": "colo829t_10x",
          "technology": "10X"
         },
         {
          "chromosome": "6",
          "log": 18.297358816919537,
          "mapped": 88397904,
          "sample": "colo829t_10x",
          "technology": "10X"
         },
         {
          "chromosome": "7",
          "log": 18.49384300477635,
          "mapped": 107590510,
          "sample": "colo829t_10x",
          "technology": "10X"
         },
         {
          "chromosome": "8",
          "log": 18.237593974457837,
          "mapped": 83269590,
          "sample": "colo829t_10x",
          "technology": "10X"
         },
         {
          "chromosome": "9",
          "log": 18.06996699672181,
          "mapped": 70418530,
          "sample": "colo829t_10x",
          "technology": "10X"
         },
         {
          "chromosome": "10",
          "log": 17.776222141449775,
          "mapped": 52494667,
          "sample": "colo829t_10x",
          "technology": "10X"
         },
         {
          "chromosome": "11",
          "log": 18.06900071889618,
          "mapped": 70350519,
          "sample": "colo829t_10x",
          "technology": "10X"
         },
         {
          "chromosome": "12",
          "log": 18.02783920229823,
          "mapped": 67513572,
          "sample": "colo829t_10x",
          "technology": "10X"
         },
         {
          "chromosome": "13",
          "log": 17.941723954513503,
          "mapped": 61942925,
          "sample": "colo829t_10x",
          "technology": "10X"
         },
         {
          "chromosome": "14",
          "log": 17.560452951104672,
          "mapped": 42306570,
          "sample": "colo829t_10x",
          "technology": "10X"
         },
         {
          "chromosome": "15",
          "log": 17.339078215567366,
          "mapped": 33905175,
          "sample": "colo829t_10x",
          "technology": "10X"
         },
         {
          "chromosome": "16",
          "log": 17.873529996099162,
          "mapped": 57859603,
          "sample": "colo829t_10x",
          "technology": "10X"
         },
         {
          "chromosome": "17",
          "log": 17.640069698591073,
          "mapped": 45812599,
          "sample": "colo829t_10x",
          "technology": "10X"
         },
         {
          "chromosome": "18",
          "log": 17.542949088128697,
          "mapped": 41572485,
          "sample": "colo829t_10x",
          "technology": "10X"
         },
         {
          "chromosome": "19",
          "log": 17.177682836673558,
          "mapped": 28851797,
          "sample": "colo829t_10x",
          "technology": "10X"
         },
         {
          "chromosome": "20",
          "log": 17.773726032662587,
          "mapped": 52363798,
          "sample": "colo829t_10x",
          "technology": "10X"
         },
         {
          "chromosome": "21",
          "log": 17.4751511164111,
          "mapped": 38847377,
          "sample": "colo829t_10x",
          "technology": "10X"
         },
         {
          "chromosome": "22",
          "log": 17.13477701706332,
          "mapped": 27640068,
          "sample": "colo829t_10x",
          "technology": "10X"
         },
         {
          "chromosome": "23",
          "log": 17.794423542683983,
          "mapped": 53458892,
          "sample": "colo829t_10x",
          "technology": "10X"
         },
         {
          "chromosome": "24",
          "log": 15.304253198294939,
          "mapped": 4431520,
          "sample": "colo829t_10x",
          "technology": "10X"
         },
         {
          "chromosome": "25",
          "log": 14.06551179104834,
          "mapped": 1284027,
          "sample": "colo829t_10x",
          "technology": "10X"
         },
         {
          "chromosome": "1",
          "log": 19.017608864801748,
          "mapped": 181653006,
          "sample": "colo829bl",
          "technology": "Truseq"
         },
         {
          "chromosome": "2",
          "log": 18.98280227560249,
          "mapped": 175439055,
          "sample": "colo829bl",
          "technology": "Truseq"
         },
         {
          "chromosome": "3",
          "log": 18.825679830155856,
          "mapped": 149930113,
          "sample": "colo829bl",
          "technology": "Truseq"
         },
         {
          "chromosome": "4",
          "log": 18.76477806416458,
          "mapped": 141071592,
          "sample": "colo829bl",
          "technology": "Truseq"
         },
         {
          "chromosome": "5",
          "log": 18.70040012565996,
          "mapped": 132275857,
          "sample": "colo829bl",
          "technology": "Truseq"
         },
         {
          "chromosome": "6",
          "log": 18.63414164130475,
          "mapped": 123795509,
          "sample": "colo829bl",
          "technology": "Truseq"
         },
         {
          "chromosome": "7",
          "log": 18.540402751919718,
          "mapped": 112718346,
          "sample": "colo829bl",
          "technology": "Truseq"
         },
         {
          "chromosome": "8",
          "log": 18.46074191151718,
          "mapped": 104087444,
          "sample": "colo829bl",
          "technology": "Truseq"
         },
         {
          "chromosome": "9",
          "log": 18.292380956869465,
          "mapped": 87958965,
          "sample": "colo829bl",
          "technology": "Truseq"
         },
         {
          "chromosome": "10",
          "log": 18.401882346049018,
          "mapped": 98137719,
          "sample": "colo829bl",
          "technology": "Truseq"
         },
         {
          "chromosome": "11",
          "log": 18.38007994371685,
          "mapped": 96021237,
          "sample": "colo829bl",
          "technology": "Truseq"
         },
         {
          "chromosome": "12",
          "log": 18.38156689388902,
          "mapped": 96164122,
          "sample": "colo829bl",
          "technology": "Truseq"
         },
         {
          "chromosome": "13",
          "log": 18.12053968633718,
          "mapped": 74071373,
          "sample": "colo829bl",
          "technology": "Truseq"
         },
         {
          "chromosome": "14",
          "log": 17.991941737652468,
          "mapped": 65132990,
          "sample": "colo829bl",
          "technology": "Truseq"
         },
         {
          "chromosome": "15",
          "log": 17.91127378007906,
          "mapped": 60085180,
          "sample": "colo829bl",
          "technology": "Truseq"
         },
         {
          "chromosome": "16",
          "log": 17.994608530442267,
          "mapped": 65306918,
          "sample": "colo829bl",
          "technology": "Truseq"
         },
         {
          "chromosome": "17",
          "log": 17.886795904959254,
          "mapped": 58632277,
          "sample": "colo829bl",
          "technology": "Truseq"
         },
         {
          "chromosome": "18",
          "log": 17.87028804972499,
          "mapped": 57672329,
          "sample": "colo829bl",
          "technology": "Truseq"
         },
         {
          "chromosome": "19",
          "log": 17.436627205180095,
          "mapped": 37379284,
          "sample": "colo829bl",
          "technology": "Truseq"
         },
         {
          "chromosome": "20",
          "log": 17.68365661558392,
          "mapped": 47853586,
          "sample": "colo829bl",
          "technology": "Truseq"
         },
         {
          "chromosome": "21",
          "log": 17.297819060958158,
          "mapped": 32534742,
          "sample": "colo829bl",
          "technology": "Truseq"
         },
         {
          "chromosome": "22",
          "log": 17.106019366155135,
          "mapped": 26856525,
          "sample": "colo829bl",
          "technology": "Truseq"
         },
         {
          "chromosome": "23",
          "log": 17.83508478769483,
          "mapped": 55677395,
          "sample": "colo829bl",
          "technology": "Truseq"
         },
         {
          "chromosome": "24",
          "log": 16.65238859060371,
          "mapped": 17062414,
          "sample": "colo829bl",
          "technology": "Truseq"
         },
         {
          "chromosome": "25",
          "log": 14.048111645460974,
          "mapped": 1261878,
          "sample": "colo829bl",
          "technology": "Truseq"
         },
         {
          "chromosome": "1",
          "log": 18.998312819530863,
          "mapped": 178181423,
          "sample": "colo829t",
          "technology": "Truseq"
         },
         {
          "chromosome": "2",
          "log": 18.98675336162524,
          "mapped": 176133601,
          "sample": "colo829t",
          "technology": "Truseq"
         },
         {
          "chromosome": "3",
          "log": 19.060473233221135,
          "mapped": 189608738,
          "sample": "colo829t",
          "technology": "Truseq"
         },
         {
          "chromosome": "4",
          "log": 18.911884369307796,
          "mapped": 163428210,
          "sample": "colo829t",
          "technology": "Truseq"
         },
         {
          "chromosome": "5",
          "log": 18.32746493741642,
          "mapped": 91099688,
          "sample": "colo829t",
          "technology": "Truseq"
         },
         {
          "chromosome": "6",
          "log": 18.455316027381055,
          "mapped": 103524207,
          "sample": "colo829t",
          "technology": "Truseq"
         },
         {
          "chromosome": "7",
          "log": 18.864158059623986,
          "mapped": 155811587,
          "sample": "colo829t",
          "technology": "Truseq"
         },
         {
          "chromosome": "8",
          "log": 18.475124022925133,
          "mapped": 105595258,
          "sample": "colo829t",
          "technology": "Truseq"
         },
         {
          "chromosome": "9",
          "log": 18.32722177859274,
          "mapped": 91077539,
          "sample": "colo829t",
          "technology": "Truseq"
         },
         {
          "chromosome": "10",
          "log": 18.035316733299613,
          "mapped": 68020299,
          "sample": "colo829t",
          "technology": "Truseq"
         },
         {
          "chromosome": "11",
          "log": 18.194805615275342,
          "mapped": 79781772,
          "sample": "colo829t",
          "technology": "Truseq"
         },
         {
          "chromosome": "12",
          "log": 18.37371028211991,
          "mapped": 95411558,
          "sample": "colo829t",
          "technology": "Truseq"
         },
         {
          "chromosome": "13",
          "log": 18.118404587362434,
          "mapped": 73913392,
          "sample": "colo829t",
          "technology": "Truseq"
         },
         {
          "chromosome": "14",
          "log": 17.971048270555897,
          "mapped": 63786254,
          "sample": "colo829t",
          "technology": "Truseq"
         },
         {
          "chromosome": "15",
          "log": 17.730414310054474,
          "mapped": 50144245,
          "sample": "colo829t",
          "technology": "Truseq"
         },
         {
          "chromosome": "16",
          "log": 17.852422810016723,
          "mapped": 56651148,
          "sample": "colo829t",
          "technology": "Truseq"
         },
         {
          "chromosome": "17",
          "log": 17.891155211672295,
          "mapped": 58888431,
          "sample": "colo829t",
          "technology": "Truseq"
         },
         {
          "chromosome": "18",
          "log": 17.480321756411485,
          "mapped": 39048763,
          "sample": "colo829t",
          "technology": "Truseq"
         },
         {
          "chromosome": "19",
          "log": 17.40355374654894,
          "mapped": 36163242,
          "sample": "colo829t",
          "technology": "Truseq"
         },
         {
          "chromosome": "20",
          "log": 17.961612686782903,
          "mapped": 63187224,
          "sample": "colo829t",
          "technology": "Truseq"
         },
         {
          "chromosome": "21",
          "log": 17.340740502539134,
          "mapped": 33961582,
          "sample": "colo829t",
          "technology": "Truseq"
         },
         {
          "chromosome": "22",
          "log": 17.369487279596857,
          "mapped": 34952036,
          "sample": "colo829t",
          "technology": "Truseq"
         },
         {
          "chromosome": "23",
          "log": 18.123540416225037,
          "mapped": 74293975,
          "sample": "colo829t",
          "technology": "Truseq"
         },
         {
          "chromosome": "24",
          "log": 15.171288493467685,
          "mapped": 3879778,
          "sample": "colo829t",
          "technology": "Truseq"
         },
         {
          "chromosome": "25",
          "log": 13.851513599961567,
          "mapped": 1036659,
          "sample": "colo829t",
          "technology": "Truseq"
         }
        ]
       },
       "encoding": {
        "color": {
         "field": "technology",
         "type": "nominal"
        },
        "column": {
         "field": "chromosome",
         "type": "quantitative"
        },
        "x": {
         "axis": {
          "title": ""
         },
         "field": "technology",
         "scale": {
          "rangeStep": 15
         },
         "type": "nominal"
        },
        "y": {
         "field": "log",
         "type": "quantitative"
        }
       },
       "mark": "bar"
      },
      "image/png": "[encoded data removed]",
      "text/plain": [
       "<VegaLite 2 object>\n",
       "\n",
       "If you see this message, it means the renderer has not been properly enabled\n",
       "for the frontend that you are using. For more information, see\n",
       "https://altair-viz.github.io/user_guide/troubleshooting.html\n"
      ]
     },
     "execution_count": 13,
     "metadata": {},
     "output_type": "execute_result"
    }
   ],
   "source": [
    "datasets_baseline = [colo829bl_10x_baseline, colo829t_10x_baseline, colo829bl_baseline, colo829t_baseline]\n",
    "baseline_dataset = pd.concat(datasets_baseline, ignore_index=True)\n",
    "baseline_dataset[\"log\"] = baseline_dataset[\"mapped\"].apply(np.log)\n",
    "\n",
    "repl = lambda m: m.group(1)\n",
    "\n",
    "baseline_dataset['chromosome'] = baseline_dataset['chromosome'].str.replace(r\"chr(\\d+)\", repl)\n",
    "baseline_dataset['chromosome'] = baseline_dataset['chromosome'].str.replace(r\"chrX\", \"23\")\n",
    "baseline_dataset['chromosome'] = baseline_dataset['chromosome'].str.replace(r\"chrY\", \"24\")\n",
    "baseline_dataset['chromosome'] = baseline_dataset['chromosome'].str.replace(r\"chrM\", \"25\")\n",
    "\n",
    "\n",
    "sample_chart = alt.Chart(baseline_dataset).mark_bar().encode(\n",
    "        alt.X('sample:N', scale=alt.Scale(rangeStep=15), axis=alt.Axis(title='')),\n",
    "        alt.Y('mapped:Q', axis=alt.Axis(title='Mapped reads')),\n",
    "        color = alt.Color('sample:N'), #scale=alt.Scale(range[\"#EA98D2\", \"#659CCA\", \"#EA98D2\", \"#EA98D2\", \"#EA98D2\"])),\n",
    "        column = 'chromosome:N'\n",
    ")\n",
    "\n",
    "tech_chart = alt.Chart(baseline_dataset).mark_bar().encode(\n",
    "        alt.X('technology:N', scale=alt.Scale(rangeStep=15), axis=alt.Axis(title='')),\n",
    "        alt.Y('mapped:Q', axis=alt.Axis(title='Mapped reads')),\n",
    "        color = alt.Color('technology:N'), #scale=alt.Scale(range[\"#EA98D2\", \"#659CCA\", \"#EA98D2\", \"#EA98D2\", \"#EA98D2\"])),\n",
    "        column = 'chromosome:N'\n",
    ")\n",
    "\n",
    "\n",
    "logplot = alt.Chart(baseline_dataset).mark_bar().encode(\n",
    "        alt.X('technology:N', scale=alt.Scale(rangeStep=15), axis=alt.Axis(title='')),\n",
    "        y = 'log:Q',\n",
    "        color = alt.Color('technology:N'), #scale=alt.Scale(range[\"#EA98D2\", \"#659CCA\", \"#EA98D2\", \"#EA98D2\", \"#EA98D2\"])),\n",
    "        #column = 'chromosome:N'\n",
    "        column = alt.Column('chromosome:Q')\n",
    ")\n",
    "\n",
    "\n",
    "#sample_chart | tech_chart | logplot\n",
    "#sample_chart & tech_chart | logplot\n",
    "#sample_chart\n",
    "#logplot.properties(width=200, height=200)\n",
    "logplot"
   ]
  },
  {
   "cell_type": "markdown",
   "metadata": {},
   "source": [
    "## Absolute mapped reads for the telomeric curated coordinates"
   ]
  },
  {
   "cell_type": "code",
   "execution_count": 14,
   "metadata": {},
   "outputs": [
    {
     "data": {
      "application/vnd.vegalite.v2+json": {
       "$schema": "https://vega.github.io/schema/vega-lite/v2.6.0.json",
       "config": {
        "view": {
         "height": 300,
         "width": 400
        }
       },
       "data": {
        "values": [
         {
          "chromosome": "1",
          "log": 12.937329345172804,
          "mapped": 415538,
          "sample": "colo829bl_10x",
          "technology": "10X",
          "unmapped": 2456
         },
         {
          "chromosome": "2",
          "log": 11.438417412795166,
          "mapped": 92820,
          "sample": "colo829bl_10x",
          "technology": "10X",
          "unmapped": 457
         },
         {
          "chromosome": "3",
          "log": 11.4132487657807,
          "mapped": 90513,
          "sample": "colo829bl_10x",
          "technology": "10X",
          "unmapped": 996
         },
         {
          "chromosome": "4",
          "log": 10.183729515890214,
          "mapped": 26469,
          "sample": "colo829bl_10x",
          "technology": "10X",
          "unmapped": 437
         },
         {
          "chromosome": "5",
          "log": 13.490007538895435,
          "mapped": 722164,
          "sample": "colo829bl_10x",
          "technology": "10X",
          "unmapped": 2373
         },
         {
          "chromosome": "6",
          "log": null,
          "mapped": 0,
          "sample": "colo829bl_10x",
          "technology": "10X",
          "unmapped": 0
         },
         {
          "chromosome": "7",
          "log": 10.34154891634728,
          "mapped": 30994,
          "sample": "colo829bl_10x",
          "technology": "10X",
          "unmapped": 776
         },
         {
          "chromosome": "8",
          "log": null,
          "mapped": 0,
          "sample": "colo829bl_10x",
          "technology": "10X",
          "unmapped": 0
         },
         {
          "chromosome": "9",
          "log": 9.427948631791715,
          "mapped": 12431,
          "sample": "colo829bl_10x",
          "technology": "10X",
          "unmapped": 149
         },
         {
          "chromosome": "10",
          "log": 11.831684603992475,
          "mapped": 137542,
          "sample": "colo829bl_10x",
          "technology": "10X",
          "unmapped": 932
         },
         {
          "chromosome": "11",
          "log": 8.065265208897733,
          "mapped": 3182,
          "sample": "colo829bl_10x",
          "technology": "10X",
          "unmapped": 56
         },
         {
          "chromosome": "12",
          "log": 12.073911741927835,
          "mapped": 175240,
          "sample": "colo829bl_10x",
          "technology": "10X",
          "unmapped": 1409
         },
         {
          "chromosome": "13",
          "log": 9.536545799098715,
          "mapped": 13857,
          "sample": "colo829bl_10x",
          "technology": "10X",
          "unmapped": 288
         },
         {
          "chromosome": "14",
          "log": null,
          "mapped": 0,
          "sample": "colo829bl_10x",
          "technology": "10X",
          "unmapped": 0
         },
         {
          "chromosome": "15",
          "log": 10.477851197106107,
          "mapped": 35520,
          "sample": "colo829bl_10x",
          "technology": "10X",
          "unmapped": 437
         },
         {
          "chromosome": "16",
          "log": 6.851184927493743,
          "mapped": 945,
          "sample": "colo829bl_10x",
          "technology": "10X",
          "unmapped": 26
         },
         {
          "chromosome": "17",
          "log": 9.565424050523422,
          "mapped": 14263,
          "sample": "colo829bl_10x",
          "technology": "10X",
          "unmapped": 254
         },
         {
          "chromosome": "18",
          "log": 11.893195834443837,
          "mapped": 146268,
          "sample": "colo829bl_10x",
          "technology": "10X",
          "unmapped": 1480
         },
         {
          "chromosome": "19",
          "log": 9.507031738585551,
          "mapped": 13454,
          "sample": "colo829bl_10x",
          "technology": "10X",
          "unmapped": 288
         },
         {
          "chromosome": "20",
          "log": null,
          "mapped": 0,
          "sample": "colo829bl_10x",
          "technology": "10X",
          "unmapped": 0
         },
         {
          "chromosome": "21",
          "log": 10.058994455134526,
          "mapped": 23365,
          "sample": "colo829bl_10x",
          "technology": "10X",
          "unmapped": 188
         },
         {
          "chromosome": "22",
          "log": 12.689180661016266,
          "mapped": 324221,
          "sample": "colo829bl_10x",
          "technology": "10X",
          "unmapped": 2136
         },
         {
          "chromosome": "23",
          "log": 13.3396256679594,
          "mapped": 621335,
          "sample": "colo829bl_10x",
          "technology": "10X",
          "unmapped": 2360
         },
         {
          "chromosome": "24",
          "log": 3.6635616461296463,
          "mapped": 39,
          "sample": "colo829bl_10x",
          "technology": "10X",
          "unmapped": 0
         },
         {
          "chromosome": "25",
          "log": null,
          "mapped": 0,
          "sample": "colo829bl_10x",
          "technology": "10X",
          "unmapped": 0
         },
         {
          "chromosome": "1",
          "log": 12.823016198044265,
          "mapped": 370651,
          "sample": "colo829t_10x",
          "technology": "10X",
          "unmapped": 0
         },
         {
          "chromosome": "2",
          "log": 11.269324071753623,
          "mapped": 78380,
          "sample": "colo829t_10x",
          "technology": "10X",
          "unmapped": 0
         },
         {
          "chromosome": "3",
          "log": 11.227281314544014,
          "mapped": 75153,
          "sample": "colo829t_10x",
          "technology": "10X",
          "unmapped": 0
         },
         {
          "chromosome": "4",
          "log": 9.92725290608639,
          "mapped": 20481,
          "sample": "colo829t_10x",
          "technology": "10X",
          "unmapped": 0
         },
         {
          "chromosome": "5",
          "log": 13.271372863916714,
          "mapped": 580342,
          "sample": "colo829t_10x",
          "technology": "10X",
          "unmapped": 0
         },
         {
          "chromosome": "6",
          "log": null,
          "mapped": 0,
          "sample": "colo829t_10x",
          "technology": "10X",
          "unmapped": 0
         },
         {
          "chromosome": "7",
          "log": 9.946547041996576,
          "mapped": 20880,
          "sample": "colo829t_10x",
          "technology": "10X",
          "unmapped": 0
         },
         {
          "chromosome": "8",
          "log": null,
          "mapped": 0,
          "sample": "colo829t_10x",
          "technology": "10X",
          "unmapped": 0
         },
         {
          "chromosome": "9",
          "log": 9.360224821513475,
          "mapped": 11617,
          "sample": "colo829t_10x",
          "technology": "10X",
          "unmapped": 0
         },
         {
          "chromosome": "10",
          "log": 11.653721654935612,
          "mapped": 115119,
          "sample": "colo829t_10x",
          "technology": "10X",
          "unmapped": 0
         },
         {
          "chromosome": "11",
          "log": 7.422971251049421,
          "mapped": 1674,
          "sample": "colo829t_10x",
          "technology": "10X",
          "unmapped": 0
         },
         {
          "chromosome": "12",
          "log": 11.792940722360976,
          "mapped": 132315,
          "sample": "colo829t_10x",
          "technology": "10X",
          "unmapped": 0
         },
         {
          "chromosome": "13",
          "log": 9.301916315463393,
          "mapped": 10959,
          "sample": "colo829t_10x",
          "technology": "10X",
          "unmapped": 0
         },
         {
          "chromosome": "14",
          "log": null,
          "mapped": 0,
          "sample": "colo829t_10x",
          "technology": "10X",
          "unmapped": 0
         },
         {
          "chromosome": "15",
          "log": 10.348878253516611,
          "mapped": 31222,
          "sample": "colo829t_10x",
          "technology": "10X",
          "unmapped": 0
         },
         {
          "chromosome": "16",
          "log": 6.499787040655854,
          "mapped": 665,
          "sample": "colo829t_10x",
          "technology": "10X",
          "unmapped": 0
         },
         {
          "chromosome": "17",
          "log": 9.44604470533525,
          "mapped": 12658,
          "sample": "colo829t_10x",
          "technology": "10X",
          "unmapped": 0
         },
         {
          "chromosome": "18",
          "log": 11.67348697998162,
          "mapped": 117417,
          "sample": "colo829t_10x",
          "technology": "10X",
          "unmapped": 0
         },
         {
          "chromosome": "19",
          "log": 9.239704980606087,
          "mapped": 10298,
          "sample": "colo829t_10x",
          "technology": "10X",
          "unmapped": 0
         },
         {
          "chromosome": "20",
          "log": null,
          "mapped": 0,
          "sample": "colo829t_10x",
          "technology": "10X",
          "unmapped": 0
         },
         {
          "chromosome": "21",
          "log": 9.947600127154448,
          "mapped": 20902,
          "sample": "colo829t_10x",
          "technology": "10X",
          "unmapped": 0
         },
         {
          "chromosome": "22",
          "log": 12.51155902643894,
          "mapped": 271457,
          "sample": "colo829t_10x",
          "technology": "10X",
          "unmapped": 0
         },
         {
          "chromosome": "23",
          "log": 13.193649084999143,
          "mapped": 536944,
          "sample": "colo829t_10x",
          "technology": "10X",
          "unmapped": 0
         },
         {
          "chromosome": "24",
          "log": 3.7612001156935624,
          "mapped": 43,
          "sample": "colo829t_10x",
          "technology": "10X",
          "unmapped": 0
         },
         {
          "chromosome": "25",
          "log": null,
          "mapped": 0,
          "sample": "colo829t_10x",
          "technology": "10X",
          "unmapped": 0
         },
         {
          "chromosome": "1",
          "log": 9.048291920021784,
          "mapped": 8504,
          "sample": "colo829bl",
          "technology": "Truseq",
          "unmapped": 11
         },
         {
          "chromosome": "2",
          "log": 6.163314804034641,
          "mapped": 475,
          "sample": "colo829bl",
          "technology": "Truseq",
          "unmapped": 2
         },
         {
          "chromosome": "3",
          "log": 7.545389749611823,
          "mapped": 1892,
          "sample": "colo829bl",
          "technology": "Truseq",
          "unmapped": 5
         },
         {
          "chromosome": "4",
          "log": 5.8944028342648505,
          "mapped": 363,
          "sample": "colo829bl",
          "technology": "Truseq",
          "unmapped": 2
         },
         {
          "chromosome": "5",
          "log": 11.165917926433632,
          "mapped": 70680,
          "sample": "colo829bl",
          "technology": "Truseq",
          "unmapped": 11
         },
         {
          "chromosome": "6",
          "log": null,
          "mapped": 0,
          "sample": "colo829bl",
          "technology": "Truseq",
          "unmapped": 0
         },
         {
          "chromosome": "7",
          "log": 6.150602768446279,
          "mapped": 469,
          "sample": "colo829bl",
          "technology": "Truseq",
          "unmapped": 2
         },
         {
          "chromosome": "8",
          "log": null,
          "mapped": 0,
          "sample": "colo829bl",
          "technology": "Truseq",
          "unmapped": 0
         },
         {
          "chromosome": "9",
          "log": 5.733341276897746,
          "mapped": 309,
          "sample": "colo829bl",
          "technology": "Truseq",
          "unmapped": 2
         },
         {
          "chromosome": "10",
          "log": 7.873217054862741,
          "mapped": 2626,
          "sample": "colo829bl",
          "technology": "Truseq",
          "unmapped": 11
         },
         {
          "chromosome": "11",
          "log": 4.060443010546419,
          "mapped": 58,
          "sample": "colo829bl",
          "technology": "Truseq",
          "unmapped": 0
         },
         {
          "chromosome": "12",
          "log": 8.660080678964786,
          "mapped": 5768,
          "sample": "colo829bl",
          "technology": "Truseq",
          "unmapped": 4
         },
         {
          "chromosome": "13",
          "log": 5.849324779946859,
          "mapped": 347,
          "sample": "colo829bl",
          "technology": "Truseq",
          "unmapped": 0
         },
         {
          "chromosome": "14",
          "log": null,
          "mapped": 0,
          "sample": "colo829bl",
          "technology": "Truseq",
          "unmapped": 0
         },
         {
          "chromosome": "15",
          "log": 6.660575149839686,
          "mapped": 781,
          "sample": "colo829bl",
          "technology": "Truseq",
          "unmapped": 4
         },
         {
          "chromosome": "16",
          "log": 4.02535169073515,
          "mapped": 56,
          "sample": "colo829bl",
          "technology": "Truseq",
          "unmapped": 0
         },
         {
          "chromosome": "17",
          "log": 6.212606095751519,
          "mapped": 499,
          "sample": "colo829bl",
          "technology": "Truseq",
          "unmapped": 5
         },
         {
          "chromosome": "18",
          "log": 7.727094484779841,
          "mapped": 2269,
          "sample": "colo829bl",
          "technology": "Truseq",
          "unmapped": 11
         },
         {
          "chromosome": "19",
          "log": 5.220355825078324,
          "mapped": 185,
          "sample": "colo829bl",
          "technology": "Truseq",
          "unmapped": 1
         },
         {
          "chromosome": "20",
          "log": null,
          "mapped": 0,
          "sample": "colo829bl",
          "technology": "Truseq",
          "unmapped": 0
         },
         {
          "chromosome": "21",
          "log": 5.099866427824199,
          "mapped": 164,
          "sample": "colo829bl",
          "technology": "Truseq",
          "unmapped": 1
         },
         {
          "chromosome": "22",
          "log": 7.746732907753622,
          "mapped": 2314,
          "sample": "colo829bl",
          "technology": "Truseq",
          "unmapped": 5
         },
         {
          "chromosome": "23",
          "log": 8.553910774351401,
          "mapped": 5187,
          "sample": "colo829bl",
          "technology": "Truseq",
          "unmapped": 6
         },
         {
          "chromosome": "24",
          "log": null,
          "mapped": 0,
          "sample": "colo829bl",
          "technology": "Truseq",
          "unmapped": 0
         },
         {
          "chromosome": "25",
          "log": null,
          "mapped": 0,
          "sample": "colo829bl",
          "technology": "Truseq",
          "unmapped": 0
         },
         {
          "chromosome": "1",
          "log": 9.114930187171524,
          "mapped": 9090,
          "sample": "colo829t",
          "technology": "Truseq",
          "unmapped": 7
         },
         {
          "chromosome": "2",
          "log": 6.222576268071369,
          "mapped": 504,
          "sample": "colo829t",
          "technology": "Truseq",
          "unmapped": 2
         },
         {
          "chromosome": "3",
          "log": 7.478169694159785,
          "mapped": 1769,
          "sample": "colo829t",
          "technology": "Truseq",
          "unmapped": 3
         },
         {
          "chromosome": "4",
          "log": 5.777652323222656,
          "mapped": 323,
          "sample": "colo829t",
          "technology": "Truseq",
          "unmapped": 0
         },
         {
          "chromosome": "5",
          "log": 10.930532229344816,
          "mapped": 55856,
          "sample": "colo829t",
          "technology": "Truseq",
          "unmapped": 14
         },
         {
          "chromosome": "6",
          "log": null,
          "mapped": 0,
          "sample": "colo829t",
          "technology": "Truseq",
          "unmapped": 0
         },
         {
          "chromosome": "7",
          "log": 5.69035945432406,
          "mapped": 296,
          "sample": "colo829t",
          "technology": "Truseq",
          "unmapped": 1
         },
         {
          "chromosome": "8",
          "log": null,
          "mapped": 0,
          "sample": "colo829t",
          "technology": "Truseq",
          "unmapped": 0
         },
         {
          "chromosome": "9",
          "log": 5.703782474656201,
          "mapped": 300,
          "sample": "colo829t",
          "technology": "Truseq",
          "unmapped": 0
         },
         {
          "chromosome": "10",
          "log": 7.649692623711514,
          "mapped": 2100,
          "sample": "colo829t",
          "technology": "Truseq",
          "unmapped": 5
         },
         {
          "chromosome": "11",
          "log": 3.9512437185814275,
          "mapped": 52,
          "sample": "colo829t",
          "technology": "Truseq",
          "unmapped": 0
         },
         {
          "chromosome": "12",
          "log": 8.251924713801357,
          "mapped": 3835,
          "sample": "colo829t",
          "technology": "Truseq",
          "unmapped": 3
         },
         {
          "chromosome": "13",
          "log": 5.786897381366708,
          "mapped": 326,
          "sample": "colo829t",
          "technology": "Truseq",
          "unmapped": 0
         },
         {
          "chromosome": "14",
          "log": null,
          "mapped": 0,
          "sample": "colo829t",
          "technology": "Truseq",
          "unmapped": 0
         },
         {
          "chromosome": "15",
          "log": 6.429719478039138,
          "mapped": 620,
          "sample": "colo829t",
          "technology": "Truseq",
          "unmapped": 1
         },
         {
          "chromosome": "16",
          "log": 4.382026634673881,
          "mapped": 80,
          "sample": "colo829t",
          "technology": "Truseq",
          "unmapped": 0
         },
         {
          "chromosome": "17",
          "log": 6.396929655216146,
          "mapped": 600,
          "sample": "colo829t",
          "technology": "Truseq",
          "unmapped": 8
         },
         {
          "chromosome": "18",
          "log": 7.642524134232902,
          "mapped": 2085,
          "sample": "colo829t",
          "technology": "Truseq",
          "unmapped": 9
         },
         {
          "chromosome": "19",
          "log": 5.4680601411351315,
          "mapped": 237,
          "sample": "colo829t",
          "technology": "Truseq",
          "unmapped": 1
         },
         {
          "chromosome": "20",
          "log": null,
          "mapped": 0,
          "sample": "colo829t",
          "technology": "Truseq",
          "unmapped": 0
         },
         {
          "chromosome": "21",
          "log": 5.170483995038151,
          "mapped": 176,
          "sample": "colo829t",
          "technology": "Truseq",
          "unmapped": 1
         },
         {
          "chromosome": "22",
          "log": 7.58629630715272,
          "mapped": 1971,
          "sample": "colo829t",
          "technology": "Truseq",
          "unmapped": 2
         },
         {
          "chromosome": "23",
          "log": 8.542860938164814,
          "mapped": 5130,
          "sample": "colo829t",
          "technology": "Truseq",
          "unmapped": 8
         },
         {
          "chromosome": "24",
          "log": null,
          "mapped": 0,
          "sample": "colo829t",
          "technology": "Truseq",
          "unmapped": 0
         },
         {
          "chromosome": "25",
          "log": null,
          "mapped": 0,
          "sample": "colo829t",
          "technology": "Truseq",
          "unmapped": 0
         }
        ]
       },
       "encoding": {
        "color": {
         "field": "technology",
         "type": "nominal"
        },
        "column": {
         "field": "chromosome",
         "type": "quantitative"
        },
        "x": {
         "axis": {
          "title": ""
         },
         "field": "technology",
         "scale": {
          "rangeStep": 15
         },
         "type": "nominal"
        },
        "y": {
         "field": "log",
         "type": "quantitative"
        }
       },
       "mark": "bar"
      },
      "image/png": "[encoded data removed]",
      "text/plain": [
       "<VegaLite 2 object>\n",
       "\n",
       "If you see this message, it means the renderer has not been properly enabled\n",
       "for the frontend that you are using. For more information, see\n",
       "https://altair-viz.github.io/user_guide/troubleshooting.html\n"
      ]
     },
     "execution_count": 14,
     "metadata": {},
     "output_type": "execute_result"
    }
   ],
   "source": [
    "colo829bl_10x = pd.read_csv(\"../data/processed/manual_telomere_coords/COLO829BL-10X-sliced-idxstats-hg38.hist.csv\")\n",
    "colo829t_10x = pd.read_csv(\"../data/processed/manual_telomere_coords/COLO829T-10X-sliced-idxstats-hg38.hist.csv\")\n",
    "colo829bl = pd.read_csv(\"../data/processed/manual_telomere_coords/COLO829BL-sliced-idxstats-hg38.hist.csv\")\n",
    "colo829t = pd.read_csv(\"../data/processed/manual_telomere_coords/COLO829T-sliced-idxstats-hg38.hist.csv\")\n",
    "\n",
    "colo829bl_10x['technology'] = '10X'\n",
    "colo829bl_10x['sample'] = 'colo829bl_10x'\n",
    "colo829t_10x['technology'] = '10X'\n",
    "colo829t_10x['sample'] = 'colo829t_10x'\n",
    "\n",
    "colo829t['technology'] = 'Truseq'\n",
    "colo829t['sample'] = 'colo829t'\n",
    "colo829bl['technology'] = 'Truseq'\n",
    "colo829bl['sample'] = 'colo829bl'\n",
    "\n",
    "datasets = [colo829bl_10x, colo829t_10x, colo829bl, colo829t]\n",
    "\n",
    "datasets = pd.concat(datasets, ignore_index=True)\n",
    "datasets[\"log\"] = datasets[\"mapped\"].apply(np.log)\n",
    "\n",
    "repl = lambda m: m.group(1)\n",
    "\n",
    "datasets['chromosome'] = datasets['chromosome'].str.replace(r\"chr(\\d+)\", repl)\n",
    "datasets['chromosome'] = datasets['chromosome'].str.replace(r\"chrX\", \"23\")\n",
    "datasets['chromosome'] = datasets['chromosome'].str.replace(r\"chrY\", \"24\")\n",
    "datasets['chromosome'] = datasets['chromosome'].str.replace(r\"chrM\", \"25\")\n",
    "\n",
    "\n",
    "sample_chart = alt.Chart(datasets).mark_bar().encode(\n",
    "        x = 'mapped:Q',\n",
    "        y = 'chromosome:N',\n",
    "        color = 'sample:N'\n",
    ")\n",
    "\n",
    "logplot = alt.Chart(datasets).mark_bar().encode(\n",
    "        alt.X('technology:N', scale=alt.Scale(rangeStep=15), axis=alt.Axis(title='')),\n",
    "        y = 'log:Q',\n",
    "        color = alt.Color('technology:N'), #scale=alt.Scale(range[\"#EA98D2\", \"#659CCA\", \"#EA98D2\", \"#EA98D2\", \"#EA98D2\"])),\n",
    "        column = alt.Column('chromosome:Q')\n",
    ")\n",
    "\n",
    "#sample_chart | tech_chart | logplot\n",
    "logplot"
   ]
  },
  {
   "cell_type": "code",
   "execution_count": 15,
   "metadata": {},
   "outputs": [
    {
     "data": {
      "application/vnd.vegalite.v2+json": {
       "$schema": "https://vega.github.io/schema/vega-lite/v2.6.0.json",
       "config": {
        "view": {
         "height": 300,
         "width": 400
        }
       },
       "data": {
        "values": [
         {
          "chromosome": "1",
          "log": 12.937329345172804,
          "mapped": 415538,
          "sample": "colo829bl_10x",
          "technology": "10X",
          "unmapped": 2456
         },
         {
          "chromosome": "2",
          "log": 11.438417412795166,
          "mapped": 92820,
          "sample": "colo829bl_10x",
          "technology": "10X",
          "unmapped": 457
         },
         {
          "chromosome": "3",
          "log": 11.4132487657807,
          "mapped": 90513,
          "sample": "colo829bl_10x",
          "technology": "10X",
          "unmapped": 996
         },
         {
          "chromosome": "4",
          "log": 10.183729515890214,
          "mapped": 26469,
          "sample": "colo829bl_10x",
          "technology": "10X",
          "unmapped": 437
         },
         {
          "chromosome": "5",
          "log": 13.490007538895435,
          "mapped": 722164,
          "sample": "colo829bl_10x",
          "technology": "10X",
          "unmapped": 2373
         },
         {
          "chromosome": "6",
          "log": null,
          "mapped": 0,
          "sample": "colo829bl_10x",
          "technology": "10X",
          "unmapped": 0
         },
         {
          "chromosome": "7",
          "log": 10.34154891634728,
          "mapped": 30994,
          "sample": "colo829bl_10x",
          "technology": "10X",
          "unmapped": 776
         },
         {
          "chromosome": "8",
          "log": null,
          "mapped": 0,
          "sample": "colo829bl_10x",
          "technology": "10X",
          "unmapped": 0
         },
         {
          "chromosome": "9",
          "log": 9.427948631791715,
          "mapped": 12431,
          "sample": "colo829bl_10x",
          "technology": "10X",
          "unmapped": 149
         },
         {
          "chromosome": "10",
          "log": 11.831684603992475,
          "mapped": 137542,
          "sample": "colo829bl_10x",
          "technology": "10X",
          "unmapped": 932
         },
         {
          "chromosome": "11",
          "log": 8.065265208897733,
          "mapped": 3182,
          "sample": "colo829bl_10x",
          "technology": "10X",
          "unmapped": 56
         },
         {
          "chromosome": "12",
          "log": 12.073911741927835,
          "mapped": 175240,
          "sample": "colo829bl_10x",
          "technology": "10X",
          "unmapped": 1409
         },
         {
          "chromosome": "13",
          "log": 9.536545799098715,
          "mapped": 13857,
          "sample": "colo829bl_10x",
          "technology": "10X",
          "unmapped": 288
         },
         {
          "chromosome": "14",
          "log": null,
          "mapped": 0,
          "sample": "colo829bl_10x",
          "technology": "10X",
          "unmapped": 0
         },
         {
          "chromosome": "15",
          "log": 10.477851197106107,
          "mapped": 35520,
          "sample": "colo829bl_10x",
          "technology": "10X",
          "unmapped": 437
         },
         {
          "chromosome": "16",
          "log": 6.851184927493743,
          "mapped": 945,
          "sample": "colo829bl_10x",
          "technology": "10X",
          "unmapped": 26
         },
         {
          "chromosome": "17",
          "log": 9.565424050523422,
          "mapped": 14263,
          "sample": "colo829bl_10x",
          "technology": "10X",
          "unmapped": 254
         },
         {
          "chromosome": "18",
          "log": 11.893195834443837,
          "mapped": 146268,
          "sample": "colo829bl_10x",
          "technology": "10X",
          "unmapped": 1480
         },
         {
          "chromosome": "19",
          "log": 9.507031738585551,
          "mapped": 13454,
          "sample": "colo829bl_10x",
          "technology": "10X",
          "unmapped": 288
         },
         {
          "chromosome": "20",
          "log": null,
          "mapped": 0,
          "sample": "colo829bl_10x",
          "technology": "10X",
          "unmapped": 0
         },
         {
          "chromosome": "21",
          "log": 10.058994455134526,
          "mapped": 23365,
          "sample": "colo829bl_10x",
          "technology": "10X",
          "unmapped": 188
         },
         {
          "chromosome": "22",
          "log": 12.689180661016266,
          "mapped": 324221,
          "sample": "colo829bl_10x",
          "technology": "10X",
          "unmapped": 2136
         },
         {
          "chromosome": "23",
          "log": 13.3396256679594,
          "mapped": 621335,
          "sample": "colo829bl_10x",
          "technology": "10X",
          "unmapped": 2360
         },
         {
          "chromosome": "24",
          "log": 3.6635616461296463,
          "mapped": 39,
          "sample": "colo829bl_10x",
          "technology": "10X",
          "unmapped": 0
         },
         {
          "chromosome": "25",
          "log": null,
          "mapped": 0,
          "sample": "colo829bl_10x",
          "technology": "10X",
          "unmapped": 0
         },
         {
          "chromosome": "1",
          "log": 12.823016198044265,
          "mapped": 370651,
          "sample": "colo829t_10x",
          "technology": "10X",
          "unmapped": 0
         },
         {
          "chromosome": "2",
          "log": 11.269324071753623,
          "mapped": 78380,
          "sample": "colo829t_10x",
          "technology": "10X",
          "unmapped": 0
         },
         {
          "chromosome": "3",
          "log": 11.227281314544014,
          "mapped": 75153,
          "sample": "colo829t_10x",
          "technology": "10X",
          "unmapped": 0
         },
         {
          "chromosome": "4",
          "log": 9.92725290608639,
          "mapped": 20481,
          "sample": "colo829t_10x",
          "technology": "10X",
          "unmapped": 0
         },
         {
          "chromosome": "5",
          "log": 13.271372863916714,
          "mapped": 580342,
          "sample": "colo829t_10x",
          "technology": "10X",
          "unmapped": 0
         },
         {
          "chromosome": "6",
          "log": null,
          "mapped": 0,
          "sample": "colo829t_10x",
          "technology": "10X",
          "unmapped": 0
         },
         {
          "chromosome": "7",
          "log": 9.946547041996576,
          "mapped": 20880,
          "sample": "colo829t_10x",
          "technology": "10X",
          "unmapped": 0
         },
         {
          "chromosome": "8",
          "log": null,
          "mapped": 0,
          "sample": "colo829t_10x",
          "technology": "10X",
          "unmapped": 0
         },
         {
          "chromosome": "9",
          "log": 9.360224821513475,
          "mapped": 11617,
          "sample": "colo829t_10x",
          "technology": "10X",
          "unmapped": 0
         },
         {
          "chromosome": "10",
          "log": 11.653721654935612,
          "mapped": 115119,
          "sample": "colo829t_10x",
          "technology": "10X",
          "unmapped": 0
         },
         {
          "chromosome": "11",
          "log": 7.422971251049421,
          "mapped": 1674,
          "sample": "colo829t_10x",
          "technology": "10X",
          "unmapped": 0
         },
         {
          "chromosome": "12",
          "log": 11.792940722360976,
          "mapped": 132315,
          "sample": "colo829t_10x",
          "technology": "10X",
          "unmapped": 0
         },
         {
          "chromosome": "13",
          "log": 9.301916315463393,
          "mapped": 10959,
          "sample": "colo829t_10x",
          "technology": "10X",
          "unmapped": 0
         },
         {
          "chromosome": "14",
          "log": null,
          "mapped": 0,
          "sample": "colo829t_10x",
          "technology": "10X",
          "unmapped": 0
         },
         {
          "chromosome": "15",
          "log": 10.348878253516611,
          "mapped": 31222,
          "sample": "colo829t_10x",
          "technology": "10X",
          "unmapped": 0
         },
         {
          "chromosome": "16",
          "log": 6.499787040655854,
          "mapped": 665,
          "sample": "colo829t_10x",
          "technology": "10X",
          "unmapped": 0
         },
         {
          "chromosome": "17",
          "log": 9.44604470533525,
          "mapped": 12658,
          "sample": "colo829t_10x",
          "technology": "10X",
          "unmapped": 0
         },
         {
          "chromosome": "18",
          "log": 11.67348697998162,
          "mapped": 117417,
          "sample": "colo829t_10x",
          "technology": "10X",
          "unmapped": 0
         },
         {
          "chromosome": "19",
          "log": 9.239704980606087,
          "mapped": 10298,
          "sample": "colo829t_10x",
          "technology": "10X",
          "unmapped": 0
         },
         {
          "chromosome": "20",
          "log": null,
          "mapped": 0,
          "sample": "colo829t_10x",
          "technology": "10X",
          "unmapped": 0
         },
         {
          "chromosome": "21",
          "log": 9.947600127154448,
          "mapped": 20902,
          "sample": "colo829t_10x",
          "technology": "10X",
          "unmapped": 0
         },
         {
          "chromosome": "22",
          "log": 12.51155902643894,
          "mapped": 271457,
          "sample": "colo829t_10x",
          "technology": "10X",
          "unmapped": 0
         },
         {
          "chromosome": "23",
          "log": 13.193649084999143,
          "mapped": 536944,
          "sample": "colo829t_10x",
          "technology": "10X",
          "unmapped": 0
         },
         {
          "chromosome": "24",
          "log": 3.7612001156935624,
          "mapped": 43,
          "sample": "colo829t_10x",
          "technology": "10X",
          "unmapped": 0
         },
         {
          "chromosome": "25",
          "log": null,
          "mapped": 0,
          "sample": "colo829t_10x",
          "technology": "10X",
          "unmapped": 0
         },
         {
          "chromosome": "1",
          "log": 9.048291920021784,
          "mapped": 8504,
          "sample": "colo829bl",
          "technology": "Truseq",
          "unmapped": 11
         },
         {
          "chromosome": "2",
          "log": 6.163314804034641,
          "mapped": 475,
          "sample": "colo829bl",
          "technology": "Truseq",
          "unmapped": 2
         },
         {
          "chromosome": "3",
          "log": 7.545389749611823,
          "mapped": 1892,
          "sample": "colo829bl",
          "technology": "Truseq",
          "unmapped": 5
         },
         {
          "chromosome": "4",
          "log": 5.8944028342648505,
          "mapped": 363,
          "sample": "colo829bl",
          "technology": "Truseq",
          "unmapped": 2
         },
         {
          "chromosome": "5",
          "log": 11.165917926433632,
          "mapped": 70680,
          "sample": "colo829bl",
          "technology": "Truseq",
          "unmapped": 11
         },
         {
          "chromosome": "6",
          "log": null,
          "mapped": 0,
          "sample": "colo829bl",
          "technology": "Truseq",
          "unmapped": 0
         },
         {
          "chromosome": "7",
          "log": 6.150602768446279,
          "mapped": 469,
          "sample": "colo829bl",
          "technology": "Truseq",
          "unmapped": 2
         },
         {
          "chromosome": "8",
          "log": null,
          "mapped": 0,
          "sample": "colo829bl",
          "technology": "Truseq",
          "unmapped": 0
         },
         {
          "chromosome": "9",
          "log": 5.733341276897746,
          "mapped": 309,
          "sample": "colo829bl",
          "technology": "Truseq",
          "unmapped": 2
         },
         {
          "chromosome": "10",
          "log": 7.873217054862741,
          "mapped": 2626,
          "sample": "colo829bl",
          "technology": "Truseq",
          "unmapped": 11
         },
         {
          "chromosome": "11",
          "log": 4.060443010546419,
          "mapped": 58,
          "sample": "colo829bl",
          "technology": "Truseq",
          "unmapped": 0
         },
         {
          "chromosome": "12",
          "log": 8.660080678964786,
          "mapped": 5768,
          "sample": "colo829bl",
          "technology": "Truseq",
          "unmapped": 4
         },
         {
          "chromosome": "13",
          "log": 5.849324779946859,
          "mapped": 347,
          "sample": "colo829bl",
          "technology": "Truseq",
          "unmapped": 0
         },
         {
          "chromosome": "14",
          "log": null,
          "mapped": 0,
          "sample": "colo829bl",
          "technology": "Truseq",
          "unmapped": 0
         },
         {
          "chromosome": "15",
          "log": 6.660575149839686,
          "mapped": 781,
          "sample": "colo829bl",
          "technology": "Truseq",
          "unmapped": 4
         },
         {
          "chromosome": "16",
          "log": 4.02535169073515,
          "mapped": 56,
          "sample": "colo829bl",
          "technology": "Truseq",
          "unmapped": 0
         },
         {
          "chromosome": "17",
          "log": 6.212606095751519,
          "mapped": 499,
          "sample": "colo829bl",
          "technology": "Truseq",
          "unmapped": 5
         },
         {
          "chromosome": "18",
          "log": 7.727094484779841,
          "mapped": 2269,
          "sample": "colo829bl",
          "technology": "Truseq",
          "unmapped": 11
         },
         {
          "chromosome": "19",
          "log": 5.220355825078324,
          "mapped": 185,
          "sample": "colo829bl",
          "technology": "Truseq",
          "unmapped": 1
         },
         {
          "chromosome": "20",
          "log": null,
          "mapped": 0,
          "sample": "colo829bl",
          "technology": "Truseq",
          "unmapped": 0
         },
         {
          "chromosome": "21",
          "log": 5.099866427824199,
          "mapped": 164,
          "sample": "colo829bl",
          "technology": "Truseq",
          "unmapped": 1
         },
         {
          "chromosome": "22",
          "log": 7.746732907753622,
          "mapped": 2314,
          "sample": "colo829bl",
          "technology": "Truseq",
          "unmapped": 5
         },
         {
          "chromosome": "23",
          "log": 8.553910774351401,
          "mapped": 5187,
          "sample": "colo829bl",
          "technology": "Truseq",
          "unmapped": 6
         },
         {
          "chromosome": "24",
          "log": null,
          "mapped": 0,
          "sample": "colo829bl",
          "technology": "Truseq",
          "unmapped": 0
         },
         {
          "chromosome": "25",
          "log": null,
          "mapped": 0,
          "sample": "colo829bl",
          "technology": "Truseq",
          "unmapped": 0
         },
         {
          "chromosome": "1",
          "log": 9.114930187171524,
          "mapped": 9090,
          "sample": "colo829t",
          "technology": "Truseq",
          "unmapped": 7
         },
         {
          "chromosome": "2",
          "log": 6.222576268071369,
          "mapped": 504,
          "sample": "colo829t",
          "technology": "Truseq",
          "unmapped": 2
         },
         {
          "chromosome": "3",
          "log": 7.478169694159785,
          "mapped": 1769,
          "sample": "colo829t",
          "technology": "Truseq",
          "unmapped": 3
         },
         {
          "chromosome": "4",
          "log": 5.777652323222656,
          "mapped": 323,
          "sample": "colo829t",
          "technology": "Truseq",
          "unmapped": 0
         },
         {
          "chromosome": "5",
          "log": 10.930532229344816,
          "mapped": 55856,
          "sample": "colo829t",
          "technology": "Truseq",
          "unmapped": 14
         },
         {
          "chromosome": "6",
          "log": null,
          "mapped": 0,
          "sample": "colo829t",
          "technology": "Truseq",
          "unmapped": 0
         },
         {
          "chromosome": "7",
          "log": 5.69035945432406,
          "mapped": 296,
          "sample": "colo829t",
          "technology": "Truseq",
          "unmapped": 1
         },
         {
          "chromosome": "8",
          "log": null,
          "mapped": 0,
          "sample": "colo829t",
          "technology": "Truseq",
          "unmapped": 0
         },
         {
          "chromosome": "9",
          "log": 5.703782474656201,
          "mapped": 300,
          "sample": "colo829t",
          "technology": "Truseq",
          "unmapped": 0
         },
         {
          "chromosome": "10",
          "log": 7.649692623711514,
          "mapped": 2100,
          "sample": "colo829t",
          "technology": "Truseq",
          "unmapped": 5
         },
         {
          "chromosome": "11",
          "log": 3.9512437185814275,
          "mapped": 52,
          "sample": "colo829t",
          "technology": "Truseq",
          "unmapped": 0
         },
         {
          "chromosome": "12",
          "log": 8.251924713801357,
          "mapped": 3835,
          "sample": "colo829t",
          "technology": "Truseq",
          "unmapped": 3
         },
         {
          "chromosome": "13",
          "log": 5.786897381366708,
          "mapped": 326,
          "sample": "colo829t",
          "technology": "Truseq",
          "unmapped": 0
         },
         {
          "chromosome": "14",
          "log": null,
          "mapped": 0,
          "sample": "colo829t",
          "technology": "Truseq",
          "unmapped": 0
         },
         {
          "chromosome": "15",
          "log": 6.429719478039138,
          "mapped": 620,
          "sample": "colo829t",
          "technology": "Truseq",
          "unmapped": 1
         },
         {
          "chromosome": "16",
          "log": 4.382026634673881,
          "mapped": 80,
          "sample": "colo829t",
          "technology": "Truseq",
          "unmapped": 0
         },
         {
          "chromosome": "17",
          "log": 6.396929655216146,
          "mapped": 600,
          "sample": "colo829t",
          "technology": "Truseq",
          "unmapped": 8
         },
         {
          "chromosome": "18",
          "log": 7.642524134232902,
          "mapped": 2085,
          "sample": "colo829t",
          "technology": "Truseq",
          "unmapped": 9
         },
         {
          "chromosome": "19",
          "log": 5.4680601411351315,
          "mapped": 237,
          "sample": "colo829t",
          "technology": "Truseq",
          "unmapped": 1
         },
         {
          "chromosome": "20",
          "log": null,
          "mapped": 0,
          "sample": "colo829t",
          "technology": "Truseq",
          "unmapped": 0
         },
         {
          "chromosome": "21",
          "log": 5.170483995038151,
          "mapped": 176,
          "sample": "colo829t",
          "technology": "Truseq",
          "unmapped": 1
         },
         {
          "chromosome": "22",
          "log": 7.58629630715272,
          "mapped": 1971,
          "sample": "colo829t",
          "technology": "Truseq",
          "unmapped": 2
         },
         {
          "chromosome": "23",
          "log": 8.542860938164814,
          "mapped": 5130,
          "sample": "colo829t",
          "technology": "Truseq",
          "unmapped": 8
         },
         {
          "chromosome": "24",
          "log": null,
          "mapped": 0,
          "sample": "colo829t",
          "technology": "Truseq",
          "unmapped": 0
         },
         {
          "chromosome": "25",
          "log": null,
          "mapped": 0,
          "sample": "colo829t",
          "technology": "Truseq",
          "unmapped": 0
         }
        ]
       },
       "encoding": {
        "color": {
         "field": "technology",
         "type": "nominal"
        },
        "column": {
         "field": "chromosome",
         "type": "quantitative"
        },
        "x": {
         "axis": {
          "title": ""
         },
         "field": "technology",
         "scale": {
          "rangeStep": 15
         },
         "type": "nominal"
        },
        "y": {
         "field": "mapped",
         "type": "quantitative"
        }
       },
       "mark": "bar"
      },
      "image/png": "[encoded data removed]",
      "text/plain": [
       "<VegaLite 2 object>\n",
       "\n",
       "If you see this message, it means the renderer has not been properly enabled\n",
       "for the frontend that you are using. For more information, see\n",
       "https://altair-viz.github.io/user_guide/troubleshooting.html\n"
      ]
     },
     "execution_count": 15,
     "metadata": {},
     "output_type": "execute_result"
    }
   ],
   "source": [
    "tech_chart = alt.Chart(datasets).mark_bar().encode(\n",
    "        alt.X('technology:N', scale=alt.Scale(rangeStep=15), axis=alt.Axis(title='')),\n",
    "        y = 'mapped:Q',\n",
    "        color = alt.Color('technology:N'),\n",
    "        column = alt.Column('chromosome:Q')\n",
    ")\n",
    "\n",
    "tech_chart"
   ]
  },
  {
   "cell_type": "markdown",
   "metadata": {},
   "source": [
    "## UNmapped reads for the telomeric curated coordinates"
   ]
  },
  {
   "cell_type": "code",
   "execution_count": 16,
   "metadata": {},
   "outputs": [
    {
     "data": {
      "application/vnd.vegalite.v2+json": {
       "$schema": "https://vega.github.io/schema/vega-lite/v2.6.0.json",
       "config": {
        "view": {
         "height": 300,
         "width": 400
        }
       },
       "data": {
        "values": [
         {
          "chromosome": "1",
          "log": 12.937329345172804,
          "mapped": 415538,
          "sample": "colo829bl_10x",
          "technology": "10X",
          "unmapped": 2456,
          "unmapped_log": 7.806289289267033
         },
         {
          "chromosome": "2",
          "log": 11.438417412795166,
          "mapped": 92820,
          "sample": "colo829bl_10x",
          "technology": "10X",
          "unmapped": 457,
          "unmapped_log": 6.124683390894205
         },
         {
          "chromosome": "3",
          "log": 11.4132487657807,
          "mapped": 90513,
          "sample": "colo829bl_10x",
          "technology": "10X",
          "unmapped": 996,
          "unmapped_log": 6.903747257584598
         },
         {
          "chromosome": "4",
          "log": 10.183729515890214,
          "mapped": 26469,
          "sample": "colo829bl_10x",
          "technology": "10X",
          "unmapped": 437,
          "unmapped_log": 6.07993319509559
         },
         {
          "chromosome": "5",
          "log": 13.490007538895435,
          "mapped": 722164,
          "sample": "colo829bl_10x",
          "technology": "10X",
          "unmapped": 2373,
          "unmapped_log": 7.771910256435763
         },
         {
          "chromosome": "6",
          "log": null,
          "mapped": 0,
          "sample": "colo829bl_10x",
          "technology": "10X",
          "unmapped": 0,
          "unmapped_log": null
         },
         {
          "chromosome": "7",
          "log": 10.34154891634728,
          "mapped": 30994,
          "sample": "colo829bl_10x",
          "technology": "10X",
          "unmapped": 776,
          "unmapped_log": 6.654152520183219
         },
         {
          "chromosome": "8",
          "log": null,
          "mapped": 0,
          "sample": "colo829bl_10x",
          "technology": "10X",
          "unmapped": 0,
          "unmapped_log": null
         },
         {
          "chromosome": "9",
          "log": 9.427948631791715,
          "mapped": 12431,
          "sample": "colo829bl_10x",
          "technology": "10X",
          "unmapped": 149,
          "unmapped_log": 5.003946305945459
         },
         {
          "chromosome": "10",
          "log": 11.831684603992475,
          "mapped": 137542,
          "sample": "colo829bl_10x",
          "technology": "10X",
          "unmapped": 932,
          "unmapped_log": 6.837332814685591
         },
         {
          "chromosome": "11",
          "log": 8.065265208897733,
          "mapped": 3182,
          "sample": "colo829bl_10x",
          "technology": "10X",
          "unmapped": 56,
          "unmapped_log": 4.02535169073515
         },
         {
          "chromosome": "12",
          "log": 12.073911741927835,
          "mapped": 175240,
          "sample": "colo829bl_10x",
          "technology": "10X",
          "unmapped": 1409,
          "unmapped_log": 7.25063551189868
         },
         {
          "chromosome": "13",
          "log": 9.536545799098715,
          "mapped": 13857,
          "sample": "colo829bl_10x",
          "technology": "10X",
          "unmapped": 288,
          "unmapped_log": 5.662960480135946
         },
         {
          "chromosome": "14",
          "log": null,
          "mapped": 0,
          "sample": "colo829bl_10x",
          "technology": "10X",
          "unmapped": 0,
          "unmapped_log": null
         },
         {
          "chromosome": "15",
          "log": 10.477851197106107,
          "mapped": 35520,
          "sample": "colo829bl_10x",
          "technology": "10X",
          "unmapped": 437,
          "unmapped_log": 6.07993319509559
         },
         {
          "chromosome": "16",
          "log": 6.851184927493743,
          "mapped": 945,
          "sample": "colo829bl_10x",
          "technology": "10X",
          "unmapped": 26,
          "unmapped_log": 3.258096538021482
         },
         {
          "chromosome": "17",
          "log": 9.565424050523422,
          "mapped": 14263,
          "sample": "colo829bl_10x",
          "technology": "10X",
          "unmapped": 254,
          "unmapped_log": 5.537334267018537
         },
         {
          "chromosome": "18",
          "log": 11.893195834443837,
          "mapped": 146268,
          "sample": "colo829bl_10x",
          "technology": "10X",
          "unmapped": 1480,
          "unmapped_log": 7.299797366758161
         },
         {
          "chromosome": "19",
          "log": 9.507031738585551,
          "mapped": 13454,
          "sample": "colo829bl_10x",
          "technology": "10X",
          "unmapped": 288,
          "unmapped_log": 5.662960480135946
         },
         {
          "chromosome": "20",
          "log": null,
          "mapped": 0,
          "sample": "colo829bl_10x",
          "technology": "10X",
          "unmapped": 0,
          "unmapped_log": null
         },
         {
          "chromosome": "21",
          "log": 10.058994455134526,
          "mapped": 23365,
          "sample": "colo829bl_10x",
          "technology": "10X",
          "unmapped": 188,
          "unmapped_log": 5.236441962829949
         },
         {
          "chromosome": "22",
          "log": 12.689180661016266,
          "mapped": 324221,
          "sample": "colo829bl_10x",
          "technology": "10X",
          "unmapped": 2136,
          "unmapped_log": 7.666690200080086
         },
         {
          "chromosome": "23",
          "log": 13.3396256679594,
          "mapped": 621335,
          "sample": "colo829bl_10x",
          "technology": "10X",
          "unmapped": 2360,
          "unmapped_log": 7.7664168980196555
         },
         {
          "chromosome": "24",
          "log": 3.6635616461296463,
          "mapped": 39,
          "sample": "colo829bl_10x",
          "technology": "10X",
          "unmapped": 0,
          "unmapped_log": null
         },
         {
          "chromosome": "25",
          "log": null,
          "mapped": 0,
          "sample": "colo829bl_10x",
          "technology": "10X",
          "unmapped": 0,
          "unmapped_log": null
         },
         {
          "chromosome": "1",
          "log": 12.823016198044265,
          "mapped": 370651,
          "sample": "colo829t_10x",
          "technology": "10X",
          "unmapped": 0,
          "unmapped_log": null
         },
         {
          "chromosome": "2",
          "log": 11.269324071753623,
          "mapped": 78380,
          "sample": "colo829t_10x",
          "technology": "10X",
          "unmapped": 0,
          "unmapped_log": null
         },
         {
          "chromosome": "3",
          "log": 11.227281314544014,
          "mapped": 75153,
          "sample": "colo829t_10x",
          "technology": "10X",
          "unmapped": 0,
          "unmapped_log": null
         },
         {
          "chromosome": "4",
          "log": 9.92725290608639,
          "mapped": 20481,
          "sample": "colo829t_10x",
          "technology": "10X",
          "unmapped": 0,
          "unmapped_log": null
         },
         {
          "chromosome": "5",
          "log": 13.271372863916714,
          "mapped": 580342,
          "sample": "colo829t_10x",
          "technology": "10X",
          "unmapped": 0,
          "unmapped_log": null
         },
         {
          "chromosome": "6",
          "log": null,
          "mapped": 0,
          "sample": "colo829t_10x",
          "technology": "10X",
          "unmapped": 0,
          "unmapped_log": null
         },
         {
          "chromosome": "7",
          "log": 9.946547041996576,
          "mapped": 20880,
          "sample": "colo829t_10x",
          "technology": "10X",
          "unmapped": 0,
          "unmapped_log": null
         },
         {
          "chromosome": "8",
          "log": null,
          "mapped": 0,
          "sample": "colo829t_10x",
          "technology": "10X",
          "unmapped": 0,
          "unmapped_log": null
         },
         {
          "chromosome": "9",
          "log": 9.360224821513475,
          "mapped": 11617,
          "sample": "colo829t_10x",
          "technology": "10X",
          "unmapped": 0,
          "unmapped_log": null
         },
         {
          "chromosome": "10",
          "log": 11.653721654935612,
          "mapped": 115119,
          "sample": "colo829t_10x",
          "technology": "10X",
          "unmapped": 0,
          "unmapped_log": null
         },
         {
          "chromosome": "11",
          "log": 7.422971251049421,
          "mapped": 1674,
          "sample": "colo829t_10x",
          "technology": "10X",
          "unmapped": 0,
          "unmapped_log": null
         },
         {
          "chromosome": "12",
          "log": 11.792940722360976,
          "mapped": 132315,
          "sample": "colo829t_10x",
          "technology": "10X",
          "unmapped": 0,
          "unmapped_log": null
         },
         {
          "chromosome": "13",
          "log": 9.301916315463393,
          "mapped": 10959,
          "sample": "colo829t_10x",
          "technology": "10X",
          "unmapped": 0,
          "unmapped_log": null
         },
         {
          "chromosome": "14",
          "log": null,
          "mapped": 0,
          "sample": "colo829t_10x",
          "technology": "10X",
          "unmapped": 0,
          "unmapped_log": null
         },
         {
          "chromosome": "15",
          "log": 10.348878253516611,
          "mapped": 31222,
          "sample": "colo829t_10x",
          "technology": "10X",
          "unmapped": 0,
          "unmapped_log": null
         },
         {
          "chromosome": "16",
          "log": 6.499787040655854,
          "mapped": 665,
          "sample": "colo829t_10x",
          "technology": "10X",
          "unmapped": 0,
          "unmapped_log": null
         },
         {
          "chromosome": "17",
          "log": 9.44604470533525,
          "mapped": 12658,
          "sample": "colo829t_10x",
          "technology": "10X",
          "unmapped": 0,
          "unmapped_log": null
         },
         {
          "chromosome": "18",
          "log": 11.67348697998162,
          "mapped": 117417,
          "sample": "colo829t_10x",
          "technology": "10X",
          "unmapped": 0,
          "unmapped_log": null
         },
         {
          "chromosome": "19",
          "log": 9.239704980606087,
          "mapped": 10298,
          "sample": "colo829t_10x",
          "technology": "10X",
          "unmapped": 0,
          "unmapped_log": null
         },
         {
          "chromosome": "20",
          "log": null,
          "mapped": 0,
          "sample": "colo829t_10x",
          "technology": "10X",
          "unmapped": 0,
          "unmapped_log": null
         },
         {
          "chromosome": "21",
          "log": 9.947600127154448,
          "mapped": 20902,
          "sample": "colo829t_10x",
          "technology": "10X",
          "unmapped": 0,
          "unmapped_log": null
         },
         {
          "chromosome": "22",
          "log": 12.51155902643894,
          "mapped": 271457,
          "sample": "colo829t_10x",
          "technology": "10X",
          "unmapped": 0,
          "unmapped_log": null
         },
         {
          "chromosome": "23",
          "log": 13.193649084999143,
          "mapped": 536944,
          "sample": "colo829t_10x",
          "technology": "10X",
          "unmapped": 0,
          "unmapped_log": null
         },
         {
          "chromosome": "24",
          "log": 3.7612001156935624,
          "mapped": 43,
          "sample": "colo829t_10x",
          "technology": "10X",
          "unmapped": 0,
          "unmapped_log": null
         },
         {
          "chromosome": "25",
          "log": null,
          "mapped": 0,
          "sample": "colo829t_10x",
          "technology": "10X",
          "unmapped": 0,
          "unmapped_log": null
         },
         {
          "chromosome": "1",
          "log": 9.048291920021784,
          "mapped": 8504,
          "sample": "colo829bl",
          "technology": "Truseq",
          "unmapped": 11,
          "unmapped_log": 2.3978952727983707
         },
         {
          "chromosome": "2",
          "log": 6.163314804034641,
          "mapped": 475,
          "sample": "colo829bl",
          "technology": "Truseq",
          "unmapped": 2,
          "unmapped_log": 0.6931471805599453
         },
         {
          "chromosome": "3",
          "log": 7.545389749611823,
          "mapped": 1892,
          "sample": "colo829bl",
          "technology": "Truseq",
          "unmapped": 5,
          "unmapped_log": 1.6094379124341003
         },
         {
          "chromosome": "4",
          "log": 5.8944028342648505,
          "mapped": 363,
          "sample": "colo829bl",
          "technology": "Truseq",
          "unmapped": 2,
          "unmapped_log": 0.6931471805599453
         },
         {
          "chromosome": "5",
          "log": 11.165917926433632,
          "mapped": 70680,
          "sample": "colo829bl",
          "technology": "Truseq",
          "unmapped": 11,
          "unmapped_log": 2.3978952727983707
         },
         {
          "chromosome": "6",
          "log": null,
          "mapped": 0,
          "sample": "colo829bl",
          "technology": "Truseq",
          "unmapped": 0,
          "unmapped_log": null
         },
         {
          "chromosome": "7",
          "log": 6.150602768446279,
          "mapped": 469,
          "sample": "colo829bl",
          "technology": "Truseq",
          "unmapped": 2,
          "unmapped_log": 0.6931471805599453
         },
         {
          "chromosome": "8",
          "log": null,
          "mapped": 0,
          "sample": "colo829bl",
          "technology": "Truseq",
          "unmapped": 0,
          "unmapped_log": null
         },
         {
          "chromosome": "9",
          "log": 5.733341276897746,
          "mapped": 309,
          "sample": "colo829bl",
          "technology": "Truseq",
          "unmapped": 2,
          "unmapped_log": 0.6931471805599453
         },
         {
          "chromosome": "10",
          "log": 7.873217054862741,
          "mapped": 2626,
          "sample": "colo829bl",
          "technology": "Truseq",
          "unmapped": 11,
          "unmapped_log": 2.3978952727983707
         },
         {
          "chromosome": "11",
          "log": 4.060443010546419,
          "mapped": 58,
          "sample": "colo829bl",
          "technology": "Truseq",
          "unmapped": 0,
          "unmapped_log": null
         },
         {
          "chromosome": "12",
          "log": 8.660080678964786,
          "mapped": 5768,
          "sample": "colo829bl",
          "technology": "Truseq",
          "unmapped": 4,
          "unmapped_log": 1.3862943611198906
         },
         {
          "chromosome": "13",
          "log": 5.849324779946859,
          "mapped": 347,
          "sample": "colo829bl",
          "technology": "Truseq",
          "unmapped": 0,
          "unmapped_log": null
         },
         {
          "chromosome": "14",
          "log": null,
          "mapped": 0,
          "sample": "colo829bl",
          "technology": "Truseq",
          "unmapped": 0,
          "unmapped_log": null
         },
         {
          "chromosome": "15",
          "log": 6.660575149839686,
          "mapped": 781,
          "sample": "colo829bl",
          "technology": "Truseq",
          "unmapped": 4,
          "unmapped_log": 1.3862943611198906
         },
         {
          "chromosome": "16",
          "log": 4.02535169073515,
          "mapped": 56,
          "sample": "colo829bl",
          "technology": "Truseq",
          "unmapped": 0,
          "unmapped_log": null
         },
         {
          "chromosome": "17",
          "log": 6.212606095751519,
          "mapped": 499,
          "sample": "colo829bl",
          "technology": "Truseq",
          "unmapped": 5,
          "unmapped_log": 1.6094379124341003
         },
         {
          "chromosome": "18",
          "log": 7.727094484779841,
          "mapped": 2269,
          "sample": "colo829bl",
          "technology": "Truseq",
          "unmapped": 11,
          "unmapped_log": 2.3978952727983707
         },
         {
          "chromosome": "19",
          "log": 5.220355825078324,
          "mapped": 185,
          "sample": "colo829bl",
          "technology": "Truseq",
          "unmapped": 1,
          "unmapped_log": 0
         },
         {
          "chromosome": "20",
          "log": null,
          "mapped": 0,
          "sample": "colo829bl",
          "technology": "Truseq",
          "unmapped": 0,
          "unmapped_log": null
         },
         {
          "chromosome": "21",
          "log": 5.099866427824199,
          "mapped": 164,
          "sample": "colo829bl",
          "technology": "Truseq",
          "unmapped": 1,
          "unmapped_log": 0
         },
         {
          "chromosome": "22",
          "log": 7.746732907753622,
          "mapped": 2314,
          "sample": "colo829bl",
          "technology": "Truseq",
          "unmapped": 5,
          "unmapped_log": 1.6094379124341003
         },
         {
          "chromosome": "23",
          "log": 8.553910774351401,
          "mapped": 5187,
          "sample": "colo829bl",
          "technology": "Truseq",
          "unmapped": 6,
          "unmapped_log": 1.791759469228055
         },
         {
          "chromosome": "24",
          "log": null,
          "mapped": 0,
          "sample": "colo829bl",
          "technology": "Truseq",
          "unmapped": 0,
          "unmapped_log": null
         },
         {
          "chromosome": "25",
          "log": null,
          "mapped": 0,
          "sample": "colo829bl",
          "technology": "Truseq",
          "unmapped": 0,
          "unmapped_log": null
         },
         {
          "chromosome": "1",
          "log": 9.114930187171524,
          "mapped": 9090,
          "sample": "colo829t",
          "technology": "Truseq",
          "unmapped": 7,
          "unmapped_log": 1.9459101490553132
         },
         {
          "chromosome": "2",
          "log": 6.222576268071369,
          "mapped": 504,
          "sample": "colo829t",
          "technology": "Truseq",
          "unmapped": 2,
          "unmapped_log": 0.6931471805599453
         },
         {
          "chromosome": "3",
          "log": 7.478169694159785,
          "mapped": 1769,
          "sample": "colo829t",
          "technology": "Truseq",
          "unmapped": 3,
          "unmapped_log": 1.0986122886681098
         },
         {
          "chromosome": "4",
          "log": 5.777652323222656,
          "mapped": 323,
          "sample": "colo829t",
          "technology": "Truseq",
          "unmapped": 0,
          "unmapped_log": null
         },
         {
          "chromosome": "5",
          "log": 10.930532229344816,
          "mapped": 55856,
          "sample": "colo829t",
          "technology": "Truseq",
          "unmapped": 14,
          "unmapped_log": 2.6390573296152584
         },
         {
          "chromosome": "6",
          "log": null,
          "mapped": 0,
          "sample": "colo829t",
          "technology": "Truseq",
          "unmapped": 0,
          "unmapped_log": null
         },
         {
          "chromosome": "7",
          "log": 5.69035945432406,
          "mapped": 296,
          "sample": "colo829t",
          "technology": "Truseq",
          "unmapped": 1,
          "unmapped_log": 0
         },
         {
          "chromosome": "8",
          "log": null,
          "mapped": 0,
          "sample": "colo829t",
          "technology": "Truseq",
          "unmapped": 0,
          "unmapped_log": null
         },
         {
          "chromosome": "9",
          "log": 5.703782474656201,
          "mapped": 300,
          "sample": "colo829t",
          "technology": "Truseq",
          "unmapped": 0,
          "unmapped_log": null
         },
         {
          "chromosome": "10",
          "log": 7.649692623711514,
          "mapped": 2100,
          "sample": "colo829t",
          "technology": "Truseq",
          "unmapped": 5,
          "unmapped_log": 1.6094379124341003
         },
         {
          "chromosome": "11",
          "log": 3.9512437185814275,
          "mapped": 52,
          "sample": "colo829t",
          "technology": "Truseq",
          "unmapped": 0,
          "unmapped_log": null
         },
         {
          "chromosome": "12",
          "log": 8.251924713801357,
          "mapped": 3835,
          "sample": "colo829t",
          "technology": "Truseq",
          "unmapped": 3,
          "unmapped_log": 1.0986122886681098
         },
         {
          "chromosome": "13",
          "log": 5.786897381366708,
          "mapped": 326,
          "sample": "colo829t",
          "technology": "Truseq",
          "unmapped": 0,
          "unmapped_log": null
         },
         {
          "chromosome": "14",
          "log": null,
          "mapped": 0,
          "sample": "colo829t",
          "technology": "Truseq",
          "unmapped": 0,
          "unmapped_log": null
         },
         {
          "chromosome": "15",
          "log": 6.429719478039138,
          "mapped": 620,
          "sample": "colo829t",
          "technology": "Truseq",
          "unmapped": 1,
          "unmapped_log": 0
         },
         {
          "chromosome": "16",
          "log": 4.382026634673881,
          "mapped": 80,
          "sample": "colo829t",
          "technology": "Truseq",
          "unmapped": 0,
          "unmapped_log": null
         },
         {
          "chromosome": "17",
          "log": 6.396929655216146,
          "mapped": 600,
          "sample": "colo829t",
          "technology": "Truseq",
          "unmapped": 8,
          "unmapped_log": 2.0794415416798357
         },
         {
          "chromosome": "18",
          "log": 7.642524134232902,
          "mapped": 2085,
          "sample": "colo829t",
          "technology": "Truseq",
          "unmapped": 9,
          "unmapped_log": 2.1972245773362196
         },
         {
          "chromosome": "19",
          "log": 5.4680601411351315,
          "mapped": 237,
          "sample": "colo829t",
          "technology": "Truseq",
          "unmapped": 1,
          "unmapped_log": 0
         },
         {
          "chromosome": "20",
          "log": null,
          "mapped": 0,
          "sample": "colo829t",
          "technology": "Truseq",
          "unmapped": 0,
          "unmapped_log": null
         },
         {
          "chromosome": "21",
          "log": 5.170483995038151,
          "mapped": 176,
          "sample": "colo829t",
          "technology": "Truseq",
          "unmapped": 1,
          "unmapped_log": 0
         },
         {
          "chromosome": "22",
          "log": 7.58629630715272,
          "mapped": 1971,
          "sample": "colo829t",
          "technology": "Truseq",
          "unmapped": 2,
          "unmapped_log": 0.6931471805599453
         },
         {
          "chromosome": "23",
          "log": 8.542860938164814,
          "mapped": 5130,
          "sample": "colo829t",
          "technology": "Truseq",
          "unmapped": 8,
          "unmapped_log": 2.0794415416798357
         },
         {
          "chromosome": "24",
          "log": null,
          "mapped": 0,
          "sample": "colo829t",
          "technology": "Truseq",
          "unmapped": 0,
          "unmapped_log": null
         },
         {
          "chromosome": "25",
          "log": null,
          "mapped": 0,
          "sample": "colo829t",
          "technology": "Truseq",
          "unmapped": 0,
          "unmapped_log": null
         }
        ]
       },
       "encoding": {
        "color": {
         "field": "technology",
         "type": "nominal"
        },
        "column": {
         "field": "chromosome",
         "type": "quantitative"
        },
        "x": {
         "axis": {
          "title": ""
         },
         "field": "technology",
         "scale": {
          "rangeStep": 15
         },
         "type": "nominal"
        },
        "y": {
         "field": "unmapped_log",
         "type": "quantitative"
        }
       },
       "mark": "bar"
      },
      "image/png": "[encoded data removed]",
      "text/plain": [
       "<VegaLite 2 object>\n",
       "\n",
       "If you see this message, it means the renderer has not been properly enabled\n",
       "for the frontend that you are using. For more information, see\n",
       "https://altair-viz.github.io/user_guide/troubleshooting.html\n"
      ]
     },
     "execution_count": 16,
     "metadata": {},
     "output_type": "execute_result"
    }
   ],
   "source": [
    "datasets[\"unmapped_log\"] = datasets[\"unmapped\"].apply(np.log)\n",
    "\n",
    "repl = lambda m: m.group(1)\n",
    "\n",
    "logplot = alt.Chart(datasets).mark_bar().encode(\n",
    "        alt.X('technology:N', scale=alt.Scale(rangeStep=15), axis=alt.Axis(title='')),\n",
    "        y = 'unmapped_log:Q',\n",
    "        color = alt.Color('technology:N'), #scale=alt.Scale(range[\"#EA98D2\", \"#659CCA\", \"#EA98D2\", \"#EA98D2\", \"#EA98D2\"])),\n",
    "        #column = 'chromosome:N'\n",
    "        column = alt.Column('chromosome:Q')\n",
    ")\n",
    "\n",
    "#sample_chart | tech_chart | logplot\n",
    "logplot"
   ]
  },
  {
   "cell_type": "markdown",
   "metadata": {},
   "source": [
    "### Absolute"
   ]
  },
  {
   "cell_type": "code",
   "execution_count": 17,
   "metadata": {},
   "outputs": [
    {
     "data": {
      "application/vnd.vegalite.v2+json": {
       "$schema": "https://vega.github.io/schema/vega-lite/v2.6.0.json",
       "config": {
        "view": {
         "height": 300,
         "width": 400
        }
       },
       "data": {
        "values": [
         {
          "chromosome": "1",
          "log": 12.937329345172804,
          "mapped": 415538,
          "sample": "colo829bl_10x",
          "technology": "10X",
          "unmapped": 2456,
          "unmapped_log": 7.806289289267033
         },
         {
          "chromosome": "2",
          "log": 11.438417412795166,
          "mapped": 92820,
          "sample": "colo829bl_10x",
          "technology": "10X",
          "unmapped": 457,
          "unmapped_log": 6.124683390894205
         },
         {
          "chromosome": "3",
          "log": 11.4132487657807,
          "mapped": 90513,
          "sample": "colo829bl_10x",
          "technology": "10X",
          "unmapped": 996,
          "unmapped_log": 6.903747257584598
         },
         {
          "chromosome": "4",
          "log": 10.183729515890214,
          "mapped": 26469,
          "sample": "colo829bl_10x",
          "technology": "10X",
          "unmapped": 437,
          "unmapped_log": 6.07993319509559
         },
         {
          "chromosome": "5",
          "log": 13.490007538895435,
          "mapped": 722164,
          "sample": "colo829bl_10x",
          "technology": "10X",
          "unmapped": 2373,
          "unmapped_log": 7.771910256435763
         },
         {
          "chromosome": "6",
          "log": null,
          "mapped": 0,
          "sample": "colo829bl_10x",
          "technology": "10X",
          "unmapped": 0,
          "unmapped_log": null
         },
         {
          "chromosome": "7",
          "log": 10.34154891634728,
          "mapped": 30994,
          "sample": "colo829bl_10x",
          "technology": "10X",
          "unmapped": 776,
          "unmapped_log": 6.654152520183219
         },
         {
          "chromosome": "8",
          "log": null,
          "mapped": 0,
          "sample": "colo829bl_10x",
          "technology": "10X",
          "unmapped": 0,
          "unmapped_log": null
         },
         {
          "chromosome": "9",
          "log": 9.427948631791715,
          "mapped": 12431,
          "sample": "colo829bl_10x",
          "technology": "10X",
          "unmapped": 149,
          "unmapped_log": 5.003946305945459
         },
         {
          "chromosome": "10",
          "log": 11.831684603992475,
          "mapped": 137542,
          "sample": "colo829bl_10x",
          "technology": "10X",
          "unmapped": 932,
          "unmapped_log": 6.837332814685591
         },
         {
          "chromosome": "11",
          "log": 8.065265208897733,
          "mapped": 3182,
          "sample": "colo829bl_10x",
          "technology": "10X",
          "unmapped": 56,
          "unmapped_log": 4.02535169073515
         },
         {
          "chromosome": "12",
          "log": 12.073911741927835,
          "mapped": 175240,
          "sample": "colo829bl_10x",
          "technology": "10X",
          "unmapped": 1409,
          "unmapped_log": 7.25063551189868
         },
         {
          "chromosome": "13",
          "log": 9.536545799098715,
          "mapped": 13857,
          "sample": "colo829bl_10x",
          "technology": "10X",
          "unmapped": 288,
          "unmapped_log": 5.662960480135946
         },
         {
          "chromosome": "14",
          "log": null,
          "mapped": 0,
          "sample": "colo829bl_10x",
          "technology": "10X",
          "unmapped": 0,
          "unmapped_log": null
         },
         {
          "chromosome": "15",
          "log": 10.477851197106107,
          "mapped": 35520,
          "sample": "colo829bl_10x",
          "technology": "10X",
          "unmapped": 437,
          "unmapped_log": 6.07993319509559
         },
         {
          "chromosome": "16",
          "log": 6.851184927493743,
          "mapped": 945,
          "sample": "colo829bl_10x",
          "technology": "10X",
          "unmapped": 26,
          "unmapped_log": 3.258096538021482
         },
         {
          "chromosome": "17",
          "log": 9.565424050523422,
          "mapped": 14263,
          "sample": "colo829bl_10x",
          "technology": "10X",
          "unmapped": 254,
          "unmapped_log": 5.537334267018537
         },
         {
          "chromosome": "18",
          "log": 11.893195834443837,
          "mapped": 146268,
          "sample": "colo829bl_10x",
          "technology": "10X",
          "unmapped": 1480,
          "unmapped_log": 7.299797366758161
         },
         {
          "chromosome": "19",
          "log": 9.507031738585551,
          "mapped": 13454,
          "sample": "colo829bl_10x",
          "technology": "10X",
          "unmapped": 288,
          "unmapped_log": 5.662960480135946
         },
         {
          "chromosome": "20",
          "log": null,
          "mapped": 0,
          "sample": "colo829bl_10x",
          "technology": "10X",
          "unmapped": 0,
          "unmapped_log": null
         },
         {
          "chromosome": "21",
          "log": 10.058994455134526,
          "mapped": 23365,
          "sample": "colo829bl_10x",
          "technology": "10X",
          "unmapped": 188,
          "unmapped_log": 5.236441962829949
         },
         {
          "chromosome": "22",
          "log": 12.689180661016266,
          "mapped": 324221,
          "sample": "colo829bl_10x",
          "technology": "10X",
          "unmapped": 2136,
          "unmapped_log": 7.666690200080086
         },
         {
          "chromosome": "23",
          "log": 13.3396256679594,
          "mapped": 621335,
          "sample": "colo829bl_10x",
          "technology": "10X",
          "unmapped": 2360,
          "unmapped_log": 7.7664168980196555
         },
         {
          "chromosome": "24",
          "log": 3.6635616461296463,
          "mapped": 39,
          "sample": "colo829bl_10x",
          "technology": "10X",
          "unmapped": 0,
          "unmapped_log": null
         },
         {
          "chromosome": "25",
          "log": null,
          "mapped": 0,
          "sample": "colo829bl_10x",
          "technology": "10X",
          "unmapped": 0,
          "unmapped_log": null
         },
         {
          "chromosome": "1",
          "log": 12.823016198044265,
          "mapped": 370651,
          "sample": "colo829t_10x",
          "technology": "10X",
          "unmapped": 0,
          "unmapped_log": null
         },
         {
          "chromosome": "2",
          "log": 11.269324071753623,
          "mapped": 78380,
          "sample": "colo829t_10x",
          "technology": "10X",
          "unmapped": 0,
          "unmapped_log": null
         },
         {
          "chromosome": "3",
          "log": 11.227281314544014,
          "mapped": 75153,
          "sample": "colo829t_10x",
          "technology": "10X",
          "unmapped": 0,
          "unmapped_log": null
         },
         {
          "chromosome": "4",
          "log": 9.92725290608639,
          "mapped": 20481,
          "sample": "colo829t_10x",
          "technology": "10X",
          "unmapped": 0,
          "unmapped_log": null
         },
         {
          "chromosome": "5",
          "log": 13.271372863916714,
          "mapped": 580342,
          "sample": "colo829t_10x",
          "technology": "10X",
          "unmapped": 0,
          "unmapped_log": null
         },
         {
          "chromosome": "6",
          "log": null,
          "mapped": 0,
          "sample": "colo829t_10x",
          "technology": "10X",
          "unmapped": 0,
          "unmapped_log": null
         },
         {
          "chromosome": "7",
          "log": 9.946547041996576,
          "mapped": 20880,
          "sample": "colo829t_10x",
          "technology": "10X",
          "unmapped": 0,
          "unmapped_log": null
         },
         {
          "chromosome": "8",
          "log": null,
          "mapped": 0,
          "sample": "colo829t_10x",
          "technology": "10X",
          "unmapped": 0,
          "unmapped_log": null
         },
         {
          "chromosome": "9",
          "log": 9.360224821513475,
          "mapped": 11617,
          "sample": "colo829t_10x",
          "technology": "10X",
          "unmapped": 0,
          "unmapped_log": null
         },
         {
          "chromosome": "10",
          "log": 11.653721654935612,
          "mapped": 115119,
          "sample": "colo829t_10x",
          "technology": "10X",
          "unmapped": 0,
          "unmapped_log": null
         },
         {
          "chromosome": "11",
          "log": 7.422971251049421,
          "mapped": 1674,
          "sample": "colo829t_10x",
          "technology": "10X",
          "unmapped": 0,
          "unmapped_log": null
         },
         {
          "chromosome": "12",
          "log": 11.792940722360976,
          "mapped": 132315,
          "sample": "colo829t_10x",
          "technology": "10X",
          "unmapped": 0,
          "unmapped_log": null
         },
         {
          "chromosome": "13",
          "log": 9.301916315463393,
          "mapped": 10959,
          "sample": "colo829t_10x",
          "technology": "10X",
          "unmapped": 0,
          "unmapped_log": null
         },
         {
          "chromosome": "14",
          "log": null,
          "mapped": 0,
          "sample": "colo829t_10x",
          "technology": "10X",
          "unmapped": 0,
          "unmapped_log": null
         },
         {
          "chromosome": "15",
          "log": 10.348878253516611,
          "mapped": 31222,
          "sample": "colo829t_10x",
          "technology": "10X",
          "unmapped": 0,
          "unmapped_log": null
         },
         {
          "chromosome": "16",
          "log": 6.499787040655854,
          "mapped": 665,
          "sample": "colo829t_10x",
          "technology": "10X",
          "unmapped": 0,
          "unmapped_log": null
         },
         {
          "chromosome": "17",
          "log": 9.44604470533525,
          "mapped": 12658,
          "sample": "colo829t_10x",
          "technology": "10X",
          "unmapped": 0,
          "unmapped_log": null
         },
         {
          "chromosome": "18",
          "log": 11.67348697998162,
          "mapped": 117417,
          "sample": "colo829t_10x",
          "technology": "10X",
          "unmapped": 0,
          "unmapped_log": null
         },
         {
          "chromosome": "19",
          "log": 9.239704980606087,
          "mapped": 10298,
          "sample": "colo829t_10x",
          "technology": "10X",
          "unmapped": 0,
          "unmapped_log": null
         },
         {
          "chromosome": "20",
          "log": null,
          "mapped": 0,
          "sample": "colo829t_10x",
          "technology": "10X",
          "unmapped": 0,
          "unmapped_log": null
         },
         {
          "chromosome": "21",
          "log": 9.947600127154448,
          "mapped": 20902,
          "sample": "colo829t_10x",
          "technology": "10X",
          "unmapped": 0,
          "unmapped_log": null
         },
         {
          "chromosome": "22",
          "log": 12.51155902643894,
          "mapped": 271457,
          "sample": "colo829t_10x",
          "technology": "10X",
          "unmapped": 0,
          "unmapped_log": null
         },
         {
          "chromosome": "23",
          "log": 13.193649084999143,
          "mapped": 536944,
          "sample": "colo829t_10x",
          "technology": "10X",
          "unmapped": 0,
          "unmapped_log": null
         },
         {
          "chromosome": "24",
          "log": 3.7612001156935624,
          "mapped": 43,
          "sample": "colo829t_10x",
          "technology": "10X",
          "unmapped": 0,
          "unmapped_log": null
         },
         {
          "chromosome": "25",
          "log": null,
          "mapped": 0,
          "sample": "colo829t_10x",
          "technology": "10X",
          "unmapped": 0,
          "unmapped_log": null
         },
         {
          "chromosome": "1",
          "log": 9.048291920021784,
          "mapped": 8504,
          "sample": "colo829bl",
          "technology": "Truseq",
          "unmapped": 11,
          "unmapped_log": 2.3978952727983707
         },
         {
          "chromosome": "2",
          "log": 6.163314804034641,
          "mapped": 475,
          "sample": "colo829bl",
          "technology": "Truseq",
          "unmapped": 2,
          "unmapped_log": 0.6931471805599453
         },
         {
          "chromosome": "3",
          "log": 7.545389749611823,
          "mapped": 1892,
          "sample": "colo829bl",
          "technology": "Truseq",
          "unmapped": 5,
          "unmapped_log": 1.6094379124341003
         },
         {
          "chromosome": "4",
          "log": 5.8944028342648505,
          "mapped": 363,
          "sample": "colo829bl",
          "technology": "Truseq",
          "unmapped": 2,
          "unmapped_log": 0.6931471805599453
         },
         {
          "chromosome": "5",
          "log": 11.165917926433632,
          "mapped": 70680,
          "sample": "colo829bl",
          "technology": "Truseq",
          "unmapped": 11,
          "unmapped_log": 2.3978952727983707
         },
         {
          "chromosome": "6",
          "log": null,
          "mapped": 0,
          "sample": "colo829bl",
          "technology": "Truseq",
          "unmapped": 0,
          "unmapped_log": null
         },
         {
          "chromosome": "7",
          "log": 6.150602768446279,
          "mapped": 469,
          "sample": "colo829bl",
          "technology": "Truseq",
          "unmapped": 2,
          "unmapped_log": 0.6931471805599453
         },
         {
          "chromosome": "8",
          "log": null,
          "mapped": 0,
          "sample": "colo829bl",
          "technology": "Truseq",
          "unmapped": 0,
          "unmapped_log": null
         },
         {
          "chromosome": "9",
          "log": 5.733341276897746,
          "mapped": 309,
          "sample": "colo829bl",
          "technology": "Truseq",
          "unmapped": 2,
          "unmapped_log": 0.6931471805599453
         },
         {
          "chromosome": "10",
          "log": 7.873217054862741,
          "mapped": 2626,
          "sample": "colo829bl",
          "technology": "Truseq",
          "unmapped": 11,
          "unmapped_log": 2.3978952727983707
         },
         {
          "chromosome": "11",
          "log": 4.060443010546419,
          "mapped": 58,
          "sample": "colo829bl",
          "technology": "Truseq",
          "unmapped": 0,
          "unmapped_log": null
         },
         {
          "chromosome": "12",
          "log": 8.660080678964786,
          "mapped": 5768,
          "sample": "colo829bl",
          "technology": "Truseq",
          "unmapped": 4,
          "unmapped_log": 1.3862943611198906
         },
         {
          "chromosome": "13",
          "log": 5.849324779946859,
          "mapped": 347,
          "sample": "colo829bl",
          "technology": "Truseq",
          "unmapped": 0,
          "unmapped_log": null
         },
         {
          "chromosome": "14",
          "log": null,
          "mapped": 0,
          "sample": "colo829bl",
          "technology": "Truseq",
          "unmapped": 0,
          "unmapped_log": null
         },
         {
          "chromosome": "15",
          "log": 6.660575149839686,
          "mapped": 781,
          "sample": "colo829bl",
          "technology": "Truseq",
          "unmapped": 4,
          "unmapped_log": 1.3862943611198906
         },
         {
          "chromosome": "16",
          "log": 4.02535169073515,
          "mapped": 56,
          "sample": "colo829bl",
          "technology": "Truseq",
          "unmapped": 0,
          "unmapped_log": null
         },
         {
          "chromosome": "17",
          "log": 6.212606095751519,
          "mapped": 499,
          "sample": "colo829bl",
          "technology": "Truseq",
          "unmapped": 5,
          "unmapped_log": 1.6094379124341003
         },
         {
          "chromosome": "18",
          "log": 7.727094484779841,
          "mapped": 2269,
          "sample": "colo829bl",
          "technology": "Truseq",
          "unmapped": 11,
          "unmapped_log": 2.3978952727983707
         },
         {
          "chromosome": "19",
          "log": 5.220355825078324,
          "mapped": 185,
          "sample": "colo829bl",
          "technology": "Truseq",
          "unmapped": 1,
          "unmapped_log": 0
         },
         {
          "chromosome": "20",
          "log": null,
          "mapped": 0,
          "sample": "colo829bl",
          "technology": "Truseq",
          "unmapped": 0,
          "unmapped_log": null
         },
         {
          "chromosome": "21",
          "log": 5.099866427824199,
          "mapped": 164,
          "sample": "colo829bl",
          "technology": "Truseq",
          "unmapped": 1,
          "unmapped_log": 0
         },
         {
          "chromosome": "22",
          "log": 7.746732907753622,
          "mapped": 2314,
          "sample": "colo829bl",
          "technology": "Truseq",
          "unmapped": 5,
          "unmapped_log": 1.6094379124341003
         },
         {
          "chromosome": "23",
          "log": 8.553910774351401,
          "mapped": 5187,
          "sample": "colo829bl",
          "technology": "Truseq",
          "unmapped": 6,
          "unmapped_log": 1.791759469228055
         },
         {
          "chromosome": "24",
          "log": null,
          "mapped": 0,
          "sample": "colo829bl",
          "technology": "Truseq",
          "unmapped": 0,
          "unmapped_log": null
         },
         {
          "chromosome": "25",
          "log": null,
          "mapped": 0,
          "sample": "colo829bl",
          "technology": "Truseq",
          "unmapped": 0,
          "unmapped_log": null
         },
         {
          "chromosome": "1",
          "log": 9.114930187171524,
          "mapped": 9090,
          "sample": "colo829t",
          "technology": "Truseq",
          "unmapped": 7,
          "unmapped_log": 1.9459101490553132
         },
         {
          "chromosome": "2",
          "log": 6.222576268071369,
          "mapped": 504,
          "sample": "colo829t",
          "technology": "Truseq",
          "unmapped": 2,
          "unmapped_log": 0.6931471805599453
         },
         {
          "chromosome": "3",
          "log": 7.478169694159785,
          "mapped": 1769,
          "sample": "colo829t",
          "technology": "Truseq",
          "unmapped": 3,
          "unmapped_log": 1.0986122886681098
         },
         {
          "chromosome": "4",
          "log": 5.777652323222656,
          "mapped": 323,
          "sample": "colo829t",
          "technology": "Truseq",
          "unmapped": 0,
          "unmapped_log": null
         },
         {
          "chromosome": "5",
          "log": 10.930532229344816,
          "mapped": 55856,
          "sample": "colo829t",
          "technology": "Truseq",
          "unmapped": 14,
          "unmapped_log": 2.6390573296152584
         },
         {
          "chromosome": "6",
          "log": null,
          "mapped": 0,
          "sample": "colo829t",
          "technology": "Truseq",
          "unmapped": 0,
          "unmapped_log": null
         },
         {
          "chromosome": "7",
          "log": 5.69035945432406,
          "mapped": 296,
          "sample": "colo829t",
          "technology": "Truseq",
          "unmapped": 1,
          "unmapped_log": 0
         },
         {
          "chromosome": "8",
          "log": null,
          "mapped": 0,
          "sample": "colo829t",
          "technology": "Truseq",
          "unmapped": 0,
          "unmapped_log": null
         },
         {
          "chromosome": "9",
          "log": 5.703782474656201,
          "mapped": 300,
          "sample": "colo829t",
          "technology": "Truseq",
          "unmapped": 0,
          "unmapped_log": null
         },
         {
          "chromosome": "10",
          "log": 7.649692623711514,
          "mapped": 2100,
          "sample": "colo829t",
          "technology": "Truseq",
          "unmapped": 5,
          "unmapped_log": 1.6094379124341003
         },
         {
          "chromosome": "11",
          "log": 3.9512437185814275,
          "mapped": 52,
          "sample": "colo829t",
          "technology": "Truseq",
          "unmapped": 0,
          "unmapped_log": null
         },
         {
          "chromosome": "12",
          "log": 8.251924713801357,
          "mapped": 3835,
          "sample": "colo829t",
          "technology": "Truseq",
          "unmapped": 3,
          "unmapped_log": 1.0986122886681098
         },
         {
          "chromosome": "13",
          "log": 5.786897381366708,
          "mapped": 326,
          "sample": "colo829t",
          "technology": "Truseq",
          "unmapped": 0,
          "unmapped_log": null
         },
         {
          "chromosome": "14",
          "log": null,
          "mapped": 0,
          "sample": "colo829t",
          "technology": "Truseq",
          "unmapped": 0,
          "unmapped_log": null
         },
         {
          "chromosome": "15",
          "log": 6.429719478039138,
          "mapped": 620,
          "sample": "colo829t",
          "technology": "Truseq",
          "unmapped": 1,
          "unmapped_log": 0
         },
         {
          "chromosome": "16",
          "log": 4.382026634673881,
          "mapped": 80,
          "sample": "colo829t",
          "technology": "Truseq",
          "unmapped": 0,
          "unmapped_log": null
         },
         {
          "chromosome": "17",
          "log": 6.396929655216146,
          "mapped": 600,
          "sample": "colo829t",
          "technology": "Truseq",
          "unmapped": 8,
          "unmapped_log": 2.0794415416798357
         },
         {
          "chromosome": "18",
          "log": 7.642524134232902,
          "mapped": 2085,
          "sample": "colo829t",
          "technology": "Truseq",
          "unmapped": 9,
          "unmapped_log": 2.1972245773362196
         },
         {
          "chromosome": "19",
          "log": 5.4680601411351315,
          "mapped": 237,
          "sample": "colo829t",
          "technology": "Truseq",
          "unmapped": 1,
          "unmapped_log": 0
         },
         {
          "chromosome": "20",
          "log": null,
          "mapped": 0,
          "sample": "colo829t",
          "technology": "Truseq",
          "unmapped": 0,
          "unmapped_log": null
         },
         {
          "chromosome": "21",
          "log": 5.170483995038151,
          "mapped": 176,
          "sample": "colo829t",
          "technology": "Truseq",
          "unmapped": 1,
          "unmapped_log": 0
         },
         {
          "chromosome": "22",
          "log": 7.58629630715272,
          "mapped": 1971,
          "sample": "colo829t",
          "technology": "Truseq",
          "unmapped": 2,
          "unmapped_log": 0.6931471805599453
         },
         {
          "chromosome": "23",
          "log": 8.542860938164814,
          "mapped": 5130,
          "sample": "colo829t",
          "technology": "Truseq",
          "unmapped": 8,
          "unmapped_log": 2.0794415416798357
         },
         {
          "chromosome": "24",
          "log": null,
          "mapped": 0,
          "sample": "colo829t",
          "technology": "Truseq",
          "unmapped": 0,
          "unmapped_log": null
         },
         {
          "chromosome": "25",
          "log": null,
          "mapped": 0,
          "sample": "colo829t",
          "technology": "Truseq",
          "unmapped": 0,
          "unmapped_log": null
         }
        ]
       },
       "encoding": {
        "color": {
         "field": "technology",
         "type": "nominal"
        },
        "column": {
         "field": "chromosome",
         "type": "quantitative"
        },
        "x": {
         "axis": {
          "title": ""
         },
         "field": "technology",
         "scale": {
          "rangeStep": 15
         },
         "type": "nominal"
        },
        "y": {
         "field": "unmapped",
         "type": "quantitative"
        }
       },
       "mark": "bar"
      },
      "image/png": "[encoded data removed]",
      "text/plain": [
       "<VegaLite 2 object>\n",
       "\n",
       "If you see this message, it means the renderer has not been properly enabled\n",
       "for the frontend that you are using. For more information, see\n",
       "https://altair-viz.github.io/user_guide/troubleshooting.html\n"
      ]
     },
     "execution_count": 17,
     "metadata": {},
     "output_type": "execute_result"
    }
   ],
   "source": [
    "tech_chart_unmapped = alt.Chart(datasets).mark_bar().encode(\n",
    "        alt.X('technology:N', scale=alt.Scale(rangeStep=15), axis=alt.Axis(title='')),\n",
    "        y = 'unmapped:Q',\n",
    "        color = alt.Color('technology:N'),\n",
    "        column = alt.Column('chromosome:Q')\n",
    ")\n",
    "\n",
    "tech_chart_unmapped"
   ]
  },
  {
   "cell_type": "markdown",
   "metadata": {},
   "source": [
    "# Flagstats"
   ]
  },
  {
   "cell_type": "code",
   "execution_count": 18,
   "metadata": {},
   "outputs": [],
   "source": [
    "# Thanks @ewels :)\n",
    "# https://github.com/ewels/MultiQC/blob/master/multiqc/modules/samtools/flagstat.py\n",
    "\n",
    "# And good summary, using the samtools flagstat source: https://www.biostars.org/p/12475/\n",
    "\n",
    "# flagstat has one thing per line, documented here (search for flagstat):\n",
    "# http://www.htslib.org/doc/samtools.html\n",
    "\n",
    "flagstat_regexes = {\n",
    "    'total':         r\"(\\d+) \\+ (\\d+) in total \\(QC-passed reads \\+ QC-failed reads\\)\",\n",
    "    'secondary':     r\"(\\d+) \\+ (\\d+) secondary\",\n",
    "    'supplementary': r\"(\\d+) \\+ (\\d+) supplementary\",\n",
    "    'duplicates':    r\"(\\d+) \\+ (\\d+) duplicates\",\n",
    "    'mapped':        r\"(\\d+) \\+ (\\d+) mapped \\((.+):(.+)\\)\",\n",
    "    'paired in sequencing': r\"(\\d+) \\+ (\\d+) paired in sequencing\",\n",
    "    'read1':         r\"(\\d+) \\+ (\\d+) read1\",\n",
    "    'read2':         r\"(\\d+) \\+ (\\d+) read2\",\n",
    "    'properly paired': r\"(\\d+) \\+ (\\d+) properly paired \\((.+):(.+)\\)\",\n",
    "    'with itself and mate mapped': r\"(\\d+) \\+ (\\d+) with itself and mate mapped\",\n",
    "    'singletons':    r\"(\\d+) \\+ (\\d+) singletons \\((.+):(.+)\\)\",\n",
    "    'with mate mapped to a different chr': r\"(\\d+) \\+ (\\d+) with mate mapped to a different chr\",\n",
    "    'with mate mapped to a different chr (mapQ >= 5)': r\"(\\d+) \\+ (\\d+) with mate mapped to a different chr \\(mapQ>=5\\)\",\n",
    "}\n",
    "\n",
    "def parse_single_report(file_obj):\n",
    "    \"\"\"\n",
    "    Take a filename, parse the data assuming it's a flagstat file\n",
    "    Returns a dictionary {'lineName_pass' : value, 'lineName_fail' : value}\n",
    "    \"\"\"\n",
    "    parsed_data = {}\n",
    "\n",
    "    re_groups = ['passed', 'failed', 'passed_pct', 'failed_pct']\n",
    "    for k, r in flagstat_regexes.items():\n",
    "        r_search = re.search(r, file_obj, re.MULTILINE)\n",
    "        if r_search:\n",
    "            for i,j in enumerate(re_groups):\n",
    "                try:\n",
    "                    key = \"{}_{}\".format(k, j)\n",
    "                    val = r_search.group(i+1).strip('% ')\n",
    "                    parsed_data[key] = float(val) if ('.' in val) else int(val)\n",
    "                except IndexError:\n",
    "                    pass # Not all regexes have percentages\n",
    "                except ValueError:\n",
    "                    parsed_data[key] = float('nan')\n",
    "    # Work out the total read count\n",
    "    try:\n",
    "        parsed_data['flagstat_total'] = parsed_data['total_passed'] + parsed_data['total_failed']\n",
    "    except KeyError:\n",
    "        pass\n",
    "    return parsed_data"
   ]
  },
  {
   "cell_type": "code",
   "execution_count": 19,
   "metadata": {},
   "outputs": [
    {
     "data": {
      "text/html": [
       "<div>\n",
       "<style scoped>\n",
       "    .dataframe tbody tr th:only-of-type {\n",
       "        vertical-align: middle;\n",
       "    }\n",
       "\n",
       "    .dataframe tbody tr th {\n",
       "        vertical-align: top;\n",
       "    }\n",
       "\n",
       "    .dataframe thead th {\n",
       "        text-align: right;\n",
       "    }\n",
       "</style>\n",
       "<table border=\"1\" class=\"dataframe\">\n",
       "  <thead>\n",
       "    <tr style=\"text-align: right;\">\n",
       "      <th></th>\n",
       "      <th>colo829bl</th>\n",
       "      <th>colo829bl_10x</th>\n",
       "      <th>colo829t</th>\n",
       "      <th>colo829t_10x</th>\n",
       "    </tr>\n",
       "  </thead>\n",
       "  <tbody>\n",
       "    <tr>\n",
       "      <th>duplicates_failed</th>\n",
       "      <td>0.00</td>\n",
       "      <td>0.00</td>\n",
       "      <td>0.00</td>\n",
       "      <td>0.00</td>\n",
       "    </tr>\n",
       "    <tr>\n",
       "      <th>duplicates_passed</th>\n",
       "      <td>9796.00</td>\n",
       "      <td>177383.00</td>\n",
       "      <td>6803.00</td>\n",
       "      <td>176861.00</td>\n",
       "    </tr>\n",
       "    <tr>\n",
       "      <th>flagstat_total</th>\n",
       "      <td>103029.00</td>\n",
       "      <td>2917658.00</td>\n",
       "      <td>85415.00</td>\n",
       "      <td>2419177.00</td>\n",
       "    </tr>\n",
       "    <tr>\n",
       "      <th>mapped_failed</th>\n",
       "      <td>0.00</td>\n",
       "      <td>0.00</td>\n",
       "      <td>0.00</td>\n",
       "      <td>0.00</td>\n",
       "    </tr>\n",
       "    <tr>\n",
       "      <th>mapped_failed_pct</th>\n",
       "      <td>NaN</td>\n",
       "      <td>NaN</td>\n",
       "      <td>NaN</td>\n",
       "      <td>NaN</td>\n",
       "    </tr>\n",
       "    <tr>\n",
       "      <th>mapped_passed</th>\n",
       "      <td>102946.00</td>\n",
       "      <td>2900160.00</td>\n",
       "      <td>85350.00</td>\n",
       "      <td>2419177.00</td>\n",
       "    </tr>\n",
       "    <tr>\n",
       "      <th>mapped_passed_pct</th>\n",
       "      <td>99.92</td>\n",
       "      <td>99.40</td>\n",
       "      <td>99.92</td>\n",
       "      <td>100.00</td>\n",
       "    </tr>\n",
       "    <tr>\n",
       "      <th>paired in sequencing_failed</th>\n",
       "      <td>0.00</td>\n",
       "      <td>0.00</td>\n",
       "      <td>0.00</td>\n",
       "      <td>0.00</td>\n",
       "    </tr>\n",
       "    <tr>\n",
       "      <th>paired in sequencing_passed</th>\n",
       "      <td>102766.00</td>\n",
       "      <td>2891015.00</td>\n",
       "      <td>85102.00</td>\n",
       "      <td>2419177.00</td>\n",
       "    </tr>\n",
       "    <tr>\n",
       "      <th>properly paired_failed</th>\n",
       "      <td>0.00</td>\n",
       "      <td>0.00</td>\n",
       "      <td>0.00</td>\n",
       "      <td>0.00</td>\n",
       "    </tr>\n",
       "    <tr>\n",
       "      <th>properly paired_failed_pct</th>\n",
       "      <td>NaN</td>\n",
       "      <td>NaN</td>\n",
       "      <td>NaN</td>\n",
       "      <td>NaN</td>\n",
       "    </tr>\n",
       "    <tr>\n",
       "      <th>properly paired_passed</th>\n",
       "      <td>100286.00</td>\n",
       "      <td>1381549.00</td>\n",
       "      <td>82767.00</td>\n",
       "      <td>1036846.00</td>\n",
       "    </tr>\n",
       "    <tr>\n",
       "      <th>properly paired_passed_pct</th>\n",
       "      <td>97.59</td>\n",
       "      <td>47.79</td>\n",
       "      <td>97.26</td>\n",
       "      <td>42.86</td>\n",
       "    </tr>\n",
       "    <tr>\n",
       "      <th>read1_failed</th>\n",
       "      <td>0.00</td>\n",
       "      <td>0.00</td>\n",
       "      <td>0.00</td>\n",
       "      <td>0.00</td>\n",
       "    </tr>\n",
       "    <tr>\n",
       "      <th>read1_passed</th>\n",
       "      <td>51531.00</td>\n",
       "      <td>1584277.00</td>\n",
       "      <td>42675.00</td>\n",
       "      <td>1350690.00</td>\n",
       "    </tr>\n",
       "    <tr>\n",
       "      <th>read2_failed</th>\n",
       "      <td>0.00</td>\n",
       "      <td>0.00</td>\n",
       "      <td>0.00</td>\n",
       "      <td>0.00</td>\n",
       "    </tr>\n",
       "    <tr>\n",
       "      <th>read2_passed</th>\n",
       "      <td>51235.00</td>\n",
       "      <td>1306738.00</td>\n",
       "      <td>42427.00</td>\n",
       "      <td>1068487.00</td>\n",
       "    </tr>\n",
       "    <tr>\n",
       "      <th>secondary_failed</th>\n",
       "      <td>0.00</td>\n",
       "      <td>0.00</td>\n",
       "      <td>0.00</td>\n",
       "      <td>0.00</td>\n",
       "    </tr>\n",
       "    <tr>\n",
       "      <th>secondary_passed</th>\n",
       "      <td>263.00</td>\n",
       "      <td>26643.00</td>\n",
       "      <td>313.00</td>\n",
       "      <td>0.00</td>\n",
       "    </tr>\n",
       "    <tr>\n",
       "      <th>singletons_failed</th>\n",
       "      <td>0.00</td>\n",
       "      <td>0.00</td>\n",
       "      <td>0.00</td>\n",
       "      <td>0.00</td>\n",
       "    </tr>\n",
       "    <tr>\n",
       "      <th>singletons_failed_pct</th>\n",
       "      <td>NaN</td>\n",
       "      <td>NaN</td>\n",
       "      <td>NaN</td>\n",
       "      <td>NaN</td>\n",
       "    </tr>\n",
       "    <tr>\n",
       "      <th>singletons_passed</th>\n",
       "      <td>85.00</td>\n",
       "      <td>628748.00</td>\n",
       "      <td>68.00</td>\n",
       "      <td>643254.00</td>\n",
       "    </tr>\n",
       "    <tr>\n",
       "      <th>singletons_passed_pct</th>\n",
       "      <td>0.08</td>\n",
       "      <td>21.75</td>\n",
       "      <td>0.08</td>\n",
       "      <td>26.59</td>\n",
       "    </tr>\n",
       "    <tr>\n",
       "      <th>supplementary_failed</th>\n",
       "      <td>0.00</td>\n",
       "      <td>0.00</td>\n",
       "      <td>0.00</td>\n",
       "      <td>0.00</td>\n",
       "    </tr>\n",
       "    <tr>\n",
       "      <th>supplementary_passed</th>\n",
       "      <td>0.00</td>\n",
       "      <td>0.00</td>\n",
       "      <td>0.00</td>\n",
       "      <td>0.00</td>\n",
       "    </tr>\n",
       "    <tr>\n",
       "      <th>total_failed</th>\n",
       "      <td>0.00</td>\n",
       "      <td>0.00</td>\n",
       "      <td>0.00</td>\n",
       "      <td>0.00</td>\n",
       "    </tr>\n",
       "    <tr>\n",
       "      <th>total_passed</th>\n",
       "      <td>103029.00</td>\n",
       "      <td>2917658.00</td>\n",
       "      <td>85415.00</td>\n",
       "      <td>2419177.00</td>\n",
       "    </tr>\n",
       "    <tr>\n",
       "      <th>with itself and mate mapped_failed</th>\n",
       "      <td>0.00</td>\n",
       "      <td>0.00</td>\n",
       "      <td>0.00</td>\n",
       "      <td>0.00</td>\n",
       "    </tr>\n",
       "    <tr>\n",
       "      <th>with itself and mate mapped_passed</th>\n",
       "      <td>102598.00</td>\n",
       "      <td>2244769.00</td>\n",
       "      <td>84969.00</td>\n",
       "      <td>1775923.00</td>\n",
       "    </tr>\n",
       "    <tr>\n",
       "      <th>with mate mapped to a different chr (mapQ &gt;= 5)_failed</th>\n",
       "      <td>0.00</td>\n",
       "      <td>0.00</td>\n",
       "      <td>0.00</td>\n",
       "      <td>0.00</td>\n",
       "    </tr>\n",
       "    <tr>\n",
       "      <th>with mate mapped to a different chr (mapQ &gt;= 5)_passed</th>\n",
       "      <td>662.00</td>\n",
       "      <td>83995.00</td>\n",
       "      <td>790.00</td>\n",
       "      <td>361058.00</td>\n",
       "    </tr>\n",
       "    <tr>\n",
       "      <th>with mate mapped to a different chr_failed</th>\n",
       "      <td>0.00</td>\n",
       "      <td>0.00</td>\n",
       "      <td>0.00</td>\n",
       "      <td>0.00</td>\n",
       "    </tr>\n",
       "    <tr>\n",
       "      <th>with mate mapped to a different chr_passed</th>\n",
       "      <td>2232.00</td>\n",
       "      <td>508484.00</td>\n",
       "      <td>2142.00</td>\n",
       "      <td>1565758.00</td>\n",
       "    </tr>\n",
       "  </tbody>\n",
       "</table>\n",
       "</div>"
      ],
      "text/plain": [
       "                                                    colo829bl  colo829bl_10x  \\\n",
       "duplicates_failed                                        0.00           0.00   \n",
       "duplicates_passed                                     9796.00      177383.00   \n",
       "flagstat_total                                      103029.00     2917658.00   \n",
       "mapped_failed                                            0.00           0.00   \n",
       "mapped_failed_pct                                         NaN            NaN   \n",
       "mapped_passed                                       102946.00     2900160.00   \n",
       "mapped_passed_pct                                       99.92          99.40   \n",
       "paired in sequencing_failed                              0.00           0.00   \n",
       "paired in sequencing_passed                         102766.00     2891015.00   \n",
       "properly paired_failed                                   0.00           0.00   \n",
       "properly paired_failed_pct                                NaN            NaN   \n",
       "properly paired_passed                              100286.00     1381549.00   \n",
       "properly paired_passed_pct                              97.59          47.79   \n",
       "read1_failed                                             0.00           0.00   \n",
       "read1_passed                                         51531.00     1584277.00   \n",
       "read2_failed                                             0.00           0.00   \n",
       "read2_passed                                         51235.00     1306738.00   \n",
       "secondary_failed                                         0.00           0.00   \n",
       "secondary_passed                                       263.00       26643.00   \n",
       "singletons_failed                                        0.00           0.00   \n",
       "singletons_failed_pct                                     NaN            NaN   \n",
       "singletons_passed                                       85.00      628748.00   \n",
       "singletons_passed_pct                                    0.08          21.75   \n",
       "supplementary_failed                                     0.00           0.00   \n",
       "supplementary_passed                                     0.00           0.00   \n",
       "total_failed                                             0.00           0.00   \n",
       "total_passed                                        103029.00     2917658.00   \n",
       "with itself and mate mapped_failed                       0.00           0.00   \n",
       "with itself and mate mapped_passed                  102598.00     2244769.00   \n",
       "with mate mapped to a different chr (mapQ >= 5)...       0.00           0.00   \n",
       "with mate mapped to a different chr (mapQ >= 5)...     662.00       83995.00   \n",
       "with mate mapped to a different chr_failed               0.00           0.00   \n",
       "with mate mapped to a different chr_passed            2232.00      508484.00   \n",
       "\n",
       "                                                    colo829t  colo829t_10x  \n",
       "duplicates_failed                                       0.00          0.00  \n",
       "duplicates_passed                                    6803.00     176861.00  \n",
       "flagstat_total                                      85415.00    2419177.00  \n",
       "mapped_failed                                           0.00          0.00  \n",
       "mapped_failed_pct                                        NaN           NaN  \n",
       "mapped_passed                                       85350.00    2419177.00  \n",
       "mapped_passed_pct                                      99.92        100.00  \n",
       "paired in sequencing_failed                             0.00          0.00  \n",
       "paired in sequencing_passed                         85102.00    2419177.00  \n",
       "properly paired_failed                                  0.00          0.00  \n",
       "properly paired_failed_pct                               NaN           NaN  \n",
       "properly paired_passed                              82767.00    1036846.00  \n",
       "properly paired_passed_pct                             97.26         42.86  \n",
       "read1_failed                                            0.00          0.00  \n",
       "read1_passed                                        42675.00    1350690.00  \n",
       "read2_failed                                            0.00          0.00  \n",
       "read2_passed                                        42427.00    1068487.00  \n",
       "secondary_failed                                        0.00          0.00  \n",
       "secondary_passed                                      313.00          0.00  \n",
       "singletons_failed                                       0.00          0.00  \n",
       "singletons_failed_pct                                    NaN           NaN  \n",
       "singletons_passed                                      68.00     643254.00  \n",
       "singletons_passed_pct                                   0.08         26.59  \n",
       "supplementary_failed                                    0.00          0.00  \n",
       "supplementary_passed                                    0.00          0.00  \n",
       "total_failed                                            0.00          0.00  \n",
       "total_passed                                        85415.00    2419177.00  \n",
       "with itself and mate mapped_failed                      0.00          0.00  \n",
       "with itself and mate mapped_passed                  84969.00    1775923.00  \n",
       "with mate mapped to a different chr (mapQ >= 5)...      0.00          0.00  \n",
       "with mate mapped to a different chr (mapQ >= 5)...    790.00     361058.00  \n",
       "with mate mapped to a different chr_failed              0.00          0.00  \n",
       "with mate mapped to a different chr_passed           2142.00    1565758.00  "
      ]
     },
     "execution_count": 19,
     "metadata": {},
     "output_type": "execute_result"
    }
   ],
   "source": [
    "files = Path('../data/processed/manual_telomere_coords/').glob('*-flagstat-*.txt')\n",
    "json_flagstats = defaultdict(dict)\n",
    "\n",
    "for f in files:\n",
    "    with open(f, 'r') as flagstat_out:\n",
    "        fname = str.lower(f.name.replace('-sliced-flagstat-hg38.hist.txt', '')).replace('-', '_')\n",
    "        json_flagstats[fname] = parse_single_report(flagstat_out.read())\n",
    "        pd_flagstats = pd.DataFrame.from_dict(json_flagstats)\n",
    "\n",
    "pd_flagstats"
   ]
  },
  {
   "cell_type": "code",
   "execution_count": 37,
   "metadata": {},
   "outputs": [
    {
     "data": {
      "text/plain": [
       "(Index(['colo829bl', 'colo829bl_10x', 'colo829t', 'colo829t_10x'], dtype='object'),\n",
       " {'colo829bl', 'colo829bl_10x', 'colo829t', 'colo829t_10x'})"
      ]
     },
     "execution_count": 37,
     "metadata": {},
     "output_type": "execute_result"
    }
   ],
   "source": [
    "pd_flagstats.columns, set(datasets['sample'])"
   ]
  },
  {
   "cell_type": "markdown",
   "metadata": {},
   "source": [
    "## Mapped pct reads (reads_mapped_chrom / flagstats.total_passed)"
   ]
  },
  {
   "cell_type": "code",
   "execution_count": 54,
   "metadata": {},
   "outputs": [
    {
     "data": {
      "application/vnd.vegalite.v2+json": {
       "$schema": "https://vega.github.io/schema/vega-lite/v2.6.0.json",
       "config": {
        "view": {
         "height": 300,
         "width": 400
        }
       },
       "data": {
        "values": [
         {
          "chromosome": "1",
          "log": 12.937329345172804,
          "mapped": 415538,
          "mapped_pct": 14.242176430548062,
          "sample": "colo829bl_10x",
          "technology": "10X",
          "unmapped": 2456,
          "unmapped_log": 7.806289289267033
         },
         {
          "chromosome": "2",
          "log": 11.438417412795166,
          "mapped": 92820,
          "mapped_pct": 3.181318715216108,
          "sample": "colo829bl_10x",
          "technology": "10X",
          "unmapped": 457,
          "unmapped_log": 6.124683390894205
         },
         {
          "chromosome": "3",
          "log": 11.4132487657807,
          "mapped": 90513,
          "mapped_pct": 3.102248447213484,
          "sample": "colo829bl_10x",
          "technology": "10X",
          "unmapped": 996,
          "unmapped_log": 6.903747257584598
         },
         {
          "chromosome": "4",
          "log": 10.183729515890214,
          "mapped": 26469,
          "mapped_pct": 0.9072002270314067,
          "sample": "colo829bl_10x",
          "technology": "10X",
          "unmapped": 437,
          "unmapped_log": 6.07993319509559
         },
         {
          "chromosome": "5",
          "log": 13.490007538895435,
          "mapped": 722164,
          "mapped_pct": 24.751495891567828,
          "sample": "colo829bl_10x",
          "technology": "10X",
          "unmapped": 2373,
          "unmapped_log": 7.771910256435763
         },
         {
          "chromosome": "6",
          "log": null,
          "mapped": 0,
          "mapped_pct": 0,
          "sample": "colo829bl_10x",
          "technology": "10X",
          "unmapped": 0,
          "unmapped_log": null
         },
         {
          "chromosome": "7",
          "log": 10.34154891634728,
          "mapped": 30994,
          "mapped_pct": 1.0622903712498175,
          "sample": "colo829bl_10x",
          "technology": "10X",
          "unmapped": 776,
          "unmapped_log": 6.654152520183219
         },
         {
          "chromosome": "8",
          "log": null,
          "mapped": 0,
          "mapped_pct": 0,
          "sample": "colo829bl_10x",
          "technology": "10X",
          "unmapped": 0,
          "unmapped_log": null
         },
         {
          "chromosome": "9",
          "log": 9.427948631791715,
          "mapped": 12431,
          "mapped_pct": 0.4260609022716165,
          "sample": "colo829bl_10x",
          "technology": "10X",
          "unmapped": 149,
          "unmapped_log": 5.003946305945459
         },
         {
          "chromosome": "10",
          "log": 11.831684603992475,
          "mapped": 137542,
          "mapped_pct": 4.714123451069317,
          "sample": "colo829bl_10x",
          "technology": "10X",
          "unmapped": 932,
          "unmapped_log": 6.837332814685591
         },
         {
          "chromosome": "11",
          "log": 8.065265208897733,
          "mapped": 3182,
          "mapped_pct": 0.10906007489568689,
          "sample": "colo829bl_10x",
          "technology": "10X",
          "unmapped": 56,
          "unmapped_log": 4.02535169073515
         },
         {
          "chromosome": "12",
          "log": 12.073911741927835,
          "mapped": 175240,
          "mapped_pct": 6.0061871542175265,
          "sample": "colo829bl_10x",
          "technology": "10X",
          "unmapped": 1409,
          "unmapped_log": 7.25063551189868
         },
         {
          "chromosome": "13",
          "log": 9.536545799098715,
          "mapped": 13857,
          "mapped_pct": 0.4749357189910538,
          "sample": "colo829bl_10x",
          "technology": "10X",
          "unmapped": 288,
          "unmapped_log": 5.662960480135946
         },
         {
          "chromosome": "14",
          "log": null,
          "mapped": 0,
          "mapped_pct": 0,
          "sample": "colo829bl_10x",
          "technology": "10X",
          "unmapped": 0,
          "unmapped_log": null
         },
         {
          "chromosome": "15",
          "log": 10.477851197106107,
          "mapped": 35520,
          "mapped_pct": 1.2174147895332488,
          "sample": "colo829bl_10x",
          "technology": "10X",
          "unmapped": 437,
          "unmapped_log": 6.07993319509559
         },
         {
          "chromosome": "16",
          "log": 6.851184927493743,
          "mapped": 945,
          "mapped_pct": 0.03238899144450789,
          "sample": "colo829bl_10x",
          "technology": "10X",
          "unmapped": 26,
          "unmapped_log": 3.258096538021482
         },
         {
          "chromosome": "17",
          "log": 9.565424050523422,
          "mapped": 14263,
          "mapped_pct": 0.48885098938943494,
          "sample": "colo829bl_10x",
          "technology": "10X",
          "unmapped": 254,
          "unmapped_log": 5.537334267018537
         },
         {
          "chromosome": "18",
          "log": 11.893195834443837,
          "mapped": 146268,
          "mapped_pct": 5.01319894243945,
          "sample": "colo829bl_10x",
          "technology": "10X",
          "unmapped": 1480,
          "unmapped_log": 7.299797366758161
         },
         {
          "chromosome": "19",
          "log": 9.507031738585551,
          "mapped": 13454,
          "mapped_pct": 0.4611232707877345,
          "sample": "colo829bl_10x",
          "technology": "10X",
          "unmapped": 288,
          "unmapped_log": 5.662960480135946
         },
         {
          "chromosome": "20",
          "log": null,
          "mapped": 0,
          "mapped_pct": 0,
          "sample": "colo829bl_10x",
          "technology": "10X",
          "unmapped": 0,
          "unmapped_log": null
         },
         {
          "chromosome": "21",
          "log": 10.058994455134526,
          "mapped": 23365,
          "mapped_pct": 0.80081352920733,
          "sample": "colo829bl_10x",
          "technology": "10X",
          "unmapped": 188,
          "unmapped_log": 5.236441962829949
         },
         {
          "chromosome": "22",
          "log": 12.689180661016266,
          "mapped": 324221,
          "mapped_pct": 11.11237163505798,
          "sample": "colo829bl_10x",
          "technology": "10X",
          "unmapped": 2136,
          "unmapped_log": 7.666690200080086
         },
         {
          "chromosome": "23",
          "log": 13.3396256679594,
          "mapped": 621335,
          "mapped_pct": 21.295676189601387,
          "sample": "colo829bl_10x",
          "technology": "10X",
          "unmapped": 2360,
          "unmapped_log": 7.7664168980196555
         },
         {
          "chromosome": "24",
          "log": 3.6635616461296463,
          "mapped": 39,
          "mapped_pct": 0.0013366885358050875,
          "sample": "colo829bl_10x",
          "technology": "10X",
          "unmapped": 0,
          "unmapped_log": null
         },
         {
          "chromosome": "25",
          "log": null,
          "mapped": 0,
          "mapped_pct": 0,
          "sample": "colo829bl_10x",
          "technology": "10X",
          "unmapped": 0,
          "unmapped_log": null
         },
         {
          "chromosome": "1",
          "log": 12.823016198044265,
          "mapped": 370651,
          "mapped_pct": 15.32136755599115,
          "sample": "colo829t_10x",
          "technology": "10X",
          "unmapped": 0,
          "unmapped_log": null
         },
         {
          "chromosome": "2",
          "log": 11.269324071753623,
          "mapped": 78380,
          "mapped_pct": 3.239944824210878,
          "sample": "colo829t_10x",
          "technology": "10X",
          "unmapped": 0,
          "unmapped_log": null
         },
         {
          "chromosome": "3",
          "log": 11.227281314544014,
          "mapped": 75153,
          "mapped_pct": 3.1065523523082437,
          "sample": "colo829t_10x",
          "technology": "10X",
          "unmapped": 0,
          "unmapped_log": null
         },
         {
          "chromosome": "4",
          "log": 9.92725290608639,
          "mapped": 20481,
          "mapped_pct": 0.8466102314960832,
          "sample": "colo829t_10x",
          "technology": "10X",
          "unmapped": 0,
          "unmapped_log": null
         },
         {
          "chromosome": "5",
          "log": 13.271372863916714,
          "mapped": 580342,
          "mapped_pct": 23.989232701865138,
          "sample": "colo829t_10x",
          "technology": "10X",
          "unmapped": 0,
          "unmapped_log": null
         },
         {
          "chromosome": "6",
          "log": null,
          "mapped": 0,
          "mapped_pct": 0,
          "sample": "colo829t_10x",
          "technology": "10X",
          "unmapped": 0,
          "unmapped_log": null
         },
         {
          "chromosome": "7",
          "log": 9.946547041996576,
          "mapped": 20880,
          "mapped_pct": 0.8631034438571464,
          "sample": "colo829t_10x",
          "technology": "10X",
          "unmapped": 0,
          "unmapped_log": null
         },
         {
          "chromosome": "8",
          "log": null,
          "mapped": 0,
          "mapped_pct": 0,
          "sample": "colo829t_10x",
          "technology": "10X",
          "unmapped": 0,
          "unmapped_log": null
         },
         {
          "chromosome": "9",
          "log": 9.360224821513475,
          "mapped": 11617,
          "mapped_pct": 0.4802046315751183,
          "sample": "colo829t_10x",
          "technology": "10X",
          "unmapped": 0,
          "unmapped_log": null
         },
         {
          "chromosome": "10",
          "log": 11.653721654935612,
          "mapped": 115119,
          "mapped_pct": 4.7586017889555,
          "sample": "colo829t_10x",
          "technology": "10X",
          "unmapped": 0,
          "unmapped_log": null
         },
         {
          "chromosome": "11",
          "log": 7.422971251049421,
          "mapped": 1674,
          "mapped_pct": 0.06919708644716778,
          "sample": "colo829t_10x",
          "technology": "10X",
          "unmapped": 0,
          "unmapped_log": null
         },
         {
          "chromosome": "12",
          "log": 11.792940722360976,
          "mapped": 132315,
          "mapped_pct": 5.469422038982679,
          "sample": "colo829t_10x",
          "technology": "10X",
          "unmapped": 0,
          "unmapped_log": null
         },
         {
          "chromosome": "13",
          "log": 9.301916315463393,
          "mapped": 10959,
          "mapped_pct": 0.4530052989095052,
          "sample": "colo829t_10x",
          "technology": "10X",
          "unmapped": 0,
          "unmapped_log": null
         },
         {
          "chromosome": "14",
          "log": null,
          "mapped": 0,
          "mapped_pct": 0,
          "sample": "colo829t_10x",
          "technology": "10X",
          "unmapped": 0,
          "unmapped_log": null
         },
         {
          "chromosome": "15",
          "log": 10.348878253516611,
          "mapped": 31222,
          "mapped_pct": 1.2906042013461603,
          "sample": "colo829t_10x",
          "technology": "10X",
          "unmapped": 0,
          "unmapped_log": null
         },
         {
          "chromosome": "16",
          "log": 6.499787040655854,
          "mapped": 665,
          "mapped_pct": 0.027488687268438814,
          "sample": "colo829t_10x",
          "technology": "10X",
          "unmapped": 0,
          "unmapped_log": null
         },
         {
          "chromosome": "17",
          "log": 9.44604470533525,
          "mapped": 12658,
          "mapped_pct": 0.5232357946524789,
          "sample": "colo829t_10x",
          "technology": "10X",
          "unmapped": 0,
          "unmapped_log": null
         },
         {
          "chromosome": "18",
          "log": 11.67348697998162,
          "mapped": 117417,
          "mapped_pct": 4.853592771425985,
          "sample": "colo829t_10x",
          "technology": "10X",
          "unmapped": 0,
          "unmapped_log": null
         },
         {
          "chromosome": "19",
          "log": 9.239704980606087,
          "mapped": 10298,
          "mapped_pct": 0.42568195712839535,
          "sample": "colo829t_10x",
          "technology": "10X",
          "unmapped": 0,
          "unmapped_log": null
         },
         {
          "chromosome": "20",
          "log": null,
          "mapped": 0,
          "mapped_pct": 0,
          "sample": "colo829t_10x",
          "technology": "10X",
          "unmapped": 0,
          "unmapped_log": null
         },
         {
          "chromosome": "21",
          "log": 9.947600127154448,
          "mapped": 20902,
          "mapped_pct": 0.8640128440374557,
          "sample": "colo829t_10x",
          "technology": "10X",
          "unmapped": 0,
          "unmapped_log": null
         },
         {
          "chromosome": "22",
          "log": 12.51155902643894,
          "mapped": 271457,
          "mapped_pct": 11.221047488464052,
          "sample": "colo829t_10x",
          "technology": "10X",
          "unmapped": 0,
          "unmapped_log": null
         },
         {
          "chromosome": "23",
          "log": 13.193649084999143,
          "mapped": 536944,
          "mapped_pct": 22.19531683708964,
          "sample": "colo829t_10x",
          "technology": "10X",
          "unmapped": 0,
          "unmapped_log": null
         },
         {
          "chromosome": "24",
          "log": 3.7612001156935624,
          "mapped": 43,
          "mapped_pct": 0.001777463988786269,
          "sample": "colo829t_10x",
          "technology": "10X",
          "unmapped": 0,
          "unmapped_log": null
         },
         {
          "chromosome": "25",
          "log": null,
          "mapped": 0,
          "mapped_pct": 0,
          "sample": "colo829t_10x",
          "technology": "10X",
          "unmapped": 0,
          "unmapped_log": null
         },
         {
          "chromosome": "1",
          "log": 9.048291920021784,
          "mapped": 8504,
          "mapped_pct": 8.253986741597027,
          "sample": "colo829bl",
          "technology": "Truseq",
          "unmapped": 11,
          "unmapped_log": 2.3978952727983707
         },
         {
          "chromosome": "2",
          "log": 6.163314804034641,
          "mapped": 475,
          "mapped_pct": 0.46103524250453753,
          "sample": "colo829bl",
          "technology": "Truseq",
          "unmapped": 2,
          "unmapped_log": 0.6931471805599453
         },
         {
          "chromosome": "3",
          "log": 7.545389749611823,
          "mapped": 1892,
          "mapped_pct": 1.836376165933863,
          "sample": "colo829bl",
          "technology": "Truseq",
          "unmapped": 5,
          "unmapped_log": 1.6094379124341003
         },
         {
          "chromosome": "4",
          "log": 5.8944028342648505,
          "mapped": 363,
          "mapped_pct": 0.35232798532452025,
          "sample": "colo829bl",
          "technology": "Truseq",
          "unmapped": 2,
          "unmapped_log": 0.6931471805599453
         },
         {
          "chromosome": "5",
          "log": 11.165917926433632,
          "mapped": 70680,
          "mapped_pct": 68.60204408467519,
          "sample": "colo829bl",
          "technology": "Truseq",
          "unmapped": 11,
          "unmapped_log": 2.3978952727983707
         },
         {
          "chromosome": "6",
          "log": null,
          "mapped": 0,
          "mapped_pct": 0,
          "sample": "colo829bl",
          "technology": "Truseq",
          "unmapped": 0,
          "unmapped_log": null
         },
         {
          "chromosome": "7",
          "log": 6.150602768446279,
          "mapped": 469,
          "mapped_pct": 0.45521163944132237,
          "sample": "colo829bl",
          "technology": "Truseq",
          "unmapped": 2,
          "unmapped_log": 0.6931471805599453
         },
         {
          "chromosome": "8",
          "log": null,
          "mapped": 0,
          "mapped_pct": 0,
          "sample": "colo829bl",
          "technology": "Truseq",
          "unmapped": 0,
          "unmapped_log": null
         },
         {
          "chromosome": "9",
          "log": 5.733341276897746,
          "mapped": 309,
          "mapped_pct": 0.2999155577555834,
          "sample": "colo829bl",
          "technology": "Truseq",
          "unmapped": 2,
          "unmapped_log": 0.6931471805599453
         },
         {
          "chromosome": "10",
          "log": 7.873217054862741,
          "mapped": 2626,
          "mapped_pct": 2.5487969406671906,
          "sample": "colo829bl",
          "technology": "Truseq",
          "unmapped": 11,
          "unmapped_log": 2.3978952727983707
         },
         {
          "chromosome": "11",
          "log": 4.060443010546419,
          "mapped": 58,
          "mapped_pct": 0.05629482961108037,
          "sample": "colo829bl",
          "technology": "Truseq",
          "unmapped": 0,
          "unmapped_log": null
         },
         {
          "chromosome": "12",
          "log": 8.660080678964786,
          "mapped": 5768,
          "mapped_pct": 5.59842374477089,
          "sample": "colo829bl",
          "technology": "Truseq",
          "unmapped": 4,
          "unmapped_log": 1.3862943611198906
         },
         {
          "chromosome": "13",
          "log": 5.849324779946859,
          "mapped": 347,
          "mapped_pct": 0.33679837715594635,
          "sample": "colo829bl",
          "technology": "Truseq",
          "unmapped": 0,
          "unmapped_log": null
         },
         {
          "chromosome": "14",
          "log": null,
          "mapped": 0,
          "mapped_pct": 0,
          "sample": "colo829bl",
          "technology": "Truseq",
          "unmapped": 0,
          "unmapped_log": null
         },
         {
          "chromosome": "15",
          "log": 6.660575149839686,
          "mapped": 781,
          "mapped_pct": 0.7580389987285133,
          "sample": "colo829bl",
          "technology": "Truseq",
          "unmapped": 4,
          "unmapped_log": 1.3862943611198906
         },
         {
          "chromosome": "16",
          "log": 4.02535169073515,
          "mapped": 56,
          "mapped_pct": 0.05435362859000864,
          "sample": "colo829bl",
          "technology": "Truseq",
          "unmapped": 0,
          "unmapped_log": null
         },
         {
          "chromosome": "17",
          "log": 6.212606095751519,
          "mapped": 499,
          "mapped_pct": 0.4843296547573984,
          "sample": "colo829bl",
          "technology": "Truseq",
          "unmapped": 5,
          "unmapped_log": 1.6094379124341003
         },
         {
          "chromosome": "18",
          "log": 7.727094484779841,
          "mapped": 2269,
          "mapped_pct": 2.2022925584058854,
          "sample": "colo829bl",
          "technology": "Truseq",
          "unmapped": 11,
          "unmapped_log": 2.3978952727983707
         },
         {
          "chromosome": "19",
          "log": 5.220355825078324,
          "mapped": 185,
          "mapped_pct": 0.17956109444913568,
          "sample": "colo829bl",
          "technology": "Truseq",
          "unmapped": 1,
          "unmapped_log": 0
         },
         {
          "chromosome": "20",
          "log": null,
          "mapped": 0,
          "mapped_pct": 0,
          "sample": "colo829bl",
          "technology": "Truseq",
          "unmapped": 0,
          "unmapped_log": null
         },
         {
          "chromosome": "21",
          "log": 5.099866427824199,
          "mapped": 164,
          "mapped_pct": 0.15917848372788243,
          "sample": "colo829bl",
          "technology": "Truseq",
          "unmapped": 1,
          "unmapped_log": 0
         },
         {
          "chromosome": "22",
          "log": 7.746732907753622,
          "mapped": 2314,
          "mapped_pct": 2.24596958138,
          "sample": "colo829bl",
          "technology": "Truseq",
          "unmapped": 5,
          "unmapped_log": 1.6094379124341003
         },
         {
          "chromosome": "23",
          "log": 8.553910774351401,
          "mapped": 5187,
          "mapped_pct": 5.03450484814955,
          "sample": "colo829bl",
          "technology": "Truseq",
          "unmapped": 6,
          "unmapped_log": 1.791759469228055
         },
         {
          "chromosome": "24",
          "log": null,
          "mapped": 0,
          "mapped_pct": 0,
          "sample": "colo829bl",
          "technology": "Truseq",
          "unmapped": 0,
          "unmapped_log": null
         },
         {
          "chromosome": "25",
          "log": null,
          "mapped": 0,
          "mapped_pct": 0,
          "sample": "colo829bl",
          "technology": "Truseq",
          "unmapped": 0,
          "unmapped_log": null
         },
         {
          "chromosome": "1",
          "log": 9.114930187171524,
          "mapped": 9090,
          "mapped_pct": 10.642158871392612,
          "sample": "colo829t",
          "technology": "Truseq",
          "unmapped": 7,
          "unmapped_log": 1.9459101490553132
         },
         {
          "chromosome": "2",
          "log": 6.222576268071369,
          "mapped": 504,
          "mapped_pct": 0.5900602938593924,
          "sample": "colo829t",
          "technology": "Truseq",
          "unmapped": 2,
          "unmapped_log": 0.6931471805599453
         },
         {
          "chromosome": "3",
          "log": 7.478169694159785,
          "mapped": 1769,
          "mapped_pct": 2.0710648012644146,
          "sample": "colo829t",
          "technology": "Truseq",
          "unmapped": 3,
          "unmapped_log": 1.0986122886681098
         },
         {
          "chromosome": "4",
          "log": 5.777652323222656,
          "mapped": 323,
          "mapped_pct": 0.3781537200725868,
          "sample": "colo829t",
          "technology": "Truseq",
          "unmapped": 0,
          "unmapped_log": null
         },
         {
          "chromosome": "5",
          "log": 10.930532229344816,
          "mapped": 55856,
          "mapped_pct": 65.39366621787742,
          "sample": "colo829t",
          "technology": "Truseq",
          "unmapped": 14,
          "unmapped_log": 2.6390573296152584
         },
         {
          "chromosome": "6",
          "log": null,
          "mapped": 0,
          "mapped_pct": 0,
          "sample": "colo829t",
          "technology": "Truseq",
          "unmapped": 0,
          "unmapped_log": null
         },
         {
          "chromosome": "7",
          "log": 5.69035945432406,
          "mapped": 296,
          "mapped_pct": 0.3465433471872622,
          "sample": "colo829t",
          "technology": "Truseq",
          "unmapped": 1,
          "unmapped_log": 0
         },
         {
          "chromosome": "8",
          "log": null,
          "mapped": 0,
          "mapped_pct": 0,
          "sample": "colo829t",
          "technology": "Truseq",
          "unmapped": 0,
          "unmapped_log": null
         },
         {
          "chromosome": "9",
          "log": 5.703782474656201,
          "mapped": 300,
          "mapped_pct": 0.35122636539249547,
          "sample": "colo829t",
          "technology": "Truseq",
          "unmapped": 0,
          "unmapped_log": null
         },
         {
          "chromosome": "10",
          "log": 7.649692623711514,
          "mapped": 2100,
          "mapped_pct": 2.4585845577474683,
          "sample": "colo829t",
          "technology": "Truseq",
          "unmapped": 5,
          "unmapped_log": 1.6094379124341003
         },
         {
          "chromosome": "11",
          "log": 3.9512437185814275,
          "mapped": 52,
          "mapped_pct": 0.06087923666803255,
          "sample": "colo829t",
          "technology": "Truseq",
          "unmapped": 0,
          "unmapped_log": null
         },
         {
          "chromosome": "12",
          "log": 8.251924713801357,
          "mapped": 3835,
          "mapped_pct": 4.4898437042674,
          "sample": "colo829t",
          "technology": "Truseq",
          "unmapped": 3,
          "unmapped_log": 1.0986122886681098
         },
         {
          "chromosome": "13",
          "log": 5.786897381366708,
          "mapped": 326,
          "mapped_pct": 0.3816659837265117,
          "sample": "colo829t",
          "technology": "Truseq",
          "unmapped": 0,
          "unmapped_log": null
         },
         {
          "chromosome": "14",
          "log": null,
          "mapped": 0,
          "mapped_pct": 0,
          "sample": "colo829t",
          "technology": "Truseq",
          "unmapped": 0,
          "unmapped_log": null
         },
         {
          "chromosome": "15",
          "log": 6.429719478039138,
          "mapped": 620,
          "mapped_pct": 0.7258678218111573,
          "sample": "colo829t",
          "technology": "Truseq",
          "unmapped": 1,
          "unmapped_log": 0
         },
         {
          "chromosome": "16",
          "log": 4.382026634673881,
          "mapped": 80,
          "mapped_pct": 0.09366036410466547,
          "sample": "colo829t",
          "technology": "Truseq",
          "unmapped": 0,
          "unmapped_log": null
         },
         {
          "chromosome": "17",
          "log": 6.396929655216146,
          "mapped": 600,
          "mapped_pct": 0.7024527307849909,
          "sample": "colo829t",
          "technology": "Truseq",
          "unmapped": 8,
          "unmapped_log": 2.0794415416798357
         },
         {
          "chromosome": "18",
          "log": 7.642524134232902,
          "mapped": 2085,
          "mapped_pct": 2.4410232394778437,
          "sample": "colo829t",
          "technology": "Truseq",
          "unmapped": 9,
          "unmapped_log": 2.1972245773362196
         },
         {
          "chromosome": "19",
          "log": 5.4680601411351315,
          "mapped": 237,
          "mapped_pct": 0.2774688286600714,
          "sample": "colo829t",
          "technology": "Truseq",
          "unmapped": 1,
          "unmapped_log": 0
         },
         {
          "chromosome": "20",
          "log": null,
          "mapped": 0,
          "mapped_pct": 0,
          "sample": "colo829t",
          "technology": "Truseq",
          "unmapped": 0,
          "unmapped_log": null
         },
         {
          "chromosome": "21",
          "log": 5.170483995038151,
          "mapped": 176,
          "mapped_pct": 0.20605280103026402,
          "sample": "colo829t",
          "technology": "Truseq",
          "unmapped": 1,
          "unmapped_log": 0
         },
         {
          "chromosome": "22",
          "log": 7.58629630715272,
          "mapped": 1971,
          "mapped_pct": 2.3075572206286954,
          "sample": "colo829t",
          "technology": "Truseq",
          "unmapped": 2,
          "unmapped_log": 0.6931471805599453
         },
         {
          "chromosome": "23",
          "log": 8.542860938164814,
          "mapped": 5130,
          "mapped_pct": 6.005970848211673,
          "sample": "colo829t",
          "technology": "Truseq",
          "unmapped": 8,
          "unmapped_log": 2.0794415416798357
         },
         {
          "chromosome": "24",
          "log": null,
          "mapped": 0,
          "mapped_pct": 0,
          "sample": "colo829t",
          "technology": "Truseq",
          "unmapped": 0,
          "unmapped_log": null
         },
         {
          "chromosome": "25",
          "log": null,
          "mapped": 0,
          "mapped_pct": 0,
          "sample": "colo829t",
          "technology": "Truseq",
          "unmapped": 0,
          "unmapped_log": null
         }
        ]
       },
       "encoding": {
        "color": {
         "field": "technology",
         "type": "nominal"
        },
        "column": {
         "field": "chromosome",
         "type": "quantitative"
        },
        "x": {
         "axis": {
          "title": ""
         },
         "field": "technology",
         "scale": {
          "rangeStep": 15
         },
         "type": "nominal"
        },
        "y": {
         "field": "mapped_pct",
         "type": "quantitative"
        }
       },
       "mark": "bar"
      },
      "image/png": "[encoded data removed]",
      "text/plain": [
       "<VegaLite 2 object>\n",
       "\n",
       "If you see this message, it means the renderer has not been properly enabled\n",
       "for the frontend that you are using. For more information, see\n",
       "https://altair-viz.github.io/user_guide/troubleshooting.html\n"
      ]
     },
     "execution_count": 54,
     "metadata": {},
     "output_type": "execute_result"
    }
   ],
   "source": [
    "for sample in pd_flagstats.columns:\n",
    "    datasets.loc[datasets['sample'] == sample, \"mapped_pct\"] = (datasets[datasets['sample'] == sample]['mapped'] / pd_flagstats[sample]['total_passed']) * 100\n",
    "\n",
    "mapped_pct = alt.Chart(datasets).mark_bar().encode(\n",
    "        alt.X('technology:N', scale=alt.Scale(rangeStep=15), axis=alt.Axis(title='')),\n",
    "        y = 'mapped_pct:Q',\n",
    "        color = alt.Color('technology:N'),\n",
    "        column = alt.Column('chromosome:Q')\n",
    ")\n",
    "\n",
    "mapped_pct"
   ]
  },
  {
   "cell_type": "markdown",
   "metadata": {},
   "source": [
    "## Bedfile lengths per chrom"
   ]
  },
  {
   "cell_type": "code",
   "execution_count": 19,
   "metadata": {},
   "outputs": [
    {
     "data": {
      "application/vnd.vegalite.v2+json": {
       "$schema": "https://vega.github.io/schema/vega-lite/v2.6.0.json",
       "config": {
        "view": {
         "height": 300,
         "width": 400
        }
       },
       "data": {
        "values": [
         {
          "chrom": "chr10",
          "diff": 427,
          "end": 10428,
          "start": 10001
         },
         {
          "chrom": "chr10",
          "diff": 355,
          "end": 133787422,
          "start": 133787067
         },
         {
          "chrom": "chr11",
          "diff": 57,
          "end": 135076622,
          "start": 135076565
         },
         {
          "chrom": "chr12",
          "diff": 583,
          "end": 10584,
          "start": 10001
         },
         {
          "chrom": "chr12",
          "diff": 436,
          "end": 133265309,
          "start": 133264873
         },
         {
          "chrom": "chr13",
          "diff": 382,
          "end": 114354328,
          "start": 114353946
         },
         {
          "chrom": "chr15",
          "diff": 422,
          "end": 101981189,
          "start": 101980767
         },
         {
          "chrom": "chr16",
          "diff": 51,
          "end": 10052,
          "start": 10001
         },
         {
          "chrom": "chr17",
          "diff": 304,
          "end": 83247441,
          "start": 83247137
         },
         {
          "chrom": "chr18",
          "diff": 626,
          "end": 10630,
          "start": 10004
         },
         {
          "chrom": "chr18",
          "diff": 392,
          "end": 80263285,
          "start": 80262893
         },
         {
          "chrom": "chr19",
          "diff": 160,
          "end": 58607616,
          "start": 58607456
         },
         {
          "chrom": "chr1",
          "diff": 466,
          "end": 10467,
          "start": 10001
         },
         {
          "chrom": "chr1",
          "diff": 885,
          "end": 248946422,
          "start": 248945537
         },
         {
          "chrom": "chr21",
          "diff": 137,
          "end": 46699983,
          "start": 46699846
         },
         {
          "chrom": "chr22",
          "diff": 658,
          "end": 50808468,
          "start": 50807810
         },
         {
          "chrom": "chr2",
          "diff": 410,
          "end": 10589,
          "start": 10179
         },
         {
          "chrom": "chr2",
          "diff": 221,
          "end": 242183529,
          "start": 242183308
         },
         {
          "chrom": "chr3",
          "diff": 975,
          "end": 10977,
          "start": 10002
         },
         {
          "chrom": "chr4",
          "diff": 191,
          "end": 10196,
          "start": 10005
         },
         {
          "chrom": "chr4",
          "diff": 45,
          "end": 190204555,
          "start": 190204510
         },
         {
          "chrom": "chr5",
          "diff": 1815,
          "end": 11816,
          "start": 10001
         },
         {
          "chrom": "chr7",
          "diff": 240,
          "end": 10241,
          "start": 10001
         },
         {
          "chrom": "chr7",
          "diff": 104,
          "end": 159335973,
          "start": 159335869
         },
         {
          "chrom": "chr9",
          "diff": 361,
          "end": 10362,
          "start": 10001
         },
         {
          "chrom": "chrX",
          "diff": 35,
          "end": 10037,
          "start": 10002
         },
         {
          "chrom": "chrX",
          "diff": 1008,
          "end": 156030895,
          "start": 156029887
         },
         {
          "chrom": "chrY",
          "diff": 35,
          "end": 10037,
          "start": 10002
         },
         {
          "chrom": "chrY",
          "diff": 1008,
          "end": 57217415,
          "start": 57216407
         }
        ]
       },
       "encoding": {
        "x": {
         "axis": {
          "title": "chroms"
         },
         "field": "chrom",
         "sort": [
          "chr1",
          "chr2",
          "chr3",
          "chr4",
          "chr5",
          "chr6",
          "chr7",
          "chr8",
          "chr9",
          "chr10",
          "chr11",
          "chr12",
          "chr13",
          "chr14",
          "chr15",
          "chr16",
          "chr17",
          "chr18",
          "chr19",
          "chr20",
          "chr21",
          "chr22",
          "chrX",
          "chrY",
          "chrM"
         ],
         "type": "nominal"
        },
        "y": {
         "axis": {
          "title": "Region length"
         },
         "field": "diff",
         "type": "quantitative"
        }
       },
       "mark": "bar"
      },
      "image/png": "[encoded data removed]",
      "text/plain": [
       "<VegaLite 2 object>\n",
       "\n",
       "If you see this message, it means the renderer has not been properly enabled\n",
       "for the frontend that you are using. For more information, see\n",
       "https://altair-viz.github.io/user_guide/troubleshooting.html\n"
      ]
     },
     "execution_count": 19,
     "metadata": {},
     "output_type": "execute_result"
    }
   ],
   "source": [
    "telobed = pd.read_csv('../data/processed/hg38_igv_manual.bed', sep='\\t', names=['chrom', 'start', 'end'])\n",
    "telobed['diff'] = telobed['end'] - telobed['start']\n",
    "\n",
    "telobedplot = alt.Chart(telobed).mark_bar().encode(\n",
    "        alt.X('chrom:N', axis=alt.Axis(title='chroms'), sort=chr_array),\n",
    "        alt.Y('diff:Q', axis=alt.Axis(title='Region length'))\n",
    ")\n",
    "\n",
    "telobedplot"
   ]
  },
  {
   "cell_type": "code",
   "execution_count": 66,
   "metadata": {},
   "outputs": [],
   "source": [
    "telobed_nums = rewrite_chrs(telobed, 'chrom')"
   ]
  },
  {
   "cell_type": "code",
   "execution_count": 67,
   "metadata": {},
   "outputs": [
    {
     "data": {
      "text/html": [
       "<div>\n",
       "<style scoped>\n",
       "    .dataframe tbody tr th:only-of-type {\n",
       "        vertical-align: middle;\n",
       "    }\n",
       "\n",
       "    .dataframe tbody tr th {\n",
       "        vertical-align: top;\n",
       "    }\n",
       "\n",
       "    .dataframe thead th {\n",
       "        text-align: right;\n",
       "    }\n",
       "</style>\n",
       "<table border=\"1\" class=\"dataframe\">\n",
       "  <thead>\n",
       "    <tr style=\"text-align: right;\">\n",
       "      <th></th>\n",
       "      <th>chrom</th>\n",
       "      <th>start</th>\n",
       "      <th>end</th>\n",
       "      <th>diff</th>\n",
       "    </tr>\n",
       "  </thead>\n",
       "  <tbody>\n",
       "    <tr>\n",
       "      <th>21</th>\n",
       "      <td>5</td>\n",
       "      <td>10001</td>\n",
       "      <td>11816</td>\n",
       "      <td>1815</td>\n",
       "    </tr>\n",
       "  </tbody>\n",
       "</table>\n",
       "</div>"
      ],
      "text/plain": [
       "   chrom  start    end  diff\n",
       "21     5  10001  11816  1815"
      ]
     },
     "execution_count": 67,
     "metadata": {},
     "output_type": "execute_result"
    }
   ],
   "source": [
    "telobed_nums[telobed_nums['chrom'] == '5'].head()"
   ]
  },
  {
   "cell_type": "code",
   "execution_count": 69,
   "metadata": {},
   "outputs": [
    {
     "data": {
      "text/html": [
       "<div>\n",
       "<style scoped>\n",
       "    .dataframe tbody tr th:only-of-type {\n",
       "        vertical-align: middle;\n",
       "    }\n",
       "\n",
       "    .dataframe tbody tr th {\n",
       "        vertical-align: top;\n",
       "    }\n",
       "\n",
       "    .dataframe thead th {\n",
       "        text-align: right;\n",
       "    }\n",
       "</style>\n",
       "<table border=\"1\" class=\"dataframe\">\n",
       "  <thead>\n",
       "    <tr style=\"text-align: right;\">\n",
       "      <th></th>\n",
       "      <th>chrom</th>\n",
       "      <th>start</th>\n",
       "      <th>end</th>\n",
       "      <th>diff</th>\n",
       "    </tr>\n",
       "  </thead>\n",
       "  <tbody>\n",
       "    <tr>\n",
       "      <th>0</th>\n",
       "      <td>10</td>\n",
       "      <td>10001</td>\n",
       "      <td>10428</td>\n",
       "      <td>427</td>\n",
       "    </tr>\n",
       "    <tr>\n",
       "      <th>1</th>\n",
       "      <td>10</td>\n",
       "      <td>133787067</td>\n",
       "      <td>133787422</td>\n",
       "      <td>355</td>\n",
       "    </tr>\n",
       "  </tbody>\n",
       "</table>\n",
       "</div>"
      ],
      "text/plain": [
       "  chrom      start        end  diff\n",
       "0    10      10001      10428   427\n",
       "1    10  133787067  133787422   355"
      ]
     },
     "execution_count": 69,
     "metadata": {},
     "output_type": "execute_result"
    }
   ],
   "source": [
    "telobed_nums[telobed_nums['chrom'] == '10'].head()"
   ]
  },
  {
   "cell_type": "code",
   "execution_count": 71,
   "metadata": {},
   "outputs": [
    {
     "data": {
      "text/html": [
       "<div>\n",
       "<style scoped>\n",
       "    .dataframe tbody tr th:only-of-type {\n",
       "        vertical-align: middle;\n",
       "    }\n",
       "\n",
       "    .dataframe tbody tr th {\n",
       "        vertical-align: top;\n",
       "    }\n",
       "\n",
       "    .dataframe thead th {\n",
       "        text-align: right;\n",
       "    }\n",
       "</style>\n",
       "<table border=\"1\" class=\"dataframe\">\n",
       "  <thead>\n",
       "    <tr style=\"text-align: right;\">\n",
       "      <th></th>\n",
       "      <th>chromosome</th>\n",
       "      <th>mapped</th>\n",
       "    </tr>\n",
       "  </thead>\n",
       "  <tbody>\n",
       "    <tr>\n",
       "      <th>4</th>\n",
       "      <td>5</td>\n",
       "      <td>722164</td>\n",
       "    </tr>\n",
       "    <tr>\n",
       "      <th>29</th>\n",
       "      <td>5</td>\n",
       "      <td>580342</td>\n",
       "    </tr>\n",
       "    <tr>\n",
       "      <th>54</th>\n",
       "      <td>5</td>\n",
       "      <td>70680</td>\n",
       "    </tr>\n",
       "    <tr>\n",
       "      <th>79</th>\n",
       "      <td>5</td>\n",
       "      <td>55856</td>\n",
       "    </tr>\n",
       "  </tbody>\n",
       "</table>\n",
       "</div>"
      ],
      "text/plain": [
       "   chromosome  mapped\n",
       "4           5  722164\n",
       "29          5  580342\n",
       "54          5   70680\n",
       "79          5   55856"
      ]
     },
     "execution_count": 71,
     "metadata": {},
     "output_type": "execute_result"
    }
   ],
   "source": [
    "datasets[datasets['chromosome'] == '5'][['chromosome', 'mapped']].head()"
   ]
  }
 ],
 "metadata": {
  "kernelspec": {
   "display_name": "Python 3",
   "language": "python",
   "name": "python3"
  },
  "language_info": {
   "codemirror_mode": {
    "name": "ipython",
    "version": 3
   },
   "file_extension": ".py",
   "mimetype": "text/x-python",
   "name": "python",
   "nbconvert_exporter": "python",
   "pygments_lexer": "ipython3",
   "version": "3.6.5"
  }
 },
 "nbformat": 4,
 "nbformat_minor": 2
}
