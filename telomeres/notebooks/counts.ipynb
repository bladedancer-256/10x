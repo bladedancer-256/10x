{
 "cells": [
  {
   "cell_type": "code",
   "execution_count": 1,
   "metadata": {},
   "outputs": [],
   "source": [
    "#from pathlib import Path\n",
    "\n",
    "import glob\n",
    "import altair as alt\n",
    "import pandas as pd\n",
    "import numpy as np"
   ]
  },
  {
   "cell_type": "markdown",
   "metadata": {},
   "source": [
    "## Curated telomeric coordinates, multimapped reads found within BEDfile limits"
   ]
  },
  {
   "cell_type": "markdown",
   "metadata": {},
   "source": [
    "### 10X & Truseq datasets"
   ]
  },
  {
   "cell_type": "code",
   "execution_count": 2,
   "metadata": {},
   "outputs": [],
   "source": [
    "colo829bl_10x = pd.read_csv(\"../data/processed/manual_telomere_coords/COLO829BL-10X-hg38.hist.csv\", dtype={\"mmap_count\": np.int})\n",
    "colo829t_10x = pd.read_csv(\"../data/processed/manual_telomere_coords/COLO829T-10X-hg38.hist.csv\", dtype={\"mmap_count\": np.int})\n",
    "colo829bl = pd.read_csv(\"../data/processed/manual_telomere_coords/COLO829BL-hg38.hist.csv\", dtype={\"mmap_count\": np.int})\n",
    "colo829t = pd.read_csv(\"../data/processed/manual_telomere_coords/COLO829T-hg38.hist.csv\", dtype={\"mmap_count\": np.int})\n",
    "\n",
    "colo829bl_10x['technology'] = '10X'\n",
    "colo829bl_10x['sample'] = 'colo829bl_10x'\n",
    "colo829t_10x['technology'] = '10X'\n",
    "colo829t_10x['sample'] = 'colo829t_10x'\n",
    "\n",
    "colo829t['technology'] = 'Truseq'\n",
    "colo829t['sample'] = 'colo829t'\n",
    "colo829bl['technology'] = 'Truseq'\n",
    "colo829bl['sample'] = 'colo829bl'"
   ]
  },
  {
   "cell_type": "code",
   "execution_count": 3,
   "metadata": {},
   "outputs": [],
   "source": [
    "datasets = [colo829bl_10x, colo829t_10x, colo829bl, colo829t]\n",
    "datasets_excluded_chroms = []\n",
    "\n",
    "for ds in datasets:\n",
    "    ds = ds[ds['chromosome'] != 'chr5']\n",
    "    ds = ds[ds['chromosome'] != 'chr1']\n",
    "    ds = ds[ds['chromosome'] != 'chrX']\n",
    "    ds = ds[ds['chromosome'] != 'chr22']\n",
    "    ds = ds[ds['chromosome'] != 'chrY']\n",
    "    ds = ds[ds['chromosome'] != 'chr12']\n",
    "    ds = ds[ds['chromosome'] != 'chr18']\n",
    "    ds = ds[ds['chromosome'] != 'chr10']\n",
    "\n",
    "    datasets_excluded_chroms.append(ds)"
   ]
  },
  {
   "cell_type": "code",
   "execution_count": 4,
   "metadata": {},
   "outputs": [
    {
     "data": {
      "application/vnd.vegalite.v2+json": {
       "$schema": "https://vega.github.io/schema/vega-lite/v2.4.1.json",
       "config": {
        "view": {
         "height": 300,
         "width": 400
        }
       },
       "hconcat": [
        {
         "data": {
          "values": [
           {
            "chromosome": "chr5",
            "log": 13.493288109142105,
            "mmap_count": 724537,
            "sample": "colo829bl_10x",
            "technology": "10X"
           },
           {
            "chromosome": "chrX",
            "log": 13.343416745807398,
            "mmap_count": 623695,
            "sample": "colo829bl_10x",
            "technology": "10X"
           },
           {
            "chromosome": "chr1",
            "log": 12.943222357336888,
            "mmap_count": 417994,
            "sample": "colo829bl_10x",
            "technology": "10X"
           },
           {
            "chromosome": "chr22",
            "log": 12.695747153197509,
            "mmap_count": 326357,
            "sample": "colo829bl_10x",
            "technology": "10X"
           },
           {
            "chromosome": "chr12",
            "log": 12.081919991859861,
            "mmap_count": 176649,
            "sample": "colo829bl_10x",
            "technology": "10X"
           },
           {
            "chromosome": "chr18",
            "log": 11.903263398797709,
            "mmap_count": 147748,
            "sample": "colo829bl_10x",
            "technology": "10X"
           },
           {
            "chromosome": "chr10",
            "log": 11.8384378613551,
            "mmap_count": 138474,
            "sample": "colo829bl_10x",
            "technology": "10X"
           },
           {
            "chromosome": "chr2",
            "log": 11.443328839832144,
            "mmap_count": 93277,
            "sample": "colo829bl_10x",
            "technology": "10X"
           },
           {
            "chromosome": "chr3",
            "log": 11.424192607082258,
            "mmap_count": 91509,
            "sample": "colo829bl_10x",
            "technology": "10X"
           },
           {
            "chromosome": "chr15",
            "log": 10.490079059076491,
            "mmap_count": 35957,
            "sample": "colo829bl_10x",
            "technology": "10X"
           },
           {
            "chromosome": "chr7",
            "log": 10.366277727263562,
            "mmap_count": 31770,
            "sample": "colo829bl_10x",
            "technology": "10X"
           },
           {
            "chromosome": "chr4",
            "log": 10.200104589045488,
            "mmap_count": 26906,
            "sample": "colo829bl_10x",
            "technology": "10X"
           },
           {
            "chromosome": "chr21",
            "log": 10.067008479866365,
            "mmap_count": 23553,
            "sample": "colo829bl_10x",
            "technology": "10X"
           },
           {
            "chromosome": "chr17",
            "log": 9.583075655461428,
            "mmap_count": 14517,
            "sample": "colo829bl_10x",
            "technology": "10X"
           },
           {
            "chromosome": "chr13",
            "log": 9.557116483735667,
            "mmap_count": 14145,
            "sample": "colo829bl_10x",
            "technology": "10X"
           },
           {
            "chromosome": "chr19",
            "log": 9.528212115591021,
            "mmap_count": 13742,
            "sample": "colo829bl_10x",
            "technology": "10X"
           },
           {
            "chromosome": "chr9",
            "log": 9.439863530254431,
            "mmap_count": 12580,
            "sample": "colo829bl_10x",
            "technology": "10X"
           },
           {
            "chromosome": "chr11",
            "log": 8.08271113423758,
            "mmap_count": 3238,
            "sample": "colo829bl_10x",
            "technology": "10X"
           },
           {
            "chromosome": "chr16",
            "log": 6.878326468291325,
            "mmap_count": 971,
            "sample": "colo829bl_10x",
            "technology": "10X"
           },
           {
            "chromosome": "chrY",
            "log": 3.6635616461296463,
            "mmap_count": 39,
            "sample": "colo829bl_10x",
            "technology": "10X"
           },
           {
            "chromosome": "chr5",
            "log": 13.271372863916714,
            "mmap_count": 580342,
            "sample": "colo829t_10x",
            "technology": "10X"
           },
           {
            "chromosome": "chrX",
            "log": 13.193649084999143,
            "mmap_count": 536944,
            "sample": "colo829t_10x",
            "technology": "10X"
           },
           {
            "chromosome": "chr1",
            "log": 12.823016198044265,
            "mmap_count": 370651,
            "sample": "colo829t_10x",
            "technology": "10X"
           },
           {
            "chromosome": "chr22",
            "log": 12.51155902643894,
            "mmap_count": 271457,
            "sample": "colo829t_10x",
            "technology": "10X"
           },
           {
            "chromosome": "chr12",
            "log": 11.792940722360976,
            "mmap_count": 132315,
            "sample": "colo829t_10x",
            "technology": "10X"
           },
           {
            "chromosome": "chr18",
            "log": 11.67348697998162,
            "mmap_count": 117417,
            "sample": "colo829t_10x",
            "technology": "10X"
           },
           {
            "chromosome": "chr10",
            "log": 11.653721654935612,
            "mmap_count": 115119,
            "sample": "colo829t_10x",
            "technology": "10X"
           },
           {
            "chromosome": "chr2",
            "log": 11.269324071753623,
            "mmap_count": 78380,
            "sample": "colo829t_10x",
            "technology": "10X"
           },
           {
            "chromosome": "chr3",
            "log": 11.227281314544014,
            "mmap_count": 75153,
            "sample": "colo829t_10x",
            "technology": "10X"
           },
           {
            "chromosome": "chr15",
            "log": 10.348878253516611,
            "mmap_count": 31222,
            "sample": "colo829t_10x",
            "technology": "10X"
           },
           {
            "chromosome": "chr21",
            "log": 9.947600127154448,
            "mmap_count": 20902,
            "sample": "colo829t_10x",
            "technology": "10X"
           },
           {
            "chromosome": "chr7",
            "log": 9.946547041996576,
            "mmap_count": 20880,
            "sample": "colo829t_10x",
            "technology": "10X"
           },
           {
            "chromosome": "chr4",
            "log": 9.92725290608639,
            "mmap_count": 20481,
            "sample": "colo829t_10x",
            "technology": "10X"
           },
           {
            "chromosome": "chr17",
            "log": 9.44604470533525,
            "mmap_count": 12658,
            "sample": "colo829t_10x",
            "technology": "10X"
           },
           {
            "chromosome": "chr9",
            "log": 9.360224821513475,
            "mmap_count": 11617,
            "sample": "colo829t_10x",
            "technology": "10X"
           },
           {
            "chromosome": "chr13",
            "log": 9.301916315463393,
            "mmap_count": 10959,
            "sample": "colo829t_10x",
            "technology": "10X"
           },
           {
            "chromosome": "chr19",
            "log": 9.239704980606087,
            "mmap_count": 10298,
            "sample": "colo829t_10x",
            "technology": "10X"
           },
           {
            "chromosome": "chr11",
            "log": 7.422971251049421,
            "mmap_count": 1674,
            "sample": "colo829t_10x",
            "technology": "10X"
           },
           {
            "chromosome": "chr16",
            "log": 6.499787040655854,
            "mmap_count": 665,
            "sample": "colo829t_10x",
            "technology": "10X"
           },
           {
            "chromosome": "chrY",
            "log": 3.7612001156935624,
            "mmap_count": 43,
            "sample": "colo829t_10x",
            "technology": "10X"
           },
           {
            "chromosome": "chr5",
            "log": 11.1660735453374,
            "mmap_count": 70691,
            "sample": "colo829bl",
            "technology": "Truseq"
           },
           {
            "chromosome": "chr1",
            "log": 9.049584593096789,
            "mmap_count": 8515,
            "sample": "colo829bl",
            "technology": "Truseq"
           },
           {
            "chromosome": "chr12",
            "log": 8.660773919893762,
            "mmap_count": 5772,
            "sample": "colo829bl",
            "technology": "Truseq"
           },
           {
            "chromosome": "chrX",
            "log": 8.555066843844319,
            "mmap_count": 5193,
            "sample": "colo829bl",
            "technology": "Truseq"
           },
           {
            "chromosome": "chr10",
            "log": 7.877397186353287,
            "mmap_count": 2637,
            "sample": "colo829bl",
            "technology": "Truseq"
           },
           {
            "chromosome": "chr22",
            "log": 7.7488913372555315,
            "mmap_count": 2319,
            "sample": "colo829bl",
            "technology": "Truseq"
           },
           {
            "chromosome": "chr18",
            "log": 7.731930721948486,
            "mmap_count": 2280,
            "sample": "colo829bl",
            "technology": "Truseq"
           },
           {
            "chromosome": "chr3",
            "log": 7.5480289699350145,
            "mmap_count": 1897,
            "sample": "colo829bl",
            "technology": "Truseq"
           },
           {
            "chromosome": "chr15",
            "log": 6.665683717782408,
            "mmap_count": 785,
            "sample": "colo829bl",
            "technology": "Truseq"
           },
           {
            "chromosome": "chr17",
            "log": 6.222576268071369,
            "mmap_count": 504,
            "sample": "colo829bl",
            "technology": "Truseq"
           },
           {
            "chromosome": "chr2",
            "log": 6.1675164908883415,
            "mmap_count": 477,
            "sample": "colo829bl",
            "technology": "Truseq"
           },
           {
            "chromosome": "chr7",
            "log": 6.154858094016418,
            "mmap_count": 471,
            "sample": "colo829bl",
            "technology": "Truseq"
           },
           {
            "chromosome": "chr4",
            "log": 5.8998973535824915,
            "mmap_count": 365,
            "sample": "colo829bl",
            "technology": "Truseq"
           },
           {
            "chromosome": "chr13",
            "log": 5.849324779946859,
            "mmap_count": 347,
            "sample": "colo829bl",
            "technology": "Truseq"
           },
           {
            "chromosome": "chr9",
            "log": 5.739792912179234,
            "mmap_count": 311,
            "sample": "colo829bl",
            "technology": "Truseq"
           },
           {
            "chromosome": "chr19",
            "log": 5.225746673713202,
            "mmap_count": 186,
            "sample": "colo829bl",
            "technology": "Truseq"
           },
           {
            "chromosome": "chr21",
            "log": 5.10594547390058,
            "mmap_count": 165,
            "sample": "colo829bl",
            "technology": "Truseq"
           },
           {
            "chromosome": "chr11",
            "log": 4.060443010546419,
            "mmap_count": 58,
            "sample": "colo829bl",
            "technology": "Truseq"
           },
           {
            "chromosome": "chr16",
            "log": 4.02535169073515,
            "mmap_count": 56,
            "sample": "colo829bl",
            "technology": "Truseq"
           },
           {
            "chromosome": "chr5",
            "log": 10.930782842453194,
            "mmap_count": 55870,
            "sample": "colo829t",
            "technology": "Truseq"
           },
           {
            "chromosome": "chr1",
            "log": 9.115699967822062,
            "mmap_count": 9097,
            "sample": "colo829t",
            "technology": "Truseq"
           },
           {
            "chromosome": "chrX",
            "log": 8.544419177669829,
            "mmap_count": 5138,
            "sample": "colo829t",
            "technology": "Truseq"
           },
           {
            "chromosome": "chr12",
            "log": 8.252706676567644,
            "mmap_count": 3838,
            "sample": "colo829t",
            "technology": "Truseq"
           },
           {
            "chromosome": "chr10",
            "log": 7.652070746116482,
            "mmap_count": 2105,
            "sample": "colo829t",
            "technology": "Truseq"
           },
           {
            "chromosome": "chr18",
            "log": 7.646831391430482,
            "mmap_count": 2094,
            "sample": "colo829t",
            "technology": "Truseq"
           },
           {
            "chromosome": "chr22",
            "log": 7.587310506022615,
            "mmap_count": 1973,
            "sample": "colo829t",
            "technology": "Truseq"
           },
           {
            "chromosome": "chr3",
            "log": 7.4798641311650265,
            "mmap_count": 1772,
            "sample": "colo829t",
            "technology": "Truseq"
           },
           {
            "chromosome": "chr15",
            "log": 6.431331081933479,
            "mmap_count": 621,
            "sample": "colo829t",
            "technology": "Truseq"
           },
           {
            "chromosome": "chr17",
            "log": 6.410174881966167,
            "mmap_count": 608,
            "sample": "colo829t",
            "technology": "Truseq"
           },
           {
            "chromosome": "chr2",
            "log": 6.226536669287466,
            "mmap_count": 506,
            "sample": "colo829t",
            "technology": "Truseq"
           },
           {
            "chromosome": "chr13",
            "log": 5.786897381366708,
            "mmap_count": 326,
            "sample": "colo829t",
            "technology": "Truseq"
           },
           {
            "chromosome": "chr4",
            "log": 5.777652323222656,
            "mmap_count": 323,
            "sample": "colo829t",
            "technology": "Truseq"
           },
           {
            "chromosome": "chr9",
            "log": 5.703782474656201,
            "mmap_count": 300,
            "sample": "colo829t",
            "technology": "Truseq"
           },
           {
            "chromosome": "chr7",
            "log": 5.6937321388027,
            "mmap_count": 297,
            "sample": "colo829t",
            "technology": "Truseq"
           },
           {
            "chromosome": "chr19",
            "log": 5.472270673671475,
            "mmap_count": 238,
            "sample": "colo829t",
            "technology": "Truseq"
           },
           {
            "chromosome": "chr21",
            "log": 5.176149732573829,
            "mmap_count": 177,
            "sample": "colo829t",
            "technology": "Truseq"
           },
           {
            "chromosome": "chr16",
            "log": 4.382026634673881,
            "mmap_count": 80,
            "sample": "colo829t",
            "technology": "Truseq"
           },
           {
            "chromosome": "chr11",
            "log": 3.9512437185814275,
            "mmap_count": 52,
            "sample": "colo829t",
            "technology": "Truseq"
           }
          ]
         },
         "encoding": {
          "color": {
           "field": "sample",
           "type": "nominal"
          },
          "x": {
           "field": "mmap_count",
           "type": "quantitative"
          },
          "y": {
           "field": "chromosome",
           "type": "nominal"
          }
         },
         "mark": "bar"
        },
        {
         "data": {
          "values": [
           {
            "chromosome": "chr5",
            "log": 13.493288109142105,
            "mmap_count": 724537,
            "sample": "colo829bl_10x",
            "technology": "10X"
           },
           {
            "chromosome": "chrX",
            "log": 13.343416745807398,
            "mmap_count": 623695,
            "sample": "colo829bl_10x",
            "technology": "10X"
           },
           {
            "chromosome": "chr1",
            "log": 12.943222357336888,
            "mmap_count": 417994,
            "sample": "colo829bl_10x",
            "technology": "10X"
           },
           {
            "chromosome": "chr22",
            "log": 12.695747153197509,
            "mmap_count": 326357,
            "sample": "colo829bl_10x",
            "technology": "10X"
           },
           {
            "chromosome": "chr12",
            "log": 12.081919991859861,
            "mmap_count": 176649,
            "sample": "colo829bl_10x",
            "technology": "10X"
           },
           {
            "chromosome": "chr18",
            "log": 11.903263398797709,
            "mmap_count": 147748,
            "sample": "colo829bl_10x",
            "technology": "10X"
           },
           {
            "chromosome": "chr10",
            "log": 11.8384378613551,
            "mmap_count": 138474,
            "sample": "colo829bl_10x",
            "technology": "10X"
           },
           {
            "chromosome": "chr2",
            "log": 11.443328839832144,
            "mmap_count": 93277,
            "sample": "colo829bl_10x",
            "technology": "10X"
           },
           {
            "chromosome": "chr3",
            "log": 11.424192607082258,
            "mmap_count": 91509,
            "sample": "colo829bl_10x",
            "technology": "10X"
           },
           {
            "chromosome": "chr15",
            "log": 10.490079059076491,
            "mmap_count": 35957,
            "sample": "colo829bl_10x",
            "technology": "10X"
           },
           {
            "chromosome": "chr7",
            "log": 10.366277727263562,
            "mmap_count": 31770,
            "sample": "colo829bl_10x",
            "technology": "10X"
           },
           {
            "chromosome": "chr4",
            "log": 10.200104589045488,
            "mmap_count": 26906,
            "sample": "colo829bl_10x",
            "technology": "10X"
           },
           {
            "chromosome": "chr21",
            "log": 10.067008479866365,
            "mmap_count": 23553,
            "sample": "colo829bl_10x",
            "technology": "10X"
           },
           {
            "chromosome": "chr17",
            "log": 9.583075655461428,
            "mmap_count": 14517,
            "sample": "colo829bl_10x",
            "technology": "10X"
           },
           {
            "chromosome": "chr13",
            "log": 9.557116483735667,
            "mmap_count": 14145,
            "sample": "colo829bl_10x",
            "technology": "10X"
           },
           {
            "chromosome": "chr19",
            "log": 9.528212115591021,
            "mmap_count": 13742,
            "sample": "colo829bl_10x",
            "technology": "10X"
           },
           {
            "chromosome": "chr9",
            "log": 9.439863530254431,
            "mmap_count": 12580,
            "sample": "colo829bl_10x",
            "technology": "10X"
           },
           {
            "chromosome": "chr11",
            "log": 8.08271113423758,
            "mmap_count": 3238,
            "sample": "colo829bl_10x",
            "technology": "10X"
           },
           {
            "chromosome": "chr16",
            "log": 6.878326468291325,
            "mmap_count": 971,
            "sample": "colo829bl_10x",
            "technology": "10X"
           },
           {
            "chromosome": "chrY",
            "log": 3.6635616461296463,
            "mmap_count": 39,
            "sample": "colo829bl_10x",
            "technology": "10X"
           },
           {
            "chromosome": "chr5",
            "log": 13.271372863916714,
            "mmap_count": 580342,
            "sample": "colo829t_10x",
            "technology": "10X"
           },
           {
            "chromosome": "chrX",
            "log": 13.193649084999143,
            "mmap_count": 536944,
            "sample": "colo829t_10x",
            "technology": "10X"
           },
           {
            "chromosome": "chr1",
            "log": 12.823016198044265,
            "mmap_count": 370651,
            "sample": "colo829t_10x",
            "technology": "10X"
           },
           {
            "chromosome": "chr22",
            "log": 12.51155902643894,
            "mmap_count": 271457,
            "sample": "colo829t_10x",
            "technology": "10X"
           },
           {
            "chromosome": "chr12",
            "log": 11.792940722360976,
            "mmap_count": 132315,
            "sample": "colo829t_10x",
            "technology": "10X"
           },
           {
            "chromosome": "chr18",
            "log": 11.67348697998162,
            "mmap_count": 117417,
            "sample": "colo829t_10x",
            "technology": "10X"
           },
           {
            "chromosome": "chr10",
            "log": 11.653721654935612,
            "mmap_count": 115119,
            "sample": "colo829t_10x",
            "technology": "10X"
           },
           {
            "chromosome": "chr2",
            "log": 11.269324071753623,
            "mmap_count": 78380,
            "sample": "colo829t_10x",
            "technology": "10X"
           },
           {
            "chromosome": "chr3",
            "log": 11.227281314544014,
            "mmap_count": 75153,
            "sample": "colo829t_10x",
            "technology": "10X"
           },
           {
            "chromosome": "chr15",
            "log": 10.348878253516611,
            "mmap_count": 31222,
            "sample": "colo829t_10x",
            "technology": "10X"
           },
           {
            "chromosome": "chr21",
            "log": 9.947600127154448,
            "mmap_count": 20902,
            "sample": "colo829t_10x",
            "technology": "10X"
           },
           {
            "chromosome": "chr7",
            "log": 9.946547041996576,
            "mmap_count": 20880,
            "sample": "colo829t_10x",
            "technology": "10X"
           },
           {
            "chromosome": "chr4",
            "log": 9.92725290608639,
            "mmap_count": 20481,
            "sample": "colo829t_10x",
            "technology": "10X"
           },
           {
            "chromosome": "chr17",
            "log": 9.44604470533525,
            "mmap_count": 12658,
            "sample": "colo829t_10x",
            "technology": "10X"
           },
           {
            "chromosome": "chr9",
            "log": 9.360224821513475,
            "mmap_count": 11617,
            "sample": "colo829t_10x",
            "technology": "10X"
           },
           {
            "chromosome": "chr13",
            "log": 9.301916315463393,
            "mmap_count": 10959,
            "sample": "colo829t_10x",
            "technology": "10X"
           },
           {
            "chromosome": "chr19",
            "log": 9.239704980606087,
            "mmap_count": 10298,
            "sample": "colo829t_10x",
            "technology": "10X"
           },
           {
            "chromosome": "chr11",
            "log": 7.422971251049421,
            "mmap_count": 1674,
            "sample": "colo829t_10x",
            "technology": "10X"
           },
           {
            "chromosome": "chr16",
            "log": 6.499787040655854,
            "mmap_count": 665,
            "sample": "colo829t_10x",
            "technology": "10X"
           },
           {
            "chromosome": "chrY",
            "log": 3.7612001156935624,
            "mmap_count": 43,
            "sample": "colo829t_10x",
            "technology": "10X"
           },
           {
            "chromosome": "chr5",
            "log": 11.1660735453374,
            "mmap_count": 70691,
            "sample": "colo829bl",
            "technology": "Truseq"
           },
           {
            "chromosome": "chr1",
            "log": 9.049584593096789,
            "mmap_count": 8515,
            "sample": "colo829bl",
            "technology": "Truseq"
           },
           {
            "chromosome": "chr12",
            "log": 8.660773919893762,
            "mmap_count": 5772,
            "sample": "colo829bl",
            "technology": "Truseq"
           },
           {
            "chromosome": "chrX",
            "log": 8.555066843844319,
            "mmap_count": 5193,
            "sample": "colo829bl",
            "technology": "Truseq"
           },
           {
            "chromosome": "chr10",
            "log": 7.877397186353287,
            "mmap_count": 2637,
            "sample": "colo829bl",
            "technology": "Truseq"
           },
           {
            "chromosome": "chr22",
            "log": 7.7488913372555315,
            "mmap_count": 2319,
            "sample": "colo829bl",
            "technology": "Truseq"
           },
           {
            "chromosome": "chr18",
            "log": 7.731930721948486,
            "mmap_count": 2280,
            "sample": "colo829bl",
            "technology": "Truseq"
           },
           {
            "chromosome": "chr3",
            "log": 7.5480289699350145,
            "mmap_count": 1897,
            "sample": "colo829bl",
            "technology": "Truseq"
           },
           {
            "chromosome": "chr15",
            "log": 6.665683717782408,
            "mmap_count": 785,
            "sample": "colo829bl",
            "technology": "Truseq"
           },
           {
            "chromosome": "chr17",
            "log": 6.222576268071369,
            "mmap_count": 504,
            "sample": "colo829bl",
            "technology": "Truseq"
           },
           {
            "chromosome": "chr2",
            "log": 6.1675164908883415,
            "mmap_count": 477,
            "sample": "colo829bl",
            "technology": "Truseq"
           },
           {
            "chromosome": "chr7",
            "log": 6.154858094016418,
            "mmap_count": 471,
            "sample": "colo829bl",
            "technology": "Truseq"
           },
           {
            "chromosome": "chr4",
            "log": 5.8998973535824915,
            "mmap_count": 365,
            "sample": "colo829bl",
            "technology": "Truseq"
           },
           {
            "chromosome": "chr13",
            "log": 5.849324779946859,
            "mmap_count": 347,
            "sample": "colo829bl",
            "technology": "Truseq"
           },
           {
            "chromosome": "chr9",
            "log": 5.739792912179234,
            "mmap_count": 311,
            "sample": "colo829bl",
            "technology": "Truseq"
           },
           {
            "chromosome": "chr19",
            "log": 5.225746673713202,
            "mmap_count": 186,
            "sample": "colo829bl",
            "technology": "Truseq"
           },
           {
            "chromosome": "chr21",
            "log": 5.10594547390058,
            "mmap_count": 165,
            "sample": "colo829bl",
            "technology": "Truseq"
           },
           {
            "chromosome": "chr11",
            "log": 4.060443010546419,
            "mmap_count": 58,
            "sample": "colo829bl",
            "technology": "Truseq"
           },
           {
            "chromosome": "chr16",
            "log": 4.02535169073515,
            "mmap_count": 56,
            "sample": "colo829bl",
            "technology": "Truseq"
           },
           {
            "chromosome": "chr5",
            "log": 10.930782842453194,
            "mmap_count": 55870,
            "sample": "colo829t",
            "technology": "Truseq"
           },
           {
            "chromosome": "chr1",
            "log": 9.115699967822062,
            "mmap_count": 9097,
            "sample": "colo829t",
            "technology": "Truseq"
           },
           {
            "chromosome": "chrX",
            "log": 8.544419177669829,
            "mmap_count": 5138,
            "sample": "colo829t",
            "technology": "Truseq"
           },
           {
            "chromosome": "chr12",
            "log": 8.252706676567644,
            "mmap_count": 3838,
            "sample": "colo829t",
            "technology": "Truseq"
           },
           {
            "chromosome": "chr10",
            "log": 7.652070746116482,
            "mmap_count": 2105,
            "sample": "colo829t",
            "technology": "Truseq"
           },
           {
            "chromosome": "chr18",
            "log": 7.646831391430482,
            "mmap_count": 2094,
            "sample": "colo829t",
            "technology": "Truseq"
           },
           {
            "chromosome": "chr22",
            "log": 7.587310506022615,
            "mmap_count": 1973,
            "sample": "colo829t",
            "technology": "Truseq"
           },
           {
            "chromosome": "chr3",
            "log": 7.4798641311650265,
            "mmap_count": 1772,
            "sample": "colo829t",
            "technology": "Truseq"
           },
           {
            "chromosome": "chr15",
            "log": 6.431331081933479,
            "mmap_count": 621,
            "sample": "colo829t",
            "technology": "Truseq"
           },
           {
            "chromosome": "chr17",
            "log": 6.410174881966167,
            "mmap_count": 608,
            "sample": "colo829t",
            "technology": "Truseq"
           },
           {
            "chromosome": "chr2",
            "log": 6.226536669287466,
            "mmap_count": 506,
            "sample": "colo829t",
            "technology": "Truseq"
           },
           {
            "chromosome": "chr13",
            "log": 5.786897381366708,
            "mmap_count": 326,
            "sample": "colo829t",
            "technology": "Truseq"
           },
           {
            "chromosome": "chr4",
            "log": 5.777652323222656,
            "mmap_count": 323,
            "sample": "colo829t",
            "technology": "Truseq"
           },
           {
            "chromosome": "chr9",
            "log": 5.703782474656201,
            "mmap_count": 300,
            "sample": "colo829t",
            "technology": "Truseq"
           },
           {
            "chromosome": "chr7",
            "log": 5.6937321388027,
            "mmap_count": 297,
            "sample": "colo829t",
            "technology": "Truseq"
           },
           {
            "chromosome": "chr19",
            "log": 5.472270673671475,
            "mmap_count": 238,
            "sample": "colo829t",
            "technology": "Truseq"
           },
           {
            "chromosome": "chr21",
            "log": 5.176149732573829,
            "mmap_count": 177,
            "sample": "colo829t",
            "technology": "Truseq"
           },
           {
            "chromosome": "chr16",
            "log": 4.382026634673881,
            "mmap_count": 80,
            "sample": "colo829t",
            "technology": "Truseq"
           },
           {
            "chromosome": "chr11",
            "log": 3.9512437185814275,
            "mmap_count": 52,
            "sample": "colo829t",
            "technology": "Truseq"
           }
          ]
         },
         "encoding": {
          "color": {
           "field": "technology",
           "type": "nominal"
          },
          "x": {
           "field": "mmap_count",
           "type": "quantitative"
          },
          "y": {
           "field": "chromosome",
           "type": "nominal"
          }
         },
         "mark": "bar"
        },
        {
         "data": {
          "values": [
           {
            "chromosome": "chr5",
            "log": 13.493288109142105,
            "mmap_count": 724537,
            "sample": "colo829bl_10x",
            "technology": "10X"
           },
           {
            "chromosome": "chrX",
            "log": 13.343416745807398,
            "mmap_count": 623695,
            "sample": "colo829bl_10x",
            "technology": "10X"
           },
           {
            "chromosome": "chr1",
            "log": 12.943222357336888,
            "mmap_count": 417994,
            "sample": "colo829bl_10x",
            "technology": "10X"
           },
           {
            "chromosome": "chr22",
            "log": 12.695747153197509,
            "mmap_count": 326357,
            "sample": "colo829bl_10x",
            "technology": "10X"
           },
           {
            "chromosome": "chr12",
            "log": 12.081919991859861,
            "mmap_count": 176649,
            "sample": "colo829bl_10x",
            "technology": "10X"
           },
           {
            "chromosome": "chr18",
            "log": 11.903263398797709,
            "mmap_count": 147748,
            "sample": "colo829bl_10x",
            "technology": "10X"
           },
           {
            "chromosome": "chr10",
            "log": 11.8384378613551,
            "mmap_count": 138474,
            "sample": "colo829bl_10x",
            "technology": "10X"
           },
           {
            "chromosome": "chr2",
            "log": 11.443328839832144,
            "mmap_count": 93277,
            "sample": "colo829bl_10x",
            "technology": "10X"
           },
           {
            "chromosome": "chr3",
            "log": 11.424192607082258,
            "mmap_count": 91509,
            "sample": "colo829bl_10x",
            "technology": "10X"
           },
           {
            "chromosome": "chr15",
            "log": 10.490079059076491,
            "mmap_count": 35957,
            "sample": "colo829bl_10x",
            "technology": "10X"
           },
           {
            "chromosome": "chr7",
            "log": 10.366277727263562,
            "mmap_count": 31770,
            "sample": "colo829bl_10x",
            "technology": "10X"
           },
           {
            "chromosome": "chr4",
            "log": 10.200104589045488,
            "mmap_count": 26906,
            "sample": "colo829bl_10x",
            "technology": "10X"
           },
           {
            "chromosome": "chr21",
            "log": 10.067008479866365,
            "mmap_count": 23553,
            "sample": "colo829bl_10x",
            "technology": "10X"
           },
           {
            "chromosome": "chr17",
            "log": 9.583075655461428,
            "mmap_count": 14517,
            "sample": "colo829bl_10x",
            "technology": "10X"
           },
           {
            "chromosome": "chr13",
            "log": 9.557116483735667,
            "mmap_count": 14145,
            "sample": "colo829bl_10x",
            "technology": "10X"
           },
           {
            "chromosome": "chr19",
            "log": 9.528212115591021,
            "mmap_count": 13742,
            "sample": "colo829bl_10x",
            "technology": "10X"
           },
           {
            "chromosome": "chr9",
            "log": 9.439863530254431,
            "mmap_count": 12580,
            "sample": "colo829bl_10x",
            "technology": "10X"
           },
           {
            "chromosome": "chr11",
            "log": 8.08271113423758,
            "mmap_count": 3238,
            "sample": "colo829bl_10x",
            "technology": "10X"
           },
           {
            "chromosome": "chr16",
            "log": 6.878326468291325,
            "mmap_count": 971,
            "sample": "colo829bl_10x",
            "technology": "10X"
           },
           {
            "chromosome": "chrY",
            "log": 3.6635616461296463,
            "mmap_count": 39,
            "sample": "colo829bl_10x",
            "technology": "10X"
           },
           {
            "chromosome": "chr5",
            "log": 13.271372863916714,
            "mmap_count": 580342,
            "sample": "colo829t_10x",
            "technology": "10X"
           },
           {
            "chromosome": "chrX",
            "log": 13.193649084999143,
            "mmap_count": 536944,
            "sample": "colo829t_10x",
            "technology": "10X"
           },
           {
            "chromosome": "chr1",
            "log": 12.823016198044265,
            "mmap_count": 370651,
            "sample": "colo829t_10x",
            "technology": "10X"
           },
           {
            "chromosome": "chr22",
            "log": 12.51155902643894,
            "mmap_count": 271457,
            "sample": "colo829t_10x",
            "technology": "10X"
           },
           {
            "chromosome": "chr12",
            "log": 11.792940722360976,
            "mmap_count": 132315,
            "sample": "colo829t_10x",
            "technology": "10X"
           },
           {
            "chromosome": "chr18",
            "log": 11.67348697998162,
            "mmap_count": 117417,
            "sample": "colo829t_10x",
            "technology": "10X"
           },
           {
            "chromosome": "chr10",
            "log": 11.653721654935612,
            "mmap_count": 115119,
            "sample": "colo829t_10x",
            "technology": "10X"
           },
           {
            "chromosome": "chr2",
            "log": 11.269324071753623,
            "mmap_count": 78380,
            "sample": "colo829t_10x",
            "technology": "10X"
           },
           {
            "chromosome": "chr3",
            "log": 11.227281314544014,
            "mmap_count": 75153,
            "sample": "colo829t_10x",
            "technology": "10X"
           },
           {
            "chromosome": "chr15",
            "log": 10.348878253516611,
            "mmap_count": 31222,
            "sample": "colo829t_10x",
            "technology": "10X"
           },
           {
            "chromosome": "chr21",
            "log": 9.947600127154448,
            "mmap_count": 20902,
            "sample": "colo829t_10x",
            "technology": "10X"
           },
           {
            "chromosome": "chr7",
            "log": 9.946547041996576,
            "mmap_count": 20880,
            "sample": "colo829t_10x",
            "technology": "10X"
           },
           {
            "chromosome": "chr4",
            "log": 9.92725290608639,
            "mmap_count": 20481,
            "sample": "colo829t_10x",
            "technology": "10X"
           },
           {
            "chromosome": "chr17",
            "log": 9.44604470533525,
            "mmap_count": 12658,
            "sample": "colo829t_10x",
            "technology": "10X"
           },
           {
            "chromosome": "chr9",
            "log": 9.360224821513475,
            "mmap_count": 11617,
            "sample": "colo829t_10x",
            "technology": "10X"
           },
           {
            "chromosome": "chr13",
            "log": 9.301916315463393,
            "mmap_count": 10959,
            "sample": "colo829t_10x",
            "technology": "10X"
           },
           {
            "chromosome": "chr19",
            "log": 9.239704980606087,
            "mmap_count": 10298,
            "sample": "colo829t_10x",
            "technology": "10X"
           },
           {
            "chromosome": "chr11",
            "log": 7.422971251049421,
            "mmap_count": 1674,
            "sample": "colo829t_10x",
            "technology": "10X"
           },
           {
            "chromosome": "chr16",
            "log": 6.499787040655854,
            "mmap_count": 665,
            "sample": "colo829t_10x",
            "technology": "10X"
           },
           {
            "chromosome": "chrY",
            "log": 3.7612001156935624,
            "mmap_count": 43,
            "sample": "colo829t_10x",
            "technology": "10X"
           },
           {
            "chromosome": "chr5",
            "log": 11.1660735453374,
            "mmap_count": 70691,
            "sample": "colo829bl",
            "technology": "Truseq"
           },
           {
            "chromosome": "chr1",
            "log": 9.049584593096789,
            "mmap_count": 8515,
            "sample": "colo829bl",
            "technology": "Truseq"
           },
           {
            "chromosome": "chr12",
            "log": 8.660773919893762,
            "mmap_count": 5772,
            "sample": "colo829bl",
            "technology": "Truseq"
           },
           {
            "chromosome": "chrX",
            "log": 8.555066843844319,
            "mmap_count": 5193,
            "sample": "colo829bl",
            "technology": "Truseq"
           },
           {
            "chromosome": "chr10",
            "log": 7.877397186353287,
            "mmap_count": 2637,
            "sample": "colo829bl",
            "technology": "Truseq"
           },
           {
            "chromosome": "chr22",
            "log": 7.7488913372555315,
            "mmap_count": 2319,
            "sample": "colo829bl",
            "technology": "Truseq"
           },
           {
            "chromosome": "chr18",
            "log": 7.731930721948486,
            "mmap_count": 2280,
            "sample": "colo829bl",
            "technology": "Truseq"
           },
           {
            "chromosome": "chr3",
            "log": 7.5480289699350145,
            "mmap_count": 1897,
            "sample": "colo829bl",
            "technology": "Truseq"
           },
           {
            "chromosome": "chr15",
            "log": 6.665683717782408,
            "mmap_count": 785,
            "sample": "colo829bl",
            "technology": "Truseq"
           },
           {
            "chromosome": "chr17",
            "log": 6.222576268071369,
            "mmap_count": 504,
            "sample": "colo829bl",
            "technology": "Truseq"
           },
           {
            "chromosome": "chr2",
            "log": 6.1675164908883415,
            "mmap_count": 477,
            "sample": "colo829bl",
            "technology": "Truseq"
           },
           {
            "chromosome": "chr7",
            "log": 6.154858094016418,
            "mmap_count": 471,
            "sample": "colo829bl",
            "technology": "Truseq"
           },
           {
            "chromosome": "chr4",
            "log": 5.8998973535824915,
            "mmap_count": 365,
            "sample": "colo829bl",
            "technology": "Truseq"
           },
           {
            "chromosome": "chr13",
            "log": 5.849324779946859,
            "mmap_count": 347,
            "sample": "colo829bl",
            "technology": "Truseq"
           },
           {
            "chromosome": "chr9",
            "log": 5.739792912179234,
            "mmap_count": 311,
            "sample": "colo829bl",
            "technology": "Truseq"
           },
           {
            "chromosome": "chr19",
            "log": 5.225746673713202,
            "mmap_count": 186,
            "sample": "colo829bl",
            "technology": "Truseq"
           },
           {
            "chromosome": "chr21",
            "log": 5.10594547390058,
            "mmap_count": 165,
            "sample": "colo829bl",
            "technology": "Truseq"
           },
           {
            "chromosome": "chr11",
            "log": 4.060443010546419,
            "mmap_count": 58,
            "sample": "colo829bl",
            "technology": "Truseq"
           },
           {
            "chromosome": "chr16",
            "log": 4.02535169073515,
            "mmap_count": 56,
            "sample": "colo829bl",
            "technology": "Truseq"
           },
           {
            "chromosome": "chr5",
            "log": 10.930782842453194,
            "mmap_count": 55870,
            "sample": "colo829t",
            "technology": "Truseq"
           },
           {
            "chromosome": "chr1",
            "log": 9.115699967822062,
            "mmap_count": 9097,
            "sample": "colo829t",
            "technology": "Truseq"
           },
           {
            "chromosome": "chrX",
            "log": 8.544419177669829,
            "mmap_count": 5138,
            "sample": "colo829t",
            "technology": "Truseq"
           },
           {
            "chromosome": "chr12",
            "log": 8.252706676567644,
            "mmap_count": 3838,
            "sample": "colo829t",
            "technology": "Truseq"
           },
           {
            "chromosome": "chr10",
            "log": 7.652070746116482,
            "mmap_count": 2105,
            "sample": "colo829t",
            "technology": "Truseq"
           },
           {
            "chromosome": "chr18",
            "log": 7.646831391430482,
            "mmap_count": 2094,
            "sample": "colo829t",
            "technology": "Truseq"
           },
           {
            "chromosome": "chr22",
            "log": 7.587310506022615,
            "mmap_count": 1973,
            "sample": "colo829t",
            "technology": "Truseq"
           },
           {
            "chromosome": "chr3",
            "log": 7.4798641311650265,
            "mmap_count": 1772,
            "sample": "colo829t",
            "technology": "Truseq"
           },
           {
            "chromosome": "chr15",
            "log": 6.431331081933479,
            "mmap_count": 621,
            "sample": "colo829t",
            "technology": "Truseq"
           },
           {
            "chromosome": "chr17",
            "log": 6.410174881966167,
            "mmap_count": 608,
            "sample": "colo829t",
            "technology": "Truseq"
           },
           {
            "chromosome": "chr2",
            "log": 6.226536669287466,
            "mmap_count": 506,
            "sample": "colo829t",
            "technology": "Truseq"
           },
           {
            "chromosome": "chr13",
            "log": 5.786897381366708,
            "mmap_count": 326,
            "sample": "colo829t",
            "technology": "Truseq"
           },
           {
            "chromosome": "chr4",
            "log": 5.777652323222656,
            "mmap_count": 323,
            "sample": "colo829t",
            "technology": "Truseq"
           },
           {
            "chromosome": "chr9",
            "log": 5.703782474656201,
            "mmap_count": 300,
            "sample": "colo829t",
            "technology": "Truseq"
           },
           {
            "chromosome": "chr7",
            "log": 5.6937321388027,
            "mmap_count": 297,
            "sample": "colo829t",
            "technology": "Truseq"
           },
           {
            "chromosome": "chr19",
            "log": 5.472270673671475,
            "mmap_count": 238,
            "sample": "colo829t",
            "technology": "Truseq"
           },
           {
            "chromosome": "chr21",
            "log": 5.176149732573829,
            "mmap_count": 177,
            "sample": "colo829t",
            "technology": "Truseq"
           },
           {
            "chromosome": "chr16",
            "log": 4.382026634673881,
            "mmap_count": 80,
            "sample": "colo829t",
            "technology": "Truseq"
           },
           {
            "chromosome": "chr11",
            "log": 3.9512437185814275,
            "mmap_count": 52,
            "sample": "colo829t",
            "technology": "Truseq"
           }
          ]
         },
         "encoding": {
          "color": {
           "field": "technology",
           "type": "nominal"
          },
          "x": {
           "field": "log",
           "type": "quantitative"
          },
          "y": {
           "field": "chromosome",
           "type": "nominal"
          }
         },
         "mark": "bar"
        }
       ]
      },
      "image/png": "[encoded data removed]",
      "text/plain": [
       "<VegaLite 2 object>\n",
       "\n",
       "If you see this message, it means the renderer has not been properly enabled\n",
       "for the frontend that you are using. For more information, see\n",
       "https://altair-viz.github.io/user_guide/troubleshooting.html\n"
      ]
     },
     "execution_count": 4,
     "metadata": {},
     "output_type": "execute_result"
    }
   ],
   "source": [
    "#dataset_curated = pd.concat(datasets_excluded_chroms, ignore_index=True)\n",
    "dataset_curated = pd.concat(datasets, ignore_index=True)\n",
    "dataset_curated[\"log\"] = dataset_curated[\"mmap_count\"].apply(np.log)\n",
    "\n",
    "sample_chart = alt.Chart(dataset_curated).mark_bar().encode(\n",
    "        x = 'mmap_count:Q',\n",
    "        y = 'chromosome:N',\n",
    "        color = 'sample:N'\n",
    ")\n",
    "\n",
    "tech_chart = alt.Chart(dataset_curated).mark_bar().encode(\n",
    "        x = 'mmap_count:Q',\n",
    "        y = 'chromosome:N',\n",
    "        color = 'technology:N'\n",
    ")\n",
    "\n",
    "logplot = alt.Chart(dataset_curated).mark_bar().encode(\n",
    "        x = 'log:Q',\n",
    "        y = 'chromosome:N',\n",
    "        color = 'technology:N'\n",
    ")\n",
    "\n",
    "sample_chart | tech_chart | logplot"
   ]
  },
  {
   "cell_type": "markdown",
   "metadata": {},
   "source": [
    "## Absolute mapped reads for the whole datasets (samtools idxstats)"
   ]
  },
  {
   "cell_type": "markdown",
   "metadata": {},
   "source": [
    "### 10X"
   ]
  },
  {
   "cell_type": "code",
   "execution_count": 5,
   "metadata": {},
   "outputs": [],
   "source": [
    "colo829bl_10x_baseline = pd.read_csv(\"../data/processed/colo829_baseline/COLO829BL-10X-baseline-idxstats-hg38.hist.csv\", dtype={\"mmap_count\": np.int})\n",
    "colo829t_10x_baseline = pd.read_csv(\"../data/processed/colo829_baseline/COLO829T-10X-baseline-idxstats-hg38.hist.csv\", dtype={\"mmap_count\": np.int})\n",
    "\n",
    "colo829bl_10x_baseline['technology'] = '10X'\n",
    "colo829bl_10x_baseline['sample'] = 'colo829bl_10x'\n",
    "colo829t_10x_baseline['technology'] = '10X'\n",
    "colo829t_10x_baseline['sample'] = 'colo829t_10x'"
   ]
  },
  {
   "cell_type": "markdown",
   "metadata": {},
   "source": [
    "### Truseq"
   ]
  },
  {
   "cell_type": "code",
   "execution_count": 6,
   "metadata": {},
   "outputs": [],
   "source": [
    "colo829bl_baseline = pd.read_csv(\"../data/processed/colo829_baseline/COLO829BL-baseline-idxstats-hg38.hist.csv\", dtype={\"mmap_count\": np.int})\n",
    "colo829t_baseline = pd.read_csv(\"../data/processed/colo829_baseline/COLO829T-baseline-idxstats-hg38.hist.csv\", dtype={\"mmap_count\": np.int})\n",
    "\n",
    "colo829t_baseline['technology'] = 'Truseq'\n",
    "colo829t_baseline['sample'] = 'colo829t'\n",
    "colo829bl_baseline['technology'] = 'Truseq'\n",
    "colo829bl_baseline['sample'] = 'colo829bl'"
   ]
  },
  {
   "cell_type": "code",
   "execution_count": 7,
   "metadata": {},
   "outputs": [
    {
     "data": {
      "application/vnd.vegalite.v2+json": {
       "$schema": "https://vega.github.io/schema/vega-lite/v2.4.1.json",
       "config": {
        "view": {
         "height": 300,
         "width": 400
        }
       },
       "hconcat": [
        {
         "data": {
          "values": [
           {
            "chromosome": "chr1",
            "log": 18.681954691163043,
            "mapped": 129858336,
            "sample": "colo829bl_10x",
            "technology": "10X"
           },
           {
            "chromosome": "chr2",
            "log": 18.44130806051062,
            "mapped": 102084153,
            "sample": "colo829bl_10x",
            "technology": "10X"
           },
           {
            "chromosome": "chr3",
            "log": 18.481199553112017,
            "mapped": 106238758,
            "sample": "colo829bl_10x",
            "technology": "10X"
           },
           {
            "chromosome": "chr4",
            "log": 18.305163085390568,
            "mapped": 89090484,
            "sample": "colo829bl_10x",
            "technology": "10X"
           },
           {
            "chromosome": "chr5",
            "log": 17.81769670169353,
            "mapped": 54717640,
            "sample": "colo829bl_10x",
            "technology": "10X"
           },
           {
            "chromosome": "chr6",
            "log": 18.061521803160627,
            "mapped": 69826336,
            "sample": "colo829bl_10x",
            "technology": "10X"
           },
           {
            "chromosome": "chr7",
            "log": 18.236641048002294,
            "mapped": 83190278,
            "sample": "colo829bl_10x",
            "technology": "10X"
           },
           {
            "chromosome": "chr8",
            "log": 17.997519997487043,
            "mapped": 65497334,
            "sample": "colo829bl_10x",
            "technology": "10X"
           },
           {
            "chromosome": "chr9",
            "log": 17.858267221003583,
            "mapped": 56983210,
            "sample": "colo829bl_10x",
            "technology": "10X"
           },
           {
            "chromosome": "chr10",
            "log": 17.658017233496448,
            "mapped": 46642245,
            "sample": "colo829bl_10x",
            "technology": "10X"
           },
           {
            "chromosome": "chr11",
            "log": 17.85884945109737,
            "mapped": 57016397,
            "sample": "colo829bl_10x",
            "technology": "10X"
           },
           {
            "chromosome": "chr12",
            "log": 17.827764398707963,
            "mapped": 55271303,
            "sample": "colo829bl_10x",
            "technology": "10X"
           },
           {
            "chromosome": "chr13",
            "log": 17.70322066570122,
            "mapped": 48799014,
            "sample": "colo829bl_10x",
            "technology": "10X"
           },
           {
            "chromosome": "chr14",
            "log": 17.35767373678769,
            "mapped": 34541558,
            "sample": "colo829bl_10x",
            "technology": "10X"
           },
           {
            "chromosome": "chr15",
            "log": 17.16442545439651,
            "mapped": 28471822,
            "sample": "colo829bl_10x",
            "technology": "10X"
           },
           {
            "chromosome": "chr16",
            "log": 17.74726518816798,
            "mapped": 50996379,
            "sample": "colo829bl_10x",
            "technology": "10X"
           },
           {
            "chromosome": "chr17",
            "log": 17.44689831035108,
            "mapped": 37765189,
            "sample": "colo829bl_10x",
            "technology": "10X"
           },
           {
            "chromosome": "chr18",
            "log": 17.34532232606474,
            "mapped": 34117545,
            "sample": "colo829bl_10x",
            "technology": "10X"
           },
           {
            "chromosome": "chr19",
            "log": 17.02506826369136,
            "mapped": 24768129,
            "sample": "colo829bl_10x",
            "technology": "10X"
           },
           {
            "chromosome": "chr20",
            "log": 17.548116783645696,
            "mapped": 41787875,
            "sample": "colo829bl_10x",
            "technology": "10X"
           },
           {
            "chromosome": "chr21",
            "log": 17.382238394924887,
            "mapped": 35400567,
            "sample": "colo829bl_10x",
            "technology": "10X"
           },
           {
            "chromosome": "chr22",
            "log": 16.928531522784372,
            "mapped": 22488880,
            "sample": "colo829bl_10x",
            "technology": "10X"
           },
           {
            "chromosome": "chrX",
            "log": 17.54100936385378,
            "mapped": 41491924,
            "sample": "colo829bl_10x",
            "technology": "10X"
           },
           {
            "chromosome": "chrY",
            "log": 16.01470874201245,
            "mapped": 9017780,
            "sample": "colo829bl_10x",
            "technology": "10X"
           },
           {
            "chromosome": "chrM",
            "log": 13.811996390504417,
            "mapped": 996492,
            "sample": "colo829bl_10x",
            "technology": "10X"
           },
           {
            "chromosome": "chr1",
            "log": 18.887787976437775,
            "mapped": 159537247,
            "sample": "colo829t_10x",
            "technology": "10X"
           },
           {
            "chromosome": "chr2",
            "log": 18.618387571494136,
            "mapped": 121860508,
            "sample": "colo829t_10x",
            "technology": "10X"
           },
           {
            "chromosome": "chr3",
            "log": 18.741892450176938,
            "mapped": 137879745,
            "sample": "colo829t_10x",
            "technology": "10X"
           },
           {
            "chromosome": "chr4",
            "log": 18.522037930972726,
            "mapped": 110667186,
            "sample": "colo829t_10x",
            "technology": "10X"
           },
           {
            "chromosome": "chr5",
            "log": 17.932398937965022,
            "mapped": 61367991,
            "sample": "colo829t_10x",
            "technology": "10X"
           },
           {
            "chromosome": "chr6",
            "log": 18.297358816919537,
            "mapped": 88397904,
            "sample": "colo829t_10x",
            "technology": "10X"
           },
           {
            "chromosome": "chr7",
            "log": 18.49384300477635,
            "mapped": 107590510,
            "sample": "colo829t_10x",
            "technology": "10X"
           },
           {
            "chromosome": "chr8",
            "log": 18.237593974457837,
            "mapped": 83269590,
            "sample": "colo829t_10x",
            "technology": "10X"
           },
           {
            "chromosome": "chr9",
            "log": 18.06996699672181,
            "mapped": 70418530,
            "sample": "colo829t_10x",
            "technology": "10X"
           },
           {
            "chromosome": "chr10",
            "log": 17.776222141449775,
            "mapped": 52494667,
            "sample": "colo829t_10x",
            "technology": "10X"
           },
           {
            "chromosome": "chr11",
            "log": 18.06900071889618,
            "mapped": 70350519,
            "sample": "colo829t_10x",
            "technology": "10X"
           },
           {
            "chromosome": "chr12",
            "log": 18.02783920229823,
            "mapped": 67513572,
            "sample": "colo829t_10x",
            "technology": "10X"
           },
           {
            "chromosome": "chr13",
            "log": 17.941723954513503,
            "mapped": 61942925,
            "sample": "colo829t_10x",
            "technology": "10X"
           },
           {
            "chromosome": "chr14",
            "log": 17.560452951104672,
            "mapped": 42306570,
            "sample": "colo829t_10x",
            "technology": "10X"
           },
           {
            "chromosome": "chr15",
            "log": 17.339078215567366,
            "mapped": 33905175,
            "sample": "colo829t_10x",
            "technology": "10X"
           },
           {
            "chromosome": "chr16",
            "log": 17.873529996099162,
            "mapped": 57859603,
            "sample": "colo829t_10x",
            "technology": "10X"
           },
           {
            "chromosome": "chr17",
            "log": 17.640069698591073,
            "mapped": 45812599,
            "sample": "colo829t_10x",
            "technology": "10X"
           },
           {
            "chromosome": "chr18",
            "log": 17.542949088128697,
            "mapped": 41572485,
            "sample": "colo829t_10x",
            "technology": "10X"
           },
           {
            "chromosome": "chr19",
            "log": 17.177682836673558,
            "mapped": 28851797,
            "sample": "colo829t_10x",
            "technology": "10X"
           },
           {
            "chromosome": "chr20",
            "log": 17.773726032662587,
            "mapped": 52363798,
            "sample": "colo829t_10x",
            "technology": "10X"
           },
           {
            "chromosome": "chr21",
            "log": 17.4751511164111,
            "mapped": 38847377,
            "sample": "colo829t_10x",
            "technology": "10X"
           },
           {
            "chromosome": "chr22",
            "log": 17.13477701706332,
            "mapped": 27640068,
            "sample": "colo829t_10x",
            "technology": "10X"
           },
           {
            "chromosome": "chrX",
            "log": 17.794423542683983,
            "mapped": 53458892,
            "sample": "colo829t_10x",
            "technology": "10X"
           },
           {
            "chromosome": "chrY",
            "log": 15.304253198294939,
            "mapped": 4431520,
            "sample": "colo829t_10x",
            "technology": "10X"
           },
           {
            "chromosome": "chrM",
            "log": 14.06551179104834,
            "mapped": 1284027,
            "sample": "colo829t_10x",
            "technology": "10X"
           },
           {
            "chromosome": "chr1",
            "log": 19.017608864801748,
            "mapped": 181653006,
            "sample": "colo829bl",
            "technology": "Truseq"
           },
           {
            "chromosome": "chr2",
            "log": 18.98280227560249,
            "mapped": 175439055,
            "sample": "colo829bl",
            "technology": "Truseq"
           },
           {
            "chromosome": "chr3",
            "log": 18.825679830155856,
            "mapped": 149930113,
            "sample": "colo829bl",
            "technology": "Truseq"
           },
           {
            "chromosome": "chr4",
            "log": 18.76477806416458,
            "mapped": 141071592,
            "sample": "colo829bl",
            "technology": "Truseq"
           },
           {
            "chromosome": "chr5",
            "log": 18.70040012565996,
            "mapped": 132275857,
            "sample": "colo829bl",
            "technology": "Truseq"
           },
           {
            "chromosome": "chr6",
            "log": 18.63414164130475,
            "mapped": 123795509,
            "sample": "colo829bl",
            "technology": "Truseq"
           },
           {
            "chromosome": "chr7",
            "log": 18.540402751919718,
            "mapped": 112718346,
            "sample": "colo829bl",
            "technology": "Truseq"
           },
           {
            "chromosome": "chr8",
            "log": 18.46074191151718,
            "mapped": 104087444,
            "sample": "colo829bl",
            "technology": "Truseq"
           },
           {
            "chromosome": "chr9",
            "log": 18.292380956869465,
            "mapped": 87958965,
            "sample": "colo829bl",
            "technology": "Truseq"
           },
           {
            "chromosome": "chr10",
            "log": 18.401882346049018,
            "mapped": 98137719,
            "sample": "colo829bl",
            "technology": "Truseq"
           },
           {
            "chromosome": "chr11",
            "log": 18.38007994371685,
            "mapped": 96021237,
            "sample": "colo829bl",
            "technology": "Truseq"
           },
           {
            "chromosome": "chr12",
            "log": 18.38156689388902,
            "mapped": 96164122,
            "sample": "colo829bl",
            "technology": "Truseq"
           },
           {
            "chromosome": "chr13",
            "log": 18.12053968633718,
            "mapped": 74071373,
            "sample": "colo829bl",
            "technology": "Truseq"
           },
           {
            "chromosome": "chr14",
            "log": 17.991941737652468,
            "mapped": 65132990,
            "sample": "colo829bl",
            "technology": "Truseq"
           },
           {
            "chromosome": "chr15",
            "log": 17.91127378007906,
            "mapped": 60085180,
            "sample": "colo829bl",
            "technology": "Truseq"
           },
           {
            "chromosome": "chr16",
            "log": 17.994608530442267,
            "mapped": 65306918,
            "sample": "colo829bl",
            "technology": "Truseq"
           },
           {
            "chromosome": "chr17",
            "log": 17.886795904959254,
            "mapped": 58632277,
            "sample": "colo829bl",
            "technology": "Truseq"
           },
           {
            "chromosome": "chr18",
            "log": 17.87028804972499,
            "mapped": 57672329,
            "sample": "colo829bl",
            "technology": "Truseq"
           },
           {
            "chromosome": "chr19",
            "log": 17.436627205180095,
            "mapped": 37379284,
            "sample": "colo829bl",
            "technology": "Truseq"
           },
           {
            "chromosome": "chr20",
            "log": 17.68365661558392,
            "mapped": 47853586,
            "sample": "colo829bl",
            "technology": "Truseq"
           },
           {
            "chromosome": "chr21",
            "log": 17.297819060958158,
            "mapped": 32534742,
            "sample": "colo829bl",
            "technology": "Truseq"
           },
           {
            "chromosome": "chr22",
            "log": 17.106019366155135,
            "mapped": 26856525,
            "sample": "colo829bl",
            "technology": "Truseq"
           },
           {
            "chromosome": "chrX",
            "log": 17.83508478769483,
            "mapped": 55677395,
            "sample": "colo829bl",
            "technology": "Truseq"
           },
           {
            "chromosome": "chrY",
            "log": 16.65238859060371,
            "mapped": 17062414,
            "sample": "colo829bl",
            "technology": "Truseq"
           },
           {
            "chromosome": "chrM",
            "log": 14.048111645460974,
            "mapped": 1261878,
            "sample": "colo829bl",
            "technology": "Truseq"
           },
           {
            "chromosome": "chr1",
            "log": 18.998312819530863,
            "mapped": 178181423,
            "sample": "colo829t",
            "technology": "Truseq"
           },
           {
            "chromosome": "chr2",
            "log": 18.98675336162524,
            "mapped": 176133601,
            "sample": "colo829t",
            "technology": "Truseq"
           },
           {
            "chromosome": "chr3",
            "log": 19.060473233221135,
            "mapped": 189608738,
            "sample": "colo829t",
            "technology": "Truseq"
           },
           {
            "chromosome": "chr4",
            "log": 18.911884369307796,
            "mapped": 163428210,
            "sample": "colo829t",
            "technology": "Truseq"
           },
           {
            "chromosome": "chr5",
            "log": 18.32746493741642,
            "mapped": 91099688,
            "sample": "colo829t",
            "technology": "Truseq"
           },
           {
            "chromosome": "chr6",
            "log": 18.455316027381055,
            "mapped": 103524207,
            "sample": "colo829t",
            "technology": "Truseq"
           },
           {
            "chromosome": "chr7",
            "log": 18.864158059623986,
            "mapped": 155811587,
            "sample": "colo829t",
            "technology": "Truseq"
           },
           {
            "chromosome": "chr8",
            "log": 18.475124022925133,
            "mapped": 105595258,
            "sample": "colo829t",
            "technology": "Truseq"
           },
           {
            "chromosome": "chr9",
            "log": 18.32722177859274,
            "mapped": 91077539,
            "sample": "colo829t",
            "technology": "Truseq"
           },
           {
            "chromosome": "chr10",
            "log": 18.035316733299613,
            "mapped": 68020299,
            "sample": "colo829t",
            "technology": "Truseq"
           },
           {
            "chromosome": "chr11",
            "log": 18.194805615275342,
            "mapped": 79781772,
            "sample": "colo829t",
            "technology": "Truseq"
           },
           {
            "chromosome": "chr12",
            "log": 18.37371028211991,
            "mapped": 95411558,
            "sample": "colo829t",
            "technology": "Truseq"
           },
           {
            "chromosome": "chr13",
            "log": 18.118404587362434,
            "mapped": 73913392,
            "sample": "colo829t",
            "technology": "Truseq"
           },
           {
            "chromosome": "chr14",
            "log": 17.971048270555897,
            "mapped": 63786254,
            "sample": "colo829t",
            "technology": "Truseq"
           },
           {
            "chromosome": "chr15",
            "log": 17.730414310054474,
            "mapped": 50144245,
            "sample": "colo829t",
            "technology": "Truseq"
           },
           {
            "chromosome": "chr16",
            "log": 17.852422810016723,
            "mapped": 56651148,
            "sample": "colo829t",
            "technology": "Truseq"
           },
           {
            "chromosome": "chr17",
            "log": 17.891155211672295,
            "mapped": 58888431,
            "sample": "colo829t",
            "technology": "Truseq"
           },
           {
            "chromosome": "chr18",
            "log": 17.480321756411485,
            "mapped": 39048763,
            "sample": "colo829t",
            "technology": "Truseq"
           },
           {
            "chromosome": "chr19",
            "log": 17.40355374654894,
            "mapped": 36163242,
            "sample": "colo829t",
            "technology": "Truseq"
           },
           {
            "chromosome": "chr20",
            "log": 17.961612686782903,
            "mapped": 63187224,
            "sample": "colo829t",
            "technology": "Truseq"
           },
           {
            "chromosome": "chr21",
            "log": 17.340740502539134,
            "mapped": 33961582,
            "sample": "colo829t",
            "technology": "Truseq"
           },
           {
            "chromosome": "chr22",
            "log": 17.369487279596857,
            "mapped": 34952036,
            "sample": "colo829t",
            "technology": "Truseq"
           },
           {
            "chromosome": "chrX",
            "log": 18.123540416225037,
            "mapped": 74293975,
            "sample": "colo829t",
            "technology": "Truseq"
           },
           {
            "chromosome": "chrY",
            "log": 15.171288493467685,
            "mapped": 3879778,
            "sample": "colo829t",
            "technology": "Truseq"
           },
           {
            "chromosome": "chrM",
            "log": 13.851513599961567,
            "mapped": 1036659,
            "sample": "colo829t",
            "technology": "Truseq"
           }
          ]
         },
         "encoding": {
          "color": {
           "field": "sample",
           "type": "nominal"
          },
          "x": {
           "field": "mapped",
           "type": "quantitative"
          },
          "y": {
           "field": "chromosome",
           "type": "nominal"
          }
         },
         "mark": "bar"
        },
        {
         "data": {
          "values": [
           {
            "chromosome": "chr1",
            "log": 18.681954691163043,
            "mapped": 129858336,
            "sample": "colo829bl_10x",
            "technology": "10X"
           },
           {
            "chromosome": "chr2",
            "log": 18.44130806051062,
            "mapped": 102084153,
            "sample": "colo829bl_10x",
            "technology": "10X"
           },
           {
            "chromosome": "chr3",
            "log": 18.481199553112017,
            "mapped": 106238758,
            "sample": "colo829bl_10x",
            "technology": "10X"
           },
           {
            "chromosome": "chr4",
            "log": 18.305163085390568,
            "mapped": 89090484,
            "sample": "colo829bl_10x",
            "technology": "10X"
           },
           {
            "chromosome": "chr5",
            "log": 17.81769670169353,
            "mapped": 54717640,
            "sample": "colo829bl_10x",
            "technology": "10X"
           },
           {
            "chromosome": "chr6",
            "log": 18.061521803160627,
            "mapped": 69826336,
            "sample": "colo829bl_10x",
            "technology": "10X"
           },
           {
            "chromosome": "chr7",
            "log": 18.236641048002294,
            "mapped": 83190278,
            "sample": "colo829bl_10x",
            "technology": "10X"
           },
           {
            "chromosome": "chr8",
            "log": 17.997519997487043,
            "mapped": 65497334,
            "sample": "colo829bl_10x",
            "technology": "10X"
           },
           {
            "chromosome": "chr9",
            "log": 17.858267221003583,
            "mapped": 56983210,
            "sample": "colo829bl_10x",
            "technology": "10X"
           },
           {
            "chromosome": "chr10",
            "log": 17.658017233496448,
            "mapped": 46642245,
            "sample": "colo829bl_10x",
            "technology": "10X"
           },
           {
            "chromosome": "chr11",
            "log": 17.85884945109737,
            "mapped": 57016397,
            "sample": "colo829bl_10x",
            "technology": "10X"
           },
           {
            "chromosome": "chr12",
            "log": 17.827764398707963,
            "mapped": 55271303,
            "sample": "colo829bl_10x",
            "technology": "10X"
           },
           {
            "chromosome": "chr13",
            "log": 17.70322066570122,
            "mapped": 48799014,
            "sample": "colo829bl_10x",
            "technology": "10X"
           },
           {
            "chromosome": "chr14",
            "log": 17.35767373678769,
            "mapped": 34541558,
            "sample": "colo829bl_10x",
            "technology": "10X"
           },
           {
            "chromosome": "chr15",
            "log": 17.16442545439651,
            "mapped": 28471822,
            "sample": "colo829bl_10x",
            "technology": "10X"
           },
           {
            "chromosome": "chr16",
            "log": 17.74726518816798,
            "mapped": 50996379,
            "sample": "colo829bl_10x",
            "technology": "10X"
           },
           {
            "chromosome": "chr17",
            "log": 17.44689831035108,
            "mapped": 37765189,
            "sample": "colo829bl_10x",
            "technology": "10X"
           },
           {
            "chromosome": "chr18",
            "log": 17.34532232606474,
            "mapped": 34117545,
            "sample": "colo829bl_10x",
            "technology": "10X"
           },
           {
            "chromosome": "chr19",
            "log": 17.02506826369136,
            "mapped": 24768129,
            "sample": "colo829bl_10x",
            "technology": "10X"
           },
           {
            "chromosome": "chr20",
            "log": 17.548116783645696,
            "mapped": 41787875,
            "sample": "colo829bl_10x",
            "technology": "10X"
           },
           {
            "chromosome": "chr21",
            "log": 17.382238394924887,
            "mapped": 35400567,
            "sample": "colo829bl_10x",
            "technology": "10X"
           },
           {
            "chromosome": "chr22",
            "log": 16.928531522784372,
            "mapped": 22488880,
            "sample": "colo829bl_10x",
            "technology": "10X"
           },
           {
            "chromosome": "chrX",
            "log": 17.54100936385378,
            "mapped": 41491924,
            "sample": "colo829bl_10x",
            "technology": "10X"
           },
           {
            "chromosome": "chrY",
            "log": 16.01470874201245,
            "mapped": 9017780,
            "sample": "colo829bl_10x",
            "technology": "10X"
           },
           {
            "chromosome": "chrM",
            "log": 13.811996390504417,
            "mapped": 996492,
            "sample": "colo829bl_10x",
            "technology": "10X"
           },
           {
            "chromosome": "chr1",
            "log": 18.887787976437775,
            "mapped": 159537247,
            "sample": "colo829t_10x",
            "technology": "10X"
           },
           {
            "chromosome": "chr2",
            "log": 18.618387571494136,
            "mapped": 121860508,
            "sample": "colo829t_10x",
            "technology": "10X"
           },
           {
            "chromosome": "chr3",
            "log": 18.741892450176938,
            "mapped": 137879745,
            "sample": "colo829t_10x",
            "technology": "10X"
           },
           {
            "chromosome": "chr4",
            "log": 18.522037930972726,
            "mapped": 110667186,
            "sample": "colo829t_10x",
            "technology": "10X"
           },
           {
            "chromosome": "chr5",
            "log": 17.932398937965022,
            "mapped": 61367991,
            "sample": "colo829t_10x",
            "technology": "10X"
           },
           {
            "chromosome": "chr6",
            "log": 18.297358816919537,
            "mapped": 88397904,
            "sample": "colo829t_10x",
            "technology": "10X"
           },
           {
            "chromosome": "chr7",
            "log": 18.49384300477635,
            "mapped": 107590510,
            "sample": "colo829t_10x",
            "technology": "10X"
           },
           {
            "chromosome": "chr8",
            "log": 18.237593974457837,
            "mapped": 83269590,
            "sample": "colo829t_10x",
            "technology": "10X"
           },
           {
            "chromosome": "chr9",
            "log": 18.06996699672181,
            "mapped": 70418530,
            "sample": "colo829t_10x",
            "technology": "10X"
           },
           {
            "chromosome": "chr10",
            "log": 17.776222141449775,
            "mapped": 52494667,
            "sample": "colo829t_10x",
            "technology": "10X"
           },
           {
            "chromosome": "chr11",
            "log": 18.06900071889618,
            "mapped": 70350519,
            "sample": "colo829t_10x",
            "technology": "10X"
           },
           {
            "chromosome": "chr12",
            "log": 18.02783920229823,
            "mapped": 67513572,
            "sample": "colo829t_10x",
            "technology": "10X"
           },
           {
            "chromosome": "chr13",
            "log": 17.941723954513503,
            "mapped": 61942925,
            "sample": "colo829t_10x",
            "technology": "10X"
           },
           {
            "chromosome": "chr14",
            "log": 17.560452951104672,
            "mapped": 42306570,
            "sample": "colo829t_10x",
            "technology": "10X"
           },
           {
            "chromosome": "chr15",
            "log": 17.339078215567366,
            "mapped": 33905175,
            "sample": "colo829t_10x",
            "technology": "10X"
           },
           {
            "chromosome": "chr16",
            "log": 17.873529996099162,
            "mapped": 57859603,
            "sample": "colo829t_10x",
            "technology": "10X"
           },
           {
            "chromosome": "chr17",
            "log": 17.640069698591073,
            "mapped": 45812599,
            "sample": "colo829t_10x",
            "technology": "10X"
           },
           {
            "chromosome": "chr18",
            "log": 17.542949088128697,
            "mapped": 41572485,
            "sample": "colo829t_10x",
            "technology": "10X"
           },
           {
            "chromosome": "chr19",
            "log": 17.177682836673558,
            "mapped": 28851797,
            "sample": "colo829t_10x",
            "technology": "10X"
           },
           {
            "chromosome": "chr20",
            "log": 17.773726032662587,
            "mapped": 52363798,
            "sample": "colo829t_10x",
            "technology": "10X"
           },
           {
            "chromosome": "chr21",
            "log": 17.4751511164111,
            "mapped": 38847377,
            "sample": "colo829t_10x",
            "technology": "10X"
           },
           {
            "chromosome": "chr22",
            "log": 17.13477701706332,
            "mapped": 27640068,
            "sample": "colo829t_10x",
            "technology": "10X"
           },
           {
            "chromosome": "chrX",
            "log": 17.794423542683983,
            "mapped": 53458892,
            "sample": "colo829t_10x",
            "technology": "10X"
           },
           {
            "chromosome": "chrY",
            "log": 15.304253198294939,
            "mapped": 4431520,
            "sample": "colo829t_10x",
            "technology": "10X"
           },
           {
            "chromosome": "chrM",
            "log": 14.06551179104834,
            "mapped": 1284027,
            "sample": "colo829t_10x",
            "technology": "10X"
           },
           {
            "chromosome": "chr1",
            "log": 19.017608864801748,
            "mapped": 181653006,
            "sample": "colo829bl",
            "technology": "Truseq"
           },
           {
            "chromosome": "chr2",
            "log": 18.98280227560249,
            "mapped": 175439055,
            "sample": "colo829bl",
            "technology": "Truseq"
           },
           {
            "chromosome": "chr3",
            "log": 18.825679830155856,
            "mapped": 149930113,
            "sample": "colo829bl",
            "technology": "Truseq"
           },
           {
            "chromosome": "chr4",
            "log": 18.76477806416458,
            "mapped": 141071592,
            "sample": "colo829bl",
            "technology": "Truseq"
           },
           {
            "chromosome": "chr5",
            "log": 18.70040012565996,
            "mapped": 132275857,
            "sample": "colo829bl",
            "technology": "Truseq"
           },
           {
            "chromosome": "chr6",
            "log": 18.63414164130475,
            "mapped": 123795509,
            "sample": "colo829bl",
            "technology": "Truseq"
           },
           {
            "chromosome": "chr7",
            "log": 18.540402751919718,
            "mapped": 112718346,
            "sample": "colo829bl",
            "technology": "Truseq"
           },
           {
            "chromosome": "chr8",
            "log": 18.46074191151718,
            "mapped": 104087444,
            "sample": "colo829bl",
            "technology": "Truseq"
           },
           {
            "chromosome": "chr9",
            "log": 18.292380956869465,
            "mapped": 87958965,
            "sample": "colo829bl",
            "technology": "Truseq"
           },
           {
            "chromosome": "chr10",
            "log": 18.401882346049018,
            "mapped": 98137719,
            "sample": "colo829bl",
            "technology": "Truseq"
           },
           {
            "chromosome": "chr11",
            "log": 18.38007994371685,
            "mapped": 96021237,
            "sample": "colo829bl",
            "technology": "Truseq"
           },
           {
            "chromosome": "chr12",
            "log": 18.38156689388902,
            "mapped": 96164122,
            "sample": "colo829bl",
            "technology": "Truseq"
           },
           {
            "chromosome": "chr13",
            "log": 18.12053968633718,
            "mapped": 74071373,
            "sample": "colo829bl",
            "technology": "Truseq"
           },
           {
            "chromosome": "chr14",
            "log": 17.991941737652468,
            "mapped": 65132990,
            "sample": "colo829bl",
            "technology": "Truseq"
           },
           {
            "chromosome": "chr15",
            "log": 17.91127378007906,
            "mapped": 60085180,
            "sample": "colo829bl",
            "technology": "Truseq"
           },
           {
            "chromosome": "chr16",
            "log": 17.994608530442267,
            "mapped": 65306918,
            "sample": "colo829bl",
            "technology": "Truseq"
           },
           {
            "chromosome": "chr17",
            "log": 17.886795904959254,
            "mapped": 58632277,
            "sample": "colo829bl",
            "technology": "Truseq"
           },
           {
            "chromosome": "chr18",
            "log": 17.87028804972499,
            "mapped": 57672329,
            "sample": "colo829bl",
            "technology": "Truseq"
           },
           {
            "chromosome": "chr19",
            "log": 17.436627205180095,
            "mapped": 37379284,
            "sample": "colo829bl",
            "technology": "Truseq"
           },
           {
            "chromosome": "chr20",
            "log": 17.68365661558392,
            "mapped": 47853586,
            "sample": "colo829bl",
            "technology": "Truseq"
           },
           {
            "chromosome": "chr21",
            "log": 17.297819060958158,
            "mapped": 32534742,
            "sample": "colo829bl",
            "technology": "Truseq"
           },
           {
            "chromosome": "chr22",
            "log": 17.106019366155135,
            "mapped": 26856525,
            "sample": "colo829bl",
            "technology": "Truseq"
           },
           {
            "chromosome": "chrX",
            "log": 17.83508478769483,
            "mapped": 55677395,
            "sample": "colo829bl",
            "technology": "Truseq"
           },
           {
            "chromosome": "chrY",
            "log": 16.65238859060371,
            "mapped": 17062414,
            "sample": "colo829bl",
            "technology": "Truseq"
           },
           {
            "chromosome": "chrM",
            "log": 14.048111645460974,
            "mapped": 1261878,
            "sample": "colo829bl",
            "technology": "Truseq"
           },
           {
            "chromosome": "chr1",
            "log": 18.998312819530863,
            "mapped": 178181423,
            "sample": "colo829t",
            "technology": "Truseq"
           },
           {
            "chromosome": "chr2",
            "log": 18.98675336162524,
            "mapped": 176133601,
            "sample": "colo829t",
            "technology": "Truseq"
           },
           {
            "chromosome": "chr3",
            "log": 19.060473233221135,
            "mapped": 189608738,
            "sample": "colo829t",
            "technology": "Truseq"
           },
           {
            "chromosome": "chr4",
            "log": 18.911884369307796,
            "mapped": 163428210,
            "sample": "colo829t",
            "technology": "Truseq"
           },
           {
            "chromosome": "chr5",
            "log": 18.32746493741642,
            "mapped": 91099688,
            "sample": "colo829t",
            "technology": "Truseq"
           },
           {
            "chromosome": "chr6",
            "log": 18.455316027381055,
            "mapped": 103524207,
            "sample": "colo829t",
            "technology": "Truseq"
           },
           {
            "chromosome": "chr7",
            "log": 18.864158059623986,
            "mapped": 155811587,
            "sample": "colo829t",
            "technology": "Truseq"
           },
           {
            "chromosome": "chr8",
            "log": 18.475124022925133,
            "mapped": 105595258,
            "sample": "colo829t",
            "technology": "Truseq"
           },
           {
            "chromosome": "chr9",
            "log": 18.32722177859274,
            "mapped": 91077539,
            "sample": "colo829t",
            "technology": "Truseq"
           },
           {
            "chromosome": "chr10",
            "log": 18.035316733299613,
            "mapped": 68020299,
            "sample": "colo829t",
            "technology": "Truseq"
           },
           {
            "chromosome": "chr11",
            "log": 18.194805615275342,
            "mapped": 79781772,
            "sample": "colo829t",
            "technology": "Truseq"
           },
           {
            "chromosome": "chr12",
            "log": 18.37371028211991,
            "mapped": 95411558,
            "sample": "colo829t",
            "technology": "Truseq"
           },
           {
            "chromosome": "chr13",
            "log": 18.118404587362434,
            "mapped": 73913392,
            "sample": "colo829t",
            "technology": "Truseq"
           },
           {
            "chromosome": "chr14",
            "log": 17.971048270555897,
            "mapped": 63786254,
            "sample": "colo829t",
            "technology": "Truseq"
           },
           {
            "chromosome": "chr15",
            "log": 17.730414310054474,
            "mapped": 50144245,
            "sample": "colo829t",
            "technology": "Truseq"
           },
           {
            "chromosome": "chr16",
            "log": 17.852422810016723,
            "mapped": 56651148,
            "sample": "colo829t",
            "technology": "Truseq"
           },
           {
            "chromosome": "chr17",
            "log": 17.891155211672295,
            "mapped": 58888431,
            "sample": "colo829t",
            "technology": "Truseq"
           },
           {
            "chromosome": "chr18",
            "log": 17.480321756411485,
            "mapped": 39048763,
            "sample": "colo829t",
            "technology": "Truseq"
           },
           {
            "chromosome": "chr19",
            "log": 17.40355374654894,
            "mapped": 36163242,
            "sample": "colo829t",
            "technology": "Truseq"
           },
           {
            "chromosome": "chr20",
            "log": 17.961612686782903,
            "mapped": 63187224,
            "sample": "colo829t",
            "technology": "Truseq"
           },
           {
            "chromosome": "chr21",
            "log": 17.340740502539134,
            "mapped": 33961582,
            "sample": "colo829t",
            "technology": "Truseq"
           },
           {
            "chromosome": "chr22",
            "log": 17.369487279596857,
            "mapped": 34952036,
            "sample": "colo829t",
            "technology": "Truseq"
           },
           {
            "chromosome": "chrX",
            "log": 18.123540416225037,
            "mapped": 74293975,
            "sample": "colo829t",
            "technology": "Truseq"
           },
           {
            "chromosome": "chrY",
            "log": 15.171288493467685,
            "mapped": 3879778,
            "sample": "colo829t",
            "technology": "Truseq"
           },
           {
            "chromosome": "chrM",
            "log": 13.851513599961567,
            "mapped": 1036659,
            "sample": "colo829t",
            "technology": "Truseq"
           }
          ]
         },
         "encoding": {
          "color": {
           "field": "technology",
           "type": "nominal"
          },
          "x": {
           "field": "mapped",
           "type": "quantitative"
          },
          "y": {
           "field": "chromosome",
           "type": "nominal"
          }
         },
         "mark": "bar"
        },
        {
         "data": {
          "values": [
           {
            "chromosome": "chr1",
            "log": 18.681954691163043,
            "mapped": 129858336,
            "sample": "colo829bl_10x",
            "technology": "10X"
           },
           {
            "chromosome": "chr2",
            "log": 18.44130806051062,
            "mapped": 102084153,
            "sample": "colo829bl_10x",
            "technology": "10X"
           },
           {
            "chromosome": "chr3",
            "log": 18.481199553112017,
            "mapped": 106238758,
            "sample": "colo829bl_10x",
            "technology": "10X"
           },
           {
            "chromosome": "chr4",
            "log": 18.305163085390568,
            "mapped": 89090484,
            "sample": "colo829bl_10x",
            "technology": "10X"
           },
           {
            "chromosome": "chr5",
            "log": 17.81769670169353,
            "mapped": 54717640,
            "sample": "colo829bl_10x",
            "technology": "10X"
           },
           {
            "chromosome": "chr6",
            "log": 18.061521803160627,
            "mapped": 69826336,
            "sample": "colo829bl_10x",
            "technology": "10X"
           },
           {
            "chromosome": "chr7",
            "log": 18.236641048002294,
            "mapped": 83190278,
            "sample": "colo829bl_10x",
            "technology": "10X"
           },
           {
            "chromosome": "chr8",
            "log": 17.997519997487043,
            "mapped": 65497334,
            "sample": "colo829bl_10x",
            "technology": "10X"
           },
           {
            "chromosome": "chr9",
            "log": 17.858267221003583,
            "mapped": 56983210,
            "sample": "colo829bl_10x",
            "technology": "10X"
           },
           {
            "chromosome": "chr10",
            "log": 17.658017233496448,
            "mapped": 46642245,
            "sample": "colo829bl_10x",
            "technology": "10X"
           },
           {
            "chromosome": "chr11",
            "log": 17.85884945109737,
            "mapped": 57016397,
            "sample": "colo829bl_10x",
            "technology": "10X"
           },
           {
            "chromosome": "chr12",
            "log": 17.827764398707963,
            "mapped": 55271303,
            "sample": "colo829bl_10x",
            "technology": "10X"
           },
           {
            "chromosome": "chr13",
            "log": 17.70322066570122,
            "mapped": 48799014,
            "sample": "colo829bl_10x",
            "technology": "10X"
           },
           {
            "chromosome": "chr14",
            "log": 17.35767373678769,
            "mapped": 34541558,
            "sample": "colo829bl_10x",
            "technology": "10X"
           },
           {
            "chromosome": "chr15",
            "log": 17.16442545439651,
            "mapped": 28471822,
            "sample": "colo829bl_10x",
            "technology": "10X"
           },
           {
            "chromosome": "chr16",
            "log": 17.74726518816798,
            "mapped": 50996379,
            "sample": "colo829bl_10x",
            "technology": "10X"
           },
           {
            "chromosome": "chr17",
            "log": 17.44689831035108,
            "mapped": 37765189,
            "sample": "colo829bl_10x",
            "technology": "10X"
           },
           {
            "chromosome": "chr18",
            "log": 17.34532232606474,
            "mapped": 34117545,
            "sample": "colo829bl_10x",
            "technology": "10X"
           },
           {
            "chromosome": "chr19",
            "log": 17.02506826369136,
            "mapped": 24768129,
            "sample": "colo829bl_10x",
            "technology": "10X"
           },
           {
            "chromosome": "chr20",
            "log": 17.548116783645696,
            "mapped": 41787875,
            "sample": "colo829bl_10x",
            "technology": "10X"
           },
           {
            "chromosome": "chr21",
            "log": 17.382238394924887,
            "mapped": 35400567,
            "sample": "colo829bl_10x",
            "technology": "10X"
           },
           {
            "chromosome": "chr22",
            "log": 16.928531522784372,
            "mapped": 22488880,
            "sample": "colo829bl_10x",
            "technology": "10X"
           },
           {
            "chromosome": "chrX",
            "log": 17.54100936385378,
            "mapped": 41491924,
            "sample": "colo829bl_10x",
            "technology": "10X"
           },
           {
            "chromosome": "chrY",
            "log": 16.01470874201245,
            "mapped": 9017780,
            "sample": "colo829bl_10x",
            "technology": "10X"
           },
           {
            "chromosome": "chrM",
            "log": 13.811996390504417,
            "mapped": 996492,
            "sample": "colo829bl_10x",
            "technology": "10X"
           },
           {
            "chromosome": "chr1",
            "log": 18.887787976437775,
            "mapped": 159537247,
            "sample": "colo829t_10x",
            "technology": "10X"
           },
           {
            "chromosome": "chr2",
            "log": 18.618387571494136,
            "mapped": 121860508,
            "sample": "colo829t_10x",
            "technology": "10X"
           },
           {
            "chromosome": "chr3",
            "log": 18.741892450176938,
            "mapped": 137879745,
            "sample": "colo829t_10x",
            "technology": "10X"
           },
           {
            "chromosome": "chr4",
            "log": 18.522037930972726,
            "mapped": 110667186,
            "sample": "colo829t_10x",
            "technology": "10X"
           },
           {
            "chromosome": "chr5",
            "log": 17.932398937965022,
            "mapped": 61367991,
            "sample": "colo829t_10x",
            "technology": "10X"
           },
           {
            "chromosome": "chr6",
            "log": 18.297358816919537,
            "mapped": 88397904,
            "sample": "colo829t_10x",
            "technology": "10X"
           },
           {
            "chromosome": "chr7",
            "log": 18.49384300477635,
            "mapped": 107590510,
            "sample": "colo829t_10x",
            "technology": "10X"
           },
           {
            "chromosome": "chr8",
            "log": 18.237593974457837,
            "mapped": 83269590,
            "sample": "colo829t_10x",
            "technology": "10X"
           },
           {
            "chromosome": "chr9",
            "log": 18.06996699672181,
            "mapped": 70418530,
            "sample": "colo829t_10x",
            "technology": "10X"
           },
           {
            "chromosome": "chr10",
            "log": 17.776222141449775,
            "mapped": 52494667,
            "sample": "colo829t_10x",
            "technology": "10X"
           },
           {
            "chromosome": "chr11",
            "log": 18.06900071889618,
            "mapped": 70350519,
            "sample": "colo829t_10x",
            "technology": "10X"
           },
           {
            "chromosome": "chr12",
            "log": 18.02783920229823,
            "mapped": 67513572,
            "sample": "colo829t_10x",
            "technology": "10X"
           },
           {
            "chromosome": "chr13",
            "log": 17.941723954513503,
            "mapped": 61942925,
            "sample": "colo829t_10x",
            "technology": "10X"
           },
           {
            "chromosome": "chr14",
            "log": 17.560452951104672,
            "mapped": 42306570,
            "sample": "colo829t_10x",
            "technology": "10X"
           },
           {
            "chromosome": "chr15",
            "log": 17.339078215567366,
            "mapped": 33905175,
            "sample": "colo829t_10x",
            "technology": "10X"
           },
           {
            "chromosome": "chr16",
            "log": 17.873529996099162,
            "mapped": 57859603,
            "sample": "colo829t_10x",
            "technology": "10X"
           },
           {
            "chromosome": "chr17",
            "log": 17.640069698591073,
            "mapped": 45812599,
            "sample": "colo829t_10x",
            "technology": "10X"
           },
           {
            "chromosome": "chr18",
            "log": 17.542949088128697,
            "mapped": 41572485,
            "sample": "colo829t_10x",
            "technology": "10X"
           },
           {
            "chromosome": "chr19",
            "log": 17.177682836673558,
            "mapped": 28851797,
            "sample": "colo829t_10x",
            "technology": "10X"
           },
           {
            "chromosome": "chr20",
            "log": 17.773726032662587,
            "mapped": 52363798,
            "sample": "colo829t_10x",
            "technology": "10X"
           },
           {
            "chromosome": "chr21",
            "log": 17.4751511164111,
            "mapped": 38847377,
            "sample": "colo829t_10x",
            "technology": "10X"
           },
           {
            "chromosome": "chr22",
            "log": 17.13477701706332,
            "mapped": 27640068,
            "sample": "colo829t_10x",
            "technology": "10X"
           },
           {
            "chromosome": "chrX",
            "log": 17.794423542683983,
            "mapped": 53458892,
            "sample": "colo829t_10x",
            "technology": "10X"
           },
           {
            "chromosome": "chrY",
            "log": 15.304253198294939,
            "mapped": 4431520,
            "sample": "colo829t_10x",
            "technology": "10X"
           },
           {
            "chromosome": "chrM",
            "log": 14.06551179104834,
            "mapped": 1284027,
            "sample": "colo829t_10x",
            "technology": "10X"
           },
           {
            "chromosome": "chr1",
            "log": 19.017608864801748,
            "mapped": 181653006,
            "sample": "colo829bl",
            "technology": "Truseq"
           },
           {
            "chromosome": "chr2",
            "log": 18.98280227560249,
            "mapped": 175439055,
            "sample": "colo829bl",
            "technology": "Truseq"
           },
           {
            "chromosome": "chr3",
            "log": 18.825679830155856,
            "mapped": 149930113,
            "sample": "colo829bl",
            "technology": "Truseq"
           },
           {
            "chromosome": "chr4",
            "log": 18.76477806416458,
            "mapped": 141071592,
            "sample": "colo829bl",
            "technology": "Truseq"
           },
           {
            "chromosome": "chr5",
            "log": 18.70040012565996,
            "mapped": 132275857,
            "sample": "colo829bl",
            "technology": "Truseq"
           },
           {
            "chromosome": "chr6",
            "log": 18.63414164130475,
            "mapped": 123795509,
            "sample": "colo829bl",
            "technology": "Truseq"
           },
           {
            "chromosome": "chr7",
            "log": 18.540402751919718,
            "mapped": 112718346,
            "sample": "colo829bl",
            "technology": "Truseq"
           },
           {
            "chromosome": "chr8",
            "log": 18.46074191151718,
            "mapped": 104087444,
            "sample": "colo829bl",
            "technology": "Truseq"
           },
           {
            "chromosome": "chr9",
            "log": 18.292380956869465,
            "mapped": 87958965,
            "sample": "colo829bl",
            "technology": "Truseq"
           },
           {
            "chromosome": "chr10",
            "log": 18.401882346049018,
            "mapped": 98137719,
            "sample": "colo829bl",
            "technology": "Truseq"
           },
           {
            "chromosome": "chr11",
            "log": 18.38007994371685,
            "mapped": 96021237,
            "sample": "colo829bl",
            "technology": "Truseq"
           },
           {
            "chromosome": "chr12",
            "log": 18.38156689388902,
            "mapped": 96164122,
            "sample": "colo829bl",
            "technology": "Truseq"
           },
           {
            "chromosome": "chr13",
            "log": 18.12053968633718,
            "mapped": 74071373,
            "sample": "colo829bl",
            "technology": "Truseq"
           },
           {
            "chromosome": "chr14",
            "log": 17.991941737652468,
            "mapped": 65132990,
            "sample": "colo829bl",
            "technology": "Truseq"
           },
           {
            "chromosome": "chr15",
            "log": 17.91127378007906,
            "mapped": 60085180,
            "sample": "colo829bl",
            "technology": "Truseq"
           },
           {
            "chromosome": "chr16",
            "log": 17.994608530442267,
            "mapped": 65306918,
            "sample": "colo829bl",
            "technology": "Truseq"
           },
           {
            "chromosome": "chr17",
            "log": 17.886795904959254,
            "mapped": 58632277,
            "sample": "colo829bl",
            "technology": "Truseq"
           },
           {
            "chromosome": "chr18",
            "log": 17.87028804972499,
            "mapped": 57672329,
            "sample": "colo829bl",
            "technology": "Truseq"
           },
           {
            "chromosome": "chr19",
            "log": 17.436627205180095,
            "mapped": 37379284,
            "sample": "colo829bl",
            "technology": "Truseq"
           },
           {
            "chromosome": "chr20",
            "log": 17.68365661558392,
            "mapped": 47853586,
            "sample": "colo829bl",
            "technology": "Truseq"
           },
           {
            "chromosome": "chr21",
            "log": 17.297819060958158,
            "mapped": 32534742,
            "sample": "colo829bl",
            "technology": "Truseq"
           },
           {
            "chromosome": "chr22",
            "log": 17.106019366155135,
            "mapped": 26856525,
            "sample": "colo829bl",
            "technology": "Truseq"
           },
           {
            "chromosome": "chrX",
            "log": 17.83508478769483,
            "mapped": 55677395,
            "sample": "colo829bl",
            "technology": "Truseq"
           },
           {
            "chromosome": "chrY",
            "log": 16.65238859060371,
            "mapped": 17062414,
            "sample": "colo829bl",
            "technology": "Truseq"
           },
           {
            "chromosome": "chrM",
            "log": 14.048111645460974,
            "mapped": 1261878,
            "sample": "colo829bl",
            "technology": "Truseq"
           },
           {
            "chromosome": "chr1",
            "log": 18.998312819530863,
            "mapped": 178181423,
            "sample": "colo829t",
            "technology": "Truseq"
           },
           {
            "chromosome": "chr2",
            "log": 18.98675336162524,
            "mapped": 176133601,
            "sample": "colo829t",
            "technology": "Truseq"
           },
           {
            "chromosome": "chr3",
            "log": 19.060473233221135,
            "mapped": 189608738,
            "sample": "colo829t",
            "technology": "Truseq"
           },
           {
            "chromosome": "chr4",
            "log": 18.911884369307796,
            "mapped": 163428210,
            "sample": "colo829t",
            "technology": "Truseq"
           },
           {
            "chromosome": "chr5",
            "log": 18.32746493741642,
            "mapped": 91099688,
            "sample": "colo829t",
            "technology": "Truseq"
           },
           {
            "chromosome": "chr6",
            "log": 18.455316027381055,
            "mapped": 103524207,
            "sample": "colo829t",
            "technology": "Truseq"
           },
           {
            "chromosome": "chr7",
            "log": 18.864158059623986,
            "mapped": 155811587,
            "sample": "colo829t",
            "technology": "Truseq"
           },
           {
            "chromosome": "chr8",
            "log": 18.475124022925133,
            "mapped": 105595258,
            "sample": "colo829t",
            "technology": "Truseq"
           },
           {
            "chromosome": "chr9",
            "log": 18.32722177859274,
            "mapped": 91077539,
            "sample": "colo829t",
            "technology": "Truseq"
           },
           {
            "chromosome": "chr10",
            "log": 18.035316733299613,
            "mapped": 68020299,
            "sample": "colo829t",
            "technology": "Truseq"
           },
           {
            "chromosome": "chr11",
            "log": 18.194805615275342,
            "mapped": 79781772,
            "sample": "colo829t",
            "technology": "Truseq"
           },
           {
            "chromosome": "chr12",
            "log": 18.37371028211991,
            "mapped": 95411558,
            "sample": "colo829t",
            "technology": "Truseq"
           },
           {
            "chromosome": "chr13",
            "log": 18.118404587362434,
            "mapped": 73913392,
            "sample": "colo829t",
            "technology": "Truseq"
           },
           {
            "chromosome": "chr14",
            "log": 17.971048270555897,
            "mapped": 63786254,
            "sample": "colo829t",
            "technology": "Truseq"
           },
           {
            "chromosome": "chr15",
            "log": 17.730414310054474,
            "mapped": 50144245,
            "sample": "colo829t",
            "technology": "Truseq"
           },
           {
            "chromosome": "chr16",
            "log": 17.852422810016723,
            "mapped": 56651148,
            "sample": "colo829t",
            "technology": "Truseq"
           },
           {
            "chromosome": "chr17",
            "log": 17.891155211672295,
            "mapped": 58888431,
            "sample": "colo829t",
            "technology": "Truseq"
           },
           {
            "chromosome": "chr18",
            "log": 17.480321756411485,
            "mapped": 39048763,
            "sample": "colo829t",
            "technology": "Truseq"
           },
           {
            "chromosome": "chr19",
            "log": 17.40355374654894,
            "mapped": 36163242,
            "sample": "colo829t",
            "technology": "Truseq"
           },
           {
            "chromosome": "chr20",
            "log": 17.961612686782903,
            "mapped": 63187224,
            "sample": "colo829t",
            "technology": "Truseq"
           },
           {
            "chromosome": "chr21",
            "log": 17.340740502539134,
            "mapped": 33961582,
            "sample": "colo829t",
            "technology": "Truseq"
           },
           {
            "chromosome": "chr22",
            "log": 17.369487279596857,
            "mapped": 34952036,
            "sample": "colo829t",
            "technology": "Truseq"
           },
           {
            "chromosome": "chrX",
            "log": 18.123540416225037,
            "mapped": 74293975,
            "sample": "colo829t",
            "technology": "Truseq"
           },
           {
            "chromosome": "chrY",
            "log": 15.171288493467685,
            "mapped": 3879778,
            "sample": "colo829t",
            "technology": "Truseq"
           },
           {
            "chromosome": "chrM",
            "log": 13.851513599961567,
            "mapped": 1036659,
            "sample": "colo829t",
            "technology": "Truseq"
           }
          ]
         },
         "encoding": {
          "color": {
           "field": "technology",
           "type": "nominal"
          },
          "x": {
           "field": "log",
           "type": "quantitative"
          },
          "y": {
           "field": "chromosome",
           "type": "nominal"
          }
         },
         "mark": "bar"
        }
       ]
      },
      "image/png": "[encoded data removed]",
      "text/plain": [
       "<VegaLite 2 object>\n",
       "\n",
       "If you see this message, it means the renderer has not been properly enabled\n",
       "for the frontend that you are using. For more information, see\n",
       "https://altair-viz.github.io/user_guide/troubleshooting.html\n"
      ]
     },
     "execution_count": 7,
     "metadata": {},
     "output_type": "execute_result"
    }
   ],
   "source": [
    "datasets_baseline = [colo829bl_10x_baseline, colo829t_10x_baseline, colo829bl_baseline, colo829t_baseline]\n",
    "baseline_dataset = pd.concat(datasets_baseline, ignore_index=True)\n",
    "baseline_dataset[\"log\"] = baseline_dataset[\"mapped\"].apply(np.log)\n",
    "\n",
    "\n",
    "sample_chart = alt.Chart(baseline_dataset).mark_bar().encode(\n",
    "        x = 'mapped:Q',\n",
    "        y = 'chromosome:N',\n",
    "        color = 'sample:N'\n",
    ")\n",
    "#.transform_calculate(\n",
    "#    'technology:N', if_(datum.technology == '10X', '10X', 'Truseq')\n",
    "#)\n",
    "\n",
    "tech_chart = alt.Chart(baseline_dataset).mark_bar().encode(\n",
    "        x = 'mapped:Q',\n",
    "        y = 'chromosome:N',\n",
    "        color = 'technology:N'\n",
    ")\n",
    "\n",
    "logplot = alt.Chart(baseline_dataset).mark_bar().encode(\n",
    "        x = 'log:Q',\n",
    "        y = 'chromosome:N',\n",
    "        color = 'technology:N'\n",
    ")\n",
    "\n",
    "sample_chart | tech_chart | logplot"
   ]
  },
  {
   "cell_type": "markdown",
   "metadata": {},
   "source": [
    "## Absolute mapped reads for the telomeric curated coordinates"
   ]
  },
  {
   "cell_type": "code",
   "execution_count": 8,
   "metadata": {},
   "outputs": [
    {
     "data": {
      "application/vnd.vegalite.v2+json": {
       "$schema": "https://vega.github.io/schema/vega-lite/v2.4.1.json",
       "config": {
        "view": {
         "height": 300,
         "width": 400
        }
       },
       "hconcat": [
        {
         "data": {
          "values": [
           {
            "chromosome": "chr1",
            "log": 12.937329345172804,
            "mapped": 415538,
            "sample": "colo829bl_10x",
            "technology": "10X"
           },
           {
            "chromosome": "chr2",
            "log": 11.438417412795166,
            "mapped": 92820,
            "sample": "colo829bl_10x",
            "technology": "10X"
           },
           {
            "chromosome": "chr3",
            "log": 11.4132487657807,
            "mapped": 90513,
            "sample": "colo829bl_10x",
            "technology": "10X"
           },
           {
            "chromosome": "chr4",
            "log": 10.183729515890214,
            "mapped": 26469,
            "sample": "colo829bl_10x",
            "technology": "10X"
           },
           {
            "chromosome": "chr5",
            "log": 13.490007538895435,
            "mapped": 722164,
            "sample": "colo829bl_10x",
            "technology": "10X"
           },
           {
            "chromosome": "chr6",
            "log": "-inf",
            "mapped": 0,
            "sample": "colo829bl_10x",
            "technology": "10X"
           },
           {
            "chromosome": "chr7",
            "log": 10.34154891634728,
            "mapped": 30994,
            "sample": "colo829bl_10x",
            "technology": "10X"
           },
           {
            "chromosome": "chr8",
            "log": "-inf",
            "mapped": 0,
            "sample": "colo829bl_10x",
            "technology": "10X"
           },
           {
            "chromosome": "chr9",
            "log": 9.427948631791715,
            "mapped": 12431,
            "sample": "colo829bl_10x",
            "technology": "10X"
           },
           {
            "chromosome": "chr10",
            "log": 11.831684603992475,
            "mapped": 137542,
            "sample": "colo829bl_10x",
            "technology": "10X"
           },
           {
            "chromosome": "chr11",
            "log": 8.065265208897733,
            "mapped": 3182,
            "sample": "colo829bl_10x",
            "technology": "10X"
           },
           {
            "chromosome": "chr12",
            "log": 12.073911741927835,
            "mapped": 175240,
            "sample": "colo829bl_10x",
            "technology": "10X"
           },
           {
            "chromosome": "chr13",
            "log": 9.536545799098715,
            "mapped": 13857,
            "sample": "colo829bl_10x",
            "technology": "10X"
           },
           {
            "chromosome": "chr14",
            "log": "-inf",
            "mapped": 0,
            "sample": "colo829bl_10x",
            "technology": "10X"
           },
           {
            "chromosome": "chr15",
            "log": 10.477851197106107,
            "mapped": 35520,
            "sample": "colo829bl_10x",
            "technology": "10X"
           },
           {
            "chromosome": "chr16",
            "log": 6.851184927493743,
            "mapped": 945,
            "sample": "colo829bl_10x",
            "technology": "10X"
           },
           {
            "chromosome": "chr17",
            "log": 9.565424050523422,
            "mapped": 14263,
            "sample": "colo829bl_10x",
            "technology": "10X"
           },
           {
            "chromosome": "chr18",
            "log": 11.893195834443837,
            "mapped": 146268,
            "sample": "colo829bl_10x",
            "technology": "10X"
           },
           {
            "chromosome": "chr19",
            "log": 9.507031738585551,
            "mapped": 13454,
            "sample": "colo829bl_10x",
            "technology": "10X"
           },
           {
            "chromosome": "chr20",
            "log": "-inf",
            "mapped": 0,
            "sample": "colo829bl_10x",
            "technology": "10X"
           },
           {
            "chromosome": "chr21",
            "log": 10.058994455134526,
            "mapped": 23365,
            "sample": "colo829bl_10x",
            "technology": "10X"
           },
           {
            "chromosome": "chr22",
            "log": 12.689180661016266,
            "mapped": 324221,
            "sample": "colo829bl_10x",
            "technology": "10X"
           },
           {
            "chromosome": "chrX",
            "log": 13.3396256679594,
            "mapped": 621335,
            "sample": "colo829bl_10x",
            "technology": "10X"
           },
           {
            "chromosome": "chrY",
            "log": 3.6635616461296463,
            "mapped": 39,
            "sample": "colo829bl_10x",
            "technology": "10X"
           },
           {
            "chromosome": "chrM",
            "log": "-inf",
            "mapped": 0,
            "sample": "colo829bl_10x",
            "technology": "10X"
           },
           {
            "chromosome": "chr1",
            "log": 12.823016198044265,
            "mapped": 370651,
            "sample": "colo829t_10x",
            "technology": "10X"
           },
           {
            "chromosome": "chr2",
            "log": 11.269324071753623,
            "mapped": 78380,
            "sample": "colo829t_10x",
            "technology": "10X"
           },
           {
            "chromosome": "chr3",
            "log": 11.227281314544014,
            "mapped": 75153,
            "sample": "colo829t_10x",
            "technology": "10X"
           },
           {
            "chromosome": "chr4",
            "log": 9.92725290608639,
            "mapped": 20481,
            "sample": "colo829t_10x",
            "technology": "10X"
           },
           {
            "chromosome": "chr5",
            "log": 13.271372863916714,
            "mapped": 580342,
            "sample": "colo829t_10x",
            "technology": "10X"
           },
           {
            "chromosome": "chr6",
            "log": "-inf",
            "mapped": 0,
            "sample": "colo829t_10x",
            "technology": "10X"
           },
           {
            "chromosome": "chr7",
            "log": 9.946547041996576,
            "mapped": 20880,
            "sample": "colo829t_10x",
            "technology": "10X"
           },
           {
            "chromosome": "chr8",
            "log": "-inf",
            "mapped": 0,
            "sample": "colo829t_10x",
            "technology": "10X"
           },
           {
            "chromosome": "chr9",
            "log": 9.360224821513475,
            "mapped": 11617,
            "sample": "colo829t_10x",
            "technology": "10X"
           },
           {
            "chromosome": "chr10",
            "log": 11.653721654935612,
            "mapped": 115119,
            "sample": "colo829t_10x",
            "technology": "10X"
           },
           {
            "chromosome": "chr11",
            "log": 7.422971251049421,
            "mapped": 1674,
            "sample": "colo829t_10x",
            "technology": "10X"
           },
           {
            "chromosome": "chr12",
            "log": 11.792940722360976,
            "mapped": 132315,
            "sample": "colo829t_10x",
            "technology": "10X"
           },
           {
            "chromosome": "chr13",
            "log": 9.301916315463393,
            "mapped": 10959,
            "sample": "colo829t_10x",
            "technology": "10X"
           },
           {
            "chromosome": "chr14",
            "log": "-inf",
            "mapped": 0,
            "sample": "colo829t_10x",
            "technology": "10X"
           },
           {
            "chromosome": "chr15",
            "log": 10.348878253516611,
            "mapped": 31222,
            "sample": "colo829t_10x",
            "technology": "10X"
           },
           {
            "chromosome": "chr16",
            "log": 6.499787040655854,
            "mapped": 665,
            "sample": "colo829t_10x",
            "technology": "10X"
           },
           {
            "chromosome": "chr17",
            "log": 9.44604470533525,
            "mapped": 12658,
            "sample": "colo829t_10x",
            "technology": "10X"
           },
           {
            "chromosome": "chr18",
            "log": 11.67348697998162,
            "mapped": 117417,
            "sample": "colo829t_10x",
            "technology": "10X"
           },
           {
            "chromosome": "chr19",
            "log": 9.239704980606087,
            "mapped": 10298,
            "sample": "colo829t_10x",
            "technology": "10X"
           },
           {
            "chromosome": "chr20",
            "log": "-inf",
            "mapped": 0,
            "sample": "colo829t_10x",
            "technology": "10X"
           },
           {
            "chromosome": "chr21",
            "log": 9.947600127154448,
            "mapped": 20902,
            "sample": "colo829t_10x",
            "technology": "10X"
           },
           {
            "chromosome": "chr22",
            "log": 12.51155902643894,
            "mapped": 271457,
            "sample": "colo829t_10x",
            "technology": "10X"
           },
           {
            "chromosome": "chrX",
            "log": 13.193649084999143,
            "mapped": 536944,
            "sample": "colo829t_10x",
            "technology": "10X"
           },
           {
            "chromosome": "chrY",
            "log": 3.7612001156935624,
            "mapped": 43,
            "sample": "colo829t_10x",
            "technology": "10X"
           },
           {
            "chromosome": "chrM",
            "log": "-inf",
            "mapped": 0,
            "sample": "colo829t_10x",
            "technology": "10X"
           },
           {
            "chromosome": "chr1",
            "log": 9.048291920021784,
            "mapped": 8504,
            "sample": "colo829bl",
            "technology": "Truseq"
           },
           {
            "chromosome": "chr2",
            "log": 6.163314804034641,
            "mapped": 475,
            "sample": "colo829bl",
            "technology": "Truseq"
           },
           {
            "chromosome": "chr3",
            "log": 7.545389749611823,
            "mapped": 1892,
            "sample": "colo829bl",
            "technology": "Truseq"
           },
           {
            "chromosome": "chr4",
            "log": 5.8944028342648505,
            "mapped": 363,
            "sample": "colo829bl",
            "technology": "Truseq"
           },
           {
            "chromosome": "chr5",
            "log": 11.165917926433632,
            "mapped": 70680,
            "sample": "colo829bl",
            "technology": "Truseq"
           },
           {
            "chromosome": "chr6",
            "log": "-inf",
            "mapped": 0,
            "sample": "colo829bl",
            "technology": "Truseq"
           },
           {
            "chromosome": "chr7",
            "log": 6.150602768446279,
            "mapped": 469,
            "sample": "colo829bl",
            "technology": "Truseq"
           },
           {
            "chromosome": "chr8",
            "log": "-inf",
            "mapped": 0,
            "sample": "colo829bl",
            "technology": "Truseq"
           },
           {
            "chromosome": "chr9",
            "log": 5.733341276897746,
            "mapped": 309,
            "sample": "colo829bl",
            "technology": "Truseq"
           },
           {
            "chromosome": "chr10",
            "log": 7.873217054862741,
            "mapped": 2626,
            "sample": "colo829bl",
            "technology": "Truseq"
           },
           {
            "chromosome": "chr11",
            "log": 4.060443010546419,
            "mapped": 58,
            "sample": "colo829bl",
            "technology": "Truseq"
           },
           {
            "chromosome": "chr12",
            "log": 8.660080678964786,
            "mapped": 5768,
            "sample": "colo829bl",
            "technology": "Truseq"
           },
           {
            "chromosome": "chr13",
            "log": 5.849324779946859,
            "mapped": 347,
            "sample": "colo829bl",
            "technology": "Truseq"
           },
           {
            "chromosome": "chr14",
            "log": "-inf",
            "mapped": 0,
            "sample": "colo829bl",
            "technology": "Truseq"
           },
           {
            "chromosome": "chr15",
            "log": 6.660575149839686,
            "mapped": 781,
            "sample": "colo829bl",
            "technology": "Truseq"
           },
           {
            "chromosome": "chr16",
            "log": 4.02535169073515,
            "mapped": 56,
            "sample": "colo829bl",
            "technology": "Truseq"
           },
           {
            "chromosome": "chr17",
            "log": 6.212606095751519,
            "mapped": 499,
            "sample": "colo829bl",
            "technology": "Truseq"
           },
           {
            "chromosome": "chr18",
            "log": 7.727094484779841,
            "mapped": 2269,
            "sample": "colo829bl",
            "technology": "Truseq"
           },
           {
            "chromosome": "chr19",
            "log": 5.220355825078324,
            "mapped": 185,
            "sample": "colo829bl",
            "technology": "Truseq"
           },
           {
            "chromosome": "chr20",
            "log": "-inf",
            "mapped": 0,
            "sample": "colo829bl",
            "technology": "Truseq"
           },
           {
            "chromosome": "chr21",
            "log": 5.099866427824199,
            "mapped": 164,
            "sample": "colo829bl",
            "technology": "Truseq"
           },
           {
            "chromosome": "chr22",
            "log": 7.746732907753622,
            "mapped": 2314,
            "sample": "colo829bl",
            "technology": "Truseq"
           },
           {
            "chromosome": "chrX",
            "log": 8.553910774351401,
            "mapped": 5187,
            "sample": "colo829bl",
            "technology": "Truseq"
           },
           {
            "chromosome": "chrY",
            "log": "-inf",
            "mapped": 0,
            "sample": "colo829bl",
            "technology": "Truseq"
           },
           {
            "chromosome": "chrM",
            "log": "-inf",
            "mapped": 0,
            "sample": "colo829bl",
            "technology": "Truseq"
           },
           {
            "chromosome": "chr1",
            "log": 9.114930187171524,
            "mapped": 9090,
            "sample": "colo829t",
            "technology": "Truseq"
           },
           {
            "chromosome": "chr2",
            "log": 6.222576268071369,
            "mapped": 504,
            "sample": "colo829t",
            "technology": "Truseq"
           },
           {
            "chromosome": "chr3",
            "log": 7.478169694159785,
            "mapped": 1769,
            "sample": "colo829t",
            "technology": "Truseq"
           },
           {
            "chromosome": "chr4",
            "log": 5.777652323222656,
            "mapped": 323,
            "sample": "colo829t",
            "technology": "Truseq"
           },
           {
            "chromosome": "chr5",
            "log": 10.930532229344816,
            "mapped": 55856,
            "sample": "colo829t",
            "technology": "Truseq"
           },
           {
            "chromosome": "chr6",
            "log": "-inf",
            "mapped": 0,
            "sample": "colo829t",
            "technology": "Truseq"
           },
           {
            "chromosome": "chr7",
            "log": 5.69035945432406,
            "mapped": 296,
            "sample": "colo829t",
            "technology": "Truseq"
           },
           {
            "chromosome": "chr8",
            "log": "-inf",
            "mapped": 0,
            "sample": "colo829t",
            "technology": "Truseq"
           },
           {
            "chromosome": "chr9",
            "log": 5.703782474656201,
            "mapped": 300,
            "sample": "colo829t",
            "technology": "Truseq"
           },
           {
            "chromosome": "chr10",
            "log": 7.649692623711514,
            "mapped": 2100,
            "sample": "colo829t",
            "technology": "Truseq"
           },
           {
            "chromosome": "chr11",
            "log": 3.9512437185814275,
            "mapped": 52,
            "sample": "colo829t",
            "technology": "Truseq"
           },
           {
            "chromosome": "chr12",
            "log": 8.251924713801357,
            "mapped": 3835,
            "sample": "colo829t",
            "technology": "Truseq"
           },
           {
            "chromosome": "chr13",
            "log": 5.786897381366708,
            "mapped": 326,
            "sample": "colo829t",
            "technology": "Truseq"
           },
           {
            "chromosome": "chr14",
            "log": "-inf",
            "mapped": 0,
            "sample": "colo829t",
            "technology": "Truseq"
           },
           {
            "chromosome": "chr15",
            "log": 6.429719478039138,
            "mapped": 620,
            "sample": "colo829t",
            "technology": "Truseq"
           },
           {
            "chromosome": "chr16",
            "log": 4.382026634673881,
            "mapped": 80,
            "sample": "colo829t",
            "technology": "Truseq"
           },
           {
            "chromosome": "chr17",
            "log": 6.396929655216146,
            "mapped": 600,
            "sample": "colo829t",
            "technology": "Truseq"
           },
           {
            "chromosome": "chr18",
            "log": 7.642524134232902,
            "mapped": 2085,
            "sample": "colo829t",
            "technology": "Truseq"
           },
           {
            "chromosome": "chr19",
            "log": 5.4680601411351315,
            "mapped": 237,
            "sample": "colo829t",
            "technology": "Truseq"
           },
           {
            "chromosome": "chr20",
            "log": "-inf",
            "mapped": 0,
            "sample": "colo829t",
            "technology": "Truseq"
           },
           {
            "chromosome": "chr21",
            "log": 5.170483995038151,
            "mapped": 176,
            "sample": "colo829t",
            "technology": "Truseq"
           },
           {
            "chromosome": "chr22",
            "log": 7.58629630715272,
            "mapped": 1971,
            "sample": "colo829t",
            "technology": "Truseq"
           },
           {
            "chromosome": "chrX",
            "log": 8.542860938164814,
            "mapped": 5130,
            "sample": "colo829t",
            "technology": "Truseq"
           },
           {
            "chromosome": "chrY",
            "log": "-inf",
            "mapped": 0,
            "sample": "colo829t",
            "technology": "Truseq"
           },
           {
            "chromosome": "chrM",
            "log": "-inf",
            "mapped": 0,
            "sample": "colo829t",
            "technology": "Truseq"
           }
          ]
         },
         "encoding": {
          "color": {
           "field": "sample",
           "type": "nominal"
          },
          "x": {
           "field": "mapped",
           "type": "quantitative"
          },
          "y": {
           "field": "chromosome",
           "type": "nominal"
          }
         },
         "mark": "bar"
        },
        {
         "data": {
          "values": [
           {
            "chromosome": "chr1",
            "log": 12.937329345172804,
            "mapped": 415538,
            "sample": "colo829bl_10x",
            "technology": "10X"
           },
           {
            "chromosome": "chr2",
            "log": 11.438417412795166,
            "mapped": 92820,
            "sample": "colo829bl_10x",
            "technology": "10X"
           },
           {
            "chromosome": "chr3",
            "log": 11.4132487657807,
            "mapped": 90513,
            "sample": "colo829bl_10x",
            "technology": "10X"
           },
           {
            "chromosome": "chr4",
            "log": 10.183729515890214,
            "mapped": 26469,
            "sample": "colo829bl_10x",
            "technology": "10X"
           },
           {
            "chromosome": "chr5",
            "log": 13.490007538895435,
            "mapped": 722164,
            "sample": "colo829bl_10x",
            "technology": "10X"
           },
           {
            "chromosome": "chr6",
            "log": "-inf",
            "mapped": 0,
            "sample": "colo829bl_10x",
            "technology": "10X"
           },
           {
            "chromosome": "chr7",
            "log": 10.34154891634728,
            "mapped": 30994,
            "sample": "colo829bl_10x",
            "technology": "10X"
           },
           {
            "chromosome": "chr8",
            "log": "-inf",
            "mapped": 0,
            "sample": "colo829bl_10x",
            "technology": "10X"
           },
           {
            "chromosome": "chr9",
            "log": 9.427948631791715,
            "mapped": 12431,
            "sample": "colo829bl_10x",
            "technology": "10X"
           },
           {
            "chromosome": "chr10",
            "log": 11.831684603992475,
            "mapped": 137542,
            "sample": "colo829bl_10x",
            "technology": "10X"
           },
           {
            "chromosome": "chr11",
            "log": 8.065265208897733,
            "mapped": 3182,
            "sample": "colo829bl_10x",
            "technology": "10X"
           },
           {
            "chromosome": "chr12",
            "log": 12.073911741927835,
            "mapped": 175240,
            "sample": "colo829bl_10x",
            "technology": "10X"
           },
           {
            "chromosome": "chr13",
            "log": 9.536545799098715,
            "mapped": 13857,
            "sample": "colo829bl_10x",
            "technology": "10X"
           },
           {
            "chromosome": "chr14",
            "log": "-inf",
            "mapped": 0,
            "sample": "colo829bl_10x",
            "technology": "10X"
           },
           {
            "chromosome": "chr15",
            "log": 10.477851197106107,
            "mapped": 35520,
            "sample": "colo829bl_10x",
            "technology": "10X"
           },
           {
            "chromosome": "chr16",
            "log": 6.851184927493743,
            "mapped": 945,
            "sample": "colo829bl_10x",
            "technology": "10X"
           },
           {
            "chromosome": "chr17",
            "log": 9.565424050523422,
            "mapped": 14263,
            "sample": "colo829bl_10x",
            "technology": "10X"
           },
           {
            "chromosome": "chr18",
            "log": 11.893195834443837,
            "mapped": 146268,
            "sample": "colo829bl_10x",
            "technology": "10X"
           },
           {
            "chromosome": "chr19",
            "log": 9.507031738585551,
            "mapped": 13454,
            "sample": "colo829bl_10x",
            "technology": "10X"
           },
           {
            "chromosome": "chr20",
            "log": "-inf",
            "mapped": 0,
            "sample": "colo829bl_10x",
            "technology": "10X"
           },
           {
            "chromosome": "chr21",
            "log": 10.058994455134526,
            "mapped": 23365,
            "sample": "colo829bl_10x",
            "technology": "10X"
           },
           {
            "chromosome": "chr22",
            "log": 12.689180661016266,
            "mapped": 324221,
            "sample": "colo829bl_10x",
            "technology": "10X"
           },
           {
            "chromosome": "chrX",
            "log": 13.3396256679594,
            "mapped": 621335,
            "sample": "colo829bl_10x",
            "technology": "10X"
           },
           {
            "chromosome": "chrY",
            "log": 3.6635616461296463,
            "mapped": 39,
            "sample": "colo829bl_10x",
            "technology": "10X"
           },
           {
            "chromosome": "chrM",
            "log": "-inf",
            "mapped": 0,
            "sample": "colo829bl_10x",
            "technology": "10X"
           },
           {
            "chromosome": "chr1",
            "log": 12.823016198044265,
            "mapped": 370651,
            "sample": "colo829t_10x",
            "technology": "10X"
           },
           {
            "chromosome": "chr2",
            "log": 11.269324071753623,
            "mapped": 78380,
            "sample": "colo829t_10x",
            "technology": "10X"
           },
           {
            "chromosome": "chr3",
            "log": 11.227281314544014,
            "mapped": 75153,
            "sample": "colo829t_10x",
            "technology": "10X"
           },
           {
            "chromosome": "chr4",
            "log": 9.92725290608639,
            "mapped": 20481,
            "sample": "colo829t_10x",
            "technology": "10X"
           },
           {
            "chromosome": "chr5",
            "log": 13.271372863916714,
            "mapped": 580342,
            "sample": "colo829t_10x",
            "technology": "10X"
           },
           {
            "chromosome": "chr6",
            "log": "-inf",
            "mapped": 0,
            "sample": "colo829t_10x",
            "technology": "10X"
           },
           {
            "chromosome": "chr7",
            "log": 9.946547041996576,
            "mapped": 20880,
            "sample": "colo829t_10x",
            "technology": "10X"
           },
           {
            "chromosome": "chr8",
            "log": "-inf",
            "mapped": 0,
            "sample": "colo829t_10x",
            "technology": "10X"
           },
           {
            "chromosome": "chr9",
            "log": 9.360224821513475,
            "mapped": 11617,
            "sample": "colo829t_10x",
            "technology": "10X"
           },
           {
            "chromosome": "chr10",
            "log": 11.653721654935612,
            "mapped": 115119,
            "sample": "colo829t_10x",
            "technology": "10X"
           },
           {
            "chromosome": "chr11",
            "log": 7.422971251049421,
            "mapped": 1674,
            "sample": "colo829t_10x",
            "technology": "10X"
           },
           {
            "chromosome": "chr12",
            "log": 11.792940722360976,
            "mapped": 132315,
            "sample": "colo829t_10x",
            "technology": "10X"
           },
           {
            "chromosome": "chr13",
            "log": 9.301916315463393,
            "mapped": 10959,
            "sample": "colo829t_10x",
            "technology": "10X"
           },
           {
            "chromosome": "chr14",
            "log": "-inf",
            "mapped": 0,
            "sample": "colo829t_10x",
            "technology": "10X"
           },
           {
            "chromosome": "chr15",
            "log": 10.348878253516611,
            "mapped": 31222,
            "sample": "colo829t_10x",
            "technology": "10X"
           },
           {
            "chromosome": "chr16",
            "log": 6.499787040655854,
            "mapped": 665,
            "sample": "colo829t_10x",
            "technology": "10X"
           },
           {
            "chromosome": "chr17",
            "log": 9.44604470533525,
            "mapped": 12658,
            "sample": "colo829t_10x",
            "technology": "10X"
           },
           {
            "chromosome": "chr18",
            "log": 11.67348697998162,
            "mapped": 117417,
            "sample": "colo829t_10x",
            "technology": "10X"
           },
           {
            "chromosome": "chr19",
            "log": 9.239704980606087,
            "mapped": 10298,
            "sample": "colo829t_10x",
            "technology": "10X"
           },
           {
            "chromosome": "chr20",
            "log": "-inf",
            "mapped": 0,
            "sample": "colo829t_10x",
            "technology": "10X"
           },
           {
            "chromosome": "chr21",
            "log": 9.947600127154448,
            "mapped": 20902,
            "sample": "colo829t_10x",
            "technology": "10X"
           },
           {
            "chromosome": "chr22",
            "log": 12.51155902643894,
            "mapped": 271457,
            "sample": "colo829t_10x",
            "technology": "10X"
           },
           {
            "chromosome": "chrX",
            "log": 13.193649084999143,
            "mapped": 536944,
            "sample": "colo829t_10x",
            "technology": "10X"
           },
           {
            "chromosome": "chrY",
            "log": 3.7612001156935624,
            "mapped": 43,
            "sample": "colo829t_10x",
            "technology": "10X"
           },
           {
            "chromosome": "chrM",
            "log": "-inf",
            "mapped": 0,
            "sample": "colo829t_10x",
            "technology": "10X"
           },
           {
            "chromosome": "chr1",
            "log": 9.048291920021784,
            "mapped": 8504,
            "sample": "colo829bl",
            "technology": "Truseq"
           },
           {
            "chromosome": "chr2",
            "log": 6.163314804034641,
            "mapped": 475,
            "sample": "colo829bl",
            "technology": "Truseq"
           },
           {
            "chromosome": "chr3",
            "log": 7.545389749611823,
            "mapped": 1892,
            "sample": "colo829bl",
            "technology": "Truseq"
           },
           {
            "chromosome": "chr4",
            "log": 5.8944028342648505,
            "mapped": 363,
            "sample": "colo829bl",
            "technology": "Truseq"
           },
           {
            "chromosome": "chr5",
            "log": 11.165917926433632,
            "mapped": 70680,
            "sample": "colo829bl",
            "technology": "Truseq"
           },
           {
            "chromosome": "chr6",
            "log": "-inf",
            "mapped": 0,
            "sample": "colo829bl",
            "technology": "Truseq"
           },
           {
            "chromosome": "chr7",
            "log": 6.150602768446279,
            "mapped": 469,
            "sample": "colo829bl",
            "technology": "Truseq"
           },
           {
            "chromosome": "chr8",
            "log": "-inf",
            "mapped": 0,
            "sample": "colo829bl",
            "technology": "Truseq"
           },
           {
            "chromosome": "chr9",
            "log": 5.733341276897746,
            "mapped": 309,
            "sample": "colo829bl",
            "technology": "Truseq"
           },
           {
            "chromosome": "chr10",
            "log": 7.873217054862741,
            "mapped": 2626,
            "sample": "colo829bl",
            "technology": "Truseq"
           },
           {
            "chromosome": "chr11",
            "log": 4.060443010546419,
            "mapped": 58,
            "sample": "colo829bl",
            "technology": "Truseq"
           },
           {
            "chromosome": "chr12",
            "log": 8.660080678964786,
            "mapped": 5768,
            "sample": "colo829bl",
            "technology": "Truseq"
           },
           {
            "chromosome": "chr13",
            "log": 5.849324779946859,
            "mapped": 347,
            "sample": "colo829bl",
            "technology": "Truseq"
           },
           {
            "chromosome": "chr14",
            "log": "-inf",
            "mapped": 0,
            "sample": "colo829bl",
            "technology": "Truseq"
           },
           {
            "chromosome": "chr15",
            "log": 6.660575149839686,
            "mapped": 781,
            "sample": "colo829bl",
            "technology": "Truseq"
           },
           {
            "chromosome": "chr16",
            "log": 4.02535169073515,
            "mapped": 56,
            "sample": "colo829bl",
            "technology": "Truseq"
           },
           {
            "chromosome": "chr17",
            "log": 6.212606095751519,
            "mapped": 499,
            "sample": "colo829bl",
            "technology": "Truseq"
           },
           {
            "chromosome": "chr18",
            "log": 7.727094484779841,
            "mapped": 2269,
            "sample": "colo829bl",
            "technology": "Truseq"
           },
           {
            "chromosome": "chr19",
            "log": 5.220355825078324,
            "mapped": 185,
            "sample": "colo829bl",
            "technology": "Truseq"
           },
           {
            "chromosome": "chr20",
            "log": "-inf",
            "mapped": 0,
            "sample": "colo829bl",
            "technology": "Truseq"
           },
           {
            "chromosome": "chr21",
            "log": 5.099866427824199,
            "mapped": 164,
            "sample": "colo829bl",
            "technology": "Truseq"
           },
           {
            "chromosome": "chr22",
            "log": 7.746732907753622,
            "mapped": 2314,
            "sample": "colo829bl",
            "technology": "Truseq"
           },
           {
            "chromosome": "chrX",
            "log": 8.553910774351401,
            "mapped": 5187,
            "sample": "colo829bl",
            "technology": "Truseq"
           },
           {
            "chromosome": "chrY",
            "log": "-inf",
            "mapped": 0,
            "sample": "colo829bl",
            "technology": "Truseq"
           },
           {
            "chromosome": "chrM",
            "log": "-inf",
            "mapped": 0,
            "sample": "colo829bl",
            "technology": "Truseq"
           },
           {
            "chromosome": "chr1",
            "log": 9.114930187171524,
            "mapped": 9090,
            "sample": "colo829t",
            "technology": "Truseq"
           },
           {
            "chromosome": "chr2",
            "log": 6.222576268071369,
            "mapped": 504,
            "sample": "colo829t",
            "technology": "Truseq"
           },
           {
            "chromosome": "chr3",
            "log": 7.478169694159785,
            "mapped": 1769,
            "sample": "colo829t",
            "technology": "Truseq"
           },
           {
            "chromosome": "chr4",
            "log": 5.777652323222656,
            "mapped": 323,
            "sample": "colo829t",
            "technology": "Truseq"
           },
           {
            "chromosome": "chr5",
            "log": 10.930532229344816,
            "mapped": 55856,
            "sample": "colo829t",
            "technology": "Truseq"
           },
           {
            "chromosome": "chr6",
            "log": "-inf",
            "mapped": 0,
            "sample": "colo829t",
            "technology": "Truseq"
           },
           {
            "chromosome": "chr7",
            "log": 5.69035945432406,
            "mapped": 296,
            "sample": "colo829t",
            "technology": "Truseq"
           },
           {
            "chromosome": "chr8",
            "log": "-inf",
            "mapped": 0,
            "sample": "colo829t",
            "technology": "Truseq"
           },
           {
            "chromosome": "chr9",
            "log": 5.703782474656201,
            "mapped": 300,
            "sample": "colo829t",
            "technology": "Truseq"
           },
           {
            "chromosome": "chr10",
            "log": 7.649692623711514,
            "mapped": 2100,
            "sample": "colo829t",
            "technology": "Truseq"
           },
           {
            "chromosome": "chr11",
            "log": 3.9512437185814275,
            "mapped": 52,
            "sample": "colo829t",
            "technology": "Truseq"
           },
           {
            "chromosome": "chr12",
            "log": 8.251924713801357,
            "mapped": 3835,
            "sample": "colo829t",
            "technology": "Truseq"
           },
           {
            "chromosome": "chr13",
            "log": 5.786897381366708,
            "mapped": 326,
            "sample": "colo829t",
            "technology": "Truseq"
           },
           {
            "chromosome": "chr14",
            "log": "-inf",
            "mapped": 0,
            "sample": "colo829t",
            "technology": "Truseq"
           },
           {
            "chromosome": "chr15",
            "log": 6.429719478039138,
            "mapped": 620,
            "sample": "colo829t",
            "technology": "Truseq"
           },
           {
            "chromosome": "chr16",
            "log": 4.382026634673881,
            "mapped": 80,
            "sample": "colo829t",
            "technology": "Truseq"
           },
           {
            "chromosome": "chr17",
            "log": 6.396929655216146,
            "mapped": 600,
            "sample": "colo829t",
            "technology": "Truseq"
           },
           {
            "chromosome": "chr18",
            "log": 7.642524134232902,
            "mapped": 2085,
            "sample": "colo829t",
            "technology": "Truseq"
           },
           {
            "chromosome": "chr19",
            "log": 5.4680601411351315,
            "mapped": 237,
            "sample": "colo829t",
            "technology": "Truseq"
           },
           {
            "chromosome": "chr20",
            "log": "-inf",
            "mapped": 0,
            "sample": "colo829t",
            "technology": "Truseq"
           },
           {
            "chromosome": "chr21",
            "log": 5.170483995038151,
            "mapped": 176,
            "sample": "colo829t",
            "technology": "Truseq"
           },
           {
            "chromosome": "chr22",
            "log": 7.58629630715272,
            "mapped": 1971,
            "sample": "colo829t",
            "technology": "Truseq"
           },
           {
            "chromosome": "chrX",
            "log": 8.542860938164814,
            "mapped": 5130,
            "sample": "colo829t",
            "technology": "Truseq"
           },
           {
            "chromosome": "chrY",
            "log": "-inf",
            "mapped": 0,
            "sample": "colo829t",
            "technology": "Truseq"
           },
           {
            "chromosome": "chrM",
            "log": "-inf",
            "mapped": 0,
            "sample": "colo829t",
            "technology": "Truseq"
           }
          ]
         },
         "encoding": {
          "color": {
           "field": "technology",
           "type": "nominal"
          },
          "x": {
           "field": "mapped",
           "type": "quantitative"
          },
          "y": {
           "field": "chromosome",
           "type": "nominal"
          }
         },
         "mark": "bar"
        },
        {
         "data": {
          "values": [
           {
            "chromosome": "chr1",
            "log": 12.937329345172804,
            "mapped": 415538,
            "sample": "colo829bl_10x",
            "technology": "10X"
           },
           {
            "chromosome": "chr2",
            "log": 11.438417412795166,
            "mapped": 92820,
            "sample": "colo829bl_10x",
            "technology": "10X"
           },
           {
            "chromosome": "chr3",
            "log": 11.4132487657807,
            "mapped": 90513,
            "sample": "colo829bl_10x",
            "technology": "10X"
           },
           {
            "chromosome": "chr4",
            "log": 10.183729515890214,
            "mapped": 26469,
            "sample": "colo829bl_10x",
            "technology": "10X"
           },
           {
            "chromosome": "chr5",
            "log": 13.490007538895435,
            "mapped": 722164,
            "sample": "colo829bl_10x",
            "technology": "10X"
           },
           {
            "chromosome": "chr6",
            "log": "-inf",
            "mapped": 0,
            "sample": "colo829bl_10x",
            "technology": "10X"
           },
           {
            "chromosome": "chr7",
            "log": 10.34154891634728,
            "mapped": 30994,
            "sample": "colo829bl_10x",
            "technology": "10X"
           },
           {
            "chromosome": "chr8",
            "log": "-inf",
            "mapped": 0,
            "sample": "colo829bl_10x",
            "technology": "10X"
           },
           {
            "chromosome": "chr9",
            "log": 9.427948631791715,
            "mapped": 12431,
            "sample": "colo829bl_10x",
            "technology": "10X"
           },
           {
            "chromosome": "chr10",
            "log": 11.831684603992475,
            "mapped": 137542,
            "sample": "colo829bl_10x",
            "technology": "10X"
           },
           {
            "chromosome": "chr11",
            "log": 8.065265208897733,
            "mapped": 3182,
            "sample": "colo829bl_10x",
            "technology": "10X"
           },
           {
            "chromosome": "chr12",
            "log": 12.073911741927835,
            "mapped": 175240,
            "sample": "colo829bl_10x",
            "technology": "10X"
           },
           {
            "chromosome": "chr13",
            "log": 9.536545799098715,
            "mapped": 13857,
            "sample": "colo829bl_10x",
            "technology": "10X"
           },
           {
            "chromosome": "chr14",
            "log": "-inf",
            "mapped": 0,
            "sample": "colo829bl_10x",
            "technology": "10X"
           },
           {
            "chromosome": "chr15",
            "log": 10.477851197106107,
            "mapped": 35520,
            "sample": "colo829bl_10x",
            "technology": "10X"
           },
           {
            "chromosome": "chr16",
            "log": 6.851184927493743,
            "mapped": 945,
            "sample": "colo829bl_10x",
            "technology": "10X"
           },
           {
            "chromosome": "chr17",
            "log": 9.565424050523422,
            "mapped": 14263,
            "sample": "colo829bl_10x",
            "technology": "10X"
           },
           {
            "chromosome": "chr18",
            "log": 11.893195834443837,
            "mapped": 146268,
            "sample": "colo829bl_10x",
            "technology": "10X"
           },
           {
            "chromosome": "chr19",
            "log": 9.507031738585551,
            "mapped": 13454,
            "sample": "colo829bl_10x",
            "technology": "10X"
           },
           {
            "chromosome": "chr20",
            "log": "-inf",
            "mapped": 0,
            "sample": "colo829bl_10x",
            "technology": "10X"
           },
           {
            "chromosome": "chr21",
            "log": 10.058994455134526,
            "mapped": 23365,
            "sample": "colo829bl_10x",
            "technology": "10X"
           },
           {
            "chromosome": "chr22",
            "log": 12.689180661016266,
            "mapped": 324221,
            "sample": "colo829bl_10x",
            "technology": "10X"
           },
           {
            "chromosome": "chrX",
            "log": 13.3396256679594,
            "mapped": 621335,
            "sample": "colo829bl_10x",
            "technology": "10X"
           },
           {
            "chromosome": "chrY",
            "log": 3.6635616461296463,
            "mapped": 39,
            "sample": "colo829bl_10x",
            "technology": "10X"
           },
           {
            "chromosome": "chrM",
            "log": "-inf",
            "mapped": 0,
            "sample": "colo829bl_10x",
            "technology": "10X"
           },
           {
            "chromosome": "chr1",
            "log": 12.823016198044265,
            "mapped": 370651,
            "sample": "colo829t_10x",
            "technology": "10X"
           },
           {
            "chromosome": "chr2",
            "log": 11.269324071753623,
            "mapped": 78380,
            "sample": "colo829t_10x",
            "technology": "10X"
           },
           {
            "chromosome": "chr3",
            "log": 11.227281314544014,
            "mapped": 75153,
            "sample": "colo829t_10x",
            "technology": "10X"
           },
           {
            "chromosome": "chr4",
            "log": 9.92725290608639,
            "mapped": 20481,
            "sample": "colo829t_10x",
            "technology": "10X"
           },
           {
            "chromosome": "chr5",
            "log": 13.271372863916714,
            "mapped": 580342,
            "sample": "colo829t_10x",
            "technology": "10X"
           },
           {
            "chromosome": "chr6",
            "log": "-inf",
            "mapped": 0,
            "sample": "colo829t_10x",
            "technology": "10X"
           },
           {
            "chromosome": "chr7",
            "log": 9.946547041996576,
            "mapped": 20880,
            "sample": "colo829t_10x",
            "technology": "10X"
           },
           {
            "chromosome": "chr8",
            "log": "-inf",
            "mapped": 0,
            "sample": "colo829t_10x",
            "technology": "10X"
           },
           {
            "chromosome": "chr9",
            "log": 9.360224821513475,
            "mapped": 11617,
            "sample": "colo829t_10x",
            "technology": "10X"
           },
           {
            "chromosome": "chr10",
            "log": 11.653721654935612,
            "mapped": 115119,
            "sample": "colo829t_10x",
            "technology": "10X"
           },
           {
            "chromosome": "chr11",
            "log": 7.422971251049421,
            "mapped": 1674,
            "sample": "colo829t_10x",
            "technology": "10X"
           },
           {
            "chromosome": "chr12",
            "log": 11.792940722360976,
            "mapped": 132315,
            "sample": "colo829t_10x",
            "technology": "10X"
           },
           {
            "chromosome": "chr13",
            "log": 9.301916315463393,
            "mapped": 10959,
            "sample": "colo829t_10x",
            "technology": "10X"
           },
           {
            "chromosome": "chr14",
            "log": "-inf",
            "mapped": 0,
            "sample": "colo829t_10x",
            "technology": "10X"
           },
           {
            "chromosome": "chr15",
            "log": 10.348878253516611,
            "mapped": 31222,
            "sample": "colo829t_10x",
            "technology": "10X"
           },
           {
            "chromosome": "chr16",
            "log": 6.499787040655854,
            "mapped": 665,
            "sample": "colo829t_10x",
            "technology": "10X"
           },
           {
            "chromosome": "chr17",
            "log": 9.44604470533525,
            "mapped": 12658,
            "sample": "colo829t_10x",
            "technology": "10X"
           },
           {
            "chromosome": "chr18",
            "log": 11.67348697998162,
            "mapped": 117417,
            "sample": "colo829t_10x",
            "technology": "10X"
           },
           {
            "chromosome": "chr19",
            "log": 9.239704980606087,
            "mapped": 10298,
            "sample": "colo829t_10x",
            "technology": "10X"
           },
           {
            "chromosome": "chr20",
            "log": "-inf",
            "mapped": 0,
            "sample": "colo829t_10x",
            "technology": "10X"
           },
           {
            "chromosome": "chr21",
            "log": 9.947600127154448,
            "mapped": 20902,
            "sample": "colo829t_10x",
            "technology": "10X"
           },
           {
            "chromosome": "chr22",
            "log": 12.51155902643894,
            "mapped": 271457,
            "sample": "colo829t_10x",
            "technology": "10X"
           },
           {
            "chromosome": "chrX",
            "log": 13.193649084999143,
            "mapped": 536944,
            "sample": "colo829t_10x",
            "technology": "10X"
           },
           {
            "chromosome": "chrY",
            "log": 3.7612001156935624,
            "mapped": 43,
            "sample": "colo829t_10x",
            "technology": "10X"
           },
           {
            "chromosome": "chrM",
            "log": "-inf",
            "mapped": 0,
            "sample": "colo829t_10x",
            "technology": "10X"
           },
           {
            "chromosome": "chr1",
            "log": 9.048291920021784,
            "mapped": 8504,
            "sample": "colo829bl",
            "technology": "Truseq"
           },
           {
            "chromosome": "chr2",
            "log": 6.163314804034641,
            "mapped": 475,
            "sample": "colo829bl",
            "technology": "Truseq"
           },
           {
            "chromosome": "chr3",
            "log": 7.545389749611823,
            "mapped": 1892,
            "sample": "colo829bl",
            "technology": "Truseq"
           },
           {
            "chromosome": "chr4",
            "log": 5.8944028342648505,
            "mapped": 363,
            "sample": "colo829bl",
            "technology": "Truseq"
           },
           {
            "chromosome": "chr5",
            "log": 11.165917926433632,
            "mapped": 70680,
            "sample": "colo829bl",
            "technology": "Truseq"
           },
           {
            "chromosome": "chr6",
            "log": "-inf",
            "mapped": 0,
            "sample": "colo829bl",
            "technology": "Truseq"
           },
           {
            "chromosome": "chr7",
            "log": 6.150602768446279,
            "mapped": 469,
            "sample": "colo829bl",
            "technology": "Truseq"
           },
           {
            "chromosome": "chr8",
            "log": "-inf",
            "mapped": 0,
            "sample": "colo829bl",
            "technology": "Truseq"
           },
           {
            "chromosome": "chr9",
            "log": 5.733341276897746,
            "mapped": 309,
            "sample": "colo829bl",
            "technology": "Truseq"
           },
           {
            "chromosome": "chr10",
            "log": 7.873217054862741,
            "mapped": 2626,
            "sample": "colo829bl",
            "technology": "Truseq"
           },
           {
            "chromosome": "chr11",
            "log": 4.060443010546419,
            "mapped": 58,
            "sample": "colo829bl",
            "technology": "Truseq"
           },
           {
            "chromosome": "chr12",
            "log": 8.660080678964786,
            "mapped": 5768,
            "sample": "colo829bl",
            "technology": "Truseq"
           },
           {
            "chromosome": "chr13",
            "log": 5.849324779946859,
            "mapped": 347,
            "sample": "colo829bl",
            "technology": "Truseq"
           },
           {
            "chromosome": "chr14",
            "log": "-inf",
            "mapped": 0,
            "sample": "colo829bl",
            "technology": "Truseq"
           },
           {
            "chromosome": "chr15",
            "log": 6.660575149839686,
            "mapped": 781,
            "sample": "colo829bl",
            "technology": "Truseq"
           },
           {
            "chromosome": "chr16",
            "log": 4.02535169073515,
            "mapped": 56,
            "sample": "colo829bl",
            "technology": "Truseq"
           },
           {
            "chromosome": "chr17",
            "log": 6.212606095751519,
            "mapped": 499,
            "sample": "colo829bl",
            "technology": "Truseq"
           },
           {
            "chromosome": "chr18",
            "log": 7.727094484779841,
            "mapped": 2269,
            "sample": "colo829bl",
            "technology": "Truseq"
           },
           {
            "chromosome": "chr19",
            "log": 5.220355825078324,
            "mapped": 185,
            "sample": "colo829bl",
            "technology": "Truseq"
           },
           {
            "chromosome": "chr20",
            "log": "-inf",
            "mapped": 0,
            "sample": "colo829bl",
            "technology": "Truseq"
           },
           {
            "chromosome": "chr21",
            "log": 5.099866427824199,
            "mapped": 164,
            "sample": "colo829bl",
            "technology": "Truseq"
           },
           {
            "chromosome": "chr22",
            "log": 7.746732907753622,
            "mapped": 2314,
            "sample": "colo829bl",
            "technology": "Truseq"
           },
           {
            "chromosome": "chrX",
            "log": 8.553910774351401,
            "mapped": 5187,
            "sample": "colo829bl",
            "technology": "Truseq"
           },
           {
            "chromosome": "chrY",
            "log": "-inf",
            "mapped": 0,
            "sample": "colo829bl",
            "technology": "Truseq"
           },
           {
            "chromosome": "chrM",
            "log": "-inf",
            "mapped": 0,
            "sample": "colo829bl",
            "technology": "Truseq"
           },
           {
            "chromosome": "chr1",
            "log": 9.114930187171524,
            "mapped": 9090,
            "sample": "colo829t",
            "technology": "Truseq"
           },
           {
            "chromosome": "chr2",
            "log": 6.222576268071369,
            "mapped": 504,
            "sample": "colo829t",
            "technology": "Truseq"
           },
           {
            "chromosome": "chr3",
            "log": 7.478169694159785,
            "mapped": 1769,
            "sample": "colo829t",
            "technology": "Truseq"
           },
           {
            "chromosome": "chr4",
            "log": 5.777652323222656,
            "mapped": 323,
            "sample": "colo829t",
            "technology": "Truseq"
           },
           {
            "chromosome": "chr5",
            "log": 10.930532229344816,
            "mapped": 55856,
            "sample": "colo829t",
            "technology": "Truseq"
           },
           {
            "chromosome": "chr6",
            "log": "-inf",
            "mapped": 0,
            "sample": "colo829t",
            "technology": "Truseq"
           },
           {
            "chromosome": "chr7",
            "log": 5.69035945432406,
            "mapped": 296,
            "sample": "colo829t",
            "technology": "Truseq"
           },
           {
            "chromosome": "chr8",
            "log": "-inf",
            "mapped": 0,
            "sample": "colo829t",
            "technology": "Truseq"
           },
           {
            "chromosome": "chr9",
            "log": 5.703782474656201,
            "mapped": 300,
            "sample": "colo829t",
            "technology": "Truseq"
           },
           {
            "chromosome": "chr10",
            "log": 7.649692623711514,
            "mapped": 2100,
            "sample": "colo829t",
            "technology": "Truseq"
           },
           {
            "chromosome": "chr11",
            "log": 3.9512437185814275,
            "mapped": 52,
            "sample": "colo829t",
            "technology": "Truseq"
           },
           {
            "chromosome": "chr12",
            "log": 8.251924713801357,
            "mapped": 3835,
            "sample": "colo829t",
            "technology": "Truseq"
           },
           {
            "chromosome": "chr13",
            "log": 5.786897381366708,
            "mapped": 326,
            "sample": "colo829t",
            "technology": "Truseq"
           },
           {
            "chromosome": "chr14",
            "log": "-inf",
            "mapped": 0,
            "sample": "colo829t",
            "technology": "Truseq"
           },
           {
            "chromosome": "chr15",
            "log": 6.429719478039138,
            "mapped": 620,
            "sample": "colo829t",
            "technology": "Truseq"
           },
           {
            "chromosome": "chr16",
            "log": 4.382026634673881,
            "mapped": 80,
            "sample": "colo829t",
            "technology": "Truseq"
           },
           {
            "chromosome": "chr17",
            "log": 6.396929655216146,
            "mapped": 600,
            "sample": "colo829t",
            "technology": "Truseq"
           },
           {
            "chromosome": "chr18",
            "log": 7.642524134232902,
            "mapped": 2085,
            "sample": "colo829t",
            "technology": "Truseq"
           },
           {
            "chromosome": "chr19",
            "log": 5.4680601411351315,
            "mapped": 237,
            "sample": "colo829t",
            "technology": "Truseq"
           },
           {
            "chromosome": "chr20",
            "log": "-inf",
            "mapped": 0,
            "sample": "colo829t",
            "technology": "Truseq"
           },
           {
            "chromosome": "chr21",
            "log": 5.170483995038151,
            "mapped": 176,
            "sample": "colo829t",
            "technology": "Truseq"
           },
           {
            "chromosome": "chr22",
            "log": 7.58629630715272,
            "mapped": 1971,
            "sample": "colo829t",
            "technology": "Truseq"
           },
           {
            "chromosome": "chrX",
            "log": 8.542860938164814,
            "mapped": 5130,
            "sample": "colo829t",
            "technology": "Truseq"
           },
           {
            "chromosome": "chrY",
            "log": "-inf",
            "mapped": 0,
            "sample": "colo829t",
            "technology": "Truseq"
           },
           {
            "chromosome": "chrM",
            "log": "-inf",
            "mapped": 0,
            "sample": "colo829t",
            "technology": "Truseq"
           }
          ]
         },
         "encoding": {
          "color": {
           "field": "technology",
           "type": "nominal"
          },
          "x": {
           "field": "log",
           "type": "quantitative"
          },
          "y": {
           "field": "chromosome",
           "type": "nominal"
          }
         },
         "mark": "bar"
        }
       ]
      },
      "image/png": "[encoded data removed]",
      "text/plain": [
       "<VegaLite 2 object>\n",
       "\n",
       "If you see this message, it means the renderer has not been properly enabled\n",
       "for the frontend that you are using. For more information, see\n",
       "https://altair-viz.github.io/user_guide/troubleshooting.html\n"
      ]
     },
     "execution_count": 8,
     "metadata": {},
     "output_type": "execute_result"
    }
   ],
   "source": [
    "colo829bl_10x = pd.read_csv(\"../data/processed/manual_telomere_coords/COLO829BL-10X-sliced-idxstats-hg38.hist.csv\")\n",
    "colo829t_10x = pd.read_csv(\"../data/processed/manual_telomere_coords/COLO829T-10X-sliced-idxstats-hg38.hist.csv\")\n",
    "colo829bl = pd.read_csv(\"../data/processed/manual_telomere_coords/COLO829BL-sliced-idxstats-hg38.hist.csv\")\n",
    "colo829t = pd.read_csv(\"../data/processed/manual_telomere_coords/COLO829T-sliced-idxstats-hg38.hist.csv\")\n",
    "\n",
    "colo829bl_10x['technology'] = '10X'\n",
    "colo829bl_10x['sample'] = 'colo829bl_10x'\n",
    "colo829t_10x['technology'] = '10X'\n",
    "colo829t_10x['sample'] = 'colo829t_10x'\n",
    "\n",
    "colo829t['technology'] = 'Truseq'\n",
    "colo829t['sample'] = 'colo829t'\n",
    "colo829bl['technology'] = 'Truseq'\n",
    "colo829bl['sample'] = 'colo829bl'\n",
    "\n",
    "datasets = [colo829bl_10x, colo829t_10x, colo829bl, colo829t]\n",
    "\n",
    "datasets = pd.concat(datasets, ignore_index=True)\n",
    "datasets[\"log\"] = datasets[\"mapped\"].apply(np.log)\n",
    "\n",
    "\n",
    "sample_chart = alt.Chart(datasets).mark_bar().encode(\n",
    "        x = 'mapped:Q',\n",
    "        y = 'chromosome:N',\n",
    "        color = 'sample:N'\n",
    ")\n",
    "\n",
    "tech_chart = alt.Chart(datasets).mark_bar().encode(\n",
    "        x = 'mapped:Q',\n",
    "        y = 'chromosome:N',\n",
    "        color = 'technology:N'\n",
    ")\n",
    "\n",
    "logplot = alt.Chart(datasets).mark_bar().encode(\n",
    "        x = 'log:Q',\n",
    "        y = 'chromosome:N',\n",
    "        color = 'technology:N'\n",
    ")\n",
    "\n",
    "\n",
    "sample_chart | tech_chart | logplot"
   ]
  }
 ],
 "metadata": {
  "kernelspec": {
   "display_name": "Python 3",
   "language": "python",
   "name": "python3"
  },
  "language_info": {
   "codemirror_mode": {
    "name": "ipython",
    "version": 3
   },
   "file_extension": ".py",
   "mimetype": "text/x-python",
   "name": "python",
   "nbconvert_exporter": "python",
   "pygments_lexer": "ipython3",
   "version": "3.6.5"
  }
 },
 "nbformat": 4,
 "nbformat_minor": 2
}
